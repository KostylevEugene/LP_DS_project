{
 "cells": [
  {
   "cell_type": "code",
   "execution_count": 1,
   "metadata": {},
   "outputs": [],
   "source": [
    "import pandas as pd\n",
    "import statsmodels.api as sm\n",
    "from statsmodels.iolib.table import SimpleTable\n",
    "from sklearn.metrics import r2_score\n",
    "import ml_metrics as metrics\n",
    "import numpy as np\n",
    "import matplotlib.pyplot as plt\n",
    "import datetime as dt"
   ]
  },
  {
   "cell_type": "code",
   "execution_count": 2,
   "metadata": {},
   "outputs": [
    {
     "name": "stdout",
     "output_type": "stream",
     "text": [
      " ’®¬ ў гбва®©бвўҐ C ­Ґ Ё¬ҐҐв ¬ҐвЄЁ.\n",
      " ‘ҐаЁ©­л© ­®¬Ґа в®¬ : 7496-5BB4\n",
      "\n",
      " ‘®¤Ґа¦Ё¬®Ґ Ї ЇЄЁ C:\\projects\\LP_DS_project\n",
      "\n",
      "27.10.2020  19:34    <DIR>          .\n",
      "27.10.2020  19:34    <DIR>          ..\n",
      "27.10.2020  19:34    <DIR>          .ipynb_checkpoints\n",
      "27.10.2020  18:44           116я198 AFKS.csv\n",
      "27.10.2020  06:33    <DIR>          env\n",
      "27.10.2020  19:33            13я011 Filling data.ipynb\n",
      "27.10.2020  18:44           116я505 GAZP.csv\n",
      "27.10.2020  19:04           430я192 Gazprom.ipynb\n",
      "27.10.2020  18:44           417я252 Grafic_akcii.ipynb\n",
      "27.10.2020  19:15           394я043 Kamaz.ipynb\n",
      "27.10.2020  18:44           108я755 KMAZ.csv\n",
      "27.10.2020  18:44           183я007 qAFKS.csv\n",
      "27.10.2020  18:44           190я932 qGAZP.csv\n",
      "27.10.2020  19:10           180я626 qKMAZ.csv\n",
      "27.10.2020  19:16           186я527 qSBER.csv\n",
      "27.10.2020  19:30           192я537 qTATN.csv\n",
      "27.10.2020  19:33            97я778 qYNDX.csv\n",
      "27.10.2020  18:44           113я422 SBER.csv\n",
      "27.10.2020  19:19           416я646 Sber.ipynb\n",
      "27.10.2020  18:44           117я504 TATN.csv\n",
      "27.10.2020  19:33           396я929 Tatneft.ipynb\n",
      "27.10.2020  18:54            12я446 week_AFSK.csv\n",
      "27.10.2020  19:12            11я679 week_qKMAZ.csv\n",
      "27.10.2020  19:18            12я147 week_qSBER.csv\n",
      "27.10.2020  19:32            12я260 week_qTATN.csv\n",
      "27.10.2020  19:34           396я929 Yandex.ipynb\n",
      "27.10.2020  18:44            60я803 YNDX.csv\n",
      "              23 д ©«®ў      4я178я128 Ў ©в\n",
      "               4 Ї Ї®Є  15я264я337я920 Ў ©в бў®Ў®¤­®\n"
     ]
    }
   ],
   "source": [
    "!dir"
   ]
  },
  {
   "cell_type": "code",
   "execution_count": 3,
   "metadata": {},
   "outputs": [
    {
     "data": {
      "text/html": [
       "<div>\n",
       "<style scoped>\n",
       "    .dataframe tbody tr th:only-of-type {\n",
       "        vertical-align: middle;\n",
       "    }\n",
       "\n",
       "    .dataframe tbody tr th {\n",
       "        vertical-align: top;\n",
       "    }\n",
       "\n",
       "    .dataframe thead th {\n",
       "        text-align: right;\n",
       "    }\n",
       "</style>\n",
       "<table border=\"1\" class=\"dataframe\">\n",
       "  <thead>\n",
       "    <tr style=\"text-align: right;\">\n",
       "      <th></th>\n",
       "      <th>Unnamed: 0</th>\n",
       "      <th>Unnamed: 0.1</th>\n",
       "      <th>COMPANY</th>\n",
       "      <th>DATE</th>\n",
       "      <th>OPEN</th>\n",
       "      <th>CLOSE</th>\n",
       "    </tr>\n",
       "  </thead>\n",
       "  <tbody>\n",
       "    <tr>\n",
       "      <th>0</th>\n",
       "      <td>0</td>\n",
       "      <td>119998</td>\n",
       "      <td>YNDX</td>\n",
       "      <td>2014-06-04</td>\n",
       "      <td>1546.7</td>\n",
       "      <td>1170.0</td>\n",
       "    </tr>\n",
       "    <tr>\n",
       "      <th>1</th>\n",
       "      <td>1</td>\n",
       "      <td>119999</td>\n",
       "      <td>YNDX</td>\n",
       "      <td>2014-06-05</td>\n",
       "      <td>1175.0</td>\n",
       "      <td>1145.1</td>\n",
       "    </tr>\n",
       "    <tr>\n",
       "      <th>2</th>\n",
       "      <td>2</td>\n",
       "      <td>120000</td>\n",
       "      <td>YNDX</td>\n",
       "      <td>2014-06-06</td>\n",
       "      <td>1158.3</td>\n",
       "      <td>1163.0</td>\n",
       "    </tr>\n",
       "    <tr>\n",
       "      <th>3</th>\n",
       "      <td>3</td>\n",
       "      <td>120000</td>\n",
       "      <td>YNDX</td>\n",
       "      <td>2014-06-07</td>\n",
       "      <td>1158.3</td>\n",
       "      <td>1163.0</td>\n",
       "    </tr>\n",
       "    <tr>\n",
       "      <th>4</th>\n",
       "      <td>4</td>\n",
       "      <td>120000</td>\n",
       "      <td>YNDX</td>\n",
       "      <td>2014-06-08</td>\n",
       "      <td>1158.3</td>\n",
       "      <td>1163.0</td>\n",
       "    </tr>\n",
       "    <tr>\n",
       "      <th>...</th>\n",
       "      <td>...</td>\n",
       "      <td>...</td>\n",
       "      <td>...</td>\n",
       "      <td>...</td>\n",
       "      <td>...</td>\n",
       "      <td>...</td>\n",
       "    </tr>\n",
       "    <tr>\n",
       "      <th>2306</th>\n",
       "      <td>2306</td>\n",
       "      <td>121603</td>\n",
       "      <td>YNDX</td>\n",
       "      <td>2020-09-26</td>\n",
       "      <td>4953.6</td>\n",
       "      <td>4934.0</td>\n",
       "    </tr>\n",
       "    <tr>\n",
       "      <th>2307</th>\n",
       "      <td>2307</td>\n",
       "      <td>121603</td>\n",
       "      <td>YNDX</td>\n",
       "      <td>2020-09-27</td>\n",
       "      <td>4953.6</td>\n",
       "      <td>4934.0</td>\n",
       "    </tr>\n",
       "    <tr>\n",
       "      <th>2308</th>\n",
       "      <td>2308</td>\n",
       "      <td>121604</td>\n",
       "      <td>YNDX</td>\n",
       "      <td>2020-09-28</td>\n",
       "      <td>4951.8</td>\n",
       "      <td>5074.0</td>\n",
       "    </tr>\n",
       "    <tr>\n",
       "      <th>2309</th>\n",
       "      <td>2309</td>\n",
       "      <td>121605</td>\n",
       "      <td>YNDX</td>\n",
       "      <td>2020-09-29</td>\n",
       "      <td>5074.8</td>\n",
       "      <td>5102.6</td>\n",
       "    </tr>\n",
       "    <tr>\n",
       "      <th>2310</th>\n",
       "      <td>2310</td>\n",
       "      <td>121606</td>\n",
       "      <td>YNDX</td>\n",
       "      <td>2020-09-30</td>\n",
       "      <td>5100.2</td>\n",
       "      <td>5095.0</td>\n",
       "    </tr>\n",
       "  </tbody>\n",
       "</table>\n",
       "<p>2311 rows × 6 columns</p>\n",
       "</div>"
      ],
      "text/plain": [
       "      Unnamed: 0  Unnamed: 0.1 COMPANY        DATE    OPEN   CLOSE\n",
       "0              0        119998    YNDX  2014-06-04  1546.7  1170.0\n",
       "1              1        119999    YNDX  2014-06-05  1175.0  1145.1\n",
       "2              2        120000    YNDX  2014-06-06  1158.3  1163.0\n",
       "3              3        120000    YNDX  2014-06-07  1158.3  1163.0\n",
       "4              4        120000    YNDX  2014-06-08  1158.3  1163.0\n",
       "...          ...           ...     ...         ...     ...     ...\n",
       "2306        2306        121603    YNDX  2020-09-26  4953.6  4934.0\n",
       "2307        2307        121603    YNDX  2020-09-27  4953.6  4934.0\n",
       "2308        2308        121604    YNDX  2020-09-28  4951.8  5074.0\n",
       "2309        2309        121605    YNDX  2020-09-29  5074.8  5102.6\n",
       "2310        2310        121606    YNDX  2020-09-30  5100.2  5095.0\n",
       "\n",
       "[2311 rows x 6 columns]"
      ]
     },
     "execution_count": 3,
     "metadata": {},
     "output_type": "execute_result"
    }
   ],
   "source": [
    "dataset = pd.read_csv('qYNDX.csv', sep=';')\n",
    "dataset"
   ]
  },
  {
   "cell_type": "code",
   "execution_count": 4,
   "metadata": {},
   "outputs": [
    {
     "data": {
      "text/plain": [
       "0       2014-06-04\n",
       "1       2014-06-05\n",
       "2       2014-06-06\n",
       "3       2014-06-07\n",
       "4       2014-06-08\n",
       "           ...    \n",
       "2306    2020-09-26\n",
       "2307    2020-09-27\n",
       "2308    2020-09-28\n",
       "2309    2020-09-29\n",
       "2310    2020-09-30\n",
       "Name: DATE, Length: 2311, dtype: object"
      ]
     },
     "execution_count": 4,
     "metadata": {},
     "output_type": "execute_result"
    }
   ],
   "source": [
    "dataset['DATE']"
   ]
  },
  {
   "cell_type": "code",
   "execution_count": 5,
   "metadata": {},
   "outputs": [],
   "source": [
    "dataset = pd.read_csv('qYNDX.csv', ';', index_col=['DATE'], parse_dates=['DATE'], dayfirst=True)"
   ]
  },
  {
   "cell_type": "code",
   "execution_count": 6,
   "metadata": {},
   "outputs": [
    {
     "data": {
      "text/html": [
       "<div>\n",
       "<style scoped>\n",
       "    .dataframe tbody tr th:only-of-type {\n",
       "        vertical-align: middle;\n",
       "    }\n",
       "\n",
       "    .dataframe tbody tr th {\n",
       "        vertical-align: top;\n",
       "    }\n",
       "\n",
       "    .dataframe thead th {\n",
       "        text-align: right;\n",
       "    }\n",
       "</style>\n",
       "<table border=\"1\" class=\"dataframe\">\n",
       "  <thead>\n",
       "    <tr style=\"text-align: right;\">\n",
       "      <th></th>\n",
       "      <th>Unnamed: 0</th>\n",
       "      <th>Unnamed: 0.1</th>\n",
       "      <th>COMPANY</th>\n",
       "      <th>OPEN</th>\n",
       "      <th>CLOSE</th>\n",
       "    </tr>\n",
       "    <tr>\n",
       "      <th>DATE</th>\n",
       "      <th></th>\n",
       "      <th></th>\n",
       "      <th></th>\n",
       "      <th></th>\n",
       "      <th></th>\n",
       "    </tr>\n",
       "  </thead>\n",
       "  <tbody>\n",
       "    <tr>\n",
       "      <th>2014-06-04</th>\n",
       "      <td>0</td>\n",
       "      <td>119998</td>\n",
       "      <td>YNDX</td>\n",
       "      <td>1546.7</td>\n",
       "      <td>1170.0</td>\n",
       "    </tr>\n",
       "    <tr>\n",
       "      <th>2014-06-05</th>\n",
       "      <td>1</td>\n",
       "      <td>119999</td>\n",
       "      <td>YNDX</td>\n",
       "      <td>1175.0</td>\n",
       "      <td>1145.1</td>\n",
       "    </tr>\n",
       "    <tr>\n",
       "      <th>2014-06-06</th>\n",
       "      <td>2</td>\n",
       "      <td>120000</td>\n",
       "      <td>YNDX</td>\n",
       "      <td>1158.3</td>\n",
       "      <td>1163.0</td>\n",
       "    </tr>\n",
       "    <tr>\n",
       "      <th>2014-06-07</th>\n",
       "      <td>3</td>\n",
       "      <td>120000</td>\n",
       "      <td>YNDX</td>\n",
       "      <td>1158.3</td>\n",
       "      <td>1163.0</td>\n",
       "    </tr>\n",
       "    <tr>\n",
       "      <th>2014-06-08</th>\n",
       "      <td>4</td>\n",
       "      <td>120000</td>\n",
       "      <td>YNDX</td>\n",
       "      <td>1158.3</td>\n",
       "      <td>1163.0</td>\n",
       "    </tr>\n",
       "    <tr>\n",
       "      <th>...</th>\n",
       "      <td>...</td>\n",
       "      <td>...</td>\n",
       "      <td>...</td>\n",
       "      <td>...</td>\n",
       "      <td>...</td>\n",
       "    </tr>\n",
       "    <tr>\n",
       "      <th>2020-09-26</th>\n",
       "      <td>2306</td>\n",
       "      <td>121603</td>\n",
       "      <td>YNDX</td>\n",
       "      <td>4953.6</td>\n",
       "      <td>4934.0</td>\n",
       "    </tr>\n",
       "    <tr>\n",
       "      <th>2020-09-27</th>\n",
       "      <td>2307</td>\n",
       "      <td>121603</td>\n",
       "      <td>YNDX</td>\n",
       "      <td>4953.6</td>\n",
       "      <td>4934.0</td>\n",
       "    </tr>\n",
       "    <tr>\n",
       "      <th>2020-09-28</th>\n",
       "      <td>2308</td>\n",
       "      <td>121604</td>\n",
       "      <td>YNDX</td>\n",
       "      <td>4951.8</td>\n",
       "      <td>5074.0</td>\n",
       "    </tr>\n",
       "    <tr>\n",
       "      <th>2020-09-29</th>\n",
       "      <td>2309</td>\n",
       "      <td>121605</td>\n",
       "      <td>YNDX</td>\n",
       "      <td>5074.8</td>\n",
       "      <td>5102.6</td>\n",
       "    </tr>\n",
       "    <tr>\n",
       "      <th>2020-09-30</th>\n",
       "      <td>2310</td>\n",
       "      <td>121606</td>\n",
       "      <td>YNDX</td>\n",
       "      <td>5100.2</td>\n",
       "      <td>5095.0</td>\n",
       "    </tr>\n",
       "  </tbody>\n",
       "</table>\n",
       "<p>2311 rows × 5 columns</p>\n",
       "</div>"
      ],
      "text/plain": [
       "            Unnamed: 0  Unnamed: 0.1 COMPANY    OPEN   CLOSE\n",
       "DATE                                                        \n",
       "2014-06-04           0        119998    YNDX  1546.7  1170.0\n",
       "2014-06-05           1        119999    YNDX  1175.0  1145.1\n",
       "2014-06-06           2        120000    YNDX  1158.3  1163.0\n",
       "2014-06-07           3        120000    YNDX  1158.3  1163.0\n",
       "2014-06-08           4        120000    YNDX  1158.3  1163.0\n",
       "...                ...           ...     ...     ...     ...\n",
       "2020-09-26        2306        121603    YNDX  4953.6  4934.0\n",
       "2020-09-27        2307        121603    YNDX  4953.6  4934.0\n",
       "2020-09-28        2308        121604    YNDX  4951.8  5074.0\n",
       "2020-09-29        2309        121605    YNDX  5074.8  5102.6\n",
       "2020-09-30        2310        121606    YNDX  5100.2  5095.0\n",
       "\n",
       "[2311 rows x 5 columns]"
      ]
     },
     "execution_count": 6,
     "metadata": {},
     "output_type": "execute_result"
    }
   ],
   "source": [
    "dataset2 = dataset\n",
    "dataset2"
   ]
  },
  {
   "cell_type": "code",
   "execution_count": 7,
   "metadata": {},
   "outputs": [],
   "source": [
    "#Оставлю эту ячейку здесь\n",
    "#dataset2 = dataset2[(dataset2['DATE'] > '2014-01-01') & (dataset2['DATE'] < '2020-09-30')]\n",
    "#dataset2"
   ]
  },
  {
   "cell_type": "markdown",
   "metadata": {},
   "source": [
    "## Избавляемся от ненужных столбцов"
   ]
  },
  {
   "cell_type": "code",
   "execution_count": 8,
   "metadata": {},
   "outputs": [],
   "source": [
    "dataset2 = dataset2.drop(['COMPANY'], axis=1)"
   ]
  },
  {
   "cell_type": "code",
   "execution_count": 9,
   "metadata": {},
   "outputs": [],
   "source": [
    "dataset2 = dataset2.drop(['CLOSE'], axis=1)"
   ]
  },
  {
   "cell_type": "code",
   "execution_count": 10,
   "metadata": {},
   "outputs": [],
   "source": [
    "dataset2 = dataset2.drop(['Unnamed: 0'], axis=1)"
   ]
  },
  {
   "cell_type": "code",
   "execution_count": 11,
   "metadata": {},
   "outputs": [],
   "source": [
    "dataset2 = dataset2.drop(['Unnamed: 0.1'], axis=1)"
   ]
  },
  {
   "cell_type": "code",
   "execution_count": 12,
   "metadata": {
    "scrolled": false
   },
   "outputs": [
    {
     "data": {
      "text/html": [
       "<div>\n",
       "<style scoped>\n",
       "    .dataframe tbody tr th:only-of-type {\n",
       "        vertical-align: middle;\n",
       "    }\n",
       "\n",
       "    .dataframe tbody tr th {\n",
       "        vertical-align: top;\n",
       "    }\n",
       "\n",
       "    .dataframe thead th {\n",
       "        text-align: right;\n",
       "    }\n",
       "</style>\n",
       "<table border=\"1\" class=\"dataframe\">\n",
       "  <thead>\n",
       "    <tr style=\"text-align: right;\">\n",
       "      <th></th>\n",
       "      <th>OPEN</th>\n",
       "    </tr>\n",
       "    <tr>\n",
       "      <th>DATE</th>\n",
       "      <th></th>\n",
       "    </tr>\n",
       "  </thead>\n",
       "  <tbody>\n",
       "    <tr>\n",
       "      <th>2014-06-04</th>\n",
       "      <td>1546.7</td>\n",
       "    </tr>\n",
       "    <tr>\n",
       "      <th>2014-06-05</th>\n",
       "      <td>1175.0</td>\n",
       "    </tr>\n",
       "    <tr>\n",
       "      <th>2014-06-06</th>\n",
       "      <td>1158.3</td>\n",
       "    </tr>\n",
       "    <tr>\n",
       "      <th>2014-06-07</th>\n",
       "      <td>1158.3</td>\n",
       "    </tr>\n",
       "    <tr>\n",
       "      <th>2014-06-08</th>\n",
       "      <td>1158.3</td>\n",
       "    </tr>\n",
       "    <tr>\n",
       "      <th>...</th>\n",
       "      <td>...</td>\n",
       "    </tr>\n",
       "    <tr>\n",
       "      <th>2020-09-26</th>\n",
       "      <td>4953.6</td>\n",
       "    </tr>\n",
       "    <tr>\n",
       "      <th>2020-09-27</th>\n",
       "      <td>4953.6</td>\n",
       "    </tr>\n",
       "    <tr>\n",
       "      <th>2020-09-28</th>\n",
       "      <td>4951.8</td>\n",
       "    </tr>\n",
       "    <tr>\n",
       "      <th>2020-09-29</th>\n",
       "      <td>5074.8</td>\n",
       "    </tr>\n",
       "    <tr>\n",
       "      <th>2020-09-30</th>\n",
       "      <td>5100.2</td>\n",
       "    </tr>\n",
       "  </tbody>\n",
       "</table>\n",
       "<p>2311 rows × 1 columns</p>\n",
       "</div>"
      ],
      "text/plain": [
       "              OPEN\n",
       "DATE              \n",
       "2014-06-04  1546.7\n",
       "2014-06-05  1175.0\n",
       "2014-06-06  1158.3\n",
       "2014-06-07  1158.3\n",
       "2014-06-08  1158.3\n",
       "...            ...\n",
       "2020-09-26  4953.6\n",
       "2020-09-27  4953.6\n",
       "2020-09-28  4951.8\n",
       "2020-09-29  5074.8\n",
       "2020-09-30  5100.2\n",
       "\n",
       "[2311 rows x 1 columns]"
      ]
     },
     "execution_count": 12,
     "metadata": {},
     "output_type": "execute_result"
    }
   ],
   "source": [
    "dataset2"
   ]
  },
  {
   "cell_type": "markdown",
   "metadata": {},
   "source": [
    "# Строим график"
   ]
  },
  {
   "cell_type": "code",
   "execution_count": 13,
   "metadata": {},
   "outputs": [],
   "source": [
    "dtst = dataset2"
   ]
  },
  {
   "cell_type": "code",
   "execution_count": 14,
   "metadata": {},
   "outputs": [
    {
     "data": {
      "text/plain": [
       "<AxesSubplot:xlabel='DATE'>"
      ]
     },
     "execution_count": 14,
     "metadata": {},
     "output_type": "execute_result"
    },
    {
     "data": {
      "image/png": "[encoded data removed]",
      "text/plain": [
       "<Figure size 864x432 with 1 Axes>"
      ]
     },
     "metadata": {
      "needs_background": "light"
     },
     "output_type": "display_data"
    }
   ],
   "source": [
    "dtst.plot(figsize=(12,6))"
   ]
  },
  {
   "cell_type": "markdown",
   "metadata": {},
   "source": [
    "### Данные с недельным интервалом"
   ]
  },
  {
   "cell_type": "code",
   "execution_count": 15,
   "metadata": {},
   "outputs": [
    {
     "data": {
      "text/plain": [
       "<AxesSubplot:xlabel='DATE'>"
      ]
     },
     "execution_count": 15,
     "metadata": {},
     "output_type": "execute_result"
    },
    {
     "data": {
      "image/png": "[encoded data removed]",
      "text/plain": [
       "<Figure size 864x432 with 1 Axes>"
      ]
     },
     "metadata": {
      "needs_background": "light"
     },
     "output_type": "display_data"
    }
   ],
   "source": [
    "dtstw = dtst.resample('W').median()\n",
    "dtstw.plot(figsize=(12,6))"
   ]
  },
  {
   "cell_type": "code",
   "execution_count": 16,
   "metadata": {},
   "outputs": [
    {
     "data": {
      "text/html": [
       "<div>\n",
       "<style scoped>\n",
       "    .dataframe tbody tr th:only-of-type {\n",
       "        vertical-align: middle;\n",
       "    }\n",
       "\n",
       "    .dataframe tbody tr th {\n",
       "        vertical-align: top;\n",
       "    }\n",
       "\n",
       "    .dataframe thead th {\n",
       "        text-align: right;\n",
       "    }\n",
       "</style>\n",
       "<table border=\"1\" class=\"dataframe\">\n",
       "  <thead>\n",
       "    <tr style=\"text-align: right;\">\n",
       "      <th></th>\n",
       "      <th>OPEN</th>\n",
       "    </tr>\n",
       "    <tr>\n",
       "      <th>DATE</th>\n",
       "      <th></th>\n",
       "    </tr>\n",
       "  </thead>\n",
       "  <tbody>\n",
       "    <tr>\n",
       "      <th>2014-06-08</th>\n",
       "      <td>1158.3</td>\n",
       "    </tr>\n",
       "    <tr>\n",
       "      <th>2014-06-15</th>\n",
       "      <td>1175.0</td>\n",
       "    </tr>\n",
       "    <tr>\n",
       "      <th>2014-06-22</th>\n",
       "      <td>1165.2</td>\n",
       "    </tr>\n",
       "    <tr>\n",
       "      <th>2014-06-29</th>\n",
       "      <td>1185.0</td>\n",
       "    </tr>\n",
       "    <tr>\n",
       "      <th>2014-07-06</th>\n",
       "      <td>1188.9</td>\n",
       "    </tr>\n",
       "    <tr>\n",
       "      <th>...</th>\n",
       "      <td>...</td>\n",
       "    </tr>\n",
       "    <tr>\n",
       "      <th>2020-09-06</th>\n",
       "      <td>4909.0</td>\n",
       "    </tr>\n",
       "    <tr>\n",
       "      <th>2020-09-13</th>\n",
       "      <td>4668.2</td>\n",
       "    </tr>\n",
       "    <tr>\n",
       "      <th>2020-09-20</th>\n",
       "      <td>4621.8</td>\n",
       "    </tr>\n",
       "    <tr>\n",
       "      <th>2020-09-27</th>\n",
       "      <td>4900.0</td>\n",
       "    </tr>\n",
       "    <tr>\n",
       "      <th>2020-10-04</th>\n",
       "      <td>5074.8</td>\n",
       "    </tr>\n",
       "  </tbody>\n",
       "</table>\n",
       "<p>331 rows × 1 columns</p>\n",
       "</div>"
      ],
      "text/plain": [
       "              OPEN\n",
       "DATE              \n",
       "2014-06-08  1158.3\n",
       "2014-06-15  1175.0\n",
       "2014-06-22  1165.2\n",
       "2014-06-29  1185.0\n",
       "2014-07-06  1188.9\n",
       "...            ...\n",
       "2020-09-06  4909.0\n",
       "2020-09-13  4668.2\n",
       "2020-09-20  4621.8\n",
       "2020-09-27  4900.0\n",
       "2020-10-04  5074.8\n",
       "\n",
       "[331 rows x 1 columns]"
      ]
     },
     "execution_count": 16,
     "metadata": {},
     "output_type": "execute_result"
    }
   ],
   "source": [
    "dtstw"
   ]
  },
  {
   "cell_type": "code",
   "execution_count": 17,
   "metadata": {},
   "outputs": [],
   "source": [
    "dtstw.to_csv('week_qYNDX.csv', sep=';')"
   ]
  },
  {
   "cell_type": "markdown",
   "metadata": {},
   "source": [
    "### Гистограмма с полными данными"
   ]
  },
  {
   "cell_type": "code",
   "execution_count": 18,
   "metadata": {},
   "outputs": [
    {
     "data": {
      "text/html": [
       "<div>\n",
       "<style scoped>\n",
       "    .dataframe tbody tr th:only-of-type {\n",
       "        vertical-align: middle;\n",
       "    }\n",
       "\n",
       "    .dataframe tbody tr th {\n",
       "        vertical-align: top;\n",
       "    }\n",
       "\n",
       "    .dataframe thead th {\n",
       "        text-align: right;\n",
       "    }\n",
       "</style>\n",
       "<table border=\"1\" class=\"dataframe\">\n",
       "  <thead>\n",
       "    <tr style=\"text-align: right;\">\n",
       "      <th></th>\n",
       "      <th>OPEN</th>\n",
       "    </tr>\n",
       "  </thead>\n",
       "  <tbody>\n",
       "    <tr>\n",
       "      <th>count</th>\n",
       "      <td>2311.000000</td>\n",
       "    </tr>\n",
       "    <tr>\n",
       "      <th>mean</th>\n",
       "      <td>1811.658892</td>\n",
       "    </tr>\n",
       "    <tr>\n",
       "      <th>std</th>\n",
       "      <td>812.778899</td>\n",
       "    </tr>\n",
       "    <tr>\n",
       "      <th>min</th>\n",
       "      <td>688.000000</td>\n",
       "    </tr>\n",
       "    <tr>\n",
       "      <th>25%</th>\n",
       "      <td>1144.100000</td>\n",
       "    </tr>\n",
       "    <tr>\n",
       "      <th>50%</th>\n",
       "      <td>1770.500000</td>\n",
       "    </tr>\n",
       "    <tr>\n",
       "      <th>75%</th>\n",
       "      <td>2307.000000</td>\n",
       "    </tr>\n",
       "    <tr>\n",
       "      <th>max</th>\n",
       "      <td>5100.200000</td>\n",
       "    </tr>\n",
       "  </tbody>\n",
       "</table>\n",
       "</div>"
      ],
      "text/plain": [
       "              OPEN\n",
       "count  2311.000000\n",
       "mean   1811.658892\n",
       "std     812.778899\n",
       "min     688.000000\n",
       "25%    1144.100000\n",
       "50%    1770.500000\n",
       "75%    2307.000000\n",
       "max    5100.200000"
      ]
     },
     "execution_count": 18,
     "metadata": {},
     "output_type": "execute_result"
    },
    {
     "data": {
      "image/png": "[encoded data removed]",
      "text/plain": [
       "<Figure size 432x288 with 1 Axes>"
      ]
     },
     "metadata": {
      "needs_background": "light"
     },
     "output_type": "display_data"
    }
   ],
   "source": [
    "idtst = dtst.describe()\n",
    "dtst.hist()\n",
    "idtst"
   ]
  },
  {
   "cell_type": "markdown",
   "metadata": {},
   "source": [
    "### Гистограмма с недельным интервалом"
   ]
  },
  {
   "cell_type": "code",
   "execution_count": 19,
   "metadata": {},
   "outputs": [
    {
     "data": {
      "text/html": [
       "<div>\n",
       "<style scoped>\n",
       "    .dataframe tbody tr th:only-of-type {\n",
       "        vertical-align: middle;\n",
       "    }\n",
       "\n",
       "    .dataframe tbody tr th {\n",
       "        vertical-align: top;\n",
       "    }\n",
       "\n",
       "    .dataframe thead th {\n",
       "        text-align: right;\n",
       "    }\n",
       "</style>\n",
       "<table border=\"1\" class=\"dataframe\">\n",
       "  <thead>\n",
       "    <tr style=\"text-align: right;\">\n",
       "      <th></th>\n",
       "      <th>OPEN</th>\n",
       "    </tr>\n",
       "  </thead>\n",
       "  <tbody>\n",
       "    <tr>\n",
       "      <th>count</th>\n",
       "      <td>331.000000</td>\n",
       "    </tr>\n",
       "    <tr>\n",
       "      <th>mean</th>\n",
       "      <td>1817.175529</td>\n",
       "    </tr>\n",
       "    <tr>\n",
       "      <th>std</th>\n",
       "      <td>824.564403</td>\n",
       "    </tr>\n",
       "    <tr>\n",
       "      <th>min</th>\n",
       "      <td>706.000000</td>\n",
       "    </tr>\n",
       "    <tr>\n",
       "      <th>25%</th>\n",
       "      <td>1143.100000</td>\n",
       "    </tr>\n",
       "    <tr>\n",
       "      <th>50%</th>\n",
       "      <td>1770.500000</td>\n",
       "    </tr>\n",
       "    <tr>\n",
       "      <th>75%</th>\n",
       "      <td>2302.400000</td>\n",
       "    </tr>\n",
       "    <tr>\n",
       "      <th>max</th>\n",
       "      <td>5074.800000</td>\n",
       "    </tr>\n",
       "  </tbody>\n",
       "</table>\n",
       "</div>"
      ],
      "text/plain": [
       "              OPEN\n",
       "count   331.000000\n",
       "mean   1817.175529\n",
       "std     824.564403\n",
       "min     706.000000\n",
       "25%    1143.100000\n",
       "50%    1770.500000\n",
       "75%    2302.400000\n",
       "max    5074.800000"
      ]
     },
     "execution_count": 19,
     "metadata": {},
     "output_type": "execute_result"
    },
    {
     "data": {
      "image/png": "[encoded data removed]",
      "text/plain": [
       "<Figure size 432x288 with 1 Axes>"
      ]
     },
     "metadata": {
      "needs_background": "light"
     },
     "output_type": "display_data"
    }
   ],
   "source": [
    "idtstw = dtstw.describe()\n",
    "dtstw.hist()\n",
    "idtstw"
   ]
  },
  {
   "cell_type": "markdown",
   "metadata": {},
   "source": [
    "# Расчет коэффициента вариации"
   ]
  },
  {
   "cell_type": "markdown",
   "metadata": {},
   "source": [
    "### Полные данные"
   ]
  },
  {
   "cell_type": "code",
   "execution_count": 20,
   "metadata": {},
   "outputs": [],
   "source": [
    "V = idtst.loc['std']/idtst.loc['mean']"
   ]
  },
  {
   "cell_type": "code",
   "execution_count": 21,
   "metadata": {},
   "outputs": [
    {
     "data": {
      "text/plain": [
       "OPEN    0.448638\n",
       "dtype: float64"
      ]
     },
     "execution_count": 21,
     "metadata": {},
     "output_type": "execute_result"
    }
   ],
   "source": [
    "V"
   ]
  },
  {
   "cell_type": "markdown",
   "metadata": {},
   "source": [
    "### Недельные данные"
   ]
  },
  {
   "cell_type": "code",
   "execution_count": 22,
   "metadata": {},
   "outputs": [],
   "source": [
    "Vw = idtstw.loc['std']/idtstw.loc['mean']"
   ]
  },
  {
   "cell_type": "code",
   "execution_count": 23,
   "metadata": {},
   "outputs": [
    {
     "data": {
      "text/plain": [
       "OPEN    0.453762\n",
       "dtype: float64"
      ]
     },
     "execution_count": 23,
     "metadata": {},
     "output_type": "execute_result"
    }
   ],
   "source": [
    "Vw"
   ]
  },
  {
   "cell_type": "markdown",
   "metadata": {},
   "source": [
    "# Тест Харки-Бера"
   ]
  },
  {
   "cell_type": "markdown",
   "metadata": {},
   "source": [
    "### Полные данные"
   ]
  },
  {
   "cell_type": "code",
   "execution_count": 24,
   "metadata": {},
   "outputs": [
    {
     "data": {
      "text/plain": [
       "(array([0.375, 0.375, 0.375, ..., 0.375, 0.375, 0.375]),\n",
       " array([0.82902912, 0.82902912, 0.82902912, ..., 0.82902912, 0.82902912,\n",
       "        0.82902912]),\n",
       " array([0., 0., 0., ..., 0., 0., 0.]),\n",
       " array([0., 0., 0., ..., 0., 0., 0.]))"
      ]
     },
     "execution_count": 24,
     "metadata": {},
     "output_type": "execute_result"
    }
   ],
   "source": [
    "row =  [u'JB', u'p-value', u'skew', u'kurtosis']\n",
    "jb_test = sm.stats.stattools.jarque_bera(dtst, axis=1)\n",
    "jb_test"
   ]
  },
  {
   "cell_type": "code",
   "execution_count": 25,
   "metadata": {},
   "outputs": [
    {
     "data": {
      "text/plain": [
       "array([[0.375     , 0.375     , 0.375     , ..., 0.375     , 0.375     ,\n",
       "        0.375     ],\n",
       "       [0.82902912, 0.82902912, 0.82902912, ..., 0.82902912, 0.82902912,\n",
       "        0.82902912],\n",
       "       [0.        , 0.        , 0.        , ..., 0.        , 0.        ,\n",
       "        0.        ],\n",
       "       [0.        , 0.        , 0.        , ..., 0.        , 0.        ,\n",
       "        0.        ]])"
      ]
     },
     "execution_count": 25,
     "metadata": {},
     "output_type": "execute_result"
    }
   ],
   "source": [
    "a = np.vstack([jb_test])\n",
    "a"
   ]
  },
  {
   "cell_type": "code",
   "execution_count": 26,
   "metadata": {},
   "outputs": [
    {
     "data": {
      "text/html": [
       "<table class=\"simpletable\">\n",
       "<tr>\n",
       "          <th>JB</th>               <th>p-value</th>             <th>skew</th>             <th>kurtosis</th>     \n",
       "</tr>\n",
       "<tr>\n",
       "         <td>0.375</td>              <td>0.375</td>              <td>0.375</td>              <td>0.375</td>      \n",
       "</tr>\n",
       "<tr>\n",
       "  <td>0.8290291181804004</td> <td>0.8290291181804004</td> <td>0.8290291181804004</td> <td>0.8290291181804004</td>\n",
       "</tr>\n",
       "<tr>\n",
       "          <td>0.0</td>                <td>0.0</td>                <td>0.0</td>                <td>0.0</td>       \n",
       "</tr>\n",
       "<tr>\n",
       "          <td>0.0</td>                <td>0.0</td>                <td>0.0</td>                <td>0.0</td>       \n",
       "</tr>\n",
       "</table>"
      ],
      "text/plain": [
       "<class 'statsmodels.iolib.table.SimpleTable'>"
      ]
     },
     "execution_count": 26,
     "metadata": {},
     "output_type": "execute_result"
    }
   ],
   "source": [
    "idtst = SimpleTable(a, row)\n",
    "idtst"
   ]
  },
  {
   "cell_type": "markdown",
   "metadata": {},
   "source": [
    "### Недельные данные\n"
   ]
  },
  {
   "cell_type": "code",
   "execution_count": 27,
   "metadata": {
    "scrolled": true
   },
   "outputs": [
    {
     "data": {
      "text/plain": [
       "(array([0.375, 0.375, 0.375, 0.375, 0.375, 0.375, 0.375, 0.375, 0.375,\n",
       "        0.375, 0.375, 0.375, 0.375, 0.375, 0.375, 0.375, 0.375, 0.375,\n",
       "        0.375, 0.375, 0.375, 0.375, 0.375, 0.375, 0.375, 0.375, 0.375,\n",
       "        0.375, 0.375, 0.375, 0.375, 0.375, 0.375, 0.375, 0.375, 0.375,\n",
       "        0.375, 0.375, 0.375, 0.375, 0.375, 0.375, 0.375, 0.375, 0.375,\n",
       "        0.375, 0.375, 0.375, 0.375, 0.375, 0.375, 0.375, 0.375, 0.375,\n",
       "        0.375, 0.375, 0.375, 0.375, 0.375, 0.375, 0.375, 0.375, 0.375,\n",
       "        0.375, 0.375, 0.375, 0.375, 0.375, 0.375, 0.375, 0.375, 0.375,\n",
       "        0.375, 0.375, 0.375, 0.375, 0.375, 0.375, 0.375, 0.375, 0.375,\n",
       "        0.375, 0.375, 0.375, 0.375, 0.375, 0.375, 0.375, 0.375, 0.375,\n",
       "        0.375, 0.375, 0.375, 0.375, 0.375, 0.375, 0.375, 0.375, 0.375,\n",
       "        0.375, 0.375, 0.375, 0.375, 0.375, 0.375, 0.375, 0.375, 0.375,\n",
       "        0.375, 0.375, 0.375, 0.375, 0.375, 0.375, 0.375, 0.375, 0.375,\n",
       "        0.375, 0.375, 0.375, 0.375, 0.375, 0.375, 0.375, 0.375, 0.375,\n",
       "        0.375, 0.375, 0.375, 0.375, 0.375, 0.375, 0.375, 0.375, 0.375,\n",
       "        0.375, 0.375, 0.375, 0.375, 0.375, 0.375, 0.375, 0.375, 0.375,\n",
       "        0.375, 0.375, 0.375, 0.375, 0.375, 0.375, 0.375, 0.375, 0.375,\n",
       "        0.375, 0.375, 0.375, 0.375, 0.375, 0.375, 0.375, 0.375, 0.375,\n",
       "        0.375, 0.375, 0.375, 0.375, 0.375, 0.375, 0.375, 0.375, 0.375,\n",
       "        0.375, 0.375, 0.375, 0.375, 0.375, 0.375, 0.375, 0.375, 0.375,\n",
       "        0.375, 0.375, 0.375, 0.375, 0.375, 0.375, 0.375, 0.375, 0.375,\n",
       "        0.375, 0.375, 0.375, 0.375, 0.375, 0.375, 0.375, 0.375, 0.375,\n",
       "        0.375, 0.375, 0.375, 0.375, 0.375, 0.375, 0.375, 0.375, 0.375,\n",
       "        0.375, 0.375, 0.375, 0.375, 0.375, 0.375, 0.375, 0.375, 0.375,\n",
       "        0.375, 0.375, 0.375, 0.375, 0.375, 0.375, 0.375, 0.375, 0.375,\n",
       "        0.375, 0.375, 0.375, 0.375, 0.375, 0.375, 0.375, 0.375, 0.375,\n",
       "        0.375, 0.375, 0.375, 0.375, 0.375, 0.375, 0.375, 0.375, 0.375,\n",
       "        0.375, 0.375, 0.375, 0.375, 0.375, 0.375, 0.375, 0.375, 0.375,\n",
       "        0.375, 0.375, 0.375, 0.375, 0.375, 0.375, 0.375, 0.375, 0.375,\n",
       "        0.375, 0.375, 0.375, 0.375, 0.375, 0.375, 0.375, 0.375, 0.375,\n",
       "        0.375, 0.375, 0.375, 0.375, 0.375, 0.375, 0.375, 0.375, 0.375,\n",
       "        0.375, 0.375, 0.375, 0.375, 0.375, 0.375, 0.375, 0.375, 0.375,\n",
       "        0.375, 0.375, 0.375, 0.375, 0.375, 0.375, 0.375, 0.375, 0.375,\n",
       "        0.375, 0.375, 0.375, 0.375, 0.375, 0.375, 0.375, 0.375, 0.375,\n",
       "        0.375, 0.375, 0.375, 0.375, 0.375, 0.375, 0.375, 0.375, 0.375,\n",
       "        0.375, 0.375, 0.375, 0.375, 0.375, 0.375, 0.375, 0.375, 0.375,\n",
       "        0.375, 0.375, 0.375, 0.375, 0.375, 0.375, 0.375]),\n",
       " array([0.82902912, 0.82902912, 0.82902912, 0.82902912, 0.82902912,\n",
       "        0.82902912, 0.82902912, 0.82902912, 0.82902912, 0.82902912,\n",
       "        0.82902912, 0.82902912, 0.82902912, 0.82902912, 0.82902912,\n",
       "        0.82902912, 0.82902912, 0.82902912, 0.82902912, 0.82902912,\n",
       "        0.82902912, 0.82902912, 0.82902912, 0.82902912, 0.82902912,\n",
       "        0.82902912, 0.82902912, 0.82902912, 0.82902912, 0.82902912,\n",
       "        0.82902912, 0.82902912, 0.82902912, 0.82902912, 0.82902912,\n",
       "        0.82902912, 0.82902912, 0.82902912, 0.82902912, 0.82902912,\n",
       "        0.82902912, 0.82902912, 0.82902912, 0.82902912, 0.82902912,\n",
       "        0.82902912, 0.82902912, 0.82902912, 0.82902912, 0.82902912,\n",
       "        0.82902912, 0.82902912, 0.82902912, 0.82902912, 0.82902912,\n",
       "        0.82902912, 0.82902912, 0.82902912, 0.82902912, 0.82902912,\n",
       "        0.82902912, 0.82902912, 0.82902912, 0.82902912, 0.82902912,\n",
       "        0.82902912, 0.82902912, 0.82902912, 0.82902912, 0.82902912,\n",
       "        0.82902912, 0.82902912, 0.82902912, 0.82902912, 0.82902912,\n",
       "        0.82902912, 0.82902912, 0.82902912, 0.82902912, 0.82902912,\n",
       "        0.82902912, 0.82902912, 0.82902912, 0.82902912, 0.82902912,\n",
       "        0.82902912, 0.82902912, 0.82902912, 0.82902912, 0.82902912,\n",
       "        0.82902912, 0.82902912, 0.82902912, 0.82902912, 0.82902912,\n",
       "        0.82902912, 0.82902912, 0.82902912, 0.82902912, 0.82902912,\n",
       "        0.82902912, 0.82902912, 0.82902912, 0.82902912, 0.82902912,\n",
       "        0.82902912, 0.82902912, 0.82902912, 0.82902912, 0.82902912,\n",
       "        0.82902912, 0.82902912, 0.82902912, 0.82902912, 0.82902912,\n",
       "        0.82902912, 0.82902912, 0.82902912, 0.82902912, 0.82902912,\n",
       "        0.82902912, 0.82902912, 0.82902912, 0.82902912, 0.82902912,\n",
       "        0.82902912, 0.82902912, 0.82902912, 0.82902912, 0.82902912,\n",
       "        0.82902912, 0.82902912, 0.82902912, 0.82902912, 0.82902912,\n",
       "        0.82902912, 0.82902912, 0.82902912, 0.82902912, 0.82902912,\n",
       "        0.82902912, 0.82902912, 0.82902912, 0.82902912, 0.82902912,\n",
       "        0.82902912, 0.82902912, 0.82902912, 0.82902912, 0.82902912,\n",
       "        0.82902912, 0.82902912, 0.82902912, 0.82902912, 0.82902912,\n",
       "        0.82902912, 0.82902912, 0.82902912, 0.82902912, 0.82902912,\n",
       "        0.82902912, 0.82902912, 0.82902912, 0.82902912, 0.82902912,\n",
       "        0.82902912, 0.82902912, 0.82902912, 0.82902912, 0.82902912,\n",
       "        0.82902912, 0.82902912, 0.82902912, 0.82902912, 0.82902912,\n",
       "        0.82902912, 0.82902912, 0.82902912, 0.82902912, 0.82902912,\n",
       "        0.82902912, 0.82902912, 0.82902912, 0.82902912, 0.82902912,\n",
       "        0.82902912, 0.82902912, 0.82902912, 0.82902912, 0.82902912,\n",
       "        0.82902912, 0.82902912, 0.82902912, 0.82902912, 0.82902912,\n",
       "        0.82902912, 0.82902912, 0.82902912, 0.82902912, 0.82902912,\n",
       "        0.82902912, 0.82902912, 0.82902912, 0.82902912, 0.82902912,\n",
       "        0.82902912, 0.82902912, 0.82902912, 0.82902912, 0.82902912,\n",
       "        0.82902912, 0.82902912, 0.82902912, 0.82902912, 0.82902912,\n",
       "        0.82902912, 0.82902912, 0.82902912, 0.82902912, 0.82902912,\n",
       "        0.82902912, 0.82902912, 0.82902912, 0.82902912, 0.82902912,\n",
       "        0.82902912, 0.82902912, 0.82902912, 0.82902912, 0.82902912,\n",
       "        0.82902912, 0.82902912, 0.82902912, 0.82902912, 0.82902912,\n",
       "        0.82902912, 0.82902912, 0.82902912, 0.82902912, 0.82902912,\n",
       "        0.82902912, 0.82902912, 0.82902912, 0.82902912, 0.82902912,\n",
       "        0.82902912, 0.82902912, 0.82902912, 0.82902912, 0.82902912,\n",
       "        0.82902912, 0.82902912, 0.82902912, 0.82902912, 0.82902912,\n",
       "        0.82902912, 0.82902912, 0.82902912, 0.82902912, 0.82902912,\n",
       "        0.82902912, 0.82902912, 0.82902912, 0.82902912, 0.82902912,\n",
       "        0.82902912, 0.82902912, 0.82902912, 0.82902912, 0.82902912,\n",
       "        0.82902912, 0.82902912, 0.82902912, 0.82902912, 0.82902912,\n",
       "        0.82902912, 0.82902912, 0.82902912, 0.82902912, 0.82902912,\n",
       "        0.82902912, 0.82902912, 0.82902912, 0.82902912, 0.82902912,\n",
       "        0.82902912, 0.82902912, 0.82902912, 0.82902912, 0.82902912,\n",
       "        0.82902912, 0.82902912, 0.82902912, 0.82902912, 0.82902912,\n",
       "        0.82902912, 0.82902912, 0.82902912, 0.82902912, 0.82902912,\n",
       "        0.82902912, 0.82902912, 0.82902912, 0.82902912, 0.82902912,\n",
       "        0.82902912, 0.82902912, 0.82902912, 0.82902912, 0.82902912,\n",
       "        0.82902912, 0.82902912, 0.82902912, 0.82902912, 0.82902912,\n",
       "        0.82902912, 0.82902912, 0.82902912, 0.82902912, 0.82902912,\n",
       "        0.82902912, 0.82902912, 0.82902912, 0.82902912, 0.82902912,\n",
       "        0.82902912, 0.82902912, 0.82902912, 0.82902912, 0.82902912,\n",
       "        0.82902912]),\n",
       " array([0., 0., 0., 0., 0., 0., 0., 0., 0., 0., 0., 0., 0., 0., 0., 0., 0.,\n",
       "        0., 0., 0., 0., 0., 0., 0., 0., 0., 0., 0., 0., 0., 0., 0., 0., 0.,\n",
       "        0., 0., 0., 0., 0., 0., 0., 0., 0., 0., 0., 0., 0., 0., 0., 0., 0.,\n",
       "        0., 0., 0., 0., 0., 0., 0., 0., 0., 0., 0., 0., 0., 0., 0., 0., 0.,\n",
       "        0., 0., 0., 0., 0., 0., 0., 0., 0., 0., 0., 0., 0., 0., 0., 0., 0.,\n",
       "        0., 0., 0., 0., 0., 0., 0., 0., 0., 0., 0., 0., 0., 0., 0., 0., 0.,\n",
       "        0., 0., 0., 0., 0., 0., 0., 0., 0., 0., 0., 0., 0., 0., 0., 0., 0.,\n",
       "        0., 0., 0., 0., 0., 0., 0., 0., 0., 0., 0., 0., 0., 0., 0., 0., 0.,\n",
       "        0., 0., 0., 0., 0., 0., 0., 0., 0., 0., 0., 0., 0., 0., 0., 0., 0.,\n",
       "        0., 0., 0., 0., 0., 0., 0., 0., 0., 0., 0., 0., 0., 0., 0., 0., 0.,\n",
       "        0., 0., 0., 0., 0., 0., 0., 0., 0., 0., 0., 0., 0., 0., 0., 0., 0.,\n",
       "        0., 0., 0., 0., 0., 0., 0., 0., 0., 0., 0., 0., 0., 0., 0., 0., 0.,\n",
       "        0., 0., 0., 0., 0., 0., 0., 0., 0., 0., 0., 0., 0., 0., 0., 0., 0.,\n",
       "        0., 0., 0., 0., 0., 0., 0., 0., 0., 0., 0., 0., 0., 0., 0., 0., 0.,\n",
       "        0., 0., 0., 0., 0., 0., 0., 0., 0., 0., 0., 0., 0., 0., 0., 0., 0.,\n",
       "        0., 0., 0., 0., 0., 0., 0., 0., 0., 0., 0., 0., 0., 0., 0., 0., 0.,\n",
       "        0., 0., 0., 0., 0., 0., 0., 0., 0., 0., 0., 0., 0., 0., 0., 0., 0.,\n",
       "        0., 0., 0., 0., 0., 0., 0., 0., 0., 0., 0., 0., 0., 0., 0., 0., 0.,\n",
       "        0., 0., 0., 0., 0., 0., 0., 0., 0., 0., 0., 0., 0., 0., 0., 0., 0.,\n",
       "        0., 0., 0., 0., 0., 0., 0., 0.]),\n",
       " array([0., 0., 0., 0., 0., 0., 0., 0., 0., 0., 0., 0., 0., 0., 0., 0., 0.,\n",
       "        0., 0., 0., 0., 0., 0., 0., 0., 0., 0., 0., 0., 0., 0., 0., 0., 0.,\n",
       "        0., 0., 0., 0., 0., 0., 0., 0., 0., 0., 0., 0., 0., 0., 0., 0., 0.,\n",
       "        0., 0., 0., 0., 0., 0., 0., 0., 0., 0., 0., 0., 0., 0., 0., 0., 0.,\n",
       "        0., 0., 0., 0., 0., 0., 0., 0., 0., 0., 0., 0., 0., 0., 0., 0., 0.,\n",
       "        0., 0., 0., 0., 0., 0., 0., 0., 0., 0., 0., 0., 0., 0., 0., 0., 0.,\n",
       "        0., 0., 0., 0., 0., 0., 0., 0., 0., 0., 0., 0., 0., 0., 0., 0., 0.,\n",
       "        0., 0., 0., 0., 0., 0., 0., 0., 0., 0., 0., 0., 0., 0., 0., 0., 0.,\n",
       "        0., 0., 0., 0., 0., 0., 0., 0., 0., 0., 0., 0., 0., 0., 0., 0., 0.,\n",
       "        0., 0., 0., 0., 0., 0., 0., 0., 0., 0., 0., 0., 0., 0., 0., 0., 0.,\n",
       "        0., 0., 0., 0., 0., 0., 0., 0., 0., 0., 0., 0., 0., 0., 0., 0., 0.,\n",
       "        0., 0., 0., 0., 0., 0., 0., 0., 0., 0., 0., 0., 0., 0., 0., 0., 0.,\n",
       "        0., 0., 0., 0., 0., 0., 0., 0., 0., 0., 0., 0., 0., 0., 0., 0., 0.,\n",
       "        0., 0., 0., 0., 0., 0., 0., 0., 0., 0., 0., 0., 0., 0., 0., 0., 0.,\n",
       "        0., 0., 0., 0., 0., 0., 0., 0., 0., 0., 0., 0., 0., 0., 0., 0., 0.,\n",
       "        0., 0., 0., 0., 0., 0., 0., 0., 0., 0., 0., 0., 0., 0., 0., 0., 0.,\n",
       "        0., 0., 0., 0., 0., 0., 0., 0., 0., 0., 0., 0., 0., 0., 0., 0., 0.,\n",
       "        0., 0., 0., 0., 0., 0., 0., 0., 0., 0., 0., 0., 0., 0., 0., 0., 0.,\n",
       "        0., 0., 0., 0., 0., 0., 0., 0., 0., 0., 0., 0., 0., 0., 0., 0., 0.,\n",
       "        0., 0., 0., 0., 0., 0., 0., 0.]))"
      ]
     },
     "execution_count": 27,
     "metadata": {},
     "output_type": "execute_result"
    }
   ],
   "source": [
    "roww =  [u'JB', u'p-value', u'skew', u'kurtosis']\n",
    "jb_testw = sm.stats.stattools.jarque_bera(dtstw, axis=1)\n",
    "jb_testw"
   ]
  },
  {
   "cell_type": "code",
   "execution_count": 28,
   "metadata": {},
   "outputs": [
    {
     "data": {
      "text/plain": [
       "array([[0.375     , 0.375     , 0.375     , ..., 0.375     , 0.375     ,\n",
       "        0.375     ],\n",
       "       [0.82902912, 0.82902912, 0.82902912, ..., 0.82902912, 0.82902912,\n",
       "        0.82902912],\n",
       "       [0.        , 0.        , 0.        , ..., 0.        , 0.        ,\n",
       "        0.        ],\n",
       "       [0.        , 0.        , 0.        , ..., 0.        , 0.        ,\n",
       "        0.        ]])"
      ]
     },
     "execution_count": 28,
     "metadata": {},
     "output_type": "execute_result"
    }
   ],
   "source": [
    "aw = np.vstack([jb_testw])\n",
    "aw"
   ]
  },
  {
   "cell_type": "code",
   "execution_count": 29,
   "metadata": {},
   "outputs": [
    {
     "data": {
      "text/html": [
       "<table class=\"simpletable\">\n",
       "<tr>\n",
       "          <th>JB</th>               <th>p-value</th>             <th>skew</th>             <th>kurtosis</th>     \n",
       "</tr>\n",
       "<tr>\n",
       "         <td>0.375</td>              <td>0.375</td>              <td>0.375</td>              <td>0.375</td>      \n",
       "</tr>\n",
       "<tr>\n",
       "  <td>0.8290291181804004</td> <td>0.8290291181804004</td> <td>0.8290291181804004</td> <td>0.8290291181804004</td>\n",
       "</tr>\n",
       "<tr>\n",
       "          <td>0.0</td>                <td>0.0</td>                <td>0.0</td>                <td>0.0</td>       \n",
       "</tr>\n",
       "<tr>\n",
       "          <td>0.0</td>                <td>0.0</td>                <td>0.0</td>                <td>0.0</td>       \n",
       "</tr>\n",
       "</table>"
      ],
      "text/plain": [
       "<class 'statsmodels.iolib.table.SimpleTable'>"
      ]
     },
     "execution_count": 29,
     "metadata": {},
     "output_type": "execute_result"
    }
   ],
   "source": [
    "idtstw = SimpleTable(aw, roww)\n",
    "idtstw"
   ]
  },
  {
   "cell_type": "markdown",
   "metadata": {},
   "source": [
    "### Тест Дикки-Фуллера"
   ]
  },
  {
   "cell_type": "markdown",
   "metadata": {},
   "source": [
    "### Полные данные"
   ]
  },
  {
   "cell_type": "code",
   "execution_count": 30,
   "metadata": {},
   "outputs": [],
   "source": [
    "dtst2 = dtst.dropna(how='any')"
   ]
  },
  {
   "cell_type": "code",
   "execution_count": 31,
   "metadata": {},
   "outputs": [
    {
     "data": {
      "text/html": [
       "<div>\n",
       "<style scoped>\n",
       "    .dataframe tbody tr th:only-of-type {\n",
       "        vertical-align: middle;\n",
       "    }\n",
       "\n",
       "    .dataframe tbody tr th {\n",
       "        vertical-align: top;\n",
       "    }\n",
       "\n",
       "    .dataframe thead th {\n",
       "        text-align: right;\n",
       "    }\n",
       "</style>\n",
       "<table border=\"1\" class=\"dataframe\">\n",
       "  <thead>\n",
       "    <tr style=\"text-align: right;\">\n",
       "      <th></th>\n",
       "      <th>OPEN</th>\n",
       "    </tr>\n",
       "    <tr>\n",
       "      <th>DATE</th>\n",
       "      <th></th>\n",
       "    </tr>\n",
       "  </thead>\n",
       "  <tbody>\n",
       "    <tr>\n",
       "      <th>2014-06-04</th>\n",
       "      <td>1546.7</td>\n",
       "    </tr>\n",
       "    <tr>\n",
       "      <th>2014-06-05</th>\n",
       "      <td>1175.0</td>\n",
       "    </tr>\n",
       "    <tr>\n",
       "      <th>2014-06-06</th>\n",
       "      <td>1158.3</td>\n",
       "    </tr>\n",
       "    <tr>\n",
       "      <th>2014-06-07</th>\n",
       "      <td>1158.3</td>\n",
       "    </tr>\n",
       "    <tr>\n",
       "      <th>2014-06-08</th>\n",
       "      <td>1158.3</td>\n",
       "    </tr>\n",
       "    <tr>\n",
       "      <th>...</th>\n",
       "      <td>...</td>\n",
       "    </tr>\n",
       "    <tr>\n",
       "      <th>2020-09-26</th>\n",
       "      <td>4953.6</td>\n",
       "    </tr>\n",
       "    <tr>\n",
       "      <th>2020-09-27</th>\n",
       "      <td>4953.6</td>\n",
       "    </tr>\n",
       "    <tr>\n",
       "      <th>2020-09-28</th>\n",
       "      <td>4951.8</td>\n",
       "    </tr>\n",
       "    <tr>\n",
       "      <th>2020-09-29</th>\n",
       "      <td>5074.8</td>\n",
       "    </tr>\n",
       "    <tr>\n",
       "      <th>2020-09-30</th>\n",
       "      <td>5100.2</td>\n",
       "    </tr>\n",
       "  </tbody>\n",
       "</table>\n",
       "<p>2311 rows × 1 columns</p>\n",
       "</div>"
      ],
      "text/plain": [
       "              OPEN\n",
       "DATE              \n",
       "2014-06-04  1546.7\n",
       "2014-06-05  1175.0\n",
       "2014-06-06  1158.3\n",
       "2014-06-07  1158.3\n",
       "2014-06-08  1158.3\n",
       "...            ...\n",
       "2020-09-26  4953.6\n",
       "2020-09-27  4953.6\n",
       "2020-09-28  4951.8\n",
       "2020-09-29  5074.8\n",
       "2020-09-30  5100.2\n",
       "\n",
       "[2311 rows x 1 columns]"
      ]
     },
     "execution_count": 31,
     "metadata": {},
     "output_type": "execute_result"
    }
   ],
   "source": [
    "dtst2"
   ]
  },
  {
   "cell_type": "code",
   "execution_count": 32,
   "metadata": {},
   "outputs": [],
   "source": [
    "test = sm.tsa.adfuller(dtst2)"
   ]
  },
  {
   "cell_type": "code",
   "execution_count": 33,
   "metadata": {},
   "outputs": [],
   "source": [
    "test_result = [{'adf: ': test[0], 'p-value: ': test[1], 'Critical values: ': test[4]}]\n",
    "test_result = pd.DataFrame(test_result)\n",
    "if test[0] > test[4]['5%']:\n",
    "    test_result[3] = 'есть единичные корни, ряд не стационарен'\n",
    "else: \n",
    "    test_result[3] = 'единичных корней нет, ряд стационарен'"
   ]
  },
  {
   "cell_type": "code",
   "execution_count": 34,
   "metadata": {},
   "outputs": [
    {
     "data": {
      "text/html": [
       "<div>\n",
       "<style scoped>\n",
       "    .dataframe tbody tr th:only-of-type {\n",
       "        vertical-align: middle;\n",
       "    }\n",
       "\n",
       "    .dataframe tbody tr th {\n",
       "        vertical-align: top;\n",
       "    }\n",
       "\n",
       "    .dataframe thead th {\n",
       "        text-align: right;\n",
       "    }\n",
       "</style>\n",
       "<table border=\"1\" class=\"dataframe\">\n",
       "  <thead>\n",
       "    <tr style=\"text-align: right;\">\n",
       "      <th></th>\n",
       "      <th>adf:</th>\n",
       "      <th>p-value:</th>\n",
       "      <th>Critical values:</th>\n",
       "      <th>3</th>\n",
       "    </tr>\n",
       "  </thead>\n",
       "  <tbody>\n",
       "    <tr>\n",
       "      <th>0</th>\n",
       "      <td>2.94379</td>\n",
       "      <td>1.0</td>\n",
       "      <td>{'1%': -3.433202561761398, '5%': -2.8628001971...</td>\n",
       "      <td>есть единичные корни, ряд не стационарен</td>\n",
       "    </tr>\n",
       "  </tbody>\n",
       "</table>\n",
       "</div>"
      ],
      "text/plain": [
       "     adf:   p-value:                                   Critical values:   \\\n",
       "0  2.94379        1.0  {'1%': -3.433202561761398, '5%': -2.8628001971...   \n",
       "\n",
       "                                          3  \n",
       "0  есть единичные корни, ряд не стационарен  "
      ]
     },
     "execution_count": 34,
     "metadata": {},
     "output_type": "execute_result"
    }
   ],
   "source": [
    "test_result"
   ]
  },
  {
   "cell_type": "markdown",
   "metadata": {},
   "source": [
    "### Недельные данные"
   ]
  },
  {
   "cell_type": "code",
   "execution_count": 35,
   "metadata": {},
   "outputs": [],
   "source": [
    "dtst2w = dtstw.dropna(how='any')"
   ]
  },
  {
   "cell_type": "code",
   "execution_count": 36,
   "metadata": {},
   "outputs": [
    {
     "data": {
      "text/html": [
       "<div>\n",
       "<style scoped>\n",
       "    .dataframe tbody tr th:only-of-type {\n",
       "        vertical-align: middle;\n",
       "    }\n",
       "\n",
       "    .dataframe tbody tr th {\n",
       "        vertical-align: top;\n",
       "    }\n",
       "\n",
       "    .dataframe thead th {\n",
       "        text-align: right;\n",
       "    }\n",
       "</style>\n",
       "<table border=\"1\" class=\"dataframe\">\n",
       "  <thead>\n",
       "    <tr style=\"text-align: right;\">\n",
       "      <th></th>\n",
       "      <th>OPEN</th>\n",
       "    </tr>\n",
       "    <tr>\n",
       "      <th>DATE</th>\n",
       "      <th></th>\n",
       "    </tr>\n",
       "  </thead>\n",
       "  <tbody>\n",
       "    <tr>\n",
       "      <th>2014-06-08</th>\n",
       "      <td>1158.3</td>\n",
       "    </tr>\n",
       "    <tr>\n",
       "      <th>2014-06-15</th>\n",
       "      <td>1175.0</td>\n",
       "    </tr>\n",
       "    <tr>\n",
       "      <th>2014-06-22</th>\n",
       "      <td>1165.2</td>\n",
       "    </tr>\n",
       "    <tr>\n",
       "      <th>2014-06-29</th>\n",
       "      <td>1185.0</td>\n",
       "    </tr>\n",
       "    <tr>\n",
       "      <th>2014-07-06</th>\n",
       "      <td>1188.9</td>\n",
       "    </tr>\n",
       "    <tr>\n",
       "      <th>...</th>\n",
       "      <td>...</td>\n",
       "    </tr>\n",
       "    <tr>\n",
       "      <th>2020-09-06</th>\n",
       "      <td>4909.0</td>\n",
       "    </tr>\n",
       "    <tr>\n",
       "      <th>2020-09-13</th>\n",
       "      <td>4668.2</td>\n",
       "    </tr>\n",
       "    <tr>\n",
       "      <th>2020-09-20</th>\n",
       "      <td>4621.8</td>\n",
       "    </tr>\n",
       "    <tr>\n",
       "      <th>2020-09-27</th>\n",
       "      <td>4900.0</td>\n",
       "    </tr>\n",
       "    <tr>\n",
       "      <th>2020-10-04</th>\n",
       "      <td>5074.8</td>\n",
       "    </tr>\n",
       "  </tbody>\n",
       "</table>\n",
       "<p>331 rows × 1 columns</p>\n",
       "</div>"
      ],
      "text/plain": [
       "              OPEN\n",
       "DATE              \n",
       "2014-06-08  1158.3\n",
       "2014-06-15  1175.0\n",
       "2014-06-22  1165.2\n",
       "2014-06-29  1185.0\n",
       "2014-07-06  1188.9\n",
       "...            ...\n",
       "2020-09-06  4909.0\n",
       "2020-09-13  4668.2\n",
       "2020-09-20  4621.8\n",
       "2020-09-27  4900.0\n",
       "2020-10-04  5074.8\n",
       "\n",
       "[331 rows x 1 columns]"
      ]
     },
     "execution_count": 36,
     "metadata": {},
     "output_type": "execute_result"
    }
   ],
   "source": [
    "dtst2w"
   ]
  },
  {
   "cell_type": "code",
   "execution_count": 37,
   "metadata": {},
   "outputs": [],
   "source": [
    "testw = sm.tsa.adfuller(dtst2w)"
   ]
  },
  {
   "cell_type": "code",
   "execution_count": 38,
   "metadata": {},
   "outputs": [],
   "source": [
    "test_resultw = [{'adf: ': test[0], 'p-value: ': testw[1], 'Critical values: ': test[4]}]\n",
    "test_resultw = pd.DataFrame(test_resultw)\n",
    "if testw[0] > testw[4]['5%']:\n",
    "    test_resultw[3] = 'есть единичные корни, ряд не стационарен'\n",
    "else: \n",
    "    test_resultw[3] = 'единичных корней нет, ряд стационарен'"
   ]
  },
  {
   "cell_type": "code",
   "execution_count": 39,
   "metadata": {},
   "outputs": [
    {
     "data": {
      "text/html": [
       "<div>\n",
       "<style scoped>\n",
       "    .dataframe tbody tr th:only-of-type {\n",
       "        vertical-align: middle;\n",
       "    }\n",
       "\n",
       "    .dataframe tbody tr th {\n",
       "        vertical-align: top;\n",
       "    }\n",
       "\n",
       "    .dataframe thead th {\n",
       "        text-align: right;\n",
       "    }\n",
       "</style>\n",
       "<table border=\"1\" class=\"dataframe\">\n",
       "  <thead>\n",
       "    <tr style=\"text-align: right;\">\n",
       "      <th></th>\n",
       "      <th>adf:</th>\n",
       "      <th>p-value:</th>\n",
       "      <th>Critical values:</th>\n",
       "      <th>3</th>\n",
       "    </tr>\n",
       "  </thead>\n",
       "  <tbody>\n",
       "    <tr>\n",
       "      <th>0</th>\n",
       "      <td>2.94379</td>\n",
       "      <td>1.0</td>\n",
       "      <td>{'1%': -3.433202561761398, '5%': -2.8628001971...</td>\n",
       "      <td>есть единичные корни, ряд не стационарен</td>\n",
       "    </tr>\n",
       "  </tbody>\n",
       "</table>\n",
       "</div>"
      ],
      "text/plain": [
       "     adf:   p-value:                                   Critical values:   \\\n",
       "0  2.94379        1.0  {'1%': -3.433202561761398, '5%': -2.8628001971...   \n",
       "\n",
       "                                          3  \n",
       "0  есть единичные корни, ряд не стационарен  "
      ]
     },
     "execution_count": 39,
     "metadata": {},
     "output_type": "execute_result"
    }
   ],
   "source": [
    "test_resultw"
   ]
  },
  {
   "cell_type": "markdown",
   "metadata": {},
   "source": [
    "### Проверка порядка интегрированного ряда"
   ]
  },
  {
   "cell_type": "markdown",
   "metadata": {},
   "source": [
    "### Полные данные"
   ]
  },
  {
   "cell_type": "code",
   "execution_count": 40,
   "metadata": {},
   "outputs": [],
   "source": [
    "dtst2diff = dtst.diff(periods=1).dropna()"
   ]
  },
  {
   "cell_type": "code",
   "execution_count": 41,
   "metadata": {},
   "outputs": [],
   "source": [
    "test2 = sm.tsa.adfuller(dtst2diff)"
   ]
  },
  {
   "cell_type": "code",
   "execution_count": 42,
   "metadata": {},
   "outputs": [],
   "source": [
    "test_result2 = [{'adf: ': test2[0], 'p-value: ': test2[1], 'Critical values: ': test2[4]}]\n",
    "test_result2 = pd.DataFrame(test_result2)\n",
    "if test2[0] > test2[4]['5%']:\n",
    "    test_result2[3] = 'есть единичные корни, ряд не стационарен'\n",
    "else: \n",
    "    test_result2[3] = 'единичных корней нет, ряд стационарен'"
   ]
  },
  {
   "cell_type": "code",
   "execution_count": 43,
   "metadata": {
    "scrolled": true
   },
   "outputs": [
    {
     "data": {
      "text/html": [
       "<div>\n",
       "<style scoped>\n",
       "    .dataframe tbody tr th:only-of-type {\n",
       "        vertical-align: middle;\n",
       "    }\n",
       "\n",
       "    .dataframe tbody tr th {\n",
       "        vertical-align: top;\n",
       "    }\n",
       "\n",
       "    .dataframe thead th {\n",
       "        text-align: right;\n",
       "    }\n",
       "</style>\n",
       "<table border=\"1\" class=\"dataframe\">\n",
       "  <thead>\n",
       "    <tr style=\"text-align: right;\">\n",
       "      <th></th>\n",
       "      <th>adf:</th>\n",
       "      <th>p-value:</th>\n",
       "      <th>Critical values:</th>\n",
       "      <th>3</th>\n",
       "    </tr>\n",
       "  </thead>\n",
       "  <tbody>\n",
       "    <tr>\n",
       "      <th>0</th>\n",
       "      <td>-10.181802</td>\n",
       "      <td>6.664740e-18</td>\n",
       "      <td>{'1%': -3.433208797064682, '5%': -2.8628029504...</td>\n",
       "      <td>единичных корней нет, ряд стационарен</td>\n",
       "    </tr>\n",
       "  </tbody>\n",
       "</table>\n",
       "</div>"
      ],
      "text/plain": [
       "       adf:      p-value:                                   Critical values:   \\\n",
       "0 -10.181802  6.664740e-18  {'1%': -3.433208797064682, '5%': -2.8628029504...   \n",
       "\n",
       "                                       3  \n",
       "0  единичных корней нет, ряд стационарен  "
      ]
     },
     "execution_count": 43,
     "metadata": {},
     "output_type": "execute_result"
    }
   ],
   "source": [
    "test_result2"
   ]
  },
  {
   "cell_type": "markdown",
   "metadata": {},
   "source": [
    "### Недельные данные"
   ]
  },
  {
   "cell_type": "code",
   "execution_count": 44,
   "metadata": {},
   "outputs": [],
   "source": [
    "dtst2diffw = dtstw.diff(periods=1).dropna()"
   ]
  },
  {
   "cell_type": "code",
   "execution_count": 45,
   "metadata": {},
   "outputs": [],
   "source": [
    "test2w = sm.tsa.adfuller(dtst2diffw)"
   ]
  },
  {
   "cell_type": "code",
   "execution_count": 46,
   "metadata": {},
   "outputs": [],
   "source": [
    "test_result2w = [{'adf: ': test2w[0], 'p-value: ': test2w[1], 'Critical values: ': test2w[4]}]\n",
    "test_result2w = pd.DataFrame(test_result2w)\n",
    "if test2w[0] > test2w[4]['5%']:\n",
    "    test_result2w[3] = 'есть единичные корни, ряд не стационарен'\n",
    "else: \n",
    "    test_result2w[3] = 'единичных корней нет, ряд стационарен'"
   ]
  },
  {
   "cell_type": "code",
   "execution_count": 47,
   "metadata": {},
   "outputs": [
    {
     "data": {
      "text/html": [
       "<div>\n",
       "<style scoped>\n",
       "    .dataframe tbody tr th:only-of-type {\n",
       "        vertical-align: middle;\n",
       "    }\n",
       "\n",
       "    .dataframe tbody tr th {\n",
       "        vertical-align: top;\n",
       "    }\n",
       "\n",
       "    .dataframe thead th {\n",
       "        text-align: right;\n",
       "    }\n",
       "</style>\n",
       "<table border=\"1\" class=\"dataframe\">\n",
       "  <thead>\n",
       "    <tr style=\"text-align: right;\">\n",
       "      <th></th>\n",
       "      <th>adf:</th>\n",
       "      <th>p-value:</th>\n",
       "      <th>Critical values:</th>\n",
       "      <th>3</th>\n",
       "    </tr>\n",
       "  </thead>\n",
       "  <tbody>\n",
       "    <tr>\n",
       "      <th>0</th>\n",
       "      <td>-7.178113</td>\n",
       "      <td>2.693852e-10</td>\n",
       "      <td>{'1%': -3.4505694423906546, '5%': -2.870446946...</td>\n",
       "      <td>единичных корней нет, ряд стационарен</td>\n",
       "    </tr>\n",
       "  </tbody>\n",
       "</table>\n",
       "</div>"
      ],
      "text/plain": [
       "      adf:      p-value:                                   Critical values:   \\\n",
       "0 -7.178113  2.693852e-10  {'1%': -3.4505694423906546, '5%': -2.870446946...   \n",
       "\n",
       "                                       3  \n",
       "0  единичных корней нет, ряд стационарен  "
      ]
     },
     "execution_count": 47,
     "metadata": {},
     "output_type": "execute_result"
    }
   ],
   "source": [
    "test_result2w"
   ]
  },
  {
   "cell_type": "markdown",
   "metadata": {},
   "source": [
    "### Проверка мат ожидания"
   ]
  },
  {
   "cell_type": "code",
   "execution_count": 48,
   "metadata": {},
   "outputs": [],
   "source": [
    "#dt2diff.index[len(dt2diff.index)/3]"
   ]
  },
  {
   "cell_type": "code",
   "execution_count": 49,
   "metadata": {
    "scrolled": true
   },
   "outputs": [],
   "source": [
    "#m = dt2diff.index[len(dt2diff.index)/2+1]"
   ]
  },
  {
   "cell_type": "code",
   "execution_count": 50,
   "metadata": {},
   "outputs": [
    {
     "data": {
      "text/plain": [
       "'r1 = sm.stats.DescrStatsW(dt2diff[m:])\\nr2 = sm.stats.DescrStatsW(dt2diff[:m])\\nprov = sm.stats.CompareMeans(r1,r2).ttest_ind()[1]\\nprov'"
      ]
     },
     "execution_count": 50,
     "metadata": {},
     "output_type": "execute_result"
    }
   ],
   "source": [
    "\"\"\"r1 = sm.stats.DescrStatsW(dt2diff[m:])\n",
    "r2 = sm.stats.DescrStatsW(dt2diff[:m])\n",
    "prov = sm.stats.CompareMeans(r1,r2).ttest_ind()[1]\n",
    "prov\"\"\""
   ]
  },
  {
   "cell_type": "markdown",
   "metadata": {},
   "source": [
    "### Полные данные"
   ]
  },
  {
   "cell_type": "code",
   "execution_count": 51,
   "metadata": {
    "scrolled": false
   },
   "outputs": [
    {
     "data": {
      "text/plain": [
       "<AxesSubplot:xlabel='DATE'>"
      ]
     },
     "execution_count": 51,
     "metadata": {},
     "output_type": "execute_result"
    },
    {
     "data": {
      "image/png": "[encoded data removed]",
      "text/plain": [
       "<Figure size 864x432 with 1 Axes>"
      ]
     },
     "metadata": {
      "needs_background": "light"
     },
     "output_type": "display_data"
    }
   ],
   "source": [
    "dtst2diff.plot(figsize=(12,6))"
   ]
  },
  {
   "cell_type": "code",
   "execution_count": 52,
   "metadata": {},
   "outputs": [
    {
     "data": {
      "text/plain": [
       "<Figure size 864x576 with 0 Axes>"
      ]
     },
     "metadata": {},
     "output_type": "display_data"
    },
    {
     "data": {
      "image/png": "[encoded data removed]",
      "text/plain": [
       "<Figure size 432x288 with 2 Axes>"
      ]
     },
     "metadata": {
      "needs_background": "light"
     },
     "output_type": "display_data"
    }
   ],
   "source": [
    "ig = plt.figure(figsize=(12,8))\n",
    "fig = plt.figure() #добавил эту строку,так как без неё не запускается ячейка\n",
    "ax1 = fig.add_subplot(211)\n",
    "fig = sm.graphics.tsa.plot_acf(dtst2diff.values.squeeze(), lags=25, ax=ax1)\n",
    "ax2 = fig.add_subplot(212)\n",
    "fig = sm.graphics.tsa.plot_pacf(dtst2diff, lags=25, ax=ax2)"
   ]
  },
  {
   "cell_type": "markdown",
   "metadata": {},
   "source": [
    "### Недельные данные"
   ]
  },
  {
   "cell_type": "code",
   "execution_count": 53,
   "metadata": {
    "scrolled": false
   },
   "outputs": [
    {
     "data": {
      "text/plain": [
       "<AxesSubplot:xlabel='DATE'>"
      ]
     },
     "execution_count": 53,
     "metadata": {},
     "output_type": "execute_result"
    },
    {
     "data": {
      "image/png": "[encoded data removed]",
      "text/plain": [
       "<Figure size 864x432 with 1 Axes>"
      ]
     },
     "metadata": {
      "needs_background": "light"
     },
     "output_type": "display_data"
    }
   ],
   "source": [
    "dtst2diffw.plot(figsize=(12,6))"
   ]
  },
  {
   "cell_type": "code",
   "execution_count": 54,
   "metadata": {},
   "outputs": [
    {
     "data": {
      "text/plain": [
       "<Figure size 864x576 with 0 Axes>"
      ]
     },
     "metadata": {},
     "output_type": "display_data"
    },
    {
     "data": {
      "image/png": "[encoded data removed]",
      "text/plain": [
       "<Figure size 432x288 with 2 Axes>"
      ]
     },
     "metadata": {
      "needs_background": "light"
     },
     "output_type": "display_data"
    }
   ],
   "source": [
    "igw = plt.figure(figsize=(12,8))\n",
    "fig = plt.figure() #добавил эту строку,так как без неё не запускается ячейка\n",
    "ax1 = fig.add_subplot(211)\n",
    "fig = sm.graphics.tsa.plot_acf(dtst2diffw.values.squeeze(), lags=25, ax=ax1)\n",
    "ax2 = fig.add_subplot(212)\n",
    "fig = sm.graphics.tsa.plot_pacf(dtst2diffw, lags=25, ax=ax2)"
   ]
  },
  {
   "cell_type": "markdown",
   "metadata": {},
   "source": [
    "После изучения коррелограммы PACF можно сделать вывод, что p = 1, т.к. на ней только 1 лаг сильно отличнен от нуля. По коррелограмме ACF можно увидеть, что q = 1, т.к. после лага 1 значении функций резко падают"
   ]
  },
  {
   "cell_type": "markdown",
   "metadata": {},
   "source": [
    "### Построение ARIMA модели"
   ]
  },
  {
   "cell_type": "markdown",
   "metadata": {},
   "source": [
    "### Недельные данные"
   ]
  },
  {
   "cell_type": "code",
   "execution_count": 55,
   "metadata": {},
   "outputs": [],
   "source": [
    "src_data_modelw = dtstw['2020-01-01':'2020-09-29']\n",
    "modelw =  sm.tsa.arima.ARIMA(src_data_modelw, order=(1,1,1), freq='W').fit()\n",
    "# в методе fit() пришлось удалить все параметры, так как они не подходят \n",
    "#(нет в документации)"
   ]
  },
  {
   "cell_type": "code",
   "execution_count": 56,
   "metadata": {},
   "outputs": [
    {
     "data": {
      "text/html": [
       "<table class=\"simpletable\">\n",
       "<caption>SARIMAX Results</caption>\n",
       "<tr>\n",
       "  <th>Dep. Variable:</th>         <td>OPEN</td>       <th>  No. Observations:  </th>    <td>39</td>   \n",
       "</tr>\n",
       "<tr>\n",
       "  <th>Model:</th>            <td>ARIMA(1, 1, 1)</td>  <th>  Log Likelihood     </th> <td>-240.989</td>\n",
       "</tr>\n",
       "<tr>\n",
       "  <th>Date:</th>            <td>Tue, 27 Oct 2020</td> <th>  AIC                </th>  <td>487.979</td>\n",
       "</tr>\n",
       "<tr>\n",
       "  <th>Time:</th>                <td>19:34:47</td>     <th>  BIC                </th>  <td>492.891</td>\n",
       "</tr>\n",
       "<tr>\n",
       "  <th>Sample:</th>             <td>01-05-2020</td>    <th>  HQIC               </th>  <td>489.726</td>\n",
       "</tr>\n",
       "<tr>\n",
       "  <th></th>                   <td>- 09-27-2020</td>   <th>                     </th>     <td> </td>   \n",
       "</tr>\n",
       "<tr>\n",
       "  <th>Covariance Type:</th>        <td>opg</td>       <th>                     </th>     <td> </td>   \n",
       "</tr>\n",
       "</table>\n",
       "<table class=\"simpletable\">\n",
       "<tr>\n",
       "     <td></td>       <th>coef</th>     <th>std err</th>      <th>z</th>      <th>P>|z|</th>  <th>[0.025</th>    <th>0.975]</th>  \n",
       "</tr>\n",
       "<tr>\n",
       "  <th>ar.L1</th>  <td>   -0.2056</td> <td>    0.371</td> <td>   -0.554</td> <td> 0.580</td> <td>   -0.933</td> <td>    0.522</td>\n",
       "</tr>\n",
       "<tr>\n",
       "  <th>ma.L1</th>  <td>    0.6839</td> <td>    0.286</td> <td>    2.389</td> <td> 0.017</td> <td>    0.123</td> <td>    1.245</td>\n",
       "</tr>\n",
       "<tr>\n",
       "  <th>sigma2</th> <td> 1.863e+04</td> <td> 5108.878</td> <td>    3.647</td> <td> 0.000</td> <td> 8619.580</td> <td> 2.86e+04</td>\n",
       "</tr>\n",
       "</table>\n",
       "<table class=\"simpletable\">\n",
       "<tr>\n",
       "  <th>Ljung-Box (L1) (Q):</th>     <td>0.16</td> <th>  Jarque-Bera (JB):  </th> <td>2.66</td> \n",
       "</tr>\n",
       "<tr>\n",
       "  <th>Prob(Q):</th>                <td>0.69</td> <th>  Prob(JB):          </th> <td>0.26</td> \n",
       "</tr>\n",
       "<tr>\n",
       "  <th>Heteroskedasticity (H):</th> <td>1.31</td> <th>  Skew:              </th> <td>-0.64</td>\n",
       "</tr>\n",
       "<tr>\n",
       "  <th>Prob(H) (two-sided):</th>    <td>0.64</td> <th>  Kurtosis:          </th> <td>3.25</td> \n",
       "</tr>\n",
       "</table><br/><br/>Warnings:<br/>[1] Covariance matrix calculated using the outer product of gradients (complex-step)."
      ],
      "text/plain": [
       "<class 'statsmodels.iolib.summary.Summary'>\n",
       "\"\"\"\n",
       "                               SARIMAX Results                                \n",
       "==============================================================================\n",
       "Dep. Variable:                   OPEN   No. Observations:                   39\n",
       "Model:                 ARIMA(1, 1, 1)   Log Likelihood                -240.989\n",
       "Date:                Tue, 27 Oct 2020   AIC                            487.979\n",
       "Time:                        19:34:47   BIC                            492.891\n",
       "Sample:                    01-05-2020   HQIC                           489.726\n",
       "                         - 09-27-2020                                         \n",
       "Covariance Type:                  opg                                         \n",
       "==============================================================================\n",
       "                 coef    std err          z      P>|z|      [0.025      0.975]\n",
       "------------------------------------------------------------------------------\n",
       "ar.L1         -0.2056      0.371     -0.554      0.580      -0.933       0.522\n",
       "ma.L1          0.6839      0.286      2.389      0.017       0.123       1.245\n",
       "sigma2      1.863e+04   5108.878      3.647      0.000    8619.580    2.86e+04\n",
       "===================================================================================\n",
       "Ljung-Box (L1) (Q):                   0.16   Jarque-Bera (JB):                 2.66\n",
       "Prob(Q):                              0.69   Prob(JB):                         0.26\n",
       "Heteroskedasticity (H):               1.31   Skew:                            -0.64\n",
       "Prob(H) (two-sided):                  0.64   Kurtosis:                         3.25\n",
       "===================================================================================\n",
       "\n",
       "Warnings:\n",
       "[1] Covariance matrix calculated using the outer product of gradients (complex-step).\n",
       "\"\"\""
      ]
     },
     "execution_count": 56,
     "metadata": {},
     "output_type": "execute_result"
    }
   ],
   "source": [
    "modelw.summary()"
   ]
  },
  {
   "cell_type": "markdown",
   "metadata": {},
   "source": [
    "### Полные данные (модель не строится)"
   ]
  },
  {
   "cell_type": "code",
   "execution_count": 57,
   "metadata": {},
   "outputs": [
    {
     "name": "stderr",
     "output_type": "stream",
     "text": [
      "c:\\projects\\ds_lessons\\env\\lib\\site-packages\\statsmodels\\tsa\\base\\tsa_model.py:524: ValueWarning: No frequency information was provided, so inferred frequency D will be used.\n",
      "  warnings.warn('No frequency information was'\n"
     ]
    }
   ],
   "source": [
    "src_data_model = dtst['2014-01-01':'2020-09-30']\n",
    "model =  sm.tsa.arima.ARIMA(src_data_model, order=(1,1,1), freq='D').fit()\n",
    "# в методе fit() пришлось удалить все параметры, так как они не подходят \n",
    "#(нет в документации)"
   ]
  },
  {
   "cell_type": "code",
   "execution_count": 58,
   "metadata": {},
   "outputs": [
    {
     "data": {
      "text/html": [
       "<table class=\"simpletable\">\n",
       "<caption>SARIMAX Results</caption>\n",
       "<tr>\n",
       "  <th>Dep. Variable:</th>         <td>OPEN</td>       <th>  No. Observations:  </th>    <td>2311</td>   \n",
       "</tr>\n",
       "<tr>\n",
       "  <th>Model:</th>            <td>ARIMA(1, 1, 1)</td>  <th>  Log Likelihood     </th> <td>-11590.554</td>\n",
       "</tr>\n",
       "<tr>\n",
       "  <th>Date:</th>            <td>Tue, 27 Oct 2020</td> <th>  AIC                </th>  <td>23187.107</td>\n",
       "</tr>\n",
       "<tr>\n",
       "  <th>Time:</th>                <td>19:34:47</td>     <th>  BIC                </th>  <td>23204.342</td>\n",
       "</tr>\n",
       "<tr>\n",
       "  <th>Sample:</th>             <td>06-04-2014</td>    <th>  HQIC               </th>  <td>23193.389</td>\n",
       "</tr>\n",
       "<tr>\n",
       "  <th></th>                   <td>- 09-30-2020</td>   <th>                     </th>      <td> </td>    \n",
       "</tr>\n",
       "<tr>\n",
       "  <th>Covariance Type:</th>        <td>opg</td>       <th>                     </th>      <td> </td>    \n",
       "</tr>\n",
       "</table>\n",
       "<table class=\"simpletable\">\n",
       "<tr>\n",
       "     <td></td>       <th>coef</th>     <th>std err</th>      <th>z</th>      <th>P>|z|</th>  <th>[0.025</th>    <th>0.975]</th>  \n",
       "</tr>\n",
       "<tr>\n",
       "  <th>ar.L1</th>  <td>    0.0433</td> <td>    0.427</td> <td>    0.101</td> <td> 0.919</td> <td>   -0.794</td> <td>    0.880</td>\n",
       "</tr>\n",
       "<tr>\n",
       "  <th>ma.L1</th>  <td>   -0.0693</td> <td>    0.426</td> <td>   -0.163</td> <td> 0.871</td> <td>   -0.905</td> <td>    0.766</td>\n",
       "</tr>\n",
       "<tr>\n",
       "  <th>sigma2</th> <td> 1335.7467</td> <td>   11.397</td> <td>  117.201</td> <td> 0.000</td> <td> 1313.409</td> <td> 1358.085</td>\n",
       "</tr>\n",
       "</table>\n",
       "<table class=\"simpletable\">\n",
       "<tr>\n",
       "  <th>Ljung-Box (L1) (Q):</th>     <td>0.00</td> <th>  Jarque-Bera (JB):  </th> <td>56238.82</td>\n",
       "</tr>\n",
       "<tr>\n",
       "  <th>Prob(Q):</th>                <td>0.98</td> <th>  Prob(JB):          </th>   <td>0.00</td>  \n",
       "</tr>\n",
       "<tr>\n",
       "  <th>Heteroskedasticity (H):</th> <td>3.96</td> <th>  Skew:              </th>   <td>-0.81</td> \n",
       "</tr>\n",
       "<tr>\n",
       "  <th>Prob(H) (two-sided):</th>    <td>0.00</td> <th>  Kurtosis:          </th>   <td>27.12</td> \n",
       "</tr>\n",
       "</table><br/><br/>Warnings:<br/>[1] Covariance matrix calculated using the outer product of gradients (complex-step)."
      ],
      "text/plain": [
       "<class 'statsmodels.iolib.summary.Summary'>\n",
       "\"\"\"\n",
       "                               SARIMAX Results                                \n",
       "==============================================================================\n",
       "Dep. Variable:                   OPEN   No. Observations:                 2311\n",
       "Model:                 ARIMA(1, 1, 1)   Log Likelihood              -11590.554\n",
       "Date:                Tue, 27 Oct 2020   AIC                          23187.107\n",
       "Time:                        19:34:47   BIC                          23204.342\n",
       "Sample:                    06-04-2014   HQIC                         23193.389\n",
       "                         - 09-30-2020                                         \n",
       "Covariance Type:                  opg                                         \n",
       "==============================================================================\n",
       "                 coef    std err          z      P>|z|      [0.025      0.975]\n",
       "------------------------------------------------------------------------------\n",
       "ar.L1          0.0433      0.427      0.101      0.919      -0.794       0.880\n",
       "ma.L1         -0.0693      0.426     -0.163      0.871      -0.905       0.766\n",
       "sigma2      1335.7467     11.397    117.201      0.000    1313.409    1358.085\n",
       "===================================================================================\n",
       "Ljung-Box (L1) (Q):                   0.00   Jarque-Bera (JB):             56238.82\n",
       "Prob(Q):                              0.98   Prob(JB):                         0.00\n",
       "Heteroskedasticity (H):               3.96   Skew:                            -0.81\n",
       "Prob(H) (two-sided):                  0.00   Kurtosis:                        27.12\n",
       "===================================================================================\n",
       "\n",
       "Warnings:\n",
       "[1] Covariance matrix calculated using the outer product of gradients (complex-step).\n",
       "\"\"\""
      ]
     },
     "execution_count": 58,
     "metadata": {},
     "output_type": "execute_result"
    }
   ],
   "source": [
    "model.summary()"
   ]
  },
  {
   "cell_type": "markdown",
   "metadata": {},
   "source": [
    "### Q-тест Льюинга-Бокса"
   ]
  },
  {
   "cell_type": "code",
   "execution_count": 59,
   "metadata": {},
   "outputs": [
    {
     "data": {
      "text/plain": [
       "pandas.core.series.Series"
      ]
     },
     "execution_count": 59,
     "metadata": {},
     "output_type": "execute_result"
    }
   ],
   "source": [
    "type(model.resid)"
   ]
  },
  {
   "cell_type": "code",
   "execution_count": 60,
   "metadata": {},
   "outputs": [
    {
     "name": "stderr",
     "output_type": "stream",
     "text": [
      "c:\\projects\\ds_lessons\\env\\lib\\site-packages\\statsmodels\\tsa\\stattools.py:652: FutureWarning: The default number of lags is changing from 40 tomin(int(10 * np.log10(nobs)), nobs - 1) after 0.12is released. Set the number of lags to an integer to  silence this warning.\n",
      "  warnings.warn(\n",
      "c:\\projects\\ds_lessons\\env\\lib\\site-packages\\statsmodels\\tsa\\stattools.py:662: FutureWarning: fft=True will become the default after the release of the 0.12 release of statsmodels. To suppress this warning, explicitly set fft=False.\n",
      "  warnings.warn(\n"
     ]
    }
   ],
   "source": [
    "q_test = sm.tsa.stattools.acf(model.resid, qstat=True)"
   ]
  },
  {
   "cell_type": "code",
   "execution_count": 61,
   "metadata": {},
   "outputs": [
    {
     "data": {
      "text/plain": [
       "(array([ 1.00000000e+00, -1.05795244e-01, -1.15876427e-02,  2.44690923e-02,\n",
       "        -1.85677497e-02,  1.88578807e-02,  1.03999529e-02,  3.42030026e-04,\n",
       "        -1.04860259e-02,  1.89224713e-02, -1.72403092e-02,  7.62763311e-03,\n",
       "        -1.70432237e-02,  3.12935989e-02, -2.35947824e-02, -1.76448985e-02,\n",
       "         8.73220789e-03, -5.08749640e-03,  1.17523752e-02, -1.40101665e-02,\n",
       "         2.80211464e-02,  6.66370808e-03, -9.52847591e-03,  7.58987870e-03,\n",
       "         1.19353710e-02,  1.53049243e-02,  9.07227212e-04, -1.27275779e-02,\n",
       "         1.27192884e-02,  2.41058037e-02, -4.77619279e-03, -2.91636004e-03,\n",
       "        -5.53414525e-03,  2.15455121e-02,  1.09895890e-02, -3.09794442e-02,\n",
       "        -3.49804112e-03,  4.94581648e-03, -1.25383263e-02,  3.15800652e-03,\n",
       "         1.17735437e-02]),\n",
       " array([25.89976873, 26.21061227, 27.59728984, 28.39610543, 29.22043721,\n",
       "        29.47126023, 29.47153164, 29.72674505, 30.55817558, 31.24865233,\n",
       "        31.3838681 , 32.0592355 , 34.33714558, 35.63267278, 36.35751257,\n",
       "        36.53511177, 36.59542192, 36.91739742, 37.37516766, 39.20715423,\n",
       "        39.31080488, 39.5228248 , 39.6574075 , 39.99035922, 40.53808315,\n",
       "        40.54000856, 40.91912359, 41.29791079, 42.65905196, 42.71251012,\n",
       "        42.73245002, 42.8042844 , 43.89355429, 44.1770689 , 46.43105152,\n",
       "        46.45980193, 46.51730104, 46.887006  , 46.91046953, 47.23673629]),\n",
       " array([3.59612227e-07, 2.03440710e-06, 4.41221713e-06, 1.03669737e-05,\n",
       "        2.09891512e-05, 4.95319981e-05, 1.18665585e-04, 2.36219873e-04,\n",
       "        3.52367821e-04, 5.33732378e-04, 9.57020991e-04, 1.35495509e-03,\n",
       "        1.06944628e-03, 1.18399764e-03, 1.56942796e-03, 2.43694180e-03,\n",
       "        3.81642258e-03, 5.37187445e-03, 7.11989341e-03, 6.28279724e-03,\n",
       "        9.00906738e-03, 1.22852192e-02, 1.67844794e-02, 2.14378531e-02,\n",
       "        2.56583870e-02, 3.45026862e-02, 4.19288486e-02, 5.04194198e-02,\n",
       "        4.89371282e-02, 6.21020561e-02, 7.81756510e-02, 9.60814083e-02,\n",
       "        9.73711064e-02, 1.13527905e-01, 9.36641381e-02, 1.13692608e-01,\n",
       "        1.35738665e-01, 1.52807947e-01, 1.79887107e-01, 2.00891389e-01]))"
      ]
     },
     "execution_count": 61,
     "metadata": {},
     "output_type": "execute_result"
    }
   ],
   "source": [
    "q_test"
   ]
  },
  {
   "cell_type": "code",
   "execution_count": 62,
   "metadata": {},
   "outputs": [
    {
     "data": {
      "text/html": [
       "<div>\n",
       "<style scoped>\n",
       "    .dataframe tbody tr th:only-of-type {\n",
       "        vertical-align: middle;\n",
       "    }\n",
       "\n",
       "    .dataframe tbody tr th {\n",
       "        vertical-align: top;\n",
       "    }\n",
       "\n",
       "    .dataframe thead th {\n",
       "        text-align: right;\n",
       "    }\n",
       "</style>\n",
       "<table border=\"1\" class=\"dataframe\">\n",
       "  <thead>\n",
       "    <tr style=\"text-align: right;\">\n",
       "      <th></th>\n",
       "      <th>Q-stat</th>\n",
       "      <th>p-value</th>\n",
       "    </tr>\n",
       "  </thead>\n",
       "  <tbody>\n",
       "    <tr>\n",
       "      <th>0</th>\n",
       "      <td>25.899769</td>\n",
       "      <td>3.596122e-07</td>\n",
       "    </tr>\n",
       "    <tr>\n",
       "      <th>1</th>\n",
       "      <td>26.210612</td>\n",
       "      <td>2.034407e-06</td>\n",
       "    </tr>\n",
       "    <tr>\n",
       "      <th>2</th>\n",
       "      <td>27.597290</td>\n",
       "      <td>4.412217e-06</td>\n",
       "    </tr>\n",
       "    <tr>\n",
       "      <th>3</th>\n",
       "      <td>28.396105</td>\n",
       "      <td>1.036697e-05</td>\n",
       "    </tr>\n",
       "    <tr>\n",
       "      <th>4</th>\n",
       "      <td>29.220437</td>\n",
       "      <td>2.098915e-05</td>\n",
       "    </tr>\n",
       "    <tr>\n",
       "      <th>5</th>\n",
       "      <td>29.471260</td>\n",
       "      <td>4.953200e-05</td>\n",
       "    </tr>\n",
       "    <tr>\n",
       "      <th>6</th>\n",
       "      <td>29.471532</td>\n",
       "      <td>1.186656e-04</td>\n",
       "    </tr>\n",
       "    <tr>\n",
       "      <th>7</th>\n",
       "      <td>29.726745</td>\n",
       "      <td>2.362199e-04</td>\n",
       "    </tr>\n",
       "    <tr>\n",
       "      <th>8</th>\n",
       "      <td>30.558176</td>\n",
       "      <td>3.523678e-04</td>\n",
       "    </tr>\n",
       "    <tr>\n",
       "      <th>9</th>\n",
       "      <td>31.248652</td>\n",
       "      <td>5.337324e-04</td>\n",
       "    </tr>\n",
       "    <tr>\n",
       "      <th>10</th>\n",
       "      <td>31.383868</td>\n",
       "      <td>9.570210e-04</td>\n",
       "    </tr>\n",
       "    <tr>\n",
       "      <th>11</th>\n",
       "      <td>32.059236</td>\n",
       "      <td>1.354955e-03</td>\n",
       "    </tr>\n",
       "    <tr>\n",
       "      <th>12</th>\n",
       "      <td>34.337146</td>\n",
       "      <td>1.069446e-03</td>\n",
       "    </tr>\n",
       "    <tr>\n",
       "      <th>13</th>\n",
       "      <td>35.632673</td>\n",
       "      <td>1.183998e-03</td>\n",
       "    </tr>\n",
       "    <tr>\n",
       "      <th>14</th>\n",
       "      <td>36.357513</td>\n",
       "      <td>1.569428e-03</td>\n",
       "    </tr>\n",
       "    <tr>\n",
       "      <th>15</th>\n",
       "      <td>36.535112</td>\n",
       "      <td>2.436942e-03</td>\n",
       "    </tr>\n",
       "    <tr>\n",
       "      <th>16</th>\n",
       "      <td>36.595422</td>\n",
       "      <td>3.816423e-03</td>\n",
       "    </tr>\n",
       "    <tr>\n",
       "      <th>17</th>\n",
       "      <td>36.917397</td>\n",
       "      <td>5.371874e-03</td>\n",
       "    </tr>\n",
       "    <tr>\n",
       "      <th>18</th>\n",
       "      <td>37.375168</td>\n",
       "      <td>7.119893e-03</td>\n",
       "    </tr>\n",
       "    <tr>\n",
       "      <th>19</th>\n",
       "      <td>39.207154</td>\n",
       "      <td>6.282797e-03</td>\n",
       "    </tr>\n",
       "    <tr>\n",
       "      <th>20</th>\n",
       "      <td>39.310805</td>\n",
       "      <td>9.009067e-03</td>\n",
       "    </tr>\n",
       "    <tr>\n",
       "      <th>21</th>\n",
       "      <td>39.522825</td>\n",
       "      <td>1.228522e-02</td>\n",
       "    </tr>\n",
       "    <tr>\n",
       "      <th>22</th>\n",
       "      <td>39.657407</td>\n",
       "      <td>1.678448e-02</td>\n",
       "    </tr>\n",
       "    <tr>\n",
       "      <th>23</th>\n",
       "      <td>39.990359</td>\n",
       "      <td>2.143785e-02</td>\n",
       "    </tr>\n",
       "    <tr>\n",
       "      <th>24</th>\n",
       "      <td>40.538083</td>\n",
       "      <td>2.565839e-02</td>\n",
       "    </tr>\n",
       "    <tr>\n",
       "      <th>25</th>\n",
       "      <td>40.540009</td>\n",
       "      <td>3.450269e-02</td>\n",
       "    </tr>\n",
       "    <tr>\n",
       "      <th>26</th>\n",
       "      <td>40.919124</td>\n",
       "      <td>4.192885e-02</td>\n",
       "    </tr>\n",
       "    <tr>\n",
       "      <th>27</th>\n",
       "      <td>41.297911</td>\n",
       "      <td>5.041942e-02</td>\n",
       "    </tr>\n",
       "    <tr>\n",
       "      <th>28</th>\n",
       "      <td>42.659052</td>\n",
       "      <td>4.893713e-02</td>\n",
       "    </tr>\n",
       "    <tr>\n",
       "      <th>29</th>\n",
       "      <td>42.712510</td>\n",
       "      <td>6.210206e-02</td>\n",
       "    </tr>\n",
       "    <tr>\n",
       "      <th>30</th>\n",
       "      <td>42.732450</td>\n",
       "      <td>7.817565e-02</td>\n",
       "    </tr>\n",
       "    <tr>\n",
       "      <th>31</th>\n",
       "      <td>42.804284</td>\n",
       "      <td>9.608141e-02</td>\n",
       "    </tr>\n",
       "    <tr>\n",
       "      <th>32</th>\n",
       "      <td>43.893554</td>\n",
       "      <td>9.737111e-02</td>\n",
       "    </tr>\n",
       "    <tr>\n",
       "      <th>33</th>\n",
       "      <td>44.177069</td>\n",
       "      <td>1.135279e-01</td>\n",
       "    </tr>\n",
       "    <tr>\n",
       "      <th>34</th>\n",
       "      <td>46.431052</td>\n",
       "      <td>9.366414e-02</td>\n",
       "    </tr>\n",
       "    <tr>\n",
       "      <th>35</th>\n",
       "      <td>46.459802</td>\n",
       "      <td>1.136926e-01</td>\n",
       "    </tr>\n",
       "    <tr>\n",
       "      <th>36</th>\n",
       "      <td>46.517301</td>\n",
       "      <td>1.357387e-01</td>\n",
       "    </tr>\n",
       "    <tr>\n",
       "      <th>37</th>\n",
       "      <td>46.887006</td>\n",
       "      <td>1.528079e-01</td>\n",
       "    </tr>\n",
       "    <tr>\n",
       "      <th>38</th>\n",
       "      <td>46.910470</td>\n",
       "      <td>1.798871e-01</td>\n",
       "    </tr>\n",
       "    <tr>\n",
       "      <th>39</th>\n",
       "      <td>47.236736</td>\n",
       "      <td>2.008914e-01</td>\n",
       "    </tr>\n",
       "  </tbody>\n",
       "</table>\n",
       "</div>"
      ],
      "text/plain": [
       "       Q-stat       p-value\n",
       "0   25.899769  3.596122e-07\n",
       "1   26.210612  2.034407e-06\n",
       "2   27.597290  4.412217e-06\n",
       "3   28.396105  1.036697e-05\n",
       "4   29.220437  2.098915e-05\n",
       "5   29.471260  4.953200e-05\n",
       "6   29.471532  1.186656e-04\n",
       "7   29.726745  2.362199e-04\n",
       "8   30.558176  3.523678e-04\n",
       "9   31.248652  5.337324e-04\n",
       "10  31.383868  9.570210e-04\n",
       "11  32.059236  1.354955e-03\n",
       "12  34.337146  1.069446e-03\n",
       "13  35.632673  1.183998e-03\n",
       "14  36.357513  1.569428e-03\n",
       "15  36.535112  2.436942e-03\n",
       "16  36.595422  3.816423e-03\n",
       "17  36.917397  5.371874e-03\n",
       "18  37.375168  7.119893e-03\n",
       "19  39.207154  6.282797e-03\n",
       "20  39.310805  9.009067e-03\n",
       "21  39.522825  1.228522e-02\n",
       "22  39.657407  1.678448e-02\n",
       "23  39.990359  2.143785e-02\n",
       "24  40.538083  2.565839e-02\n",
       "25  40.540009  3.450269e-02\n",
       "26  40.919124  4.192885e-02\n",
       "27  41.297911  5.041942e-02\n",
       "28  42.659052  4.893713e-02\n",
       "29  42.712510  6.210206e-02\n",
       "30  42.732450  7.817565e-02\n",
       "31  42.804284  9.608141e-02\n",
       "32  43.893554  9.737111e-02\n",
       "33  44.177069  1.135279e-01\n",
       "34  46.431052  9.366414e-02\n",
       "35  46.459802  1.136926e-01\n",
       "36  46.517301  1.357387e-01\n",
       "37  46.887006  1.528079e-01\n",
       "38  46.910470  1.798871e-01\n",
       "39  47.236736  2.008914e-01"
      ]
     },
     "execution_count": 62,
     "metadata": {},
     "output_type": "execute_result"
    }
   ],
   "source": [
    "pd.DataFrame({'Q-stat':q_test[1], 'p-value':q_test[2]})"
   ]
  },
  {
   "cell_type": "markdown",
   "metadata": {},
   "source": [
    "### Рассчет коэффициента детерминации"
   ]
  },
  {
   "cell_type": "code",
   "execution_count": 63,
   "metadata": {},
   "outputs": [],
   "source": [
    "pred = model.predict('2020-09-30','2020-10-15', typ='levels')"
   ]
  },
  {
   "cell_type": "code",
   "execution_count": 64,
   "metadata": {},
   "outputs": [],
   "source": [
    "trn = dtst['2020-09-15':]"
   ]
  },
  {
   "cell_type": "code",
   "execution_count": 65,
   "metadata": {},
   "outputs": [
    {
     "data": {
      "text/plain": [
       "(16, 1)"
      ]
     },
     "execution_count": 65,
     "metadata": {},
     "output_type": "execute_result"
    }
   ],
   "source": [
    "trn.shape"
   ]
  },
  {
   "cell_type": "code",
   "execution_count": 66,
   "metadata": {},
   "outputs": [
    {
     "data": {
      "text/plain": [
       "(16,)"
      ]
     },
     "execution_count": 66,
     "metadata": {},
     "output_type": "execute_result"
    }
   ],
   "source": [
    "pred.shape"
   ]
  },
  {
   "cell_type": "code",
   "execution_count": 67,
   "metadata": {},
   "outputs": [
    {
     "data": {
      "text/plain": [
       "2020-09-30    5071.597234\n",
       "2020-10-01    5099.316157\n",
       "2020-10-02    5099.277894\n",
       "2020-10-03    5099.276238\n",
       "2020-10-04    5099.276166\n",
       "2020-10-05    5099.276163\n",
       "2020-10-06    5099.276163\n",
       "2020-10-07    5099.276163\n",
       "2020-10-08    5099.276163\n",
       "2020-10-09    5099.276163\n",
       "2020-10-10    5099.276163\n",
       "2020-10-11    5099.276163\n",
       "2020-10-12    5099.276163\n",
       "2020-10-13    5099.276163\n",
       "2020-10-14    5099.276163\n",
       "2020-10-15    5099.276163\n",
       "Freq: D, Name: predicted_mean, dtype: float64"
      ]
     },
     "execution_count": 67,
     "metadata": {},
     "output_type": "execute_result"
    }
   ],
   "source": [
    "pred"
   ]
  },
  {
   "cell_type": "code",
   "execution_count": 68,
   "metadata": {},
   "outputs": [],
   "source": [
    "pred = pred.to_frame()\n"
   ]
  },
  {
   "cell_type": "code",
   "execution_count": 69,
   "metadata": {
    "scrolled": true
   },
   "outputs": [
    {
     "data": {
      "text/plain": [
       "(16, 1)"
      ]
     },
     "execution_count": 69,
     "metadata": {},
     "output_type": "execute_result"
    }
   ],
   "source": [
    "pred.shape"
   ]
  },
  {
   "cell_type": "code",
   "execution_count": 70,
   "metadata": {},
   "outputs": [
    {
     "data": {
      "text/html": [
       "<div>\n",
       "<style scoped>\n",
       "    .dataframe tbody tr th:only-of-type {\n",
       "        vertical-align: middle;\n",
       "    }\n",
       "\n",
       "    .dataframe tbody tr th {\n",
       "        vertical-align: top;\n",
       "    }\n",
       "\n",
       "    .dataframe thead th {\n",
       "        text-align: right;\n",
       "    }\n",
       "</style>\n",
       "<table border=\"1\" class=\"dataframe\">\n",
       "  <thead>\n",
       "    <tr style=\"text-align: right;\">\n",
       "      <th></th>\n",
       "      <th>predicted_mean</th>\n",
       "    </tr>\n",
       "  </thead>\n",
       "  <tbody>\n",
       "    <tr>\n",
       "      <th>2020-09-30</th>\n",
       "      <td>5071.597234</td>\n",
       "    </tr>\n",
       "    <tr>\n",
       "      <th>2020-10-01</th>\n",
       "      <td>5099.316157</td>\n",
       "    </tr>\n",
       "    <tr>\n",
       "      <th>2020-10-02</th>\n",
       "      <td>5099.277894</td>\n",
       "    </tr>\n",
       "    <tr>\n",
       "      <th>2020-10-03</th>\n",
       "      <td>5099.276238</td>\n",
       "    </tr>\n",
       "    <tr>\n",
       "      <th>2020-10-04</th>\n",
       "      <td>5099.276166</td>\n",
       "    </tr>\n",
       "    <tr>\n",
       "      <th>2020-10-05</th>\n",
       "      <td>5099.276163</td>\n",
       "    </tr>\n",
       "    <tr>\n",
       "      <th>2020-10-06</th>\n",
       "      <td>5099.276163</td>\n",
       "    </tr>\n",
       "    <tr>\n",
       "      <th>2020-10-07</th>\n",
       "      <td>5099.276163</td>\n",
       "    </tr>\n",
       "    <tr>\n",
       "      <th>2020-10-08</th>\n",
       "      <td>5099.276163</td>\n",
       "    </tr>\n",
       "    <tr>\n",
       "      <th>2020-10-09</th>\n",
       "      <td>5099.276163</td>\n",
       "    </tr>\n",
       "    <tr>\n",
       "      <th>2020-10-10</th>\n",
       "      <td>5099.276163</td>\n",
       "    </tr>\n",
       "    <tr>\n",
       "      <th>2020-10-11</th>\n",
       "      <td>5099.276163</td>\n",
       "    </tr>\n",
       "    <tr>\n",
       "      <th>2020-10-12</th>\n",
       "      <td>5099.276163</td>\n",
       "    </tr>\n",
       "    <tr>\n",
       "      <th>2020-10-13</th>\n",
       "      <td>5099.276163</td>\n",
       "    </tr>\n",
       "    <tr>\n",
       "      <th>2020-10-14</th>\n",
       "      <td>5099.276163</td>\n",
       "    </tr>\n",
       "    <tr>\n",
       "      <th>2020-10-15</th>\n",
       "      <td>5099.276163</td>\n",
       "    </tr>\n",
       "  </tbody>\n",
       "</table>\n",
       "</div>"
      ],
      "text/plain": [
       "            predicted_mean\n",
       "2020-09-30     5071.597234\n",
       "2020-10-01     5099.316157\n",
       "2020-10-02     5099.277894\n",
       "2020-10-03     5099.276238\n",
       "2020-10-04     5099.276166\n",
       "2020-10-05     5099.276163\n",
       "2020-10-06     5099.276163\n",
       "2020-10-07     5099.276163\n",
       "2020-10-08     5099.276163\n",
       "2020-10-09     5099.276163\n",
       "2020-10-10     5099.276163\n",
       "2020-10-11     5099.276163\n",
       "2020-10-12     5099.276163\n",
       "2020-10-13     5099.276163\n",
       "2020-10-14     5099.276163\n",
       "2020-10-15     5099.276163"
      ]
     },
     "execution_count": 70,
     "metadata": {},
     "output_type": "execute_result"
    }
   ],
   "source": [
    "pred"
   ]
  },
  {
   "cell_type": "code",
   "execution_count": 71,
   "metadata": {},
   "outputs": [],
   "source": [
    "pred.rename(columns={'predicted_mean': 'OPEN'}, inplace=True)"
   ]
  },
  {
   "cell_type": "code",
   "execution_count": 72,
   "metadata": {},
   "outputs": [
    {
     "data": {
      "text/html": [
       "<div>\n",
       "<style scoped>\n",
       "    .dataframe tbody tr th:only-of-type {\n",
       "        vertical-align: middle;\n",
       "    }\n",
       "\n",
       "    .dataframe tbody tr th {\n",
       "        vertical-align: top;\n",
       "    }\n",
       "\n",
       "    .dataframe thead th {\n",
       "        text-align: right;\n",
       "    }\n",
       "</style>\n",
       "<table border=\"1\" class=\"dataframe\">\n",
       "  <thead>\n",
       "    <tr style=\"text-align: right;\">\n",
       "      <th></th>\n",
       "      <th>OPEN</th>\n",
       "    </tr>\n",
       "    <tr>\n",
       "      <th>DATE</th>\n",
       "      <th></th>\n",
       "    </tr>\n",
       "  </thead>\n",
       "  <tbody>\n",
       "    <tr>\n",
       "      <th>2020-09-15</th>\n",
       "      <td>4710.6</td>\n",
       "    </tr>\n",
       "    <tr>\n",
       "      <th>2020-09-16</th>\n",
       "      <td>4672.0</td>\n",
       "    </tr>\n",
       "    <tr>\n",
       "      <th>2020-09-17</th>\n",
       "      <td>4621.8</td>\n",
       "    </tr>\n",
       "    <tr>\n",
       "      <th>2020-09-18</th>\n",
       "      <td>4580.0</td>\n",
       "    </tr>\n",
       "    <tr>\n",
       "      <th>2020-09-19</th>\n",
       "      <td>4611.8</td>\n",
       "    </tr>\n",
       "    <tr>\n",
       "      <th>2020-09-20</th>\n",
       "      <td>4611.8</td>\n",
       "    </tr>\n",
       "    <tr>\n",
       "      <th>2020-09-21</th>\n",
       "      <td>4615.2</td>\n",
       "    </tr>\n",
       "    <tr>\n",
       "      <th>2020-09-22</th>\n",
       "      <td>4513.2</td>\n",
       "    </tr>\n",
       "    <tr>\n",
       "      <th>2020-09-23</th>\n",
       "      <td>4900.0</td>\n",
       "    </tr>\n",
       "    <tr>\n",
       "      <th>2020-09-24</th>\n",
       "      <td>4995.0</td>\n",
       "    </tr>\n",
       "    <tr>\n",
       "      <th>2020-09-25</th>\n",
       "      <td>4765.8</td>\n",
       "    </tr>\n",
       "    <tr>\n",
       "      <th>2020-09-26</th>\n",
       "      <td>4953.6</td>\n",
       "    </tr>\n",
       "    <tr>\n",
       "      <th>2020-09-27</th>\n",
       "      <td>4953.6</td>\n",
       "    </tr>\n",
       "    <tr>\n",
       "      <th>2020-09-28</th>\n",
       "      <td>4951.8</td>\n",
       "    </tr>\n",
       "    <tr>\n",
       "      <th>2020-09-29</th>\n",
       "      <td>5074.8</td>\n",
       "    </tr>\n",
       "    <tr>\n",
       "      <th>2020-09-30</th>\n",
       "      <td>5100.2</td>\n",
       "    </tr>\n",
       "  </tbody>\n",
       "</table>\n",
       "</div>"
      ],
      "text/plain": [
       "              OPEN\n",
       "DATE              \n",
       "2020-09-15  4710.6\n",
       "2020-09-16  4672.0\n",
       "2020-09-17  4621.8\n",
       "2020-09-18  4580.0\n",
       "2020-09-19  4611.8\n",
       "2020-09-20  4611.8\n",
       "2020-09-21  4615.2\n",
       "2020-09-22  4513.2\n",
       "2020-09-23  4900.0\n",
       "2020-09-24  4995.0\n",
       "2020-09-25  4765.8\n",
       "2020-09-26  4953.6\n",
       "2020-09-27  4953.6\n",
       "2020-09-28  4951.8\n",
       "2020-09-29  5074.8\n",
       "2020-09-30  5100.2"
      ]
     },
     "execution_count": 72,
     "metadata": {},
     "output_type": "execute_result"
    }
   ],
   "source": [
    "trn"
   ]
  },
  {
   "cell_type": "code",
   "execution_count": 73,
   "metadata": {
    "scrolled": false
   },
   "outputs": [],
   "source": [
    "r2 = r2_score(trn, pred)"
   ]
  },
  {
   "cell_type": "code",
   "execution_count": 74,
   "metadata": {},
   "outputs": [
    {
     "data": {
      "text/plain": [
       "-2.6348192602271268"
      ]
     },
     "execution_count": 74,
     "metadata": {},
     "output_type": "execute_result"
    }
   ],
   "source": [
    "r2"
   ]
  },
  {
   "cell_type": "code",
   "execution_count": 75,
   "metadata": {},
   "outputs": [
    {
     "data": {
      "text/plain": [
       "361.4394117603854"
      ]
     },
     "execution_count": 75,
     "metadata": {},
     "output_type": "execute_result"
    }
   ],
   "source": [
    "metrics.rmse(trn,pred)"
   ]
  },
  {
   "cell_type": "code",
   "execution_count": 76,
   "metadata": {},
   "outputs": [
    {
     "data": {
      "text/plain": [
       "308.2143220255739"
      ]
     },
     "execution_count": 76,
     "metadata": {},
     "output_type": "execute_result"
    }
   ],
   "source": [
    "metrics.mae(trn,pred)"
   ]
  },
  {
   "cell_type": "code",
   "execution_count": 77,
   "metadata": {},
   "outputs": [
    {
     "data": {
      "image/png": "[encoded data removed]",
      "text/plain": [
       "<Figure size 864x432 with 1 Axes>"
      ]
     },
     "metadata": {
      "needs_background": "light"
     },
     "output_type": "display_data"
    },
    {
     "data": {
      "image/png": "[encoded data removed]",
      "text/plain": [
       "<Figure size 432x288 with 1 Axes>"
      ]
     },
     "metadata": {
      "needs_background": "light"
     },
     "output_type": "display_data"
    }
   ],
   "source": [
    "dtst.plot(figsize=(12,6))\n",
    "pred.plot(style='r--')\n",
    "plt.show()"
   ]
  },
  {
   "cell_type": "code",
   "execution_count": 78,
   "metadata": {},
   "outputs": [
    {
     "data": {
      "image/png": "[encoded data removed]",
      "text/plain": [
       "<Figure size 432x288 with 1 Axes>"
      ]
     },
     "metadata": {
      "needs_background": "light"
     },
     "output_type": "display_data"
    }
   ],
   "source": [
    "plt.plot(dtst['2020-05-15':])\n",
    "plt.plot(pred)\n",
    "plt.show()"
   ]
  },
  {
   "cell_type": "code",
   "execution_count": null,
   "metadata": {},
   "outputs": [],
   "source": []
  },
  {
   "cell_type": "code",
   "execution_count": null,
   "metadata": {},
   "outputs": [],
   "source": []
  }
 ],
 "metadata": {
  "kernelspec": {
   "display_name": "Python 3",
   "language": "python",
   "name": "python3"
  },
  "language_info": {
   "codemirror_mode": {
    "name": "ipython",
    "version": 3
   },
   "file_extension": ".py",
   "mimetype": "text/x-python",
   "name": "python",
   "nbconvert_exporter": "python",
   "pygments_lexer": "ipython3",
   "version": "3.8.5"
  }
 },
 "nbformat": 4,
 "nbformat_minor": 4
}
