{
 "cells": [
  {
   "cell_type": "code",
   "execution_count": 1,
   "metadata": {},
   "outputs": [],
   "source": [
    "import pandas as pd\n",
    "import statsmodels.api as sm\n",
    "from statsmodels.iolib.table import SimpleTable\n",
    "from sklearn.metrics import r2_score\n",
    "import ml_metrics as metrics\n",
    "import numpy as np\n",
    "import matplotlib.pyplot as plt\n",
    "import datetime as dt"
   ]
  },
  {
   "cell_type": "code",
   "execution_count": 2,
   "metadata": {},
   "outputs": [
    {
     "name": "stdout",
     "output_type": "stream",
     "text": [
      " ’®¬ ў гбва®©бвўҐ C ­Ґ Ё¬ҐҐв ¬ҐвЄЁ.\n",
      " ‘ҐаЁ©­л© ­®¬Ґа в®¬ : 7496-5BB4\n",
      "\n",
      " ‘®¤Ґа¦Ё¬®Ґ Ї ЇЄЁ C:\\projects\\LP_DS_project\n",
      "\n",
      "27.10.2020  19:11    <DIR>          .\n",
      "27.10.2020  19:11    <DIR>          ..\n",
      "27.10.2020  19:11    <DIR>          .ipynb_checkpoints\n",
      "27.10.2020  18:44           116я198 AFKS.csv\n",
      "27.10.2020  06:33    <DIR>          env\n",
      "27.10.2020  19:11            12я479 Filling data.ipynb\n",
      "27.10.2020  18:44           116я505 GAZP.csv\n",
      "27.10.2020  19:04           430я192 Gazprom.ipynb\n",
      "27.10.2020  18:44           417я252 Grafic_akcii.ipynb\n",
      "27.10.2020  19:11           430я302 Kamaz.ipynb\n",
      "27.10.2020  18:44           108я755 KMAZ.csv\n",
      "27.10.2020  18:44           183я007 qAFKS.csv\n",
      "27.10.2020  18:44           190я932 qGAZP.csv\n",
      "27.10.2020  19:10           180я626 qKMAZ.csv\n",
      "27.10.2020  18:44           113я422 SBER.csv\n",
      "27.10.2020  18:44           117я504 TATN.csv\n",
      "27.10.2020  18:54            12я446 week_AFSK.csv\n",
      "27.10.2020  18:44            60я803 YNDX.csv\n",
      "              14 д ©«®ў      2я490я423 Ў ©в\n",
      "               4 Ї Ї®Є  15я414я173я696 Ў ©в бў®Ў®¤­®\n"
     ]
    }
   ],
   "source": [
    "!dir"
   ]
  },
  {
   "cell_type": "code",
   "execution_count": 3,
   "metadata": {},
   "outputs": [
    {
     "data": {
      "text/html": [
       "<div>\n",
       "<style scoped>\n",
       "    .dataframe tbody tr th:only-of-type {\n",
       "        vertical-align: middle;\n",
       "    }\n",
       "\n",
       "    .dataframe tbody tr th {\n",
       "        vertical-align: top;\n",
       "    }\n",
       "\n",
       "    .dataframe thead th {\n",
       "        text-align: right;\n",
       "    }\n",
       "</style>\n",
       "<table border=\"1\" class=\"dataframe\">\n",
       "  <thead>\n",
       "    <tr style=\"text-align: right;\">\n",
       "      <th></th>\n",
       "      <th>Unnamed: 0</th>\n",
       "      <th>Unnamed: 0.1</th>\n",
       "      <th>COMPANY</th>\n",
       "      <th>DATE</th>\n",
       "      <th>OPEN</th>\n",
       "      <th>CLOSE</th>\n",
       "    </tr>\n",
       "  </thead>\n",
       "  <tbody>\n",
       "    <tr>\n",
       "      <th>0</th>\n",
       "      <td>0</td>\n",
       "      <td>41673</td>\n",
       "      <td>KMAZ</td>\n",
       "      <td>2008-01-10</td>\n",
       "      <td>131.62</td>\n",
       "      <td>142.99</td>\n",
       "    </tr>\n",
       "    <tr>\n",
       "      <th>1</th>\n",
       "      <td>1</td>\n",
       "      <td>41674</td>\n",
       "      <td>KMAZ</td>\n",
       "      <td>2008-01-11</td>\n",
       "      <td>145.00</td>\n",
       "      <td>144.19</td>\n",
       "    </tr>\n",
       "    <tr>\n",
       "      <th>2</th>\n",
       "      <td>2</td>\n",
       "      <td>41674</td>\n",
       "      <td>KMAZ</td>\n",
       "      <td>2008-01-12</td>\n",
       "      <td>145.00</td>\n",
       "      <td>144.19</td>\n",
       "    </tr>\n",
       "    <tr>\n",
       "      <th>3</th>\n",
       "      <td>3</td>\n",
       "      <td>41674</td>\n",
       "      <td>KMAZ</td>\n",
       "      <td>2008-01-13</td>\n",
       "      <td>145.00</td>\n",
       "      <td>144.19</td>\n",
       "    </tr>\n",
       "    <tr>\n",
       "      <th>4</th>\n",
       "      <td>4</td>\n",
       "      <td>41675</td>\n",
       "      <td>KMAZ</td>\n",
       "      <td>2008-01-14</td>\n",
       "      <td>142.70</td>\n",
       "      <td>152.00</td>\n",
       "    </tr>\n",
       "    <tr>\n",
       "      <th>...</th>\n",
       "      <td>...</td>\n",
       "      <td>...</td>\n",
       "      <td>...</td>\n",
       "      <td>...</td>\n",
       "      <td>...</td>\n",
       "      <td>...</td>\n",
       "    </tr>\n",
       "    <tr>\n",
       "      <th>4642</th>\n",
       "      <td>4642</td>\n",
       "      <td>44860</td>\n",
       "      <td>KMAZ</td>\n",
       "      <td>2020-09-25</td>\n",
       "      <td>61.50</td>\n",
       "      <td>60.60</td>\n",
       "    </tr>\n",
       "    <tr>\n",
       "      <th>4643</th>\n",
       "      <td>4643</td>\n",
       "      <td>44860</td>\n",
       "      <td>KMAZ</td>\n",
       "      <td>2020-09-26</td>\n",
       "      <td>61.50</td>\n",
       "      <td>60.60</td>\n",
       "    </tr>\n",
       "    <tr>\n",
       "      <th>4644</th>\n",
       "      <td>4644</td>\n",
       "      <td>44860</td>\n",
       "      <td>KMAZ</td>\n",
       "      <td>2020-09-27</td>\n",
       "      <td>61.50</td>\n",
       "      <td>60.60</td>\n",
       "    </tr>\n",
       "    <tr>\n",
       "      <th>4645</th>\n",
       "      <td>4645</td>\n",
       "      <td>44861</td>\n",
       "      <td>KMAZ</td>\n",
       "      <td>2020-09-28</td>\n",
       "      <td>60.90</td>\n",
       "      <td>59.90</td>\n",
       "    </tr>\n",
       "    <tr>\n",
       "      <th>4646</th>\n",
       "      <td>4646</td>\n",
       "      <td>44862</td>\n",
       "      <td>KMAZ</td>\n",
       "      <td>2020-09-29</td>\n",
       "      <td>59.90</td>\n",
       "      <td>59.70</td>\n",
       "    </tr>\n",
       "  </tbody>\n",
       "</table>\n",
       "<p>4647 rows × 6 columns</p>\n",
       "</div>"
      ],
      "text/plain": [
       "      Unnamed: 0  Unnamed: 0.1 COMPANY        DATE    OPEN   CLOSE\n",
       "0              0         41673    KMAZ  2008-01-10  131.62  142.99\n",
       "1              1         41674    KMAZ  2008-01-11  145.00  144.19\n",
       "2              2         41674    KMAZ  2008-01-12  145.00  144.19\n",
       "3              3         41674    KMAZ  2008-01-13  145.00  144.19\n",
       "4              4         41675    KMAZ  2008-01-14  142.70  152.00\n",
       "...          ...           ...     ...         ...     ...     ...\n",
       "4642        4642         44860    KMAZ  2020-09-25   61.50   60.60\n",
       "4643        4643         44860    KMAZ  2020-09-26   61.50   60.60\n",
       "4644        4644         44860    KMAZ  2020-09-27   61.50   60.60\n",
       "4645        4645         44861    KMAZ  2020-09-28   60.90   59.90\n",
       "4646        4646         44862    KMAZ  2020-09-29   59.90   59.70\n",
       "\n",
       "[4647 rows x 6 columns]"
      ]
     },
     "execution_count": 3,
     "metadata": {},
     "output_type": "execute_result"
    }
   ],
   "source": [
    "dataset = pd.read_csv('qKMAZ.csv', sep=';')\n",
    "dataset"
   ]
  },
  {
   "cell_type": "code",
   "execution_count": 4,
   "metadata": {},
   "outputs": [
    {
     "data": {
      "text/plain": [
       "0       2008-01-10\n",
       "1       2008-01-11\n",
       "2       2008-01-12\n",
       "3       2008-01-13\n",
       "4       2008-01-14\n",
       "           ...    \n",
       "4642    2020-09-25\n",
       "4643    2020-09-26\n",
       "4644    2020-09-27\n",
       "4645    2020-09-28\n",
       "4646    2020-09-29\n",
       "Name: DATE, Length: 4647, dtype: object"
      ]
     },
     "execution_count": 4,
     "metadata": {},
     "output_type": "execute_result"
    }
   ],
   "source": [
    "dataset['DATE']"
   ]
  },
  {
   "cell_type": "code",
   "execution_count": 5,
   "metadata": {},
   "outputs": [],
   "source": [
    "dataset = pd.read_csv('qKMAZ.csv', ';', index_col=['DATE'], parse_dates=['DATE'], dayfirst=True)"
   ]
  },
  {
   "cell_type": "code",
   "execution_count": 6,
   "metadata": {},
   "outputs": [
    {
     "data": {
      "text/html": [
       "<div>\n",
       "<style scoped>\n",
       "    .dataframe tbody tr th:only-of-type {\n",
       "        vertical-align: middle;\n",
       "    }\n",
       "\n",
       "    .dataframe tbody tr th {\n",
       "        vertical-align: top;\n",
       "    }\n",
       "\n",
       "    .dataframe thead th {\n",
       "        text-align: right;\n",
       "    }\n",
       "</style>\n",
       "<table border=\"1\" class=\"dataframe\">\n",
       "  <thead>\n",
       "    <tr style=\"text-align: right;\">\n",
       "      <th></th>\n",
       "      <th>Unnamed: 0</th>\n",
       "      <th>Unnamed: 0.1</th>\n",
       "      <th>COMPANY</th>\n",
       "      <th>OPEN</th>\n",
       "      <th>CLOSE</th>\n",
       "    </tr>\n",
       "    <tr>\n",
       "      <th>DATE</th>\n",
       "      <th></th>\n",
       "      <th></th>\n",
       "      <th></th>\n",
       "      <th></th>\n",
       "      <th></th>\n",
       "    </tr>\n",
       "  </thead>\n",
       "  <tbody>\n",
       "    <tr>\n",
       "      <th>2008-01-10</th>\n",
       "      <td>0</td>\n",
       "      <td>41673</td>\n",
       "      <td>KMAZ</td>\n",
       "      <td>131.62</td>\n",
       "      <td>142.99</td>\n",
       "    </tr>\n",
       "    <tr>\n",
       "      <th>2008-01-11</th>\n",
       "      <td>1</td>\n",
       "      <td>41674</td>\n",
       "      <td>KMAZ</td>\n",
       "      <td>145.00</td>\n",
       "      <td>144.19</td>\n",
       "    </tr>\n",
       "    <tr>\n",
       "      <th>2008-01-12</th>\n",
       "      <td>2</td>\n",
       "      <td>41674</td>\n",
       "      <td>KMAZ</td>\n",
       "      <td>145.00</td>\n",
       "      <td>144.19</td>\n",
       "    </tr>\n",
       "    <tr>\n",
       "      <th>2008-01-13</th>\n",
       "      <td>3</td>\n",
       "      <td>41674</td>\n",
       "      <td>KMAZ</td>\n",
       "      <td>145.00</td>\n",
       "      <td>144.19</td>\n",
       "    </tr>\n",
       "    <tr>\n",
       "      <th>2008-01-14</th>\n",
       "      <td>4</td>\n",
       "      <td>41675</td>\n",
       "      <td>KMAZ</td>\n",
       "      <td>142.70</td>\n",
       "      <td>152.00</td>\n",
       "    </tr>\n",
       "    <tr>\n",
       "      <th>...</th>\n",
       "      <td>...</td>\n",
       "      <td>...</td>\n",
       "      <td>...</td>\n",
       "      <td>...</td>\n",
       "      <td>...</td>\n",
       "    </tr>\n",
       "    <tr>\n",
       "      <th>2020-09-25</th>\n",
       "      <td>4642</td>\n",
       "      <td>44860</td>\n",
       "      <td>KMAZ</td>\n",
       "      <td>61.50</td>\n",
       "      <td>60.60</td>\n",
       "    </tr>\n",
       "    <tr>\n",
       "      <th>2020-09-26</th>\n",
       "      <td>4643</td>\n",
       "      <td>44860</td>\n",
       "      <td>KMAZ</td>\n",
       "      <td>61.50</td>\n",
       "      <td>60.60</td>\n",
       "    </tr>\n",
       "    <tr>\n",
       "      <th>2020-09-27</th>\n",
       "      <td>4644</td>\n",
       "      <td>44860</td>\n",
       "      <td>KMAZ</td>\n",
       "      <td>61.50</td>\n",
       "      <td>60.60</td>\n",
       "    </tr>\n",
       "    <tr>\n",
       "      <th>2020-09-28</th>\n",
       "      <td>4645</td>\n",
       "      <td>44861</td>\n",
       "      <td>KMAZ</td>\n",
       "      <td>60.90</td>\n",
       "      <td>59.90</td>\n",
       "    </tr>\n",
       "    <tr>\n",
       "      <th>2020-09-29</th>\n",
       "      <td>4646</td>\n",
       "      <td>44862</td>\n",
       "      <td>KMAZ</td>\n",
       "      <td>59.90</td>\n",
       "      <td>59.70</td>\n",
       "    </tr>\n",
       "  </tbody>\n",
       "</table>\n",
       "<p>4647 rows × 5 columns</p>\n",
       "</div>"
      ],
      "text/plain": [
       "            Unnamed: 0  Unnamed: 0.1 COMPANY    OPEN   CLOSE\n",
       "DATE                                                        \n",
       "2008-01-10           0         41673    KMAZ  131.62  142.99\n",
       "2008-01-11           1         41674    KMAZ  145.00  144.19\n",
       "2008-01-12           2         41674    KMAZ  145.00  144.19\n",
       "2008-01-13           3         41674    KMAZ  145.00  144.19\n",
       "2008-01-14           4         41675    KMAZ  142.70  152.00\n",
       "...                ...           ...     ...     ...     ...\n",
       "2020-09-25        4642         44860    KMAZ   61.50   60.60\n",
       "2020-09-26        4643         44860    KMAZ   61.50   60.60\n",
       "2020-09-27        4644         44860    KMAZ   61.50   60.60\n",
       "2020-09-28        4645         44861    KMAZ   60.90   59.90\n",
       "2020-09-29        4646         44862    KMAZ   59.90   59.70\n",
       "\n",
       "[4647 rows x 5 columns]"
      ]
     },
     "execution_count": 6,
     "metadata": {},
     "output_type": "execute_result"
    }
   ],
   "source": [
    "dataset2 = dataset\n",
    "dataset2"
   ]
  },
  {
   "cell_type": "code",
   "execution_count": 7,
   "metadata": {},
   "outputs": [],
   "source": [
    "#Оставлю эту ячейку здесь\n",
    "#dataset2 = dataset2[(dataset2['DATE'] > '2014-01-01') & (dataset2['DATE'] < '2020-09-30')]\n",
    "#dataset2"
   ]
  },
  {
   "cell_type": "markdown",
   "metadata": {},
   "source": [
    "## Избавляемся от ненужных столбцов"
   ]
  },
  {
   "cell_type": "code",
   "execution_count": 8,
   "metadata": {},
   "outputs": [],
   "source": [
    "dataset2 = dataset2.drop(['COMPANY'], axis=1)"
   ]
  },
  {
   "cell_type": "code",
   "execution_count": 9,
   "metadata": {},
   "outputs": [],
   "source": [
    "dataset2 = dataset2.drop(['CLOSE'], axis=1)"
   ]
  },
  {
   "cell_type": "code",
   "execution_count": 10,
   "metadata": {},
   "outputs": [],
   "source": [
    "dataset2 = dataset2.drop(['Unnamed: 0'], axis=1)"
   ]
  },
  {
   "cell_type": "code",
   "execution_count": 11,
   "metadata": {},
   "outputs": [],
   "source": [
    "dataset2 = dataset2.drop(['Unnamed: 0.1'], axis=1)"
   ]
  },
  {
   "cell_type": "code",
   "execution_count": 12,
   "metadata": {
    "scrolled": false
   },
   "outputs": [
    {
     "data": {
      "text/html": [
       "<div>\n",
       "<style scoped>\n",
       "    .dataframe tbody tr th:only-of-type {\n",
       "        vertical-align: middle;\n",
       "    }\n",
       "\n",
       "    .dataframe tbody tr th {\n",
       "        vertical-align: top;\n",
       "    }\n",
       "\n",
       "    .dataframe thead th {\n",
       "        text-align: right;\n",
       "    }\n",
       "</style>\n",
       "<table border=\"1\" class=\"dataframe\">\n",
       "  <thead>\n",
       "    <tr style=\"text-align: right;\">\n",
       "      <th></th>\n",
       "      <th>OPEN</th>\n",
       "    </tr>\n",
       "    <tr>\n",
       "      <th>DATE</th>\n",
       "      <th></th>\n",
       "    </tr>\n",
       "  </thead>\n",
       "  <tbody>\n",
       "    <tr>\n",
       "      <th>2008-01-10</th>\n",
       "      <td>131.62</td>\n",
       "    </tr>\n",
       "    <tr>\n",
       "      <th>2008-01-11</th>\n",
       "      <td>145.00</td>\n",
       "    </tr>\n",
       "    <tr>\n",
       "      <th>2008-01-12</th>\n",
       "      <td>145.00</td>\n",
       "    </tr>\n",
       "    <tr>\n",
       "      <th>2008-01-13</th>\n",
       "      <td>145.00</td>\n",
       "    </tr>\n",
       "    <tr>\n",
       "      <th>2008-01-14</th>\n",
       "      <td>142.70</td>\n",
       "    </tr>\n",
       "    <tr>\n",
       "      <th>...</th>\n",
       "      <td>...</td>\n",
       "    </tr>\n",
       "    <tr>\n",
       "      <th>2020-09-25</th>\n",
       "      <td>61.50</td>\n",
       "    </tr>\n",
       "    <tr>\n",
       "      <th>2020-09-26</th>\n",
       "      <td>61.50</td>\n",
       "    </tr>\n",
       "    <tr>\n",
       "      <th>2020-09-27</th>\n",
       "      <td>61.50</td>\n",
       "    </tr>\n",
       "    <tr>\n",
       "      <th>2020-09-28</th>\n",
       "      <td>60.90</td>\n",
       "    </tr>\n",
       "    <tr>\n",
       "      <th>2020-09-29</th>\n",
       "      <td>59.90</td>\n",
       "    </tr>\n",
       "  </tbody>\n",
       "</table>\n",
       "<p>4647 rows × 1 columns</p>\n",
       "</div>"
      ],
      "text/plain": [
       "              OPEN\n",
       "DATE              \n",
       "2008-01-10  131.62\n",
       "2008-01-11  145.00\n",
       "2008-01-12  145.00\n",
       "2008-01-13  145.00\n",
       "2008-01-14  142.70\n",
       "...            ...\n",
       "2020-09-25   61.50\n",
       "2020-09-26   61.50\n",
       "2020-09-27   61.50\n",
       "2020-09-28   60.90\n",
       "2020-09-29   59.90\n",
       "\n",
       "[4647 rows x 1 columns]"
      ]
     },
     "execution_count": 12,
     "metadata": {},
     "output_type": "execute_result"
    }
   ],
   "source": [
    "dataset2"
   ]
  },
  {
   "cell_type": "markdown",
   "metadata": {},
   "source": [
    "# Строим график"
   ]
  },
  {
   "cell_type": "code",
   "execution_count": 13,
   "metadata": {},
   "outputs": [],
   "source": [
    "dtst = dataset2"
   ]
  },
  {
   "cell_type": "code",
   "execution_count": 14,
   "metadata": {},
   "outputs": [
    {
     "data": {
      "text/plain": [
       "<AxesSubplot:xlabel='DATE'>"
      ]
     },
     "execution_count": 14,
     "metadata": {},
     "output_type": "execute_result"
    },
    {
     "data": {
      "image/png": "[encoded data removed]",
      "text/plain": [
       "<Figure size 864x432 with 1 Axes>"
      ]
     },
     "metadata": {
      "needs_background": "light"
     },
     "output_type": "display_data"
    }
   ],
   "source": [
    "dtst.plot(figsize=(12,6))"
   ]
  },
  {
   "cell_type": "markdown",
   "metadata": {},
   "source": [
    "### Данные с недельным интервалом"
   ]
  },
  {
   "cell_type": "code",
   "execution_count": 15,
   "metadata": {},
   "outputs": [
    {
     "data": {
      "text/plain": [
       "<AxesSubplot:xlabel='DATE'>"
      ]
     },
     "execution_count": 15,
     "metadata": {},
     "output_type": "execute_result"
    },
    {
     "data": {
      "image/png": "[encoded data removed]",
      "text/plain": [
       "<Figure size 864x432 with 1 Axes>"
      ]
     },
     "metadata": {
      "needs_background": "light"
     },
     "output_type": "display_data"
    }
   ],
   "source": [
    "dtstw = dtst.resample('W').median()\n",
    "dtstw.plot(figsize=(12,6))"
   ]
  },
  {
   "cell_type": "code",
   "execution_count": 16,
   "metadata": {},
   "outputs": [
    {
     "data": {
      "text/html": [
       "<div>\n",
       "<style scoped>\n",
       "    .dataframe tbody tr th:only-of-type {\n",
       "        vertical-align: middle;\n",
       "    }\n",
       "\n",
       "    .dataframe tbody tr th {\n",
       "        vertical-align: top;\n",
       "    }\n",
       "\n",
       "    .dataframe thead th {\n",
       "        text-align: right;\n",
       "    }\n",
       "</style>\n",
       "<table border=\"1\" class=\"dataframe\">\n",
       "  <thead>\n",
       "    <tr style=\"text-align: right;\">\n",
       "      <th></th>\n",
       "      <th>OPEN</th>\n",
       "    </tr>\n",
       "    <tr>\n",
       "      <th>DATE</th>\n",
       "      <th></th>\n",
       "    </tr>\n",
       "  </thead>\n",
       "  <tbody>\n",
       "    <tr>\n",
       "      <th>2008-01-13</th>\n",
       "      <td>145.00</td>\n",
       "    </tr>\n",
       "    <tr>\n",
       "      <th>2008-01-20</th>\n",
       "      <td>165.00</td>\n",
       "    </tr>\n",
       "    <tr>\n",
       "      <th>2008-01-27</th>\n",
       "      <td>151.00</td>\n",
       "    </tr>\n",
       "    <tr>\n",
       "      <th>2008-02-03</th>\n",
       "      <td>144.45</td>\n",
       "    </tr>\n",
       "    <tr>\n",
       "      <th>2008-02-10</th>\n",
       "      <td>139.01</td>\n",
       "    </tr>\n",
       "    <tr>\n",
       "      <th>...</th>\n",
       "      <td>...</td>\n",
       "    </tr>\n",
       "    <tr>\n",
       "      <th>2020-09-06</th>\n",
       "      <td>62.30</td>\n",
       "    </tr>\n",
       "    <tr>\n",
       "      <th>2020-09-13</th>\n",
       "      <td>62.40</td>\n",
       "    </tr>\n",
       "    <tr>\n",
       "      <th>2020-09-20</th>\n",
       "      <td>62.90</td>\n",
       "    </tr>\n",
       "    <tr>\n",
       "      <th>2020-09-27</th>\n",
       "      <td>61.60</td>\n",
       "    </tr>\n",
       "    <tr>\n",
       "      <th>2020-10-04</th>\n",
       "      <td>60.40</td>\n",
       "    </tr>\n",
       "  </tbody>\n",
       "</table>\n",
       "<p>665 rows × 1 columns</p>\n",
       "</div>"
      ],
      "text/plain": [
       "              OPEN\n",
       "DATE              \n",
       "2008-01-13  145.00\n",
       "2008-01-20  165.00\n",
       "2008-01-27  151.00\n",
       "2008-02-03  144.45\n",
       "2008-02-10  139.01\n",
       "...            ...\n",
       "2020-09-06   62.30\n",
       "2020-09-13   62.40\n",
       "2020-09-20   62.90\n",
       "2020-09-27   61.60\n",
       "2020-10-04   60.40\n",
       "\n",
       "[665 rows x 1 columns]"
      ]
     },
     "execution_count": 16,
     "metadata": {},
     "output_type": "execute_result"
    }
   ],
   "source": [
    "dtstw"
   ]
  },
  {
   "cell_type": "code",
   "execution_count": 17,
   "metadata": {},
   "outputs": [],
   "source": [
    "dtstw.to_csv('week_qKMAZ.csv', sep=';')"
   ]
  },
  {
   "cell_type": "markdown",
   "metadata": {},
   "source": [
    "### Гистограмма с полными данными"
   ]
  },
  {
   "cell_type": "code",
   "execution_count": 18,
   "metadata": {},
   "outputs": [
    {
     "data": {
      "text/html": [
       "<div>\n",
       "<style scoped>\n",
       "    .dataframe tbody tr th:only-of-type {\n",
       "        vertical-align: middle;\n",
       "    }\n",
       "\n",
       "    .dataframe tbody tr th {\n",
       "        vertical-align: top;\n",
       "    }\n",
       "\n",
       "    .dataframe thead th {\n",
       "        text-align: right;\n",
       "    }\n",
       "</style>\n",
       "<table border=\"1\" class=\"dataframe\">\n",
       "  <thead>\n",
       "    <tr style=\"text-align: right;\">\n",
       "      <th></th>\n",
       "      <th>OPEN</th>\n",
       "    </tr>\n",
       "  </thead>\n",
       "  <tbody>\n",
       "    <tr>\n",
       "      <th>count</th>\n",
       "      <td>4647.000000</td>\n",
       "    </tr>\n",
       "    <tr>\n",
       "      <th>mean</th>\n",
       "      <td>53.605119</td>\n",
       "    </tr>\n",
       "    <tr>\n",
       "      <th>std</th>\n",
       "      <td>24.116396</td>\n",
       "    </tr>\n",
       "    <tr>\n",
       "      <th>min</th>\n",
       "      <td>12.250000</td>\n",
       "    </tr>\n",
       "    <tr>\n",
       "      <th>25%</th>\n",
       "      <td>37.105000</td>\n",
       "    </tr>\n",
       "    <tr>\n",
       "      <th>50%</th>\n",
       "      <td>51.600000</td>\n",
       "    </tr>\n",
       "    <tr>\n",
       "      <th>75%</th>\n",
       "      <td>61.000000</td>\n",
       "    </tr>\n",
       "    <tr>\n",
       "      <th>max</th>\n",
       "      <td>171.000000</td>\n",
       "    </tr>\n",
       "  </tbody>\n",
       "</table>\n",
       "</div>"
      ],
      "text/plain": [
       "              OPEN\n",
       "count  4647.000000\n",
       "mean     53.605119\n",
       "std      24.116396\n",
       "min      12.250000\n",
       "25%      37.105000\n",
       "50%      51.600000\n",
       "75%      61.000000\n",
       "max     171.000000"
      ]
     },
     "execution_count": 18,
     "metadata": {},
     "output_type": "execute_result"
    },
    {
     "data": {
      "image/png": "[encoded data removed]",
      "text/plain": [
       "<Figure size 432x288 with 1 Axes>"
      ]
     },
     "metadata": {
      "needs_background": "light"
     },
     "output_type": "display_data"
    }
   ],
   "source": [
    "idtst = dtst.describe()\n",
    "dtst.hist()\n",
    "idtst"
   ]
  },
  {
   "cell_type": "markdown",
   "metadata": {},
   "source": [
    "### Гистограмма с недельным интервалом"
   ]
  },
  {
   "cell_type": "code",
   "execution_count": 19,
   "metadata": {},
   "outputs": [
    {
     "data": {
      "text/html": [
       "<div>\n",
       "<style scoped>\n",
       "    .dataframe tbody tr th:only-of-type {\n",
       "        vertical-align: middle;\n",
       "    }\n",
       "\n",
       "    .dataframe tbody tr th {\n",
       "        vertical-align: top;\n",
       "    }\n",
       "\n",
       "    .dataframe thead th {\n",
       "        text-align: right;\n",
       "    }\n",
       "</style>\n",
       "<table border=\"1\" class=\"dataframe\">\n",
       "  <thead>\n",
       "    <tr style=\"text-align: right;\">\n",
       "      <th></th>\n",
       "      <th>OPEN</th>\n",
       "    </tr>\n",
       "  </thead>\n",
       "  <tbody>\n",
       "    <tr>\n",
       "      <th>count</th>\n",
       "      <td>665.000000</td>\n",
       "    </tr>\n",
       "    <tr>\n",
       "      <th>mean</th>\n",
       "      <td>53.644045</td>\n",
       "    </tr>\n",
       "    <tr>\n",
       "      <th>std</th>\n",
       "      <td>24.219705</td>\n",
       "    </tr>\n",
       "    <tr>\n",
       "      <th>min</th>\n",
       "      <td>13.100000</td>\n",
       "    </tr>\n",
       "    <tr>\n",
       "      <th>25%</th>\n",
       "      <td>37.140000</td>\n",
       "    </tr>\n",
       "    <tr>\n",
       "      <th>50%</th>\n",
       "      <td>51.450000</td>\n",
       "    </tr>\n",
       "    <tr>\n",
       "      <th>75%</th>\n",
       "      <td>61.300000</td>\n",
       "    </tr>\n",
       "    <tr>\n",
       "      <th>max</th>\n",
       "      <td>165.000000</td>\n",
       "    </tr>\n",
       "  </tbody>\n",
       "</table>\n",
       "</div>"
      ],
      "text/plain": [
       "             OPEN\n",
       "count  665.000000\n",
       "mean    53.644045\n",
       "std     24.219705\n",
       "min     13.100000\n",
       "25%     37.140000\n",
       "50%     51.450000\n",
       "75%     61.300000\n",
       "max    165.000000"
      ]
     },
     "execution_count": 19,
     "metadata": {},
     "output_type": "execute_result"
    },
    {
     "data": {
      "image/png": "[encoded data removed]",
      "text/plain": [
       "<Figure size 432x288 with 1 Axes>"
      ]
     },
     "metadata": {
      "needs_background": "light"
     },
     "output_type": "display_data"
    }
   ],
   "source": [
    "idtstw = dtstw.describe()\n",
    "dtstw.hist()\n",
    "idtstw"
   ]
  },
  {
   "cell_type": "markdown",
   "metadata": {},
   "source": [
    "# Расчет коэффициента вариации"
   ]
  },
  {
   "cell_type": "markdown",
   "metadata": {},
   "source": [
    "### Полные данные"
   ]
  },
  {
   "cell_type": "code",
   "execution_count": 20,
   "metadata": {},
   "outputs": [],
   "source": [
    "V = idtst.loc['std']/idtst.loc['mean']"
   ]
  },
  {
   "cell_type": "code",
   "execution_count": 21,
   "metadata": {},
   "outputs": [
    {
     "data": {
      "text/plain": [
       "OPEN    0.44989\n",
       "dtype: float64"
      ]
     },
     "execution_count": 21,
     "metadata": {},
     "output_type": "execute_result"
    }
   ],
   "source": [
    "V"
   ]
  },
  {
   "cell_type": "markdown",
   "metadata": {},
   "source": [
    "### Недельные данные"
   ]
  },
  {
   "cell_type": "code",
   "execution_count": 22,
   "metadata": {},
   "outputs": [],
   "source": [
    "Vw = idtstw.loc['std']/idtstw.loc['mean']"
   ]
  },
  {
   "cell_type": "code",
   "execution_count": 23,
   "metadata": {},
   "outputs": [
    {
     "data": {
      "text/plain": [
       "OPEN    0.451489\n",
       "dtype: float64"
      ]
     },
     "execution_count": 23,
     "metadata": {},
     "output_type": "execute_result"
    }
   ],
   "source": [
    "Vw"
   ]
  },
  {
   "cell_type": "markdown",
   "metadata": {},
   "source": [
    "# Тест Харки-Бера"
   ]
  },
  {
   "cell_type": "markdown",
   "metadata": {},
   "source": [
    "### Полные данные"
   ]
  },
  {
   "cell_type": "code",
   "execution_count": 24,
   "metadata": {},
   "outputs": [
    {
     "data": {
      "text/plain": [
       "(array([0.375, 0.375, 0.375, ..., 0.375, 0.375, 0.375]),\n",
       " array([0.82902912, 0.82902912, 0.82902912, ..., 0.82902912, 0.82902912,\n",
       "        0.82902912]),\n",
       " array([0., 0., 0., ..., 0., 0., 0.]),\n",
       " array([0., 0., 0., ..., 0., 0., 0.]))"
      ]
     },
     "execution_count": 24,
     "metadata": {},
     "output_type": "execute_result"
    }
   ],
   "source": [
    "row =  [u'JB', u'p-value', u'skew', u'kurtosis']\n",
    "jb_test = sm.stats.stattools.jarque_bera(dtst, axis=1)\n",
    "jb_test"
   ]
  },
  {
   "cell_type": "code",
   "execution_count": 25,
   "metadata": {},
   "outputs": [
    {
     "data": {
      "text/plain": [
       "array([[0.375     , 0.375     , 0.375     , ..., 0.375     , 0.375     ,\n",
       "        0.375     ],\n",
       "       [0.82902912, 0.82902912, 0.82902912, ..., 0.82902912, 0.82902912,\n",
       "        0.82902912],\n",
       "       [0.        , 0.        , 0.        , ..., 0.        , 0.        ,\n",
       "        0.        ],\n",
       "       [0.        , 0.        , 0.        , ..., 0.        , 0.        ,\n",
       "        0.        ]])"
      ]
     },
     "execution_count": 25,
     "metadata": {},
     "output_type": "execute_result"
    }
   ],
   "source": [
    "a = np.vstack([jb_test])\n",
    "a"
   ]
  },
  {
   "cell_type": "code",
   "execution_count": 26,
   "metadata": {},
   "outputs": [
    {
     "data": {
      "text/html": [
       "<table class=\"simpletable\">\n",
       "<tr>\n",
       "          <th>JB</th>               <th>p-value</th>             <th>skew</th>             <th>kurtosis</th>     \n",
       "</tr>\n",
       "<tr>\n",
       "         <td>0.375</td>              <td>0.375</td>              <td>0.375</td>              <td>0.375</td>      \n",
       "</tr>\n",
       "<tr>\n",
       "  <td>0.8290291181804004</td> <td>0.8290291181804004</td> <td>0.8290291181804004</td> <td>0.8290291181804004</td>\n",
       "</tr>\n",
       "<tr>\n",
       "          <td>0.0</td>                <td>0.0</td>                <td>0.0</td>                <td>0.0</td>       \n",
       "</tr>\n",
       "<tr>\n",
       "          <td>0.0</td>                <td>0.0</td>                <td>0.0</td>                <td>0.0</td>       \n",
       "</tr>\n",
       "</table>"
      ],
      "text/plain": [
       "<class 'statsmodels.iolib.table.SimpleTable'>"
      ]
     },
     "execution_count": 26,
     "metadata": {},
     "output_type": "execute_result"
    }
   ],
   "source": [
    "idtst = SimpleTable(a, row)\n",
    "idtst"
   ]
  },
  {
   "cell_type": "markdown",
   "metadata": {},
   "source": [
    "### Недельные данные\n"
   ]
  },
  {
   "cell_type": "code",
   "execution_count": 27,
   "metadata": {},
   "outputs": [
    {
     "data": {
      "text/plain": [
       "(array([0.375, 0.375, 0.375, 0.375, 0.375, 0.375, 0.375, 0.375, 0.375,\n",
       "        0.375, 0.375, 0.375, 0.375, 0.375, 0.375, 0.375, 0.375, 0.375,\n",
       "        0.375, 0.375, 0.375, 0.375, 0.375, 0.375, 0.375, 0.375, 0.375,\n",
       "        0.375, 0.375, 0.375, 0.375, 0.375, 0.375, 0.375, 0.375, 0.375,\n",
       "        0.375, 0.375, 0.375, 0.375, 0.375, 0.375, 0.375, 0.375, 0.375,\n",
       "        0.375, 0.375, 0.375, 0.375, 0.375, 0.375, 0.375, 0.375, 0.375,\n",
       "        0.375, 0.375, 0.375, 0.375, 0.375, 0.375, 0.375, 0.375, 0.375,\n",
       "        0.375, 0.375, 0.375, 0.375, 0.375, 0.375, 0.375, 0.375, 0.375,\n",
       "        0.375, 0.375, 0.375, 0.375, 0.375, 0.375, 0.375, 0.375, 0.375,\n",
       "        0.375, 0.375, 0.375, 0.375, 0.375, 0.375, 0.375, 0.375, 0.375,\n",
       "        0.375, 0.375, 0.375, 0.375, 0.375, 0.375, 0.375, 0.375, 0.375,\n",
       "        0.375, 0.375, 0.375, 0.375, 0.375, 0.375, 0.375, 0.375, 0.375,\n",
       "        0.375, 0.375, 0.375, 0.375, 0.375, 0.375, 0.375, 0.375, 0.375,\n",
       "        0.375, 0.375, 0.375, 0.375, 0.375, 0.375, 0.375, 0.375, 0.375,\n",
       "        0.375, 0.375, 0.375, 0.375, 0.375, 0.375, 0.375, 0.375, 0.375,\n",
       "        0.375, 0.375, 0.375, 0.375, 0.375, 0.375, 0.375, 0.375, 0.375,\n",
       "        0.375, 0.375, 0.375, 0.375, 0.375, 0.375, 0.375, 0.375, 0.375,\n",
       "        0.375, 0.375, 0.375, 0.375, 0.375, 0.375, 0.375, 0.375, 0.375,\n",
       "        0.375, 0.375, 0.375, 0.375, 0.375, 0.375, 0.375, 0.375, 0.375,\n",
       "        0.375, 0.375, 0.375, 0.375, 0.375, 0.375, 0.375, 0.375, 0.375,\n",
       "        0.375, 0.375, 0.375, 0.375, 0.375, 0.375, 0.375, 0.375, 0.375,\n",
       "        0.375, 0.375, 0.375, 0.375, 0.375, 0.375, 0.375, 0.375, 0.375,\n",
       "        0.375, 0.375, 0.375, 0.375, 0.375, 0.375, 0.375, 0.375, 0.375,\n",
       "        0.375, 0.375, 0.375, 0.375, 0.375, 0.375, 0.375, 0.375, 0.375,\n",
       "        0.375, 0.375, 0.375, 0.375, 0.375, 0.375, 0.375, 0.375, 0.375,\n",
       "        0.375, 0.375, 0.375, 0.375, 0.375, 0.375, 0.375, 0.375, 0.375,\n",
       "        0.375, 0.375, 0.375, 0.375, 0.375, 0.375, 0.375, 0.375, 0.375,\n",
       "        0.375, 0.375, 0.375, 0.375, 0.375, 0.375, 0.375, 0.375, 0.375,\n",
       "        0.375, 0.375, 0.375, 0.375, 0.375, 0.375, 0.375, 0.375, 0.375,\n",
       "        0.375, 0.375, 0.375, 0.375, 0.375, 0.375, 0.375, 0.375, 0.375,\n",
       "        0.375, 0.375, 0.375, 0.375, 0.375, 0.375, 0.375, 0.375, 0.375,\n",
       "        0.375, 0.375, 0.375, 0.375, 0.375, 0.375, 0.375, 0.375, 0.375,\n",
       "        0.375, 0.375, 0.375, 0.375, 0.375, 0.375, 0.375, 0.375, 0.375,\n",
       "        0.375, 0.375, 0.375, 0.375, 0.375, 0.375, 0.375, 0.375, 0.375,\n",
       "        0.375, 0.375, 0.375, 0.375, 0.375, 0.375, 0.375, 0.375, 0.375,\n",
       "        0.375, 0.375, 0.375, 0.375, 0.375, 0.375, 0.375, 0.375, 0.375,\n",
       "        0.375, 0.375, 0.375, 0.375, 0.375, 0.375, 0.375, 0.375, 0.375,\n",
       "        0.375, 0.375, 0.375, 0.375, 0.375, 0.375, 0.375, 0.375, 0.375,\n",
       "        0.375, 0.375, 0.375, 0.375, 0.375, 0.375, 0.375, 0.375, 0.375,\n",
       "        0.375, 0.375, 0.375, 0.375, 0.375, 0.375, 0.375, 0.375, 0.375,\n",
       "        0.375, 0.375, 0.375, 0.375, 0.375, 0.375, 0.375, 0.375, 0.375,\n",
       "        0.375, 0.375, 0.375, 0.375, 0.375, 0.375, 0.375, 0.375, 0.375,\n",
       "        0.375, 0.375, 0.375, 0.375, 0.375, 0.375, 0.375, 0.375, 0.375,\n",
       "        0.375, 0.375, 0.375, 0.375, 0.375, 0.375, 0.375, 0.375, 0.375,\n",
       "        0.375, 0.375, 0.375, 0.375, 0.375, 0.375, 0.375, 0.375, 0.375,\n",
       "        0.375, 0.375, 0.375, 0.375, 0.375, 0.375, 0.375, 0.375, 0.375,\n",
       "        0.375, 0.375, 0.375, 0.375, 0.375, 0.375, 0.375, 0.375, 0.375,\n",
       "        0.375, 0.375, 0.375, 0.375, 0.375, 0.375, 0.375, 0.375, 0.375,\n",
       "        0.375, 0.375, 0.375, 0.375, 0.375, 0.375, 0.375, 0.375, 0.375,\n",
       "        0.375, 0.375, 0.375, 0.375, 0.375, 0.375, 0.375, 0.375, 0.375,\n",
       "        0.375, 0.375, 0.375, 0.375, 0.375, 0.375, 0.375, 0.375, 0.375,\n",
       "        0.375, 0.375, 0.375, 0.375, 0.375, 0.375, 0.375, 0.375, 0.375,\n",
       "        0.375, 0.375, 0.375, 0.375, 0.375, 0.375, 0.375, 0.375, 0.375,\n",
       "        0.375, 0.375, 0.375, 0.375, 0.375, 0.375, 0.375, 0.375, 0.375,\n",
       "        0.375, 0.375, 0.375, 0.375, 0.375, 0.375, 0.375, 0.375, 0.375,\n",
       "        0.375, 0.375, 0.375, 0.375, 0.375, 0.375, 0.375, 0.375, 0.375,\n",
       "        0.375, 0.375, 0.375, 0.375, 0.375, 0.375, 0.375, 0.375, 0.375,\n",
       "        0.375, 0.375, 0.375, 0.375, 0.375, 0.375, 0.375, 0.375, 0.375,\n",
       "        0.375, 0.375, 0.375, 0.375, 0.375, 0.375, 0.375, 0.375, 0.375,\n",
       "        0.375, 0.375, 0.375, 0.375, 0.375, 0.375, 0.375, 0.375, 0.375,\n",
       "        0.375, 0.375, 0.375, 0.375, 0.375, 0.375, 0.375, 0.375, 0.375,\n",
       "        0.375, 0.375, 0.375, 0.375, 0.375, 0.375, 0.375, 0.375, 0.375,\n",
       "        0.375, 0.375, 0.375, 0.375, 0.375, 0.375, 0.375, 0.375, 0.375,\n",
       "        0.375, 0.375, 0.375, 0.375, 0.375, 0.375, 0.375, 0.375, 0.375,\n",
       "        0.375, 0.375, 0.375, 0.375, 0.375, 0.375, 0.375, 0.375, 0.375,\n",
       "        0.375, 0.375, 0.375, 0.375, 0.375, 0.375, 0.375, 0.375, 0.375,\n",
       "        0.375, 0.375, 0.375, 0.375, 0.375, 0.375, 0.375, 0.375, 0.375,\n",
       "        0.375, 0.375, 0.375, 0.375, 0.375, 0.375, 0.375, 0.375, 0.375,\n",
       "        0.375, 0.375, 0.375, 0.375, 0.375, 0.375, 0.375, 0.375, 0.375,\n",
       "        0.375, 0.375, 0.375, 0.375, 0.375, 0.375, 0.375, 0.375, 0.375,\n",
       "        0.375, 0.375, 0.375, 0.375, 0.375, 0.375, 0.375, 0.375, 0.375,\n",
       "        0.375, 0.375, 0.375, 0.375, 0.375, 0.375, 0.375, 0.375, 0.375,\n",
       "        0.375, 0.375, 0.375, 0.375, 0.375, 0.375, 0.375, 0.375, 0.375,\n",
       "        0.375, 0.375, 0.375, 0.375, 0.375, 0.375, 0.375, 0.375]),\n",
       " array([0.82902912, 0.82902912, 0.82902912, 0.82902912, 0.82902912,\n",
       "        0.82902912, 0.82902912, 0.82902912, 0.82902912, 0.82902912,\n",
       "        0.82902912, 0.82902912, 0.82902912, 0.82902912, 0.82902912,\n",
       "        0.82902912, 0.82902912, 0.82902912, 0.82902912, 0.82902912,\n",
       "        0.82902912, 0.82902912, 0.82902912, 0.82902912, 0.82902912,\n",
       "        0.82902912, 0.82902912, 0.82902912, 0.82902912, 0.82902912,\n",
       "        0.82902912, 0.82902912, 0.82902912, 0.82902912, 0.82902912,\n",
       "        0.82902912, 0.82902912, 0.82902912, 0.82902912, 0.82902912,\n",
       "        0.82902912, 0.82902912, 0.82902912, 0.82902912, 0.82902912,\n",
       "        0.82902912, 0.82902912, 0.82902912, 0.82902912, 0.82902912,\n",
       "        0.82902912, 0.82902912, 0.82902912, 0.82902912, 0.82902912,\n",
       "        0.82902912, 0.82902912, 0.82902912, 0.82902912, 0.82902912,\n",
       "        0.82902912, 0.82902912, 0.82902912, 0.82902912, 0.82902912,\n",
       "        0.82902912, 0.82902912, 0.82902912, 0.82902912, 0.82902912,\n",
       "        0.82902912, 0.82902912, 0.82902912, 0.82902912, 0.82902912,\n",
       "        0.82902912, 0.82902912, 0.82902912, 0.82902912, 0.82902912,\n",
       "        0.82902912, 0.82902912, 0.82902912, 0.82902912, 0.82902912,\n",
       "        0.82902912, 0.82902912, 0.82902912, 0.82902912, 0.82902912,\n",
       "        0.82902912, 0.82902912, 0.82902912, 0.82902912, 0.82902912,\n",
       "        0.82902912, 0.82902912, 0.82902912, 0.82902912, 0.82902912,\n",
       "        0.82902912, 0.82902912, 0.82902912, 0.82902912, 0.82902912,\n",
       "        0.82902912, 0.82902912, 0.82902912, 0.82902912, 0.82902912,\n",
       "        0.82902912, 0.82902912, 0.82902912, 0.82902912, 0.82902912,\n",
       "        0.82902912, 0.82902912, 0.82902912, 0.82902912, 0.82902912,\n",
       "        0.82902912, 0.82902912, 0.82902912, 0.82902912, 0.82902912,\n",
       "        0.82902912, 0.82902912, 0.82902912, 0.82902912, 0.82902912,\n",
       "        0.82902912, 0.82902912, 0.82902912, 0.82902912, 0.82902912,\n",
       "        0.82902912, 0.82902912, 0.82902912, 0.82902912, 0.82902912,\n",
       "        0.82902912, 0.82902912, 0.82902912, 0.82902912, 0.82902912,\n",
       "        0.82902912, 0.82902912, 0.82902912, 0.82902912, 0.82902912,\n",
       "        0.82902912, 0.82902912, 0.82902912, 0.82902912, 0.82902912,\n",
       "        0.82902912, 0.82902912, 0.82902912, 0.82902912, 0.82902912,\n",
       "        0.82902912, 0.82902912, 0.82902912, 0.82902912, 0.82902912,\n",
       "        0.82902912, 0.82902912, 0.82902912, 0.82902912, 0.82902912,\n",
       "        0.82902912, 0.82902912, 0.82902912, 0.82902912, 0.82902912,\n",
       "        0.82902912, 0.82902912, 0.82902912, 0.82902912, 0.82902912,\n",
       "        0.82902912, 0.82902912, 0.82902912, 0.82902912, 0.82902912,\n",
       "        0.82902912, 0.82902912, 0.82902912, 0.82902912, 0.82902912,\n",
       "        0.82902912, 0.82902912, 0.82902912, 0.82902912, 0.82902912,\n",
       "        0.82902912, 0.82902912, 0.82902912, 0.82902912, 0.82902912,\n",
       "        0.82902912, 0.82902912, 0.82902912, 0.82902912, 0.82902912,\n",
       "        0.82902912, 0.82902912, 0.82902912, 0.82902912, 0.82902912,\n",
       "        0.82902912, 0.82902912, 0.82902912, 0.82902912, 0.82902912,\n",
       "        0.82902912, 0.82902912, 0.82902912, 0.82902912, 0.82902912,\n",
       "        0.82902912, 0.82902912, 0.82902912, 0.82902912, 0.82902912,\n",
       "        0.82902912, 0.82902912, 0.82902912, 0.82902912, 0.82902912,\n",
       "        0.82902912, 0.82902912, 0.82902912, 0.82902912, 0.82902912,\n",
       "        0.82902912, 0.82902912, 0.82902912, 0.82902912, 0.82902912,\n",
       "        0.82902912, 0.82902912, 0.82902912, 0.82902912, 0.82902912,\n",
       "        0.82902912, 0.82902912, 0.82902912, 0.82902912, 0.82902912,\n",
       "        0.82902912, 0.82902912, 0.82902912, 0.82902912, 0.82902912,\n",
       "        0.82902912, 0.82902912, 0.82902912, 0.82902912, 0.82902912,\n",
       "        0.82902912, 0.82902912, 0.82902912, 0.82902912, 0.82902912,\n",
       "        0.82902912, 0.82902912, 0.82902912, 0.82902912, 0.82902912,\n",
       "        0.82902912, 0.82902912, 0.82902912, 0.82902912, 0.82902912,\n",
       "        0.82902912, 0.82902912, 0.82902912, 0.82902912, 0.82902912,\n",
       "        0.82902912, 0.82902912, 0.82902912, 0.82902912, 0.82902912,\n",
       "        0.82902912, 0.82902912, 0.82902912, 0.82902912, 0.82902912,\n",
       "        0.82902912, 0.82902912, 0.82902912, 0.82902912, 0.82902912,\n",
       "        0.82902912, 0.82902912, 0.82902912, 0.82902912, 0.82902912,\n",
       "        0.82902912, 0.82902912, 0.82902912, 0.82902912, 0.82902912,\n",
       "        0.82902912, 0.82902912, 0.82902912, 0.82902912, 0.82902912,\n",
       "        0.82902912, 0.82902912, 0.82902912, 0.82902912, 0.82902912,\n",
       "        0.82902912, 0.82902912, 0.82902912, 0.82902912, 0.82902912,\n",
       "        0.82902912, 0.82902912, 0.82902912, 0.82902912, 0.82902912,\n",
       "        0.82902912, 0.82902912, 0.82902912, 0.82902912, 0.82902912,\n",
       "        0.82902912, 0.82902912, 0.82902912, 0.82902912, 0.82902912,\n",
       "        0.82902912, 0.82902912, 0.82902912, 0.82902912, 0.82902912,\n",
       "        0.82902912, 0.82902912, 0.82902912, 0.82902912, 0.82902912,\n",
       "        0.82902912, 0.82902912, 0.82902912, 0.82902912, 0.82902912,\n",
       "        0.82902912, 0.82902912, 0.82902912, 0.82902912, 0.82902912,\n",
       "        0.82902912, 0.82902912, 0.82902912, 0.82902912, 0.82902912,\n",
       "        0.82902912, 0.82902912, 0.82902912, 0.82902912, 0.82902912,\n",
       "        0.82902912, 0.82902912, 0.82902912, 0.82902912, 0.82902912,\n",
       "        0.82902912, 0.82902912, 0.82902912, 0.82902912, 0.82902912,\n",
       "        0.82902912, 0.82902912, 0.82902912, 0.82902912, 0.82902912,\n",
       "        0.82902912, 0.82902912, 0.82902912, 0.82902912, 0.82902912,\n",
       "        0.82902912, 0.82902912, 0.82902912, 0.82902912, 0.82902912,\n",
       "        0.82902912, 0.82902912, 0.82902912, 0.82902912, 0.82902912,\n",
       "        0.82902912, 0.82902912, 0.82902912, 0.82902912, 0.82902912,\n",
       "        0.82902912, 0.82902912, 0.82902912, 0.82902912, 0.82902912,\n",
       "        0.82902912, 0.82902912, 0.82902912, 0.82902912, 0.82902912,\n",
       "        0.82902912, 0.82902912, 0.82902912, 0.82902912, 0.82902912,\n",
       "        0.82902912, 0.82902912, 0.82902912, 0.82902912, 0.82902912,\n",
       "        0.82902912, 0.82902912, 0.82902912, 0.82902912, 0.82902912,\n",
       "        0.82902912, 0.82902912, 0.82902912, 0.82902912, 0.82902912,\n",
       "        0.82902912, 0.82902912, 0.82902912, 0.82902912, 0.82902912,\n",
       "        0.82902912, 0.82902912, 0.82902912, 0.82902912, 0.82902912,\n",
       "        0.82902912, 0.82902912, 0.82902912, 0.82902912, 0.82902912,\n",
       "        0.82902912, 0.82902912, 0.82902912, 0.82902912, 0.82902912,\n",
       "        0.82902912, 0.82902912, 0.82902912, 0.82902912, 0.82902912,\n",
       "        0.82902912, 0.82902912, 0.82902912, 0.82902912, 0.82902912,\n",
       "        0.82902912, 0.82902912, 0.82902912, 0.82902912, 0.82902912,\n",
       "        0.82902912, 0.82902912, 0.82902912, 0.82902912, 0.82902912,\n",
       "        0.82902912, 0.82902912, 0.82902912, 0.82902912, 0.82902912,\n",
       "        0.82902912, 0.82902912, 0.82902912, 0.82902912, 0.82902912,\n",
       "        0.82902912, 0.82902912, 0.82902912, 0.82902912, 0.82902912,\n",
       "        0.82902912, 0.82902912, 0.82902912, 0.82902912, 0.82902912,\n",
       "        0.82902912, 0.82902912, 0.82902912, 0.82902912, 0.82902912,\n",
       "        0.82902912, 0.82902912, 0.82902912, 0.82902912, 0.82902912,\n",
       "        0.82902912, 0.82902912, 0.82902912, 0.82902912, 0.82902912,\n",
       "        0.82902912, 0.82902912, 0.82902912, 0.82902912, 0.82902912,\n",
       "        0.82902912, 0.82902912, 0.82902912, 0.82902912, 0.82902912,\n",
       "        0.82902912, 0.82902912, 0.82902912, 0.82902912, 0.82902912,\n",
       "        0.82902912, 0.82902912, 0.82902912, 0.82902912, 0.82902912,\n",
       "        0.82902912, 0.82902912, 0.82902912, 0.82902912, 0.82902912,\n",
       "        0.82902912, 0.82902912, 0.82902912, 0.82902912, 0.82902912,\n",
       "        0.82902912, 0.82902912, 0.82902912, 0.82902912, 0.82902912,\n",
       "        0.82902912, 0.82902912, 0.82902912, 0.82902912, 0.82902912,\n",
       "        0.82902912, 0.82902912, 0.82902912, 0.82902912, 0.82902912,\n",
       "        0.82902912, 0.82902912, 0.82902912, 0.82902912, 0.82902912,\n",
       "        0.82902912, 0.82902912, 0.82902912, 0.82902912, 0.82902912,\n",
       "        0.82902912, 0.82902912, 0.82902912, 0.82902912, 0.82902912,\n",
       "        0.82902912, 0.82902912, 0.82902912, 0.82902912, 0.82902912,\n",
       "        0.82902912, 0.82902912, 0.82902912, 0.82902912, 0.82902912,\n",
       "        0.82902912, 0.82902912, 0.82902912, 0.82902912, 0.82902912,\n",
       "        0.82902912, 0.82902912, 0.82902912, 0.82902912, 0.82902912,\n",
       "        0.82902912, 0.82902912, 0.82902912, 0.82902912, 0.82902912,\n",
       "        0.82902912, 0.82902912, 0.82902912, 0.82902912, 0.82902912,\n",
       "        0.82902912, 0.82902912, 0.82902912, 0.82902912, 0.82902912,\n",
       "        0.82902912, 0.82902912, 0.82902912, 0.82902912, 0.82902912,\n",
       "        0.82902912, 0.82902912, 0.82902912, 0.82902912, 0.82902912,\n",
       "        0.82902912, 0.82902912, 0.82902912, 0.82902912, 0.82902912,\n",
       "        0.82902912, 0.82902912, 0.82902912, 0.82902912, 0.82902912,\n",
       "        0.82902912, 0.82902912, 0.82902912, 0.82902912, 0.82902912,\n",
       "        0.82902912, 0.82902912, 0.82902912, 0.82902912, 0.82902912,\n",
       "        0.82902912, 0.82902912, 0.82902912, 0.82902912, 0.82902912,\n",
       "        0.82902912, 0.82902912, 0.82902912, 0.82902912, 0.82902912,\n",
       "        0.82902912, 0.82902912, 0.82902912, 0.82902912, 0.82902912,\n",
       "        0.82902912, 0.82902912, 0.82902912, 0.82902912, 0.82902912,\n",
       "        0.82902912, 0.82902912, 0.82902912, 0.82902912, 0.82902912,\n",
       "        0.82902912, 0.82902912, 0.82902912, 0.82902912, 0.82902912,\n",
       "        0.82902912, 0.82902912, 0.82902912, 0.82902912, 0.82902912]),\n",
       " array([0., 0., 0., 0., 0., 0., 0., 0., 0., 0., 0., 0., 0., 0., 0., 0., 0.,\n",
       "        0., 0., 0., 0., 0., 0., 0., 0., 0., 0., 0., 0., 0., 0., 0., 0., 0.,\n",
       "        0., 0., 0., 0., 0., 0., 0., 0., 0., 0., 0., 0., 0., 0., 0., 0., 0.,\n",
       "        0., 0., 0., 0., 0., 0., 0., 0., 0., 0., 0., 0., 0., 0., 0., 0., 0.,\n",
       "        0., 0., 0., 0., 0., 0., 0., 0., 0., 0., 0., 0., 0., 0., 0., 0., 0.,\n",
       "        0., 0., 0., 0., 0., 0., 0., 0., 0., 0., 0., 0., 0., 0., 0., 0., 0.,\n",
       "        0., 0., 0., 0., 0., 0., 0., 0., 0., 0., 0., 0., 0., 0., 0., 0., 0.,\n",
       "        0., 0., 0., 0., 0., 0., 0., 0., 0., 0., 0., 0., 0., 0., 0., 0., 0.,\n",
       "        0., 0., 0., 0., 0., 0., 0., 0., 0., 0., 0., 0., 0., 0., 0., 0., 0.,\n",
       "        0., 0., 0., 0., 0., 0., 0., 0., 0., 0., 0., 0., 0., 0., 0., 0., 0.,\n",
       "        0., 0., 0., 0., 0., 0., 0., 0., 0., 0., 0., 0., 0., 0., 0., 0., 0.,\n",
       "        0., 0., 0., 0., 0., 0., 0., 0., 0., 0., 0., 0., 0., 0., 0., 0., 0.,\n",
       "        0., 0., 0., 0., 0., 0., 0., 0., 0., 0., 0., 0., 0., 0., 0., 0., 0.,\n",
       "        0., 0., 0., 0., 0., 0., 0., 0., 0., 0., 0., 0., 0., 0., 0., 0., 0.,\n",
       "        0., 0., 0., 0., 0., 0., 0., 0., 0., 0., 0., 0., 0., 0., 0., 0., 0.,\n",
       "        0., 0., 0., 0., 0., 0., 0., 0., 0., 0., 0., 0., 0., 0., 0., 0., 0.,\n",
       "        0., 0., 0., 0., 0., 0., 0., 0., 0., 0., 0., 0., 0., 0., 0., 0., 0.,\n",
       "        0., 0., 0., 0., 0., 0., 0., 0., 0., 0., 0., 0., 0., 0., 0., 0., 0.,\n",
       "        0., 0., 0., 0., 0., 0., 0., 0., 0., 0., 0., 0., 0., 0., 0., 0., 0.,\n",
       "        0., 0., 0., 0., 0., 0., 0., 0., 0., 0., 0., 0., 0., 0., 0., 0., 0.,\n",
       "        0., 0., 0., 0., 0., 0., 0., 0., 0., 0., 0., 0., 0., 0., 0., 0., 0.,\n",
       "        0., 0., 0., 0., 0., 0., 0., 0., 0., 0., 0., 0., 0., 0., 0., 0., 0.,\n",
       "        0., 0., 0., 0., 0., 0., 0., 0., 0., 0., 0., 0., 0., 0., 0., 0., 0.,\n",
       "        0., 0., 0., 0., 0., 0., 0., 0., 0., 0., 0., 0., 0., 0., 0., 0., 0.,\n",
       "        0., 0., 0., 0., 0., 0., 0., 0., 0., 0., 0., 0., 0., 0., 0., 0., 0.,\n",
       "        0., 0., 0., 0., 0., 0., 0., 0., 0., 0., 0., 0., 0., 0., 0., 0., 0.,\n",
       "        0., 0., 0., 0., 0., 0., 0., 0., 0., 0., 0., 0., 0., 0., 0., 0., 0.,\n",
       "        0., 0., 0., 0., 0., 0., 0., 0., 0., 0., 0., 0., 0., 0., 0., 0., 0.,\n",
       "        0., 0., 0., 0., 0., 0., 0., 0., 0., 0., 0., 0., 0., 0., 0., 0., 0.,\n",
       "        0., 0., 0., 0., 0., 0., 0., 0., 0., 0., 0., 0., 0., 0., 0., 0., 0.,\n",
       "        0., 0., 0., 0., 0., 0., 0., 0., 0., 0., 0., 0., 0., 0., 0., 0., 0.,\n",
       "        0., 0., 0., 0., 0., 0., 0., 0., 0., 0., 0., 0., 0., 0., 0., 0., 0.,\n",
       "        0., 0., 0., 0., 0., 0., 0., 0., 0., 0., 0., 0., 0., 0., 0., 0., 0.,\n",
       "        0., 0., 0., 0., 0., 0., 0., 0., 0., 0., 0., 0., 0., 0., 0., 0., 0.,\n",
       "        0., 0., 0., 0., 0., 0., 0., 0., 0., 0., 0., 0., 0., 0., 0., 0., 0.,\n",
       "        0., 0., 0., 0., 0., 0., 0., 0., 0., 0., 0., 0., 0., 0., 0., 0., 0.,\n",
       "        0., 0., 0., 0., 0., 0., 0., 0., 0., 0., 0., 0., 0., 0., 0., 0., 0.,\n",
       "        0., 0., 0., 0., 0., 0., 0., 0., 0., 0., 0., 0., 0., 0., 0., 0., 0.,\n",
       "        0., 0., 0., 0., 0., 0., 0., 0., 0., 0., 0., 0., 0., 0., 0., 0., 0.,\n",
       "        0., 0.]),\n",
       " array([0., 0., 0., 0., 0., 0., 0., 0., 0., 0., 0., 0., 0., 0., 0., 0., 0.,\n",
       "        0., 0., 0., 0., 0., 0., 0., 0., 0., 0., 0., 0., 0., 0., 0., 0., 0.,\n",
       "        0., 0., 0., 0., 0., 0., 0., 0., 0., 0., 0., 0., 0., 0., 0., 0., 0.,\n",
       "        0., 0., 0., 0., 0., 0., 0., 0., 0., 0., 0., 0., 0., 0., 0., 0., 0.,\n",
       "        0., 0., 0., 0., 0., 0., 0., 0., 0., 0., 0., 0., 0., 0., 0., 0., 0.,\n",
       "        0., 0., 0., 0., 0., 0., 0., 0., 0., 0., 0., 0., 0., 0., 0., 0., 0.,\n",
       "        0., 0., 0., 0., 0., 0., 0., 0., 0., 0., 0., 0., 0., 0., 0., 0., 0.,\n",
       "        0., 0., 0., 0., 0., 0., 0., 0., 0., 0., 0., 0., 0., 0., 0., 0., 0.,\n",
       "        0., 0., 0., 0., 0., 0., 0., 0., 0., 0., 0., 0., 0., 0., 0., 0., 0.,\n",
       "        0., 0., 0., 0., 0., 0., 0., 0., 0., 0., 0., 0., 0., 0., 0., 0., 0.,\n",
       "        0., 0., 0., 0., 0., 0., 0., 0., 0., 0., 0., 0., 0., 0., 0., 0., 0.,\n",
       "        0., 0., 0., 0., 0., 0., 0., 0., 0., 0., 0., 0., 0., 0., 0., 0., 0.,\n",
       "        0., 0., 0., 0., 0., 0., 0., 0., 0., 0., 0., 0., 0., 0., 0., 0., 0.,\n",
       "        0., 0., 0., 0., 0., 0., 0., 0., 0., 0., 0., 0., 0., 0., 0., 0., 0.,\n",
       "        0., 0., 0., 0., 0., 0., 0., 0., 0., 0., 0., 0., 0., 0., 0., 0., 0.,\n",
       "        0., 0., 0., 0., 0., 0., 0., 0., 0., 0., 0., 0., 0., 0., 0., 0., 0.,\n",
       "        0., 0., 0., 0., 0., 0., 0., 0., 0., 0., 0., 0., 0., 0., 0., 0., 0.,\n",
       "        0., 0., 0., 0., 0., 0., 0., 0., 0., 0., 0., 0., 0., 0., 0., 0., 0.,\n",
       "        0., 0., 0., 0., 0., 0., 0., 0., 0., 0., 0., 0., 0., 0., 0., 0., 0.,\n",
       "        0., 0., 0., 0., 0., 0., 0., 0., 0., 0., 0., 0., 0., 0., 0., 0., 0.,\n",
       "        0., 0., 0., 0., 0., 0., 0., 0., 0., 0., 0., 0., 0., 0., 0., 0., 0.,\n",
       "        0., 0., 0., 0., 0., 0., 0., 0., 0., 0., 0., 0., 0., 0., 0., 0., 0.,\n",
       "        0., 0., 0., 0., 0., 0., 0., 0., 0., 0., 0., 0., 0., 0., 0., 0., 0.,\n",
       "        0., 0., 0., 0., 0., 0., 0., 0., 0., 0., 0., 0., 0., 0., 0., 0., 0.,\n",
       "        0., 0., 0., 0., 0., 0., 0., 0., 0., 0., 0., 0., 0., 0., 0., 0., 0.,\n",
       "        0., 0., 0., 0., 0., 0., 0., 0., 0., 0., 0., 0., 0., 0., 0., 0., 0.,\n",
       "        0., 0., 0., 0., 0., 0., 0., 0., 0., 0., 0., 0., 0., 0., 0., 0., 0.,\n",
       "        0., 0., 0., 0., 0., 0., 0., 0., 0., 0., 0., 0., 0., 0., 0., 0., 0.,\n",
       "        0., 0., 0., 0., 0., 0., 0., 0., 0., 0., 0., 0., 0., 0., 0., 0., 0.,\n",
       "        0., 0., 0., 0., 0., 0., 0., 0., 0., 0., 0., 0., 0., 0., 0., 0., 0.,\n",
       "        0., 0., 0., 0., 0., 0., 0., 0., 0., 0., 0., 0., 0., 0., 0., 0., 0.,\n",
       "        0., 0., 0., 0., 0., 0., 0., 0., 0., 0., 0., 0., 0., 0., 0., 0., 0.,\n",
       "        0., 0., 0., 0., 0., 0., 0., 0., 0., 0., 0., 0., 0., 0., 0., 0., 0.,\n",
       "        0., 0., 0., 0., 0., 0., 0., 0., 0., 0., 0., 0., 0., 0., 0., 0., 0.,\n",
       "        0., 0., 0., 0., 0., 0., 0., 0., 0., 0., 0., 0., 0., 0., 0., 0., 0.,\n",
       "        0., 0., 0., 0., 0., 0., 0., 0., 0., 0., 0., 0., 0., 0., 0., 0., 0.,\n",
       "        0., 0., 0., 0., 0., 0., 0., 0., 0., 0., 0., 0., 0., 0., 0., 0., 0.,\n",
       "        0., 0., 0., 0., 0., 0., 0., 0., 0., 0., 0., 0., 0., 0., 0., 0., 0.,\n",
       "        0., 0., 0., 0., 0., 0., 0., 0., 0., 0., 0., 0., 0., 0., 0., 0., 0.,\n",
       "        0., 0.]))"
      ]
     },
     "execution_count": 27,
     "metadata": {},
     "output_type": "execute_result"
    }
   ],
   "source": [
    "roww =  [u'JB', u'p-value', u'skew', u'kurtosis']\n",
    "jb_testw = sm.stats.stattools.jarque_bera(dtstw, axis=1)\n",
    "jb_testw"
   ]
  },
  {
   "cell_type": "code",
   "execution_count": 28,
   "metadata": {},
   "outputs": [
    {
     "data": {
      "text/plain": [
       "array([[0.375     , 0.375     , 0.375     , ..., 0.375     , 0.375     ,\n",
       "        0.375     ],\n",
       "       [0.82902912, 0.82902912, 0.82902912, ..., 0.82902912, 0.82902912,\n",
       "        0.82902912],\n",
       "       [0.        , 0.        , 0.        , ..., 0.        , 0.        ,\n",
       "        0.        ],\n",
       "       [0.        , 0.        , 0.        , ..., 0.        , 0.        ,\n",
       "        0.        ]])"
      ]
     },
     "execution_count": 28,
     "metadata": {},
     "output_type": "execute_result"
    }
   ],
   "source": [
    "aw = np.vstack([jb_testw])\n",
    "aw"
   ]
  },
  {
   "cell_type": "code",
   "execution_count": 29,
   "metadata": {},
   "outputs": [
    {
     "data": {
      "text/html": [
       "<table class=\"simpletable\">\n",
       "<tr>\n",
       "          <th>JB</th>               <th>p-value</th>             <th>skew</th>             <th>kurtosis</th>     \n",
       "</tr>\n",
       "<tr>\n",
       "         <td>0.375</td>              <td>0.375</td>              <td>0.375</td>              <td>0.375</td>      \n",
       "</tr>\n",
       "<tr>\n",
       "  <td>0.8290291181804004</td> <td>0.8290291181804004</td> <td>0.8290291181804004</td> <td>0.8290291181804004</td>\n",
       "</tr>\n",
       "<tr>\n",
       "          <td>0.0</td>                <td>0.0</td>                <td>0.0</td>                <td>0.0</td>       \n",
       "</tr>\n",
       "<tr>\n",
       "          <td>0.0</td>                <td>0.0</td>                <td>0.0</td>                <td>0.0</td>       \n",
       "</tr>\n",
       "</table>"
      ],
      "text/plain": [
       "<class 'statsmodels.iolib.table.SimpleTable'>"
      ]
     },
     "execution_count": 29,
     "metadata": {},
     "output_type": "execute_result"
    }
   ],
   "source": [
    "idtstw = SimpleTable(aw, roww)\n",
    "idtstw"
   ]
  },
  {
   "cell_type": "markdown",
   "metadata": {},
   "source": [
    "### Тест Дикки-Фуллера"
   ]
  },
  {
   "cell_type": "markdown",
   "metadata": {},
   "source": [
    "### Полные данные"
   ]
  },
  {
   "cell_type": "code",
   "execution_count": 30,
   "metadata": {},
   "outputs": [],
   "source": [
    "dtst2 = dtst.dropna(how='any')"
   ]
  },
  {
   "cell_type": "code",
   "execution_count": 31,
   "metadata": {},
   "outputs": [
    {
     "data": {
      "text/html": [
       "<div>\n",
       "<style scoped>\n",
       "    .dataframe tbody tr th:only-of-type {\n",
       "        vertical-align: middle;\n",
       "    }\n",
       "\n",
       "    .dataframe tbody tr th {\n",
       "        vertical-align: top;\n",
       "    }\n",
       "\n",
       "    .dataframe thead th {\n",
       "        text-align: right;\n",
       "    }\n",
       "</style>\n",
       "<table border=\"1\" class=\"dataframe\">\n",
       "  <thead>\n",
       "    <tr style=\"text-align: right;\">\n",
       "      <th></th>\n",
       "      <th>OPEN</th>\n",
       "    </tr>\n",
       "    <tr>\n",
       "      <th>DATE</th>\n",
       "      <th></th>\n",
       "    </tr>\n",
       "  </thead>\n",
       "  <tbody>\n",
       "    <tr>\n",
       "      <th>2008-01-10</th>\n",
       "      <td>131.62</td>\n",
       "    </tr>\n",
       "    <tr>\n",
       "      <th>2008-01-11</th>\n",
       "      <td>145.00</td>\n",
       "    </tr>\n",
       "    <tr>\n",
       "      <th>2008-01-12</th>\n",
       "      <td>145.00</td>\n",
       "    </tr>\n",
       "    <tr>\n",
       "      <th>2008-01-13</th>\n",
       "      <td>145.00</td>\n",
       "    </tr>\n",
       "    <tr>\n",
       "      <th>2008-01-14</th>\n",
       "      <td>142.70</td>\n",
       "    </tr>\n",
       "    <tr>\n",
       "      <th>...</th>\n",
       "      <td>...</td>\n",
       "    </tr>\n",
       "    <tr>\n",
       "      <th>2020-09-25</th>\n",
       "      <td>61.50</td>\n",
       "    </tr>\n",
       "    <tr>\n",
       "      <th>2020-09-26</th>\n",
       "      <td>61.50</td>\n",
       "    </tr>\n",
       "    <tr>\n",
       "      <th>2020-09-27</th>\n",
       "      <td>61.50</td>\n",
       "    </tr>\n",
       "    <tr>\n",
       "      <th>2020-09-28</th>\n",
       "      <td>60.90</td>\n",
       "    </tr>\n",
       "    <tr>\n",
       "      <th>2020-09-29</th>\n",
       "      <td>59.90</td>\n",
       "    </tr>\n",
       "  </tbody>\n",
       "</table>\n",
       "<p>4647 rows × 1 columns</p>\n",
       "</div>"
      ],
      "text/plain": [
       "              OPEN\n",
       "DATE              \n",
       "2008-01-10  131.62\n",
       "2008-01-11  145.00\n",
       "2008-01-12  145.00\n",
       "2008-01-13  145.00\n",
       "2008-01-14  142.70\n",
       "...            ...\n",
       "2020-09-25   61.50\n",
       "2020-09-26   61.50\n",
       "2020-09-27   61.50\n",
       "2020-09-28   60.90\n",
       "2020-09-29   59.90\n",
       "\n",
       "[4647 rows x 1 columns]"
      ]
     },
     "execution_count": 31,
     "metadata": {},
     "output_type": "execute_result"
    }
   ],
   "source": [
    "dtst2"
   ]
  },
  {
   "cell_type": "code",
   "execution_count": 32,
   "metadata": {},
   "outputs": [],
   "source": [
    "test = sm.tsa.adfuller(dtst2)"
   ]
  },
  {
   "cell_type": "code",
   "execution_count": 33,
   "metadata": {},
   "outputs": [],
   "source": [
    "test_result = [{'adf: ': test[0], 'p-value: ': test[1], 'Critical values: ': test[4]}]\n",
    "test_result = pd.DataFrame(test_result)\n",
    "if test[0] > test[4]['5%']:\n",
    "    test_result[3] = 'есть единичные корни, ряд не стационарен'\n",
    "else: \n",
    "    test_result[3] = 'единичных корней нет, ряд стационарен'"
   ]
  },
  {
   "cell_type": "code",
   "execution_count": 34,
   "metadata": {},
   "outputs": [
    {
     "data": {
      "text/html": [
       "<div>\n",
       "<style scoped>\n",
       "    .dataframe tbody tr th:only-of-type {\n",
       "        vertical-align: middle;\n",
       "    }\n",
       "\n",
       "    .dataframe tbody tr th {\n",
       "        vertical-align: top;\n",
       "    }\n",
       "\n",
       "    .dataframe thead th {\n",
       "        text-align: right;\n",
       "    }\n",
       "</style>\n",
       "<table border=\"1\" class=\"dataframe\">\n",
       "  <thead>\n",
       "    <tr style=\"text-align: right;\">\n",
       "      <th></th>\n",
       "      <th>adf:</th>\n",
       "      <th>p-value:</th>\n",
       "      <th>Critical values:</th>\n",
       "      <th>3</th>\n",
       "    </tr>\n",
       "  </thead>\n",
       "  <tbody>\n",
       "    <tr>\n",
       "      <th>0</th>\n",
       "      <td>-3.702745</td>\n",
       "      <td>0.004075</td>\n",
       "      <td>{'1%': -3.431767448052371, '5%': -2.8621663472...</td>\n",
       "      <td>единичных корней нет, ряд стационарен</td>\n",
       "    </tr>\n",
       "  </tbody>\n",
       "</table>\n",
       "</div>"
      ],
      "text/plain": [
       "      adf:   p-value:                                   Critical values:   \\\n",
       "0 -3.702745   0.004075  {'1%': -3.431767448052371, '5%': -2.8621663472...   \n",
       "\n",
       "                                       3  \n",
       "0  единичных корней нет, ряд стационарен  "
      ]
     },
     "execution_count": 34,
     "metadata": {},
     "output_type": "execute_result"
    }
   ],
   "source": [
    "test_result"
   ]
  },
  {
   "cell_type": "markdown",
   "metadata": {},
   "source": [
    "### Недельные данные"
   ]
  },
  {
   "cell_type": "code",
   "execution_count": 35,
   "metadata": {},
   "outputs": [],
   "source": [
    "dtst2w = dtstw.dropna(how='any')"
   ]
  },
  {
   "cell_type": "code",
   "execution_count": 36,
   "metadata": {},
   "outputs": [
    {
     "data": {
      "text/html": [
       "<div>\n",
       "<style scoped>\n",
       "    .dataframe tbody tr th:only-of-type {\n",
       "        vertical-align: middle;\n",
       "    }\n",
       "\n",
       "    .dataframe tbody tr th {\n",
       "        vertical-align: top;\n",
       "    }\n",
       "\n",
       "    .dataframe thead th {\n",
       "        text-align: right;\n",
       "    }\n",
       "</style>\n",
       "<table border=\"1\" class=\"dataframe\">\n",
       "  <thead>\n",
       "    <tr style=\"text-align: right;\">\n",
       "      <th></th>\n",
       "      <th>OPEN</th>\n",
       "    </tr>\n",
       "    <tr>\n",
       "      <th>DATE</th>\n",
       "      <th></th>\n",
       "    </tr>\n",
       "  </thead>\n",
       "  <tbody>\n",
       "    <tr>\n",
       "      <th>2008-01-13</th>\n",
       "      <td>145.00</td>\n",
       "    </tr>\n",
       "    <tr>\n",
       "      <th>2008-01-20</th>\n",
       "      <td>165.00</td>\n",
       "    </tr>\n",
       "    <tr>\n",
       "      <th>2008-01-27</th>\n",
       "      <td>151.00</td>\n",
       "    </tr>\n",
       "    <tr>\n",
       "      <th>2008-02-03</th>\n",
       "      <td>144.45</td>\n",
       "    </tr>\n",
       "    <tr>\n",
       "      <th>2008-02-10</th>\n",
       "      <td>139.01</td>\n",
       "    </tr>\n",
       "    <tr>\n",
       "      <th>...</th>\n",
       "      <td>...</td>\n",
       "    </tr>\n",
       "    <tr>\n",
       "      <th>2020-09-06</th>\n",
       "      <td>62.30</td>\n",
       "    </tr>\n",
       "    <tr>\n",
       "      <th>2020-09-13</th>\n",
       "      <td>62.40</td>\n",
       "    </tr>\n",
       "    <tr>\n",
       "      <th>2020-09-20</th>\n",
       "      <td>62.90</td>\n",
       "    </tr>\n",
       "    <tr>\n",
       "      <th>2020-09-27</th>\n",
       "      <td>61.60</td>\n",
       "    </tr>\n",
       "    <tr>\n",
       "      <th>2020-10-04</th>\n",
       "      <td>60.40</td>\n",
       "    </tr>\n",
       "  </tbody>\n",
       "</table>\n",
       "<p>665 rows × 1 columns</p>\n",
       "</div>"
      ],
      "text/plain": [
       "              OPEN\n",
       "DATE              \n",
       "2008-01-13  145.00\n",
       "2008-01-20  165.00\n",
       "2008-01-27  151.00\n",
       "2008-02-03  144.45\n",
       "2008-02-10  139.01\n",
       "...            ...\n",
       "2020-09-06   62.30\n",
       "2020-09-13   62.40\n",
       "2020-09-20   62.90\n",
       "2020-09-27   61.60\n",
       "2020-10-04   60.40\n",
       "\n",
       "[665 rows x 1 columns]"
      ]
     },
     "execution_count": 36,
     "metadata": {},
     "output_type": "execute_result"
    }
   ],
   "source": [
    "dtst2w"
   ]
  },
  {
   "cell_type": "code",
   "execution_count": 37,
   "metadata": {},
   "outputs": [],
   "source": [
    "testw = sm.tsa.adfuller(dtst2w)"
   ]
  },
  {
   "cell_type": "code",
   "execution_count": 38,
   "metadata": {},
   "outputs": [],
   "source": [
    "test_resultw = [{'adf: ': test[0], 'p-value: ': testw[1], 'Critical values: ': test[4]}]\n",
    "test_resultw = pd.DataFrame(test_resultw)\n",
    "if testw[0] > testw[4]['5%']:\n",
    "    test_resultw[3] = 'есть единичные корни, ряд не стационарен'\n",
    "else: \n",
    "    test_resultw[3] = 'единичных корней нет, ряд стационарен'"
   ]
  },
  {
   "cell_type": "code",
   "execution_count": 39,
   "metadata": {},
   "outputs": [
    {
     "data": {
      "text/html": [
       "<div>\n",
       "<style scoped>\n",
       "    .dataframe tbody tr th:only-of-type {\n",
       "        vertical-align: middle;\n",
       "    }\n",
       "\n",
       "    .dataframe tbody tr th {\n",
       "        vertical-align: top;\n",
       "    }\n",
       "\n",
       "    .dataframe thead th {\n",
       "        text-align: right;\n",
       "    }\n",
       "</style>\n",
       "<table border=\"1\" class=\"dataframe\">\n",
       "  <thead>\n",
       "    <tr style=\"text-align: right;\">\n",
       "      <th></th>\n",
       "      <th>adf:</th>\n",
       "      <th>p-value:</th>\n",
       "      <th>Critical values:</th>\n",
       "      <th>3</th>\n",
       "    </tr>\n",
       "  </thead>\n",
       "  <tbody>\n",
       "    <tr>\n",
       "      <th>0</th>\n",
       "      <td>-3.702745</td>\n",
       "      <td>0.000094</td>\n",
       "      <td>{'1%': -3.431767448052371, '5%': -2.8621663472...</td>\n",
       "      <td>единичных корней нет, ряд стационарен</td>\n",
       "    </tr>\n",
       "  </tbody>\n",
       "</table>\n",
       "</div>"
      ],
      "text/plain": [
       "      adf:   p-value:                                   Critical values:   \\\n",
       "0 -3.702745   0.000094  {'1%': -3.431767448052371, '5%': -2.8621663472...   \n",
       "\n",
       "                                       3  \n",
       "0  единичных корней нет, ряд стационарен  "
      ]
     },
     "execution_count": 39,
     "metadata": {},
     "output_type": "execute_result"
    }
   ],
   "source": [
    "test_resultw"
   ]
  },
  {
   "cell_type": "markdown",
   "metadata": {},
   "source": [
    "### Проверка порядка интегрированного ряда"
   ]
  },
  {
   "cell_type": "markdown",
   "metadata": {},
   "source": [
    "### Полные данные"
   ]
  },
  {
   "cell_type": "code",
   "execution_count": 40,
   "metadata": {},
   "outputs": [],
   "source": [
    "dtst2diff = dtst.diff(periods=1).dropna()"
   ]
  },
  {
   "cell_type": "code",
   "execution_count": 41,
   "metadata": {},
   "outputs": [],
   "source": [
    "test2 = sm.tsa.adfuller(dtst2diff)"
   ]
  },
  {
   "cell_type": "code",
   "execution_count": 42,
   "metadata": {},
   "outputs": [],
   "source": [
    "test_result2 = [{'adf: ': test2[0], 'p-value: ': test2[1], 'Critical values: ': test2[4]}]\n",
    "test_result2 = pd.DataFrame(test_result2)\n",
    "if test2[0] > test2[4]['5%']:\n",
    "    test_result2[3] = 'есть единичные корни, ряд не стационарен'\n",
    "else: \n",
    "    test_result2[3] = 'единичных корней нет, ряд стационарен'"
   ]
  },
  {
   "cell_type": "code",
   "execution_count": 43,
   "metadata": {
    "scrolled": true
   },
   "outputs": [
    {
     "data": {
      "text/html": [
       "<div>\n",
       "<style scoped>\n",
       "    .dataframe tbody tr th:only-of-type {\n",
       "        vertical-align: middle;\n",
       "    }\n",
       "\n",
       "    .dataframe tbody tr th {\n",
       "        vertical-align: top;\n",
       "    }\n",
       "\n",
       "    .dataframe thead th {\n",
       "        text-align: right;\n",
       "    }\n",
       "</style>\n",
       "<table border=\"1\" class=\"dataframe\">\n",
       "  <thead>\n",
       "    <tr style=\"text-align: right;\">\n",
       "      <th></th>\n",
       "      <th>adf:</th>\n",
       "      <th>p-value:</th>\n",
       "      <th>Critical values:</th>\n",
       "      <th>3</th>\n",
       "    </tr>\n",
       "  </thead>\n",
       "  <tbody>\n",
       "    <tr>\n",
       "      <th>0</th>\n",
       "      <td>-12.095828</td>\n",
       "      <td>2.071758e-22</td>\n",
       "      <td>{'1%': -3.431765913496418, '5%': -2.8621656693...</td>\n",
       "      <td>единичных корней нет, ряд стационарен</td>\n",
       "    </tr>\n",
       "  </tbody>\n",
       "</table>\n",
       "</div>"
      ],
      "text/plain": [
       "       adf:      p-value:                                   Critical values:   \\\n",
       "0 -12.095828  2.071758e-22  {'1%': -3.431765913496418, '5%': -2.8621656693...   \n",
       "\n",
       "                                       3  \n",
       "0  единичных корней нет, ряд стационарен  "
      ]
     },
     "execution_count": 43,
     "metadata": {},
     "output_type": "execute_result"
    }
   ],
   "source": [
    "test_result2"
   ]
  },
  {
   "cell_type": "markdown",
   "metadata": {},
   "source": [
    "### Недельные данные"
   ]
  },
  {
   "cell_type": "code",
   "execution_count": 44,
   "metadata": {},
   "outputs": [],
   "source": [
    "dtst2diffw = dtstw.diff(periods=1).dropna()"
   ]
  },
  {
   "cell_type": "code",
   "execution_count": 45,
   "metadata": {},
   "outputs": [],
   "source": [
    "test2w = sm.tsa.adfuller(dtst2diffw)"
   ]
  },
  {
   "cell_type": "code",
   "execution_count": 46,
   "metadata": {},
   "outputs": [],
   "source": [
    "test_result2w = [{'adf: ': test2w[0], 'p-value: ': test2w[1], 'Critical values: ': test2w[4]}]\n",
    "test_result2w = pd.DataFrame(test_result2w)\n",
    "if test2w[0] > test2w[4]['5%']:\n",
    "    test_result2w[3] = 'есть единичные корни, ряд не стационарен'\n",
    "else: \n",
    "    test_result2w[3] = 'единичных корней нет, ряд стационарен'"
   ]
  },
  {
   "cell_type": "code",
   "execution_count": 47,
   "metadata": {},
   "outputs": [
    {
     "data": {
      "text/html": [
       "<div>\n",
       "<style scoped>\n",
       "    .dataframe tbody tr th:only-of-type {\n",
       "        vertical-align: middle;\n",
       "    }\n",
       "\n",
       "    .dataframe tbody tr th {\n",
       "        vertical-align: top;\n",
       "    }\n",
       "\n",
       "    .dataframe thead th {\n",
       "        text-align: right;\n",
       "    }\n",
       "</style>\n",
       "<table border=\"1\" class=\"dataframe\">\n",
       "  <thead>\n",
       "    <tr style=\"text-align: right;\">\n",
       "      <th></th>\n",
       "      <th>adf:</th>\n",
       "      <th>p-value:</th>\n",
       "      <th>Critical values:</th>\n",
       "      <th>3</th>\n",
       "    </tr>\n",
       "  </thead>\n",
       "  <tbody>\n",
       "    <tr>\n",
       "      <th>0</th>\n",
       "      <td>-12.35224</td>\n",
       "      <td>5.790512e-23</td>\n",
       "      <td>{'1%': -3.4402817347322583, '5%': -2.865922446...</td>\n",
       "      <td>единичных корней нет, ряд стационарен</td>\n",
       "    </tr>\n",
       "  </tbody>\n",
       "</table>\n",
       "</div>"
      ],
      "text/plain": [
       "      adf:      p-value:                                   Critical values:   \\\n",
       "0 -12.35224  5.790512e-23  {'1%': -3.4402817347322583, '5%': -2.865922446...   \n",
       "\n",
       "                                       3  \n",
       "0  единичных корней нет, ряд стационарен  "
      ]
     },
     "execution_count": 47,
     "metadata": {},
     "output_type": "execute_result"
    }
   ],
   "source": [
    "test_result2w"
   ]
  },
  {
   "cell_type": "markdown",
   "metadata": {},
   "source": [
    "### Проверка мат ожидания"
   ]
  },
  {
   "cell_type": "code",
   "execution_count": 48,
   "metadata": {},
   "outputs": [],
   "source": [
    "#dt2diff.index[len(dt2diff.index)/3]"
   ]
  },
  {
   "cell_type": "code",
   "execution_count": 49,
   "metadata": {
    "scrolled": true
   },
   "outputs": [],
   "source": [
    "#m = dt2diff.index[len(dt2diff.index)/2+1]"
   ]
  },
  {
   "cell_type": "code",
   "execution_count": 50,
   "metadata": {},
   "outputs": [
    {
     "data": {
      "text/plain": [
       "'r1 = sm.stats.DescrStatsW(dt2diff[m:])\\nr2 = sm.stats.DescrStatsW(dt2diff[:m])\\nprov = sm.stats.CompareMeans(r1,r2).ttest_ind()[1]\\nprov'"
      ]
     },
     "execution_count": 50,
     "metadata": {},
     "output_type": "execute_result"
    }
   ],
   "source": [
    "\"\"\"r1 = sm.stats.DescrStatsW(dt2diff[m:])\n",
    "r2 = sm.stats.DescrStatsW(dt2diff[:m])\n",
    "prov = sm.stats.CompareMeans(r1,r2).ttest_ind()[1]\n",
    "prov\"\"\""
   ]
  },
  {
   "cell_type": "markdown",
   "metadata": {},
   "source": [
    "### Полные данные"
   ]
  },
  {
   "cell_type": "code",
   "execution_count": 51,
   "metadata": {
    "scrolled": false
   },
   "outputs": [
    {
     "data": {
      "text/plain": [
       "<AxesSubplot:xlabel='DATE'>"
      ]
     },
     "execution_count": 51,
     "metadata": {},
     "output_type": "execute_result"
    },
    {
     "data": {
      "image/png": "[encoded data removed]",
      "text/plain": [
       "<Figure size 864x432 with 1 Axes>"
      ]
     },
     "metadata": {
      "needs_background": "light"
     },
     "output_type": "display_data"
    }
   ],
   "source": [
    "dtst2diff.plot(figsize=(12,6))"
   ]
  },
  {
   "cell_type": "code",
   "execution_count": 52,
   "metadata": {},
   "outputs": [
    {
     "data": {
      "text/plain": [
       "<Figure size 864x576 with 0 Axes>"
      ]
     },
     "metadata": {},
     "output_type": "display_data"
    },
    {
     "data": {
      "image/png": "[encoded data removed]",
      "text/plain": [
       "<Figure size 432x288 with 2 Axes>"
      ]
     },
     "metadata": {
      "needs_background": "light"
     },
     "output_type": "display_data"
    }
   ],
   "source": [
    "ig = plt.figure(figsize=(12,8))\n",
    "fig = plt.figure() #добавил эту строку,так как без неё не запускается ячейка\n",
    "ax1 = fig.add_subplot(211)\n",
    "fig = sm.graphics.tsa.plot_acf(dtst2diff.values.squeeze(), lags=25, ax=ax1)\n",
    "ax2 = fig.add_subplot(212)\n",
    "fig = sm.graphics.tsa.plot_pacf(dtst2diff, lags=25, ax=ax2)"
   ]
  },
  {
   "cell_type": "markdown",
   "metadata": {},
   "source": [
    "### Недельные данные"
   ]
  },
  {
   "cell_type": "code",
   "execution_count": 53,
   "metadata": {
    "scrolled": false
   },
   "outputs": [
    {
     "data": {
      "text/plain": [
       "<AxesSubplot:xlabel='DATE'>"
      ]
     },
     "execution_count": 53,
     "metadata": {},
     "output_type": "execute_result"
    },
    {
     "data": {
      "image/png": "[encoded data removed]",
      "text/plain": [
       "<Figure size 864x432 with 1 Axes>"
      ]
     },
     "metadata": {
      "needs_background": "light"
     },
     "output_type": "display_data"
    }
   ],
   "source": [
    "dtst2diffw.plot(figsize=(12,6))"
   ]
  },
  {
   "cell_type": "code",
   "execution_count": 54,
   "metadata": {},
   "outputs": [
    {
     "data": {
      "text/plain": [
       "<Figure size 864x576 with 0 Axes>"
      ]
     },
     "metadata": {},
     "output_type": "display_data"
    },
    {
     "data": {
      "image/png": "[encoded data removed]",
      "text/plain": [
       "<Figure size 432x288 with 2 Axes>"
      ]
     },
     "metadata": {
      "needs_background": "light"
     },
     "output_type": "display_data"
    }
   ],
   "source": [
    "igw = plt.figure(figsize=(12,8))\n",
    "fig = plt.figure() #добавил эту строку,так как без неё не запускается ячейка\n",
    "ax1 = fig.add_subplot(211)\n",
    "fig = sm.graphics.tsa.plot_acf(dtst2diffw.values.squeeze(), lags=25, ax=ax1)\n",
    "ax2 = fig.add_subplot(212)\n",
    "fig = sm.graphics.tsa.plot_pacf(dtst2diffw, lags=25, ax=ax2)"
   ]
  },
  {
   "cell_type": "markdown",
   "metadata": {},
   "source": [
    "После изучения коррелограммы PACF можно сделать вывод, что p = 1, т.к. на ней только 1 лаг сильно отличнен от нуля. По коррелограмме ACF можно увидеть, что q = 1, т.к. после лага 1 значении функций резко падают"
   ]
  },
  {
   "cell_type": "markdown",
   "metadata": {},
   "source": [
    "### Построение ARIMA модели"
   ]
  },
  {
   "cell_type": "markdown",
   "metadata": {},
   "source": [
    "### Недельные данные"
   ]
  },
  {
   "cell_type": "code",
   "execution_count": 55,
   "metadata": {},
   "outputs": [
    {
     "name": "stderr",
     "output_type": "stream",
     "text": [
      "c:\\projects\\ds_lessons\\env\\lib\\site-packages\\statsmodels\\tsa\\statespace\\sarimax.py:965: UserWarning: Non-stationary starting autoregressive parameters found. Using zeros as starting parameters.\n",
      "  warn('Non-stationary starting autoregressive parameters'\n",
      "c:\\projects\\ds_lessons\\env\\lib\\site-packages\\statsmodels\\tsa\\statespace\\sarimax.py:977: UserWarning: Non-invertible starting MA parameters found. Using zeros as starting parameters.\n",
      "  warn('Non-invertible starting MA parameters found.'\n"
     ]
    }
   ],
   "source": [
    "src_data_modelw = dtstw['2020-01-01':'2020-09-29']\n",
    "modelw =  sm.tsa.arima.ARIMA(src_data_modelw, order=(1,1,1), freq='W').fit()\n",
    "# в методе fit() пришлось удалить все параметры, так как они не подходят \n",
    "#(нет в документации)"
   ]
  },
  {
   "cell_type": "code",
   "execution_count": 56,
   "metadata": {},
   "outputs": [
    {
     "data": {
      "text/html": [
       "<table class=\"simpletable\">\n",
       "<caption>SARIMAX Results</caption>\n",
       "<tr>\n",
       "  <th>Dep. Variable:</th>         <td>OPEN</td>       <th>  No. Observations:  </th>    <td>39</td>   \n",
       "</tr>\n",
       "<tr>\n",
       "  <th>Model:</th>            <td>ARIMA(1, 1, 1)</td>  <th>  Log Likelihood     </th> <td>-102.162</td>\n",
       "</tr>\n",
       "<tr>\n",
       "  <th>Date:</th>            <td>Tue, 27 Oct 2020</td> <th>  AIC                </th>  <td>210.324</td>\n",
       "</tr>\n",
       "<tr>\n",
       "  <th>Time:</th>                <td>19:12:38</td>     <th>  BIC                </th>  <td>215.237</td>\n",
       "</tr>\n",
       "<tr>\n",
       "  <th>Sample:</th>             <td>01-05-2020</td>    <th>  HQIC               </th>  <td>212.072</td>\n",
       "</tr>\n",
       "<tr>\n",
       "  <th></th>                   <td>- 09-27-2020</td>   <th>                     </th>     <td> </td>   \n",
       "</tr>\n",
       "<tr>\n",
       "  <th>Covariance Type:</th>        <td>opg</td>       <th>                     </th>     <td> </td>   \n",
       "</tr>\n",
       "</table>\n",
       "<table class=\"simpletable\">\n",
       "<tr>\n",
       "     <td></td>       <th>coef</th>     <th>std err</th>      <th>z</th>      <th>P>|z|</th>  <th>[0.025</th>    <th>0.975]</th>  \n",
       "</tr>\n",
       "<tr>\n",
       "  <th>ar.L1</th>  <td>   -0.6521</td> <td>    1.383</td> <td>   -0.471</td> <td> 0.637</td> <td>   -3.363</td> <td>    2.059</td>\n",
       "</tr>\n",
       "<tr>\n",
       "  <th>ma.L1</th>  <td>    0.5744</td> <td>    1.475</td> <td>    0.389</td> <td> 0.697</td> <td>   -2.317</td> <td>    3.466</td>\n",
       "</tr>\n",
       "<tr>\n",
       "  <th>sigma2</th> <td>   12.6628</td> <td>    1.608</td> <td>    7.877</td> <td> 0.000</td> <td>    9.512</td> <td>   15.814</td>\n",
       "</tr>\n",
       "</table>\n",
       "<table class=\"simpletable\">\n",
       "<tr>\n",
       "  <th>Ljung-Box (L1) (Q):</th>     <td>0.24</td> <th>  Jarque-Bera (JB):  </th> <td>39.87</td>\n",
       "</tr>\n",
       "<tr>\n",
       "  <th>Prob(Q):</th>                <td>0.62</td> <th>  Prob(JB):          </th> <td>0.00</td> \n",
       "</tr>\n",
       "<tr>\n",
       "  <th>Heteroskedasticity (H):</th> <td>0.15</td> <th>  Skew:              </th> <td>0.78</td> \n",
       "</tr>\n",
       "<tr>\n",
       "  <th>Prob(H) (two-sided):</th>    <td>0.00</td> <th>  Kurtosis:          </th> <td>7.77</td> \n",
       "</tr>\n",
       "</table><br/><br/>Warnings:<br/>[1] Covariance matrix calculated using the outer product of gradients (complex-step)."
      ],
      "text/plain": [
       "<class 'statsmodels.iolib.summary.Summary'>\n",
       "\"\"\"\n",
       "                               SARIMAX Results                                \n",
       "==============================================================================\n",
       "Dep. Variable:                   OPEN   No. Observations:                   39\n",
       "Model:                 ARIMA(1, 1, 1)   Log Likelihood                -102.162\n",
       "Date:                Tue, 27 Oct 2020   AIC                            210.324\n",
       "Time:                        19:12:38   BIC                            215.237\n",
       "Sample:                    01-05-2020   HQIC                           212.072\n",
       "                         - 09-27-2020                                         \n",
       "Covariance Type:                  opg                                         \n",
       "==============================================================================\n",
       "                 coef    std err          z      P>|z|      [0.025      0.975]\n",
       "------------------------------------------------------------------------------\n",
       "ar.L1         -0.6521      1.383     -0.471      0.637      -3.363       2.059\n",
       "ma.L1          0.5744      1.475      0.389      0.697      -2.317       3.466\n",
       "sigma2        12.6628      1.608      7.877      0.000       9.512      15.814\n",
       "===================================================================================\n",
       "Ljung-Box (L1) (Q):                   0.24   Jarque-Bera (JB):                39.87\n",
       "Prob(Q):                              0.62   Prob(JB):                         0.00\n",
       "Heteroskedasticity (H):               0.15   Skew:                             0.78\n",
       "Prob(H) (two-sided):                  0.00   Kurtosis:                         7.77\n",
       "===================================================================================\n",
       "\n",
       "Warnings:\n",
       "[1] Covariance matrix calculated using the outer product of gradients (complex-step).\n",
       "\"\"\""
      ]
     },
     "execution_count": 56,
     "metadata": {},
     "output_type": "execute_result"
    }
   ],
   "source": [
    "modelw.summary()"
   ]
  },
  {
   "cell_type": "markdown",
   "metadata": {},
   "source": [
    "### Полные данные (модель не строится)"
   ]
  },
  {
   "cell_type": "code",
   "execution_count": 57,
   "metadata": {},
   "outputs": [
    {
     "name": "stderr",
     "output_type": "stream",
     "text": [
      "c:\\projects\\ds_lessons\\env\\lib\\site-packages\\statsmodels\\tsa\\base\\tsa_model.py:524: ValueWarning: No frequency information was provided, so inferred frequency D will be used.\n",
      "  warnings.warn('No frequency information was'\n"
     ]
    }
   ],
   "source": [
    "src_data_model = dtst['2014-01-01':'2020-09-30']\n",
    "model =  sm.tsa.arima.ARIMA(src_data_model, order=(1,1,1), freq='D').fit()\n",
    "# в методе fit() пришлось удалить все параметры, так как они не подходят \n",
    "#(нет в документации)"
   ]
  },
  {
   "cell_type": "code",
   "execution_count": 58,
   "metadata": {},
   "outputs": [
    {
     "data": {
      "text/html": [
       "<table class=\"simpletable\">\n",
       "<caption>SARIMAX Results</caption>\n",
       "<tr>\n",
       "  <th>Dep. Variable:</th>         <td>OPEN</td>       <th>  No. Observations:  </th>   <td>2464</td>   \n",
       "</tr>\n",
       "<tr>\n",
       "  <th>Model:</th>            <td>ARIMA(1, 1, 1)</td>  <th>  Log Likelihood     </th> <td>-3334.365</td>\n",
       "</tr>\n",
       "<tr>\n",
       "  <th>Date:</th>            <td>Tue, 27 Oct 2020</td> <th>  AIC                </th> <td>6674.731</td> \n",
       "</tr>\n",
       "<tr>\n",
       "  <th>Time:</th>                <td>19:12:38</td>     <th>  BIC                </th> <td>6692.158</td> \n",
       "</tr>\n",
       "<tr>\n",
       "  <th>Sample:</th>             <td>01-01-2014</td>    <th>  HQIC               </th> <td>6681.062</td> \n",
       "</tr>\n",
       "<tr>\n",
       "  <th></th>                   <td>- 09-29-2020</td>   <th>                     </th>     <td> </td>    \n",
       "</tr>\n",
       "<tr>\n",
       "  <th>Covariance Type:</th>        <td>opg</td>       <th>                     </th>     <td> </td>    \n",
       "</tr>\n",
       "</table>\n",
       "<table class=\"simpletable\">\n",
       "<tr>\n",
       "     <td></td>       <th>coef</th>     <th>std err</th>      <th>z</th>      <th>P>|z|</th>  <th>[0.025</th>    <th>0.975]</th>  \n",
       "</tr>\n",
       "<tr>\n",
       "  <th>ar.L1</th>  <td>    0.4958</td> <td>    0.071</td> <td>    7.009</td> <td> 0.000</td> <td>    0.357</td> <td>    0.634</td>\n",
       "</tr>\n",
       "<tr>\n",
       "  <th>ma.L1</th>  <td>   -0.5993</td> <td>    0.065</td> <td>   -9.170</td> <td> 0.000</td> <td>   -0.727</td> <td>   -0.471</td>\n",
       "</tr>\n",
       "<tr>\n",
       "  <th>sigma2</th> <td>    0.8778</td> <td>    0.005</td> <td>  161.457</td> <td> 0.000</td> <td>    0.867</td> <td>    0.888</td>\n",
       "</tr>\n",
       "</table>\n",
       "<table class=\"simpletable\">\n",
       "<tr>\n",
       "  <th>Ljung-Box (L1) (Q):</th>     <td>0.03</td> <th>  Jarque-Bera (JB):  </th> <td>193427.60</td>\n",
       "</tr>\n",
       "<tr>\n",
       "  <th>Prob(Q):</th>                <td>0.86</td> <th>  Prob(JB):          </th>   <td>0.00</td>   \n",
       "</tr>\n",
       "<tr>\n",
       "  <th>Heteroskedasticity (H):</th> <td>1.79</td> <th>  Skew:              </th>   <td>2.63</td>   \n",
       "</tr>\n",
       "<tr>\n",
       "  <th>Prob(H) (two-sided):</th>    <td>0.00</td> <th>  Kurtosis:          </th>   <td>46.09</td>  \n",
       "</tr>\n",
       "</table><br/><br/>Warnings:<br/>[1] Covariance matrix calculated using the outer product of gradients (complex-step)."
      ],
      "text/plain": [
       "<class 'statsmodels.iolib.summary.Summary'>\n",
       "\"\"\"\n",
       "                               SARIMAX Results                                \n",
       "==============================================================================\n",
       "Dep. Variable:                   OPEN   No. Observations:                 2464\n",
       "Model:                 ARIMA(1, 1, 1)   Log Likelihood               -3334.365\n",
       "Date:                Tue, 27 Oct 2020   AIC                           6674.731\n",
       "Time:                        19:12:38   BIC                           6692.158\n",
       "Sample:                    01-01-2014   HQIC                          6681.062\n",
       "                         - 09-29-2020                                         \n",
       "Covariance Type:                  opg                                         \n",
       "==============================================================================\n",
       "                 coef    std err          z      P>|z|      [0.025      0.975]\n",
       "------------------------------------------------------------------------------\n",
       "ar.L1          0.4958      0.071      7.009      0.000       0.357       0.634\n",
       "ma.L1         -0.5993      0.065     -9.170      0.000      -0.727      -0.471\n",
       "sigma2         0.8778      0.005    161.457      0.000       0.867       0.888\n",
       "===================================================================================\n",
       "Ljung-Box (L1) (Q):                   0.03   Jarque-Bera (JB):            193427.60\n",
       "Prob(Q):                              0.86   Prob(JB):                         0.00\n",
       "Heteroskedasticity (H):               1.79   Skew:                             2.63\n",
       "Prob(H) (two-sided):                  0.00   Kurtosis:                        46.09\n",
       "===================================================================================\n",
       "\n",
       "Warnings:\n",
       "[1] Covariance matrix calculated using the outer product of gradients (complex-step).\n",
       "\"\"\""
      ]
     },
     "execution_count": 58,
     "metadata": {},
     "output_type": "execute_result"
    }
   ],
   "source": [
    "model.summary()"
   ]
  },
  {
   "cell_type": "markdown",
   "metadata": {},
   "source": [
    "### Q-тест Льюинга-Бокса"
   ]
  },
  {
   "cell_type": "code",
   "execution_count": 59,
   "metadata": {},
   "outputs": [
    {
     "data": {
      "text/plain": [
       "pandas.core.series.Series"
      ]
     },
     "execution_count": 59,
     "metadata": {},
     "output_type": "execute_result"
    }
   ],
   "source": [
    "type(model.resid)"
   ]
  },
  {
   "cell_type": "code",
   "execution_count": 60,
   "metadata": {},
   "outputs": [
    {
     "name": "stderr",
     "output_type": "stream",
     "text": [
      "c:\\projects\\ds_lessons\\env\\lib\\site-packages\\statsmodels\\tsa\\stattools.py:652: FutureWarning: The default number of lags is changing from 40 tomin(int(10 * np.log10(nobs)), nobs - 1) after 0.12is released. Set the number of lags to an integer to  silence this warning.\n",
      "  warnings.warn(\n",
      "c:\\projects\\ds_lessons\\env\\lib\\site-packages\\statsmodels\\tsa\\stattools.py:662: FutureWarning: fft=True will become the default after the release of the 0.12 release of statsmodels. To suppress this warning, explicitly set fft=False.\n",
      "  warnings.warn(\n"
     ]
    }
   ],
   "source": [
    "q_test = sm.tsa.stattools.acf(model.resid, qstat=True)"
   ]
  },
  {
   "cell_type": "code",
   "execution_count": 61,
   "metadata": {},
   "outputs": [
    {
     "data": {
      "text/plain": [
       "(array([ 1.00000000e+00,  1.51866650e-03, -3.97208920e-03,  2.22179795e-03,\n",
       "        -4.09653198e-03, -2.70750421e-02,  2.56258871e-02, -1.98890400e-03,\n",
       "        -8.90903832e-03,  6.45411215e-03, -4.93644299e-03,  9.35762188e-03,\n",
       "         4.79681771e-03, -8.85220116e-03, -5.34374733e-03,  1.37321020e-02,\n",
       "        -2.79220937e-03,  8.56521571e-03,  7.31013547e-03,  4.75187582e-03,\n",
       "        -9.70036689e-03,  1.20347499e-02, -1.60632682e-02, -4.41659126e-03,\n",
       "        -1.16801205e-02, -9.16548323e-03, -8.59540720e-03, -1.65116491e-02,\n",
       "        -2.33068239e-02, -1.11410802e-02, -2.67310743e-02,  6.07190225e-03,\n",
       "        -1.57581242e-03, -1.09264211e-02,  7.56752474e-04,  1.97510124e-02,\n",
       "         1.39151201e-02,  3.59774321e-03, -6.03412205e-03,  1.05595674e-02,\n",
       "        -1.13827156e-02]),\n",
       " array([5.68976315e-03, 4.46286662e-02, 5.68166337e-02, 9.82672858e-02,\n",
       "        1.90966380e+00, 3.53300465e+00, 3.54278729e+00, 3.73915364e+00,\n",
       "        3.84225284e+00, 3.90259036e+00, 4.11949419e+00, 4.17651321e+00,\n",
       "        4.37077751e+00, 4.44159810e+00, 4.90946146e+00, 4.92881312e+00,\n",
       "        5.11098294e+00, 5.24373099e+00, 5.29984678e+00, 5.53378916e+00,\n",
       "        5.89402295e+00, 6.53605386e+00, 6.58460958e+00, 6.92434326e+00,\n",
       "        7.13362566e+00, 7.31775924e+00, 7.99752478e+00, 9.35247295e+00,\n",
       "        9.66220732e+00, 1.14460068e+01, 1.15380817e+01, 1.15442858e+01,\n",
       "        1.18426898e+01, 1.18441218e+01, 1.28199761e+01, 1.33045489e+01,\n",
       "        1.33369548e+01, 1.34281498e+01, 1.37075420e+01, 1.40323247e+01]),\n",
       " array([0.93987218, 0.97793279, 0.99645887, 0.99883176, 0.86149828,\n",
       "        0.73957352, 0.83067294, 0.87985782, 0.92148475, 0.95163431,\n",
       "        0.96629015, 0.98003639, 0.98657006, 0.99216918, 0.99286561,\n",
       "        0.99609595, 0.99743978, 0.998427  , 0.99913301, 0.99939649,\n",
       "        0.99950112, 0.99941034, 0.99967322, 0.99973754, 0.99982173,\n",
       "        0.99988292, 0.99985467, 0.99963306, 0.99971613, 0.99911331,\n",
       "        0.99942846, 0.99966234, 0.99974021, 0.99984954, 0.99978138,\n",
       "        0.99980063, 0.99987916, 0.99992333, 0.99994201, 0.9999542 ]))"
      ]
     },
     "execution_count": 61,
     "metadata": {},
     "output_type": "execute_result"
    }
   ],
   "source": [
    "q_test"
   ]
  },
  {
   "cell_type": "code",
   "execution_count": 62,
   "metadata": {},
   "outputs": [
    {
     "data": {
      "text/html": [
       "<div>\n",
       "<style scoped>\n",
       "    .dataframe tbody tr th:only-of-type {\n",
       "        vertical-align: middle;\n",
       "    }\n",
       "\n",
       "    .dataframe tbody tr th {\n",
       "        vertical-align: top;\n",
       "    }\n",
       "\n",
       "    .dataframe thead th {\n",
       "        text-align: right;\n",
       "    }\n",
       "</style>\n",
       "<table border=\"1\" class=\"dataframe\">\n",
       "  <thead>\n",
       "    <tr style=\"text-align: right;\">\n",
       "      <th></th>\n",
       "      <th>Q-stat</th>\n",
       "      <th>p-value</th>\n",
       "    </tr>\n",
       "  </thead>\n",
       "  <tbody>\n",
       "    <tr>\n",
       "      <th>0</th>\n",
       "      <td>0.005690</td>\n",
       "      <td>0.939872</td>\n",
       "    </tr>\n",
       "    <tr>\n",
       "      <th>1</th>\n",
       "      <td>0.044629</td>\n",
       "      <td>0.977933</td>\n",
       "    </tr>\n",
       "    <tr>\n",
       "      <th>2</th>\n",
       "      <td>0.056817</td>\n",
       "      <td>0.996459</td>\n",
       "    </tr>\n",
       "    <tr>\n",
       "      <th>3</th>\n",
       "      <td>0.098267</td>\n",
       "      <td>0.998832</td>\n",
       "    </tr>\n",
       "    <tr>\n",
       "      <th>4</th>\n",
       "      <td>1.909664</td>\n",
       "      <td>0.861498</td>\n",
       "    </tr>\n",
       "    <tr>\n",
       "      <th>5</th>\n",
       "      <td>3.533005</td>\n",
       "      <td>0.739574</td>\n",
       "    </tr>\n",
       "    <tr>\n",
       "      <th>6</th>\n",
       "      <td>3.542787</td>\n",
       "      <td>0.830673</td>\n",
       "    </tr>\n",
       "    <tr>\n",
       "      <th>7</th>\n",
       "      <td>3.739154</td>\n",
       "      <td>0.879858</td>\n",
       "    </tr>\n",
       "    <tr>\n",
       "      <th>8</th>\n",
       "      <td>3.842253</td>\n",
       "      <td>0.921485</td>\n",
       "    </tr>\n",
       "    <tr>\n",
       "      <th>9</th>\n",
       "      <td>3.902590</td>\n",
       "      <td>0.951634</td>\n",
       "    </tr>\n",
       "    <tr>\n",
       "      <th>10</th>\n",
       "      <td>4.119494</td>\n",
       "      <td>0.966290</td>\n",
       "    </tr>\n",
       "    <tr>\n",
       "      <th>11</th>\n",
       "      <td>4.176513</td>\n",
       "      <td>0.980036</td>\n",
       "    </tr>\n",
       "    <tr>\n",
       "      <th>12</th>\n",
       "      <td>4.370778</td>\n",
       "      <td>0.986570</td>\n",
       "    </tr>\n",
       "    <tr>\n",
       "      <th>13</th>\n",
       "      <td>4.441598</td>\n",
       "      <td>0.992169</td>\n",
       "    </tr>\n",
       "    <tr>\n",
       "      <th>14</th>\n",
       "      <td>4.909461</td>\n",
       "      <td>0.992866</td>\n",
       "    </tr>\n",
       "    <tr>\n",
       "      <th>15</th>\n",
       "      <td>4.928813</td>\n",
       "      <td>0.996096</td>\n",
       "    </tr>\n",
       "    <tr>\n",
       "      <th>16</th>\n",
       "      <td>5.110983</td>\n",
       "      <td>0.997440</td>\n",
       "    </tr>\n",
       "    <tr>\n",
       "      <th>17</th>\n",
       "      <td>5.243731</td>\n",
       "      <td>0.998427</td>\n",
       "    </tr>\n",
       "    <tr>\n",
       "      <th>18</th>\n",
       "      <td>5.299847</td>\n",
       "      <td>0.999133</td>\n",
       "    </tr>\n",
       "    <tr>\n",
       "      <th>19</th>\n",
       "      <td>5.533789</td>\n",
       "      <td>0.999396</td>\n",
       "    </tr>\n",
       "    <tr>\n",
       "      <th>20</th>\n",
       "      <td>5.894023</td>\n",
       "      <td>0.999501</td>\n",
       "    </tr>\n",
       "    <tr>\n",
       "      <th>21</th>\n",
       "      <td>6.536054</td>\n",
       "      <td>0.999410</td>\n",
       "    </tr>\n",
       "    <tr>\n",
       "      <th>22</th>\n",
       "      <td>6.584610</td>\n",
       "      <td>0.999673</td>\n",
       "    </tr>\n",
       "    <tr>\n",
       "      <th>23</th>\n",
       "      <td>6.924343</td>\n",
       "      <td>0.999738</td>\n",
       "    </tr>\n",
       "    <tr>\n",
       "      <th>24</th>\n",
       "      <td>7.133626</td>\n",
       "      <td>0.999822</td>\n",
       "    </tr>\n",
       "    <tr>\n",
       "      <th>25</th>\n",
       "      <td>7.317759</td>\n",
       "      <td>0.999883</td>\n",
       "    </tr>\n",
       "    <tr>\n",
       "      <th>26</th>\n",
       "      <td>7.997525</td>\n",
       "      <td>0.999855</td>\n",
       "    </tr>\n",
       "    <tr>\n",
       "      <th>27</th>\n",
       "      <td>9.352473</td>\n",
       "      <td>0.999633</td>\n",
       "    </tr>\n",
       "    <tr>\n",
       "      <th>28</th>\n",
       "      <td>9.662207</td>\n",
       "      <td>0.999716</td>\n",
       "    </tr>\n",
       "    <tr>\n",
       "      <th>29</th>\n",
       "      <td>11.446007</td>\n",
       "      <td>0.999113</td>\n",
       "    </tr>\n",
       "    <tr>\n",
       "      <th>30</th>\n",
       "      <td>11.538082</td>\n",
       "      <td>0.999428</td>\n",
       "    </tr>\n",
       "    <tr>\n",
       "      <th>31</th>\n",
       "      <td>11.544286</td>\n",
       "      <td>0.999662</td>\n",
       "    </tr>\n",
       "    <tr>\n",
       "      <th>32</th>\n",
       "      <td>11.842690</td>\n",
       "      <td>0.999740</td>\n",
       "    </tr>\n",
       "    <tr>\n",
       "      <th>33</th>\n",
       "      <td>11.844122</td>\n",
       "      <td>0.999850</td>\n",
       "    </tr>\n",
       "    <tr>\n",
       "      <th>34</th>\n",
       "      <td>12.819976</td>\n",
       "      <td>0.999781</td>\n",
       "    </tr>\n",
       "    <tr>\n",
       "      <th>35</th>\n",
       "      <td>13.304549</td>\n",
       "      <td>0.999801</td>\n",
       "    </tr>\n",
       "    <tr>\n",
       "      <th>36</th>\n",
       "      <td>13.336955</td>\n",
       "      <td>0.999879</td>\n",
       "    </tr>\n",
       "    <tr>\n",
       "      <th>37</th>\n",
       "      <td>13.428150</td>\n",
       "      <td>0.999923</td>\n",
       "    </tr>\n",
       "    <tr>\n",
       "      <th>38</th>\n",
       "      <td>13.707542</td>\n",
       "      <td>0.999942</td>\n",
       "    </tr>\n",
       "    <tr>\n",
       "      <th>39</th>\n",
       "      <td>14.032325</td>\n",
       "      <td>0.999954</td>\n",
       "    </tr>\n",
       "  </tbody>\n",
       "</table>\n",
       "</div>"
      ],
      "text/plain": [
       "       Q-stat   p-value\n",
       "0    0.005690  0.939872\n",
       "1    0.044629  0.977933\n",
       "2    0.056817  0.996459\n",
       "3    0.098267  0.998832\n",
       "4    1.909664  0.861498\n",
       "5    3.533005  0.739574\n",
       "6    3.542787  0.830673\n",
       "7    3.739154  0.879858\n",
       "8    3.842253  0.921485\n",
       "9    3.902590  0.951634\n",
       "10   4.119494  0.966290\n",
       "11   4.176513  0.980036\n",
       "12   4.370778  0.986570\n",
       "13   4.441598  0.992169\n",
       "14   4.909461  0.992866\n",
       "15   4.928813  0.996096\n",
       "16   5.110983  0.997440\n",
       "17   5.243731  0.998427\n",
       "18   5.299847  0.999133\n",
       "19   5.533789  0.999396\n",
       "20   5.894023  0.999501\n",
       "21   6.536054  0.999410\n",
       "22   6.584610  0.999673\n",
       "23   6.924343  0.999738\n",
       "24   7.133626  0.999822\n",
       "25   7.317759  0.999883\n",
       "26   7.997525  0.999855\n",
       "27   9.352473  0.999633\n",
       "28   9.662207  0.999716\n",
       "29  11.446007  0.999113\n",
       "30  11.538082  0.999428\n",
       "31  11.544286  0.999662\n",
       "32  11.842690  0.999740\n",
       "33  11.844122  0.999850\n",
       "34  12.819976  0.999781\n",
       "35  13.304549  0.999801\n",
       "36  13.336955  0.999879\n",
       "37  13.428150  0.999923\n",
       "38  13.707542  0.999942\n",
       "39  14.032325  0.999954"
      ]
     },
     "execution_count": 62,
     "metadata": {},
     "output_type": "execute_result"
    }
   ],
   "source": [
    "pd.DataFrame({'Q-stat':q_test[1], 'p-value':q_test[2]})"
   ]
  },
  {
   "cell_type": "markdown",
   "metadata": {},
   "source": [
    "### Рассчет коэффициента детерминации"
   ]
  },
  {
   "cell_type": "code",
   "execution_count": 63,
   "metadata": {},
   "outputs": [],
   "source": [
    "pred = model.predict('2020-09-30','2020-10-15', typ='levels')"
   ]
  },
  {
   "cell_type": "code",
   "execution_count": 74,
   "metadata": {},
   "outputs": [],
   "source": [
    "trn = dtst['2020-09-14':]"
   ]
  },
  {
   "cell_type": "code",
   "execution_count": 75,
   "metadata": {},
   "outputs": [
    {
     "data": {
      "text/plain": [
       "(16, 1)"
      ]
     },
     "execution_count": 75,
     "metadata": {},
     "output_type": "execute_result"
    }
   ],
   "source": [
    "trn.shape"
   ]
  },
  {
   "cell_type": "code",
   "execution_count": 76,
   "metadata": {},
   "outputs": [
    {
     "data": {
      "text/plain": [
       "(16, 1)"
      ]
     },
     "execution_count": 76,
     "metadata": {},
     "output_type": "execute_result"
    }
   ],
   "source": [
    "pred.shape"
   ]
  },
  {
   "cell_type": "code",
   "execution_count": 77,
   "metadata": {},
   "outputs": [
    {
     "data": {
      "text/html": [
       "<div>\n",
       "<style scoped>\n",
       "    .dataframe tbody tr th:only-of-type {\n",
       "        vertical-align: middle;\n",
       "    }\n",
       "\n",
       "    .dataframe tbody tr th {\n",
       "        vertical-align: top;\n",
       "    }\n",
       "\n",
       "    .dataframe thead th {\n",
       "        text-align: right;\n",
       "    }\n",
       "</style>\n",
       "<table border=\"1\" class=\"dataframe\">\n",
       "  <thead>\n",
       "    <tr style=\"text-align: right;\">\n",
       "      <th></th>\n",
       "      <th>OPEN</th>\n",
       "    </tr>\n",
       "  </thead>\n",
       "  <tbody>\n",
       "    <tr>\n",
       "      <th>2020-09-30</th>\n",
       "      <td>60.049339</td>\n",
       "    </tr>\n",
       "    <tr>\n",
       "      <th>2020-10-01</th>\n",
       "      <td>60.123386</td>\n",
       "    </tr>\n",
       "    <tr>\n",
       "      <th>2020-10-02</th>\n",
       "      <td>60.160101</td>\n",
       "    </tr>\n",
       "    <tr>\n",
       "      <th>2020-10-03</th>\n",
       "      <td>60.178305</td>\n",
       "    </tr>\n",
       "    <tr>\n",
       "      <th>2020-10-04</th>\n",
       "      <td>60.187332</td>\n",
       "    </tr>\n",
       "    <tr>\n",
       "      <th>2020-10-05</th>\n",
       "      <td>60.191807</td>\n",
       "    </tr>\n",
       "    <tr>\n",
       "      <th>2020-10-06</th>\n",
       "      <td>60.194026</td>\n",
       "    </tr>\n",
       "    <tr>\n",
       "      <th>2020-10-07</th>\n",
       "      <td>60.195127</td>\n",
       "    </tr>\n",
       "    <tr>\n",
       "      <th>2020-10-08</th>\n",
       "      <td>60.195672</td>\n",
       "    </tr>\n",
       "    <tr>\n",
       "      <th>2020-10-09</th>\n",
       "      <td>60.195943</td>\n",
       "    </tr>\n",
       "    <tr>\n",
       "      <th>2020-10-10</th>\n",
       "      <td>60.196077</td>\n",
       "    </tr>\n",
       "    <tr>\n",
       "      <th>2020-10-11</th>\n",
       "      <td>60.196143</td>\n",
       "    </tr>\n",
       "    <tr>\n",
       "      <th>2020-10-12</th>\n",
       "      <td>60.196176</td>\n",
       "    </tr>\n",
       "    <tr>\n",
       "      <th>2020-10-13</th>\n",
       "      <td>60.196193</td>\n",
       "    </tr>\n",
       "    <tr>\n",
       "      <th>2020-10-14</th>\n",
       "      <td>60.196201</td>\n",
       "    </tr>\n",
       "    <tr>\n",
       "      <th>2020-10-15</th>\n",
       "      <td>60.196205</td>\n",
       "    </tr>\n",
       "  </tbody>\n",
       "</table>\n",
       "</div>"
      ],
      "text/plain": [
       "                 OPEN\n",
       "2020-09-30  60.049339\n",
       "2020-10-01  60.123386\n",
       "2020-10-02  60.160101\n",
       "2020-10-03  60.178305\n",
       "2020-10-04  60.187332\n",
       "2020-10-05  60.191807\n",
       "2020-10-06  60.194026\n",
       "2020-10-07  60.195127\n",
       "2020-10-08  60.195672\n",
       "2020-10-09  60.195943\n",
       "2020-10-10  60.196077\n",
       "2020-10-11  60.196143\n",
       "2020-10-12  60.196176\n",
       "2020-10-13  60.196193\n",
       "2020-10-14  60.196201\n",
       "2020-10-15  60.196205"
      ]
     },
     "execution_count": 77,
     "metadata": {},
     "output_type": "execute_result"
    }
   ],
   "source": [
    "pred"
   ]
  },
  {
   "cell_type": "code",
   "execution_count": 78,
   "metadata": {},
   "outputs": [
    {
     "ename": "AttributeError",
     "evalue": "'DataFrame' object has no attribute 'to_frame'",
     "output_type": "error",
     "traceback": [
      "\u001b[1;31m---------------------------------------------------------------------------\u001b[0m",
      "\u001b[1;31mAttributeError\u001b[0m                            Traceback (most recent call last)",
      "\u001b[1;32m<ipython-input-78-586244be728d>\u001b[0m in \u001b[0;36m<module>\u001b[1;34m\u001b[0m\n\u001b[1;32m----> 1\u001b[1;33m \u001b[0mpred\u001b[0m \u001b[1;33m=\u001b[0m \u001b[0mpred\u001b[0m\u001b[1;33m.\u001b[0m\u001b[0mto_frame\u001b[0m\u001b[1;33m(\u001b[0m\u001b[1;33m)\u001b[0m\u001b[1;33m\u001b[0m\u001b[1;33m\u001b[0m\u001b[0m\n\u001b[0m",
      "\u001b[1;32mc:\\projects\\ds_lessons\\env\\lib\\site-packages\\pandas\\core\\generic.py\u001b[0m in \u001b[0;36m__getattr__\u001b[1;34m(self, name)\u001b[0m\n\u001b[0;32m   5134\u001b[0m             \u001b[1;32mif\u001b[0m \u001b[0mself\u001b[0m\u001b[1;33m.\u001b[0m\u001b[0m_info_axis\u001b[0m\u001b[1;33m.\u001b[0m\u001b[0m_can_hold_identifiers_and_holds_name\u001b[0m\u001b[1;33m(\u001b[0m\u001b[0mname\u001b[0m\u001b[1;33m)\u001b[0m\u001b[1;33m:\u001b[0m\u001b[1;33m\u001b[0m\u001b[1;33m\u001b[0m\u001b[0m\n\u001b[0;32m   5135\u001b[0m                 \u001b[1;32mreturn\u001b[0m \u001b[0mself\u001b[0m\u001b[1;33m[\u001b[0m\u001b[0mname\u001b[0m\u001b[1;33m]\u001b[0m\u001b[1;33m\u001b[0m\u001b[1;33m\u001b[0m\u001b[0m\n\u001b[1;32m-> 5136\u001b[1;33m             \u001b[1;32mreturn\u001b[0m \u001b[0mobject\u001b[0m\u001b[1;33m.\u001b[0m\u001b[0m__getattribute__\u001b[0m\u001b[1;33m(\u001b[0m\u001b[0mself\u001b[0m\u001b[1;33m,\u001b[0m \u001b[0mname\u001b[0m\u001b[1;33m)\u001b[0m\u001b[1;33m\u001b[0m\u001b[1;33m\u001b[0m\u001b[0m\n\u001b[0m\u001b[0;32m   5137\u001b[0m \u001b[1;33m\u001b[0m\u001b[0m\n\u001b[0;32m   5138\u001b[0m     \u001b[1;32mdef\u001b[0m \u001b[0m__setattr__\u001b[0m\u001b[1;33m(\u001b[0m\u001b[0mself\u001b[0m\u001b[1;33m,\u001b[0m \u001b[0mname\u001b[0m\u001b[1;33m:\u001b[0m \u001b[0mstr\u001b[0m\u001b[1;33m,\u001b[0m \u001b[0mvalue\u001b[0m\u001b[1;33m)\u001b[0m \u001b[1;33m->\u001b[0m \u001b[1;32mNone\u001b[0m\u001b[1;33m:\u001b[0m\u001b[1;33m\u001b[0m\u001b[1;33m\u001b[0m\u001b[0m\n",
      "\u001b[1;31mAttributeError\u001b[0m: 'DataFrame' object has no attribute 'to_frame'"
     ]
    }
   ],
   "source": [
    "pred = pred.to_frame()\n"
   ]
  },
  {
   "cell_type": "code",
   "execution_count": 79,
   "metadata": {
    "scrolled": true
   },
   "outputs": [
    {
     "data": {
      "text/plain": [
       "(16, 1)"
      ]
     },
     "execution_count": 79,
     "metadata": {},
     "output_type": "execute_result"
    }
   ],
   "source": [
    "pred.shape"
   ]
  },
  {
   "cell_type": "code",
   "execution_count": 80,
   "metadata": {},
   "outputs": [
    {
     "data": {
      "text/html": [
       "<div>\n",
       "<style scoped>\n",
       "    .dataframe tbody tr th:only-of-type {\n",
       "        vertical-align: middle;\n",
       "    }\n",
       "\n",
       "    .dataframe tbody tr th {\n",
       "        vertical-align: top;\n",
       "    }\n",
       "\n",
       "    .dataframe thead th {\n",
       "        text-align: right;\n",
       "    }\n",
       "</style>\n",
       "<table border=\"1\" class=\"dataframe\">\n",
       "  <thead>\n",
       "    <tr style=\"text-align: right;\">\n",
       "      <th></th>\n",
       "      <th>OPEN</th>\n",
       "    </tr>\n",
       "  </thead>\n",
       "  <tbody>\n",
       "    <tr>\n",
       "      <th>2020-09-30</th>\n",
       "      <td>60.049339</td>\n",
       "    </tr>\n",
       "    <tr>\n",
       "      <th>2020-10-01</th>\n",
       "      <td>60.123386</td>\n",
       "    </tr>\n",
       "    <tr>\n",
       "      <th>2020-10-02</th>\n",
       "      <td>60.160101</td>\n",
       "    </tr>\n",
       "    <tr>\n",
       "      <th>2020-10-03</th>\n",
       "      <td>60.178305</td>\n",
       "    </tr>\n",
       "    <tr>\n",
       "      <th>2020-10-04</th>\n",
       "      <td>60.187332</td>\n",
       "    </tr>\n",
       "    <tr>\n",
       "      <th>2020-10-05</th>\n",
       "      <td>60.191807</td>\n",
       "    </tr>\n",
       "    <tr>\n",
       "      <th>2020-10-06</th>\n",
       "      <td>60.194026</td>\n",
       "    </tr>\n",
       "    <tr>\n",
       "      <th>2020-10-07</th>\n",
       "      <td>60.195127</td>\n",
       "    </tr>\n",
       "    <tr>\n",
       "      <th>2020-10-08</th>\n",
       "      <td>60.195672</td>\n",
       "    </tr>\n",
       "    <tr>\n",
       "      <th>2020-10-09</th>\n",
       "      <td>60.195943</td>\n",
       "    </tr>\n",
       "    <tr>\n",
       "      <th>2020-10-10</th>\n",
       "      <td>60.196077</td>\n",
       "    </tr>\n",
       "    <tr>\n",
       "      <th>2020-10-11</th>\n",
       "      <td>60.196143</td>\n",
       "    </tr>\n",
       "    <tr>\n",
       "      <th>2020-10-12</th>\n",
       "      <td>60.196176</td>\n",
       "    </tr>\n",
       "    <tr>\n",
       "      <th>2020-10-13</th>\n",
       "      <td>60.196193</td>\n",
       "    </tr>\n",
       "    <tr>\n",
       "      <th>2020-10-14</th>\n",
       "      <td>60.196201</td>\n",
       "    </tr>\n",
       "    <tr>\n",
       "      <th>2020-10-15</th>\n",
       "      <td>60.196205</td>\n",
       "    </tr>\n",
       "  </tbody>\n",
       "</table>\n",
       "</div>"
      ],
      "text/plain": [
       "                 OPEN\n",
       "2020-09-30  60.049339\n",
       "2020-10-01  60.123386\n",
       "2020-10-02  60.160101\n",
       "2020-10-03  60.178305\n",
       "2020-10-04  60.187332\n",
       "2020-10-05  60.191807\n",
       "2020-10-06  60.194026\n",
       "2020-10-07  60.195127\n",
       "2020-10-08  60.195672\n",
       "2020-10-09  60.195943\n",
       "2020-10-10  60.196077\n",
       "2020-10-11  60.196143\n",
       "2020-10-12  60.196176\n",
       "2020-10-13  60.196193\n",
       "2020-10-14  60.196201\n",
       "2020-10-15  60.196205"
      ]
     },
     "execution_count": 80,
     "metadata": {},
     "output_type": "execute_result"
    }
   ],
   "source": [
    "pred"
   ]
  },
  {
   "cell_type": "code",
   "execution_count": 81,
   "metadata": {},
   "outputs": [],
   "source": [
    "pred.rename(columns={'predicted_mean': 'OPEN'}, inplace=True)"
   ]
  },
  {
   "cell_type": "code",
   "execution_count": 82,
   "metadata": {},
   "outputs": [
    {
     "data": {
      "text/html": [
       "<div>\n",
       "<style scoped>\n",
       "    .dataframe tbody tr th:only-of-type {\n",
       "        vertical-align: middle;\n",
       "    }\n",
       "\n",
       "    .dataframe tbody tr th {\n",
       "        vertical-align: top;\n",
       "    }\n",
       "\n",
       "    .dataframe thead th {\n",
       "        text-align: right;\n",
       "    }\n",
       "</style>\n",
       "<table border=\"1\" class=\"dataframe\">\n",
       "  <thead>\n",
       "    <tr style=\"text-align: right;\">\n",
       "      <th></th>\n",
       "      <th>OPEN</th>\n",
       "    </tr>\n",
       "    <tr>\n",
       "      <th>DATE</th>\n",
       "      <th></th>\n",
       "    </tr>\n",
       "  </thead>\n",
       "  <tbody>\n",
       "    <tr>\n",
       "      <th>2020-09-14</th>\n",
       "      <td>62.7</td>\n",
       "    </tr>\n",
       "    <tr>\n",
       "      <th>2020-09-15</th>\n",
       "      <td>62.5</td>\n",
       "    </tr>\n",
       "    <tr>\n",
       "      <th>2020-09-16</th>\n",
       "      <td>62.9</td>\n",
       "    </tr>\n",
       "    <tr>\n",
       "      <th>2020-09-17</th>\n",
       "      <td>62.4</td>\n",
       "    </tr>\n",
       "    <tr>\n",
       "      <th>2020-09-18</th>\n",
       "      <td>63.3</td>\n",
       "    </tr>\n",
       "    <tr>\n",
       "      <th>2020-09-19</th>\n",
       "      <td>63.3</td>\n",
       "    </tr>\n",
       "    <tr>\n",
       "      <th>2020-09-20</th>\n",
       "      <td>63.3</td>\n",
       "    </tr>\n",
       "    <tr>\n",
       "      <th>2020-09-21</th>\n",
       "      <td>63.0</td>\n",
       "    </tr>\n",
       "    <tr>\n",
       "      <th>2020-09-22</th>\n",
       "      <td>62.0</td>\n",
       "    </tr>\n",
       "    <tr>\n",
       "      <th>2020-09-23</th>\n",
       "      <td>62.3</td>\n",
       "    </tr>\n",
       "    <tr>\n",
       "      <th>2020-09-24</th>\n",
       "      <td>61.6</td>\n",
       "    </tr>\n",
       "    <tr>\n",
       "      <th>2020-09-25</th>\n",
       "      <td>61.5</td>\n",
       "    </tr>\n",
       "    <tr>\n",
       "      <th>2020-09-26</th>\n",
       "      <td>61.5</td>\n",
       "    </tr>\n",
       "    <tr>\n",
       "      <th>2020-09-27</th>\n",
       "      <td>61.5</td>\n",
       "    </tr>\n",
       "    <tr>\n",
       "      <th>2020-09-28</th>\n",
       "      <td>60.9</td>\n",
       "    </tr>\n",
       "    <tr>\n",
       "      <th>2020-09-29</th>\n",
       "      <td>59.9</td>\n",
       "    </tr>\n",
       "  </tbody>\n",
       "</table>\n",
       "</div>"
      ],
      "text/plain": [
       "            OPEN\n",
       "DATE            \n",
       "2020-09-14  62.7\n",
       "2020-09-15  62.5\n",
       "2020-09-16  62.9\n",
       "2020-09-17  62.4\n",
       "2020-09-18  63.3\n",
       "2020-09-19  63.3\n",
       "2020-09-20  63.3\n",
       "2020-09-21  63.0\n",
       "2020-09-22  62.0\n",
       "2020-09-23  62.3\n",
       "2020-09-24  61.6\n",
       "2020-09-25  61.5\n",
       "2020-09-26  61.5\n",
       "2020-09-27  61.5\n",
       "2020-09-28  60.9\n",
       "2020-09-29  59.9"
      ]
     },
     "execution_count": 82,
     "metadata": {},
     "output_type": "execute_result"
    }
   ],
   "source": [
    "trn"
   ]
  },
  {
   "cell_type": "code",
   "execution_count": 83,
   "metadata": {
    "scrolled": false
   },
   "outputs": [],
   "source": [
    "r2 = r2_score(trn, pred)"
   ]
  },
  {
   "cell_type": "code",
   "execution_count": 84,
   "metadata": {},
   "outputs": [
    {
     "data": {
      "text/plain": [
       "-4.531594856908912"
      ]
     },
     "execution_count": 84,
     "metadata": {},
     "output_type": "execute_result"
    }
   ],
   "source": [
    "r2"
   ]
  },
  {
   "cell_type": "code",
   "execution_count": 85,
   "metadata": {},
   "outputs": [
    {
     "data": {
      "text/plain": [
       "2.198264473289728"
      ]
     },
     "execution_count": 85,
     "metadata": {},
     "output_type": "execute_result"
    }
   ],
   "source": [
    "metrics.rmse(trn,pred)"
   ]
  },
  {
   "cell_type": "code",
   "execution_count": 86,
   "metadata": {},
   "outputs": [
    {
     "data": {
      "text/plain": [
       "2.021523573651398"
      ]
     },
     "execution_count": 86,
     "metadata": {},
     "output_type": "execute_result"
    }
   ],
   "source": [
    "metrics.mae(trn,pred)"
   ]
  },
  {
   "cell_type": "code",
   "execution_count": 87,
   "metadata": {},
   "outputs": [
    {
     "data": {
      "image/png": "[encoded data removed]",
      "text/plain": [
       "<Figure size 864x432 with 1 Axes>"
      ]
     },
     "metadata": {
      "needs_background": "light"
     },
     "output_type": "display_data"
    },
    {
     "data": {
      "image/png": "[encoded data removed]",
      "text/plain": [
       "<Figure size 432x288 with 1 Axes>"
      ]
     },
     "metadata": {
      "needs_background": "light"
     },
     "output_type": "display_data"
    }
   ],
   "source": [
    "dtst.plot(figsize=(12,6))\n",
    "pred.plot(style='r--')\n",
    "plt.show()"
   ]
  },
  {
   "cell_type": "code",
   "execution_count": 88,
   "metadata": {},
   "outputs": [
    {
     "data": {
      "image/png": "[encoded data removed]",
      "text/plain": [
       "<Figure size 432x288 with 1 Axes>"
      ]
     },
     "metadata": {
      "needs_background": "light"
     },
     "output_type": "display_data"
    }
   ],
   "source": [
    "plt.plot(dtst['2020-05-15':])\n",
    "plt.plot(pred)\n",
    "plt.show()"
   ]
  },
  {
   "cell_type": "code",
   "execution_count": null,
   "metadata": {},
   "outputs": [],
   "source": []
  },
  {
   "cell_type": "code",
   "execution_count": null,
   "metadata": {},
   "outputs": [],
   "source": []
  }
 ],
 "metadata": {
  "kernelspec": {
   "display_name": "Python 3",
   "language": "python",
   "name": "python3"
  },
  "language_info": {
   "codemirror_mode": {
    "name": "ipython",
    "version": 3
   },
   "file_extension": ".py",
   "mimetype": "text/x-python",
   "name": "python",
   "nbconvert_exporter": "python",
   "pygments_lexer": "ipython3",
   "version": "3.8.5"
  }
 },
 "nbformat": 4,
 "nbformat_minor": 4
}
