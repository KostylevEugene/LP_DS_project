{
 "cells": [
  {
   "cell_type": "code",
   "execution_count": 1,
   "metadata": {},
   "outputs": [],
   "source": [
    "import pandas as pd\n",
    "import statsmodels.api as sm\n",
    "from statsmodels.iolib.table import SimpleTable\n",
    "from sklearn.metrics import r2_score\n",
    "import ml_metrics as metrics\n",
    "import numpy as np\n",
    "import matplotlib.pyplot as plt\n",
    "import datetime as dt"
   ]
  },
  {
   "cell_type": "code",
   "execution_count": 2,
   "metadata": {},
   "outputs": [
    {
     "name": "stdout",
     "output_type": "stream",
     "text": [
      " ’®¬ ў гбва®©бвўҐ C ­Ґ Ё¬ҐҐв ¬ҐвЄЁ.\n",
      " ‘ҐаЁ©­л© ­®¬Ґа в®¬ : 7496-5BB4\n",
      "\n",
      " ‘®¤Ґа¦Ё¬®Ґ Ї ЇЄЁ C:\\projects\\LP_DS_project\n",
      "\n",
      "27.10.2020  19:31    <DIR>          .\n",
      "27.10.2020  19:31    <DIR>          ..\n",
      "27.10.2020  19:31    <DIR>          .ipynb_checkpoints\n",
      "27.10.2020  18:44           116я198 AFKS.csv\n",
      "27.10.2020  06:33    <DIR>          env\n",
      "27.10.2020  19:31            12я875 Filling data.ipynb\n",
      "27.10.2020  18:44           116я505 GAZP.csv\n",
      "27.10.2020  19:04           430я192 Gazprom.ipynb\n",
      "27.10.2020  18:44           417я252 Grafic_akcii.ipynb\n",
      "27.10.2020  19:15           394я043 Kamaz.ipynb\n",
      "27.10.2020  18:44           108я755 KMAZ.csv\n",
      "27.10.2020  18:44           183я007 qAFKS.csv\n",
      "27.10.2020  18:44           190я932 qGAZP.csv\n",
      "27.10.2020  19:10           180я626 qKMAZ.csv\n",
      "27.10.2020  19:16           186я527 qSBER.csv\n",
      "27.10.2020  19:30           192я537 qTATN.csv\n",
      "27.10.2020  18:44           113я422 SBER.csv\n",
      "27.10.2020  19:19           416я646 Sber.ipynb\n",
      "27.10.2020  18:44           117я504 TATN.csv\n",
      "27.10.2020  19:31           416я646 Tatneft.ipynb\n",
      "27.10.2020  18:54            12я446 week_AFSK.csv\n",
      "27.10.2020  19:12            11я679 week_qKMAZ.csv\n",
      "27.10.2020  19:18            12я147 week_qSBER.csv\n",
      "27.10.2020  18:44            60я803 YNDX.csv\n",
      "              20 д ©«®ў      3я690я742 Ў ©в\n",
      "               4 Ї Ї®Є  15я266я988я032 Ў ©в бў®Ў®¤­®\n"
     ]
    }
   ],
   "source": [
    "!dir"
   ]
  },
  {
   "cell_type": "code",
   "execution_count": 3,
   "metadata": {},
   "outputs": [
    {
     "data": {
      "text/html": [
       "<div>\n",
       "<style scoped>\n",
       "    .dataframe tbody tr th:only-of-type {\n",
       "        vertical-align: middle;\n",
       "    }\n",
       "\n",
       "    .dataframe tbody tr th {\n",
       "        vertical-align: top;\n",
       "    }\n",
       "\n",
       "    .dataframe thead th {\n",
       "        text-align: right;\n",
       "    }\n",
       "</style>\n",
       "<table border=\"1\" class=\"dataframe\">\n",
       "  <thead>\n",
       "    <tr style=\"text-align: right;\">\n",
       "      <th></th>\n",
       "      <th>Unnamed: 0</th>\n",
       "      <th>Unnamed: 0.1</th>\n",
       "      <th>COMPANY</th>\n",
       "      <th>DATE</th>\n",
       "      <th>OPEN</th>\n",
       "      <th>CLOSE</th>\n",
       "    </tr>\n",
       "  </thead>\n",
       "  <tbody>\n",
       "    <tr>\n",
       "      <th>0</th>\n",
       "      <td>0</td>\n",
       "      <td>99448</td>\n",
       "      <td>TATN</td>\n",
       "      <td>2008-01-10</td>\n",
       "      <td>155.00</td>\n",
       "      <td>153.50</td>\n",
       "    </tr>\n",
       "    <tr>\n",
       "      <th>1</th>\n",
       "      <td>1</td>\n",
       "      <td>99449</td>\n",
       "      <td>TATN</td>\n",
       "      <td>2008-01-11</td>\n",
       "      <td>153.60</td>\n",
       "      <td>154.22</td>\n",
       "    </tr>\n",
       "    <tr>\n",
       "      <th>2</th>\n",
       "      <td>2</td>\n",
       "      <td>99449</td>\n",
       "      <td>TATN</td>\n",
       "      <td>2008-01-12</td>\n",
       "      <td>153.60</td>\n",
       "      <td>154.22</td>\n",
       "    </tr>\n",
       "    <tr>\n",
       "      <th>3</th>\n",
       "      <td>3</td>\n",
       "      <td>99449</td>\n",
       "      <td>TATN</td>\n",
       "      <td>2008-01-13</td>\n",
       "      <td>153.60</td>\n",
       "      <td>154.22</td>\n",
       "    </tr>\n",
       "    <tr>\n",
       "      <th>4</th>\n",
       "      <td>4</td>\n",
       "      <td>99450</td>\n",
       "      <td>TATN</td>\n",
       "      <td>2008-01-14</td>\n",
       "      <td>154.06</td>\n",
       "      <td>158.50</td>\n",
       "    </tr>\n",
       "    <tr>\n",
       "      <th>...</th>\n",
       "      <td>...</td>\n",
       "      <td>...</td>\n",
       "      <td>...</td>\n",
       "      <td>...</td>\n",
       "      <td>...</td>\n",
       "      <td>...</td>\n",
       "    </tr>\n",
       "    <tr>\n",
       "      <th>4643</th>\n",
       "      <td>4643</td>\n",
       "      <td>102649</td>\n",
       "      <td>TATN</td>\n",
       "      <td>2020-09-26</td>\n",
       "      <td>463.30</td>\n",
       "      <td>464.00</td>\n",
       "    </tr>\n",
       "    <tr>\n",
       "      <th>4644</th>\n",
       "      <td>4644</td>\n",
       "      <td>102649</td>\n",
       "      <td>TATN</td>\n",
       "      <td>2020-09-27</td>\n",
       "      <td>463.30</td>\n",
       "      <td>464.00</td>\n",
       "    </tr>\n",
       "    <tr>\n",
       "      <th>4645</th>\n",
       "      <td>4645</td>\n",
       "      <td>102650</td>\n",
       "      <td>TATN</td>\n",
       "      <td>2020-09-28</td>\n",
       "      <td>464.60</td>\n",
       "      <td>473.60</td>\n",
       "    </tr>\n",
       "    <tr>\n",
       "      <th>4646</th>\n",
       "      <td>4646</td>\n",
       "      <td>102651</td>\n",
       "      <td>TATN</td>\n",
       "      <td>2020-09-29</td>\n",
       "      <td>473.60</td>\n",
       "      <td>465.80</td>\n",
       "    </tr>\n",
       "    <tr>\n",
       "      <th>4647</th>\n",
       "      <td>4647</td>\n",
       "      <td>102652</td>\n",
       "      <td>TATN</td>\n",
       "      <td>2020-09-30</td>\n",
       "      <td>465.80</td>\n",
       "      <td>464.70</td>\n",
       "    </tr>\n",
       "  </tbody>\n",
       "</table>\n",
       "<p>4648 rows × 6 columns</p>\n",
       "</div>"
      ],
      "text/plain": [
       "      Unnamed: 0  Unnamed: 0.1 COMPANY        DATE    OPEN   CLOSE\n",
       "0              0         99448    TATN  2008-01-10  155.00  153.50\n",
       "1              1         99449    TATN  2008-01-11  153.60  154.22\n",
       "2              2         99449    TATN  2008-01-12  153.60  154.22\n",
       "3              3         99449    TATN  2008-01-13  153.60  154.22\n",
       "4              4         99450    TATN  2008-01-14  154.06  158.50\n",
       "...          ...           ...     ...         ...     ...     ...\n",
       "4643        4643        102649    TATN  2020-09-26  463.30  464.00\n",
       "4644        4644        102649    TATN  2020-09-27  463.30  464.00\n",
       "4645        4645        102650    TATN  2020-09-28  464.60  473.60\n",
       "4646        4646        102651    TATN  2020-09-29  473.60  465.80\n",
       "4647        4647        102652    TATN  2020-09-30  465.80  464.70\n",
       "\n",
       "[4648 rows x 6 columns]"
      ]
     },
     "execution_count": 3,
     "metadata": {},
     "output_type": "execute_result"
    }
   ],
   "source": [
    "dataset = pd.read_csv('qTATN.csv', sep=';')\n",
    "dataset"
   ]
  },
  {
   "cell_type": "code",
   "execution_count": 4,
   "metadata": {},
   "outputs": [
    {
     "data": {
      "text/plain": [
       "0       2008-01-10\n",
       "1       2008-01-11\n",
       "2       2008-01-12\n",
       "3       2008-01-13\n",
       "4       2008-01-14\n",
       "           ...    \n",
       "4643    2020-09-26\n",
       "4644    2020-09-27\n",
       "4645    2020-09-28\n",
       "4646    2020-09-29\n",
       "4647    2020-09-30\n",
       "Name: DATE, Length: 4648, dtype: object"
      ]
     },
     "execution_count": 4,
     "metadata": {},
     "output_type": "execute_result"
    }
   ],
   "source": [
    "dataset['DATE']"
   ]
  },
  {
   "cell_type": "code",
   "execution_count": 5,
   "metadata": {},
   "outputs": [],
   "source": [
    "dataset = pd.read_csv('qTATN.csv', ';', index_col=['DATE'], parse_dates=['DATE'], dayfirst=True)"
   ]
  },
  {
   "cell_type": "code",
   "execution_count": 6,
   "metadata": {},
   "outputs": [
    {
     "data": {
      "text/html": [
       "<div>\n",
       "<style scoped>\n",
       "    .dataframe tbody tr th:only-of-type {\n",
       "        vertical-align: middle;\n",
       "    }\n",
       "\n",
       "    .dataframe tbody tr th {\n",
       "        vertical-align: top;\n",
       "    }\n",
       "\n",
       "    .dataframe thead th {\n",
       "        text-align: right;\n",
       "    }\n",
       "</style>\n",
       "<table border=\"1\" class=\"dataframe\">\n",
       "  <thead>\n",
       "    <tr style=\"text-align: right;\">\n",
       "      <th></th>\n",
       "      <th>Unnamed: 0</th>\n",
       "      <th>Unnamed: 0.1</th>\n",
       "      <th>COMPANY</th>\n",
       "      <th>OPEN</th>\n",
       "      <th>CLOSE</th>\n",
       "    </tr>\n",
       "    <tr>\n",
       "      <th>DATE</th>\n",
       "      <th></th>\n",
       "      <th></th>\n",
       "      <th></th>\n",
       "      <th></th>\n",
       "      <th></th>\n",
       "    </tr>\n",
       "  </thead>\n",
       "  <tbody>\n",
       "    <tr>\n",
       "      <th>2008-01-10</th>\n",
       "      <td>0</td>\n",
       "      <td>99448</td>\n",
       "      <td>TATN</td>\n",
       "      <td>155.00</td>\n",
       "      <td>153.50</td>\n",
       "    </tr>\n",
       "    <tr>\n",
       "      <th>2008-01-11</th>\n",
       "      <td>1</td>\n",
       "      <td>99449</td>\n",
       "      <td>TATN</td>\n",
       "      <td>153.60</td>\n",
       "      <td>154.22</td>\n",
       "    </tr>\n",
       "    <tr>\n",
       "      <th>2008-01-12</th>\n",
       "      <td>2</td>\n",
       "      <td>99449</td>\n",
       "      <td>TATN</td>\n",
       "      <td>153.60</td>\n",
       "      <td>154.22</td>\n",
       "    </tr>\n",
       "    <tr>\n",
       "      <th>2008-01-13</th>\n",
       "      <td>3</td>\n",
       "      <td>99449</td>\n",
       "      <td>TATN</td>\n",
       "      <td>153.60</td>\n",
       "      <td>154.22</td>\n",
       "    </tr>\n",
       "    <tr>\n",
       "      <th>2008-01-14</th>\n",
       "      <td>4</td>\n",
       "      <td>99450</td>\n",
       "      <td>TATN</td>\n",
       "      <td>154.06</td>\n",
       "      <td>158.50</td>\n",
       "    </tr>\n",
       "    <tr>\n",
       "      <th>...</th>\n",
       "      <td>...</td>\n",
       "      <td>...</td>\n",
       "      <td>...</td>\n",
       "      <td>...</td>\n",
       "      <td>...</td>\n",
       "    </tr>\n",
       "    <tr>\n",
       "      <th>2020-09-26</th>\n",
       "      <td>4643</td>\n",
       "      <td>102649</td>\n",
       "      <td>TATN</td>\n",
       "      <td>463.30</td>\n",
       "      <td>464.00</td>\n",
       "    </tr>\n",
       "    <tr>\n",
       "      <th>2020-09-27</th>\n",
       "      <td>4644</td>\n",
       "      <td>102649</td>\n",
       "      <td>TATN</td>\n",
       "      <td>463.30</td>\n",
       "      <td>464.00</td>\n",
       "    </tr>\n",
       "    <tr>\n",
       "      <th>2020-09-28</th>\n",
       "      <td>4645</td>\n",
       "      <td>102650</td>\n",
       "      <td>TATN</td>\n",
       "      <td>464.60</td>\n",
       "      <td>473.60</td>\n",
       "    </tr>\n",
       "    <tr>\n",
       "      <th>2020-09-29</th>\n",
       "      <td>4646</td>\n",
       "      <td>102651</td>\n",
       "      <td>TATN</td>\n",
       "      <td>473.60</td>\n",
       "      <td>465.80</td>\n",
       "    </tr>\n",
       "    <tr>\n",
       "      <th>2020-09-30</th>\n",
       "      <td>4647</td>\n",
       "      <td>102652</td>\n",
       "      <td>TATN</td>\n",
       "      <td>465.80</td>\n",
       "      <td>464.70</td>\n",
       "    </tr>\n",
       "  </tbody>\n",
       "</table>\n",
       "<p>4648 rows × 5 columns</p>\n",
       "</div>"
      ],
      "text/plain": [
       "            Unnamed: 0  Unnamed: 0.1 COMPANY    OPEN   CLOSE\n",
       "DATE                                                        \n",
       "2008-01-10           0         99448    TATN  155.00  153.50\n",
       "2008-01-11           1         99449    TATN  153.60  154.22\n",
       "2008-01-12           2         99449    TATN  153.60  154.22\n",
       "2008-01-13           3         99449    TATN  153.60  154.22\n",
       "2008-01-14           4         99450    TATN  154.06  158.50\n",
       "...                ...           ...     ...     ...     ...\n",
       "2020-09-26        4643        102649    TATN  463.30  464.00\n",
       "2020-09-27        4644        102649    TATN  463.30  464.00\n",
       "2020-09-28        4645        102650    TATN  464.60  473.60\n",
       "2020-09-29        4646        102651    TATN  473.60  465.80\n",
       "2020-09-30        4647        102652    TATN  465.80  464.70\n",
       "\n",
       "[4648 rows x 5 columns]"
      ]
     },
     "execution_count": 6,
     "metadata": {},
     "output_type": "execute_result"
    }
   ],
   "source": [
    "dataset2 = dataset\n",
    "dataset2"
   ]
  },
  {
   "cell_type": "code",
   "execution_count": 7,
   "metadata": {},
   "outputs": [],
   "source": [
    "#Оставлю эту ячейку здесь\n",
    "#dataset2 = dataset2[(dataset2['DATE'] > '2014-01-01') & (dataset2['DATE'] < '2020-09-30')]\n",
    "#dataset2"
   ]
  },
  {
   "cell_type": "markdown",
   "metadata": {},
   "source": [
    "## Избавляемся от ненужных столбцов"
   ]
  },
  {
   "cell_type": "code",
   "execution_count": 8,
   "metadata": {},
   "outputs": [],
   "source": [
    "dataset2 = dataset2.drop(['COMPANY'], axis=1)"
   ]
  },
  {
   "cell_type": "code",
   "execution_count": 9,
   "metadata": {},
   "outputs": [],
   "source": [
    "dataset2 = dataset2.drop(['CLOSE'], axis=1)"
   ]
  },
  {
   "cell_type": "code",
   "execution_count": 10,
   "metadata": {},
   "outputs": [],
   "source": [
    "dataset2 = dataset2.drop(['Unnamed: 0'], axis=1)"
   ]
  },
  {
   "cell_type": "code",
   "execution_count": 11,
   "metadata": {},
   "outputs": [],
   "source": [
    "dataset2 = dataset2.drop(['Unnamed: 0.1'], axis=1)"
   ]
  },
  {
   "cell_type": "code",
   "execution_count": 12,
   "metadata": {
    "scrolled": false
   },
   "outputs": [
    {
     "data": {
      "text/html": [
       "<div>\n",
       "<style scoped>\n",
       "    .dataframe tbody tr th:only-of-type {\n",
       "        vertical-align: middle;\n",
       "    }\n",
       "\n",
       "    .dataframe tbody tr th {\n",
       "        vertical-align: top;\n",
       "    }\n",
       "\n",
       "    .dataframe thead th {\n",
       "        text-align: right;\n",
       "    }\n",
       "</style>\n",
       "<table border=\"1\" class=\"dataframe\">\n",
       "  <thead>\n",
       "    <tr style=\"text-align: right;\">\n",
       "      <th></th>\n",
       "      <th>OPEN</th>\n",
       "    </tr>\n",
       "    <tr>\n",
       "      <th>DATE</th>\n",
       "      <th></th>\n",
       "    </tr>\n",
       "  </thead>\n",
       "  <tbody>\n",
       "    <tr>\n",
       "      <th>2008-01-10</th>\n",
       "      <td>155.00</td>\n",
       "    </tr>\n",
       "    <tr>\n",
       "      <th>2008-01-11</th>\n",
       "      <td>153.60</td>\n",
       "    </tr>\n",
       "    <tr>\n",
       "      <th>2008-01-12</th>\n",
       "      <td>153.60</td>\n",
       "    </tr>\n",
       "    <tr>\n",
       "      <th>2008-01-13</th>\n",
       "      <td>153.60</td>\n",
       "    </tr>\n",
       "    <tr>\n",
       "      <th>2008-01-14</th>\n",
       "      <td>154.06</td>\n",
       "    </tr>\n",
       "    <tr>\n",
       "      <th>...</th>\n",
       "      <td>...</td>\n",
       "    </tr>\n",
       "    <tr>\n",
       "      <th>2020-09-26</th>\n",
       "      <td>463.30</td>\n",
       "    </tr>\n",
       "    <tr>\n",
       "      <th>2020-09-27</th>\n",
       "      <td>463.30</td>\n",
       "    </tr>\n",
       "    <tr>\n",
       "      <th>2020-09-28</th>\n",
       "      <td>464.60</td>\n",
       "    </tr>\n",
       "    <tr>\n",
       "      <th>2020-09-29</th>\n",
       "      <td>473.60</td>\n",
       "    </tr>\n",
       "    <tr>\n",
       "      <th>2020-09-30</th>\n",
       "      <td>465.80</td>\n",
       "    </tr>\n",
       "  </tbody>\n",
       "</table>\n",
       "<p>4648 rows × 1 columns</p>\n",
       "</div>"
      ],
      "text/plain": [
       "              OPEN\n",
       "DATE              \n",
       "2008-01-10  155.00\n",
       "2008-01-11  153.60\n",
       "2008-01-12  153.60\n",
       "2008-01-13  153.60\n",
       "2008-01-14  154.06\n",
       "...            ...\n",
       "2020-09-26  463.30\n",
       "2020-09-27  463.30\n",
       "2020-09-28  464.60\n",
       "2020-09-29  473.60\n",
       "2020-09-30  465.80\n",
       "\n",
       "[4648 rows x 1 columns]"
      ]
     },
     "execution_count": 12,
     "metadata": {},
     "output_type": "execute_result"
    }
   ],
   "source": [
    "dataset2"
   ]
  },
  {
   "cell_type": "markdown",
   "metadata": {},
   "source": [
    "# Строим график"
   ]
  },
  {
   "cell_type": "code",
   "execution_count": 13,
   "metadata": {},
   "outputs": [],
   "source": [
    "dtst = dataset2"
   ]
  },
  {
   "cell_type": "code",
   "execution_count": 14,
   "metadata": {},
   "outputs": [
    {
     "data": {
      "text/plain": [
       "<AxesSubplot:xlabel='DATE'>"
      ]
     },
     "execution_count": 14,
     "metadata": {},
     "output_type": "execute_result"
    },
    {
     "data": {
      "image/png": "[encoded data removed]",
      "text/plain": [
       "<Figure size 864x432 with 1 Axes>"
      ]
     },
     "metadata": {
      "needs_background": "light"
     },
     "output_type": "display_data"
    }
   ],
   "source": [
    "dtst.plot(figsize=(12,6))"
   ]
  },
  {
   "cell_type": "markdown",
   "metadata": {},
   "source": [
    "### Данные с недельным интервалом"
   ]
  },
  {
   "cell_type": "code",
   "execution_count": 15,
   "metadata": {},
   "outputs": [
    {
     "data": {
      "text/plain": [
       "<AxesSubplot:xlabel='DATE'>"
      ]
     },
     "execution_count": 15,
     "metadata": {},
     "output_type": "execute_result"
    },
    {
     "data": {
      "image/png": "[encoded data removed]",
      "text/plain": [
       "<Figure size 864x432 with 1 Axes>"
      ]
     },
     "metadata": {
      "needs_background": "light"
     },
     "output_type": "display_data"
    }
   ],
   "source": [
    "dtstw = dtst.resample('W').median()\n",
    "dtstw.plot(figsize=(12,6))"
   ]
  },
  {
   "cell_type": "code",
   "execution_count": 16,
   "metadata": {},
   "outputs": [
    {
     "data": {
      "text/html": [
       "<div>\n",
       "<style scoped>\n",
       "    .dataframe tbody tr th:only-of-type {\n",
       "        vertical-align: middle;\n",
       "    }\n",
       "\n",
       "    .dataframe tbody tr th {\n",
       "        vertical-align: top;\n",
       "    }\n",
       "\n",
       "    .dataframe thead th {\n",
       "        text-align: right;\n",
       "    }\n",
       "</style>\n",
       "<table border=\"1\" class=\"dataframe\">\n",
       "  <thead>\n",
       "    <tr style=\"text-align: right;\">\n",
       "      <th></th>\n",
       "      <th>OPEN</th>\n",
       "    </tr>\n",
       "    <tr>\n",
       "      <th>DATE</th>\n",
       "      <th></th>\n",
       "    </tr>\n",
       "  </thead>\n",
       "  <tbody>\n",
       "    <tr>\n",
       "      <th>2008-01-13</th>\n",
       "      <td>153.6</td>\n",
       "    </tr>\n",
       "    <tr>\n",
       "      <th>2008-01-20</th>\n",
       "      <td>149.0</td>\n",
       "    </tr>\n",
       "    <tr>\n",
       "      <th>2008-01-27</th>\n",
       "      <td>126.5</td>\n",
       "    </tr>\n",
       "    <tr>\n",
       "      <th>2008-02-03</th>\n",
       "      <td>123.7</td>\n",
       "    </tr>\n",
       "    <tr>\n",
       "      <th>2008-02-10</th>\n",
       "      <td>122.0</td>\n",
       "    </tr>\n",
       "    <tr>\n",
       "      <th>...</th>\n",
       "      <td>...</td>\n",
       "    </tr>\n",
       "    <tr>\n",
       "      <th>2020-09-06</th>\n",
       "      <td>543.6</td>\n",
       "    </tr>\n",
       "    <tr>\n",
       "      <th>2020-09-13</th>\n",
       "      <td>533.3</td>\n",
       "    </tr>\n",
       "    <tr>\n",
       "      <th>2020-09-20</th>\n",
       "      <td>531.6</td>\n",
       "    </tr>\n",
       "    <tr>\n",
       "      <th>2020-09-27</th>\n",
       "      <td>467.2</td>\n",
       "    </tr>\n",
       "    <tr>\n",
       "      <th>2020-10-04</th>\n",
       "      <td>465.8</td>\n",
       "    </tr>\n",
       "  </tbody>\n",
       "</table>\n",
       "<p>665 rows × 1 columns</p>\n",
       "</div>"
      ],
      "text/plain": [
       "             OPEN\n",
       "DATE             \n",
       "2008-01-13  153.6\n",
       "2008-01-20  149.0\n",
       "2008-01-27  126.5\n",
       "2008-02-03  123.7\n",
       "2008-02-10  122.0\n",
       "...           ...\n",
       "2020-09-06  543.6\n",
       "2020-09-13  533.3\n",
       "2020-09-20  531.6\n",
       "2020-09-27  467.2\n",
       "2020-10-04  465.8\n",
       "\n",
       "[665 rows x 1 columns]"
      ]
     },
     "execution_count": 16,
     "metadata": {},
     "output_type": "execute_result"
    }
   ],
   "source": [
    "dtstw"
   ]
  },
  {
   "cell_type": "code",
   "execution_count": 17,
   "metadata": {},
   "outputs": [],
   "source": [
    "dtstw.to_csv('week_qTATN.csv', sep=';')"
   ]
  },
  {
   "cell_type": "markdown",
   "metadata": {},
   "source": [
    "### Гистограмма с полными данными"
   ]
  },
  {
   "cell_type": "code",
   "execution_count": 18,
   "metadata": {},
   "outputs": [
    {
     "data": {
      "text/html": [
       "<div>\n",
       "<style scoped>\n",
       "    .dataframe tbody tr th:only-of-type {\n",
       "        vertical-align: middle;\n",
       "    }\n",
       "\n",
       "    .dataframe tbody tr th {\n",
       "        vertical-align: top;\n",
       "    }\n",
       "\n",
       "    .dataframe thead th {\n",
       "        text-align: right;\n",
       "    }\n",
       "</style>\n",
       "<table border=\"1\" class=\"dataframe\">\n",
       "  <thead>\n",
       "    <tr style=\"text-align: right;\">\n",
       "      <th></th>\n",
       "      <th>OPEN</th>\n",
       "    </tr>\n",
       "  </thead>\n",
       "  <tbody>\n",
       "    <tr>\n",
       "      <th>count</th>\n",
       "      <td>4648.000000</td>\n",
       "    </tr>\n",
       "    <tr>\n",
       "      <th>mean</th>\n",
       "      <td>320.623819</td>\n",
       "    </tr>\n",
       "    <tr>\n",
       "      <th>std</th>\n",
       "      <td>214.293071</td>\n",
       "    </tr>\n",
       "    <tr>\n",
       "      <th>min</th>\n",
       "      <td>27.940000</td>\n",
       "    </tr>\n",
       "    <tr>\n",
       "      <th>25%</th>\n",
       "      <td>158.805000</td>\n",
       "    </tr>\n",
       "    <tr>\n",
       "      <th>50%</th>\n",
       "      <td>219.000000</td>\n",
       "    </tr>\n",
       "    <tr>\n",
       "      <th>75%</th>\n",
       "      <td>400.000000</td>\n",
       "    </tr>\n",
       "    <tr>\n",
       "      <th>max</th>\n",
       "      <td>839.200000</td>\n",
       "    </tr>\n",
       "  </tbody>\n",
       "</table>\n",
       "</div>"
      ],
      "text/plain": [
       "              OPEN\n",
       "count  4648.000000\n",
       "mean    320.623819\n",
       "std     214.293071\n",
       "min      27.940000\n",
       "25%     158.805000\n",
       "50%     219.000000\n",
       "75%     400.000000\n",
       "max     839.200000"
      ]
     },
     "execution_count": 18,
     "metadata": {},
     "output_type": "execute_result"
    },
    {
     "data": {
      "image/png": "[encoded data removed]",
      "text/plain": [
       "<Figure size 432x288 with 1 Axes>"
      ]
     },
     "metadata": {
      "needs_background": "light"
     },
     "output_type": "display_data"
    }
   ],
   "source": [
    "idtst = dtst.describe()\n",
    "dtst.hist()\n",
    "idtst"
   ]
  },
  {
   "cell_type": "markdown",
   "metadata": {},
   "source": [
    "### Гистограмма с недельным интервалом"
   ]
  },
  {
   "cell_type": "code",
   "execution_count": 19,
   "metadata": {},
   "outputs": [
    {
     "data": {
      "text/html": [
       "<div>\n",
       "<style scoped>\n",
       "    .dataframe tbody tr th:only-of-type {\n",
       "        vertical-align: middle;\n",
       "    }\n",
       "\n",
       "    .dataframe tbody tr th {\n",
       "        vertical-align: top;\n",
       "    }\n",
       "\n",
       "    .dataframe thead th {\n",
       "        text-align: right;\n",
       "    }\n",
       "</style>\n",
       "<table border=\"1\" class=\"dataframe\">\n",
       "  <thead>\n",
       "    <tr style=\"text-align: right;\">\n",
       "      <th></th>\n",
       "      <th>OPEN</th>\n",
       "    </tr>\n",
       "  </thead>\n",
       "  <tbody>\n",
       "    <tr>\n",
       "      <th>count</th>\n",
       "      <td>665.000000</td>\n",
       "    </tr>\n",
       "    <tr>\n",
       "      <th>mean</th>\n",
       "      <td>320.881669</td>\n",
       "    </tr>\n",
       "    <tr>\n",
       "      <th>std</th>\n",
       "      <td>214.519323</td>\n",
       "    </tr>\n",
       "    <tr>\n",
       "      <th>min</th>\n",
       "      <td>33.080000</td>\n",
       "    </tr>\n",
       "    <tr>\n",
       "      <th>25%</th>\n",
       "      <td>159.070000</td>\n",
       "    </tr>\n",
       "    <tr>\n",
       "      <th>50%</th>\n",
       "      <td>219.000000</td>\n",
       "    </tr>\n",
       "    <tr>\n",
       "      <th>75%</th>\n",
       "      <td>400.000000</td>\n",
       "    </tr>\n",
       "    <tr>\n",
       "      <th>max</th>\n",
       "      <td>818.700000</td>\n",
       "    </tr>\n",
       "  </tbody>\n",
       "</table>\n",
       "</div>"
      ],
      "text/plain": [
       "             OPEN\n",
       "count  665.000000\n",
       "mean   320.881669\n",
       "std    214.519323\n",
       "min     33.080000\n",
       "25%    159.070000\n",
       "50%    219.000000\n",
       "75%    400.000000\n",
       "max    818.700000"
      ]
     },
     "execution_count": 19,
     "metadata": {},
     "output_type": "execute_result"
    },
    {
     "data": {
      "image/png": "[encoded data removed]",
      "text/plain": [
       "<Figure size 432x288 with 1 Axes>"
      ]
     },
     "metadata": {
      "needs_background": "light"
     },
     "output_type": "display_data"
    }
   ],
   "source": [
    "idtstw = dtstw.describe()\n",
    "dtstw.hist()\n",
    "idtstw"
   ]
  },
  {
   "cell_type": "markdown",
   "metadata": {},
   "source": [
    "# Расчет коэффициента вариации"
   ]
  },
  {
   "cell_type": "markdown",
   "metadata": {},
   "source": [
    "### Полные данные"
   ]
  },
  {
   "cell_type": "code",
   "execution_count": 20,
   "metadata": {},
   "outputs": [],
   "source": [
    "V = idtst.loc['std']/idtst.loc['mean']"
   ]
  },
  {
   "cell_type": "code",
   "execution_count": 21,
   "metadata": {},
   "outputs": [
    {
     "data": {
      "text/plain": [
       "OPEN    0.668363\n",
       "dtype: float64"
      ]
     },
     "execution_count": 21,
     "metadata": {},
     "output_type": "execute_result"
    }
   ],
   "source": [
    "V"
   ]
  },
  {
   "cell_type": "markdown",
   "metadata": {},
   "source": [
    "### Недельные данные"
   ]
  },
  {
   "cell_type": "code",
   "execution_count": 22,
   "metadata": {},
   "outputs": [],
   "source": [
    "Vw = idtstw.loc['std']/idtstw.loc['mean']"
   ]
  },
  {
   "cell_type": "code",
   "execution_count": 23,
   "metadata": {},
   "outputs": [
    {
     "data": {
      "text/plain": [
       "OPEN    0.668531\n",
       "dtype: float64"
      ]
     },
     "execution_count": 23,
     "metadata": {},
     "output_type": "execute_result"
    }
   ],
   "source": [
    "Vw"
   ]
  },
  {
   "cell_type": "markdown",
   "metadata": {},
   "source": [
    "# Тест Харки-Бера"
   ]
  },
  {
   "cell_type": "markdown",
   "metadata": {},
   "source": [
    "### Полные данные"
   ]
  },
  {
   "cell_type": "code",
   "execution_count": 24,
   "metadata": {},
   "outputs": [
    {
     "data": {
      "text/plain": [
       "(array([0.375, 0.375, 0.375, ..., 0.375, 0.375, 0.375]),\n",
       " array([0.82902912, 0.82902912, 0.82902912, ..., 0.82902912, 0.82902912,\n",
       "        0.82902912]),\n",
       " array([0., 0., 0., ..., 0., 0., 0.]),\n",
       " array([0., 0., 0., ..., 0., 0., 0.]))"
      ]
     },
     "execution_count": 24,
     "metadata": {},
     "output_type": "execute_result"
    }
   ],
   "source": [
    "row =  [u'JB', u'p-value', u'skew', u'kurtosis']\n",
    "jb_test = sm.stats.stattools.jarque_bera(dtst, axis=1)\n",
    "jb_test"
   ]
  },
  {
   "cell_type": "code",
   "execution_count": 25,
   "metadata": {},
   "outputs": [
    {
     "data": {
      "text/plain": [
       "array([[0.375     , 0.375     , 0.375     , ..., 0.375     , 0.375     ,\n",
       "        0.375     ],\n",
       "       [0.82902912, 0.82902912, 0.82902912, ..., 0.82902912, 0.82902912,\n",
       "        0.82902912],\n",
       "       [0.        , 0.        , 0.        , ..., 0.        , 0.        ,\n",
       "        0.        ],\n",
       "       [0.        , 0.        , 0.        , ..., 0.        , 0.        ,\n",
       "        0.        ]])"
      ]
     },
     "execution_count": 25,
     "metadata": {},
     "output_type": "execute_result"
    }
   ],
   "source": [
    "a = np.vstack([jb_test])\n",
    "a"
   ]
  },
  {
   "cell_type": "code",
   "execution_count": 26,
   "metadata": {},
   "outputs": [
    {
     "data": {
      "text/html": [
       "<table class=\"simpletable\">\n",
       "<tr>\n",
       "          <th>JB</th>               <th>p-value</th>             <th>skew</th>             <th>kurtosis</th>     \n",
       "</tr>\n",
       "<tr>\n",
       "         <td>0.375</td>              <td>0.375</td>              <td>0.375</td>              <td>0.375</td>      \n",
       "</tr>\n",
       "<tr>\n",
       "  <td>0.8290291181804004</td> <td>0.8290291181804004</td> <td>0.8290291181804004</td> <td>0.8290291181804004</td>\n",
       "</tr>\n",
       "<tr>\n",
       "          <td>0.0</td>                <td>0.0</td>                <td>0.0</td>                <td>0.0</td>       \n",
       "</tr>\n",
       "<tr>\n",
       "          <td>0.0</td>                <td>0.0</td>                <td>0.0</td>                <td>0.0</td>       \n",
       "</tr>\n",
       "</table>"
      ],
      "text/plain": [
       "<class 'statsmodels.iolib.table.SimpleTable'>"
      ]
     },
     "execution_count": 26,
     "metadata": {},
     "output_type": "execute_result"
    }
   ],
   "source": [
    "idtst = SimpleTable(a, row)\n",
    "idtst"
   ]
  },
  {
   "cell_type": "markdown",
   "metadata": {},
   "source": [
    "### Недельные данные\n"
   ]
  },
  {
   "cell_type": "code",
   "execution_count": 27,
   "metadata": {
    "scrolled": true
   },
   "outputs": [
    {
     "data": {
      "text/plain": [
       "(array([0.375, 0.375, 0.375, 0.375, 0.375, 0.375, 0.375, 0.375, 0.375,\n",
       "        0.375, 0.375, 0.375, 0.375, 0.375, 0.375, 0.375, 0.375, 0.375,\n",
       "        0.375, 0.375, 0.375, 0.375, 0.375, 0.375, 0.375, 0.375, 0.375,\n",
       "        0.375, 0.375, 0.375, 0.375, 0.375, 0.375, 0.375, 0.375, 0.375,\n",
       "        0.375, 0.375, 0.375, 0.375, 0.375, 0.375, 0.375, 0.375, 0.375,\n",
       "        0.375, 0.375, 0.375, 0.375, 0.375, 0.375, 0.375, 0.375, 0.375,\n",
       "        0.375, 0.375, 0.375, 0.375, 0.375, 0.375, 0.375, 0.375, 0.375,\n",
       "        0.375, 0.375, 0.375, 0.375, 0.375, 0.375, 0.375, 0.375, 0.375,\n",
       "        0.375, 0.375, 0.375, 0.375, 0.375, 0.375, 0.375, 0.375, 0.375,\n",
       "        0.375, 0.375, 0.375, 0.375, 0.375, 0.375, 0.375, 0.375, 0.375,\n",
       "        0.375, 0.375, 0.375, 0.375, 0.375, 0.375, 0.375, 0.375, 0.375,\n",
       "        0.375, 0.375, 0.375, 0.375, 0.375, 0.375, 0.375, 0.375, 0.375,\n",
       "        0.375, 0.375, 0.375, 0.375, 0.375, 0.375, 0.375, 0.375, 0.375,\n",
       "        0.375, 0.375, 0.375, 0.375, 0.375, 0.375, 0.375, 0.375, 0.375,\n",
       "        0.375, 0.375, 0.375, 0.375, 0.375, 0.375, 0.375, 0.375, 0.375,\n",
       "        0.375, 0.375, 0.375, 0.375, 0.375, 0.375, 0.375, 0.375, 0.375,\n",
       "        0.375, 0.375, 0.375, 0.375, 0.375, 0.375, 0.375, 0.375, 0.375,\n",
       "        0.375, 0.375, 0.375, 0.375, 0.375, 0.375, 0.375, 0.375, 0.375,\n",
       "        0.375, 0.375, 0.375, 0.375, 0.375, 0.375, 0.375, 0.375, 0.375,\n",
       "        0.375, 0.375, 0.375, 0.375, 0.375, 0.375, 0.375, 0.375, 0.375,\n",
       "        0.375, 0.375, 0.375, 0.375, 0.375, 0.375, 0.375, 0.375, 0.375,\n",
       "        0.375, 0.375, 0.375, 0.375, 0.375, 0.375, 0.375, 0.375, 0.375,\n",
       "        0.375, 0.375, 0.375, 0.375, 0.375, 0.375, 0.375, 0.375, 0.375,\n",
       "        0.375, 0.375, 0.375, 0.375, 0.375, 0.375, 0.375, 0.375, 0.375,\n",
       "        0.375, 0.375, 0.375, 0.375, 0.375, 0.375, 0.375, 0.375, 0.375,\n",
       "        0.375, 0.375, 0.375, 0.375, 0.375, 0.375, 0.375, 0.375, 0.375,\n",
       "        0.375, 0.375, 0.375, 0.375, 0.375, 0.375, 0.375, 0.375, 0.375,\n",
       "        0.375, 0.375, 0.375, 0.375, 0.375, 0.375, 0.375, 0.375, 0.375,\n",
       "        0.375, 0.375, 0.375, 0.375, 0.375, 0.375, 0.375, 0.375, 0.375,\n",
       "        0.375, 0.375, 0.375, 0.375, 0.375, 0.375, 0.375, 0.375, 0.375,\n",
       "        0.375, 0.375, 0.375, 0.375, 0.375, 0.375, 0.375, 0.375, 0.375,\n",
       "        0.375, 0.375, 0.375, 0.375, 0.375, 0.375, 0.375, 0.375, 0.375,\n",
       "        0.375, 0.375, 0.375, 0.375, 0.375, 0.375, 0.375, 0.375, 0.375,\n",
       "        0.375, 0.375, 0.375, 0.375, 0.375, 0.375, 0.375, 0.375, 0.375,\n",
       "        0.375, 0.375, 0.375, 0.375, 0.375, 0.375, 0.375, 0.375, 0.375,\n",
       "        0.375, 0.375, 0.375, 0.375, 0.375, 0.375, 0.375, 0.375, 0.375,\n",
       "        0.375, 0.375, 0.375, 0.375, 0.375, 0.375, 0.375, 0.375, 0.375,\n",
       "        0.375, 0.375, 0.375, 0.375, 0.375, 0.375, 0.375, 0.375, 0.375,\n",
       "        0.375, 0.375, 0.375, 0.375, 0.375, 0.375, 0.375, 0.375, 0.375,\n",
       "        0.375, 0.375, 0.375, 0.375, 0.375, 0.375, 0.375, 0.375, 0.375,\n",
       "        0.375, 0.375, 0.375, 0.375, 0.375, 0.375, 0.375, 0.375, 0.375,\n",
       "        0.375, 0.375, 0.375, 0.375, 0.375, 0.375, 0.375, 0.375, 0.375,\n",
       "        0.375, 0.375, 0.375, 0.375, 0.375, 0.375, 0.375, 0.375, 0.375,\n",
       "        0.375, 0.375, 0.375, 0.375, 0.375, 0.375, 0.375, 0.375, 0.375,\n",
       "        0.375, 0.375, 0.375, 0.375, 0.375, 0.375, 0.375, 0.375, 0.375,\n",
       "        0.375, 0.375, 0.375, 0.375, 0.375, 0.375, 0.375, 0.375, 0.375,\n",
       "        0.375, 0.375, 0.375, 0.375, 0.375, 0.375, 0.375, 0.375, 0.375,\n",
       "        0.375, 0.375, 0.375, 0.375, 0.375, 0.375, 0.375, 0.375, 0.375,\n",
       "        0.375, 0.375, 0.375, 0.375, 0.375, 0.375, 0.375, 0.375, 0.375,\n",
       "        0.375, 0.375, 0.375, 0.375, 0.375, 0.375, 0.375, 0.375, 0.375,\n",
       "        0.375, 0.375, 0.375, 0.375, 0.375, 0.375, 0.375, 0.375, 0.375,\n",
       "        0.375, 0.375, 0.375, 0.375, 0.375, 0.375, 0.375, 0.375, 0.375,\n",
       "        0.375, 0.375, 0.375, 0.375, 0.375, 0.375, 0.375, 0.375, 0.375,\n",
       "        0.375, 0.375, 0.375, 0.375, 0.375, 0.375, 0.375, 0.375, 0.375,\n",
       "        0.375, 0.375, 0.375, 0.375, 0.375, 0.375, 0.375, 0.375, 0.375,\n",
       "        0.375, 0.375, 0.375, 0.375, 0.375, 0.375, 0.375, 0.375, 0.375,\n",
       "        0.375, 0.375, 0.375, 0.375, 0.375, 0.375, 0.375, 0.375, 0.375,\n",
       "        0.375, 0.375, 0.375, 0.375, 0.375, 0.375, 0.375, 0.375, 0.375,\n",
       "        0.375, 0.375, 0.375, 0.375, 0.375, 0.375, 0.375, 0.375, 0.375,\n",
       "        0.375, 0.375, 0.375, 0.375, 0.375, 0.375, 0.375, 0.375, 0.375,\n",
       "        0.375, 0.375, 0.375, 0.375, 0.375, 0.375, 0.375, 0.375, 0.375,\n",
       "        0.375, 0.375, 0.375, 0.375, 0.375, 0.375, 0.375, 0.375, 0.375,\n",
       "        0.375, 0.375, 0.375, 0.375, 0.375, 0.375, 0.375, 0.375, 0.375,\n",
       "        0.375, 0.375, 0.375, 0.375, 0.375, 0.375, 0.375, 0.375, 0.375,\n",
       "        0.375, 0.375, 0.375, 0.375, 0.375, 0.375, 0.375, 0.375, 0.375,\n",
       "        0.375, 0.375, 0.375, 0.375, 0.375, 0.375, 0.375, 0.375, 0.375,\n",
       "        0.375, 0.375, 0.375, 0.375, 0.375, 0.375, 0.375, 0.375, 0.375,\n",
       "        0.375, 0.375, 0.375, 0.375, 0.375, 0.375, 0.375, 0.375, 0.375,\n",
       "        0.375, 0.375, 0.375, 0.375, 0.375, 0.375, 0.375, 0.375, 0.375,\n",
       "        0.375, 0.375, 0.375, 0.375, 0.375, 0.375, 0.375, 0.375, 0.375,\n",
       "        0.375, 0.375, 0.375, 0.375, 0.375, 0.375, 0.375, 0.375, 0.375,\n",
       "        0.375, 0.375, 0.375, 0.375, 0.375, 0.375, 0.375, 0.375, 0.375,\n",
       "        0.375, 0.375, 0.375, 0.375, 0.375, 0.375, 0.375, 0.375, 0.375,\n",
       "        0.375, 0.375, 0.375, 0.375, 0.375, 0.375, 0.375, 0.375]),\n",
       " array([0.82902912, 0.82902912, 0.82902912, 0.82902912, 0.82902912,\n",
       "        0.82902912, 0.82902912, 0.82902912, 0.82902912, 0.82902912,\n",
       "        0.82902912, 0.82902912, 0.82902912, 0.82902912, 0.82902912,\n",
       "        0.82902912, 0.82902912, 0.82902912, 0.82902912, 0.82902912,\n",
       "        0.82902912, 0.82902912, 0.82902912, 0.82902912, 0.82902912,\n",
       "        0.82902912, 0.82902912, 0.82902912, 0.82902912, 0.82902912,\n",
       "        0.82902912, 0.82902912, 0.82902912, 0.82902912, 0.82902912,\n",
       "        0.82902912, 0.82902912, 0.82902912, 0.82902912, 0.82902912,\n",
       "        0.82902912, 0.82902912, 0.82902912, 0.82902912, 0.82902912,\n",
       "        0.82902912, 0.82902912, 0.82902912, 0.82902912, 0.82902912,\n",
       "        0.82902912, 0.82902912, 0.82902912, 0.82902912, 0.82902912,\n",
       "        0.82902912, 0.82902912, 0.82902912, 0.82902912, 0.82902912,\n",
       "        0.82902912, 0.82902912, 0.82902912, 0.82902912, 0.82902912,\n",
       "        0.82902912, 0.82902912, 0.82902912, 0.82902912, 0.82902912,\n",
       "        0.82902912, 0.82902912, 0.82902912, 0.82902912, 0.82902912,\n",
       "        0.82902912, 0.82902912, 0.82902912, 0.82902912, 0.82902912,\n",
       "        0.82902912, 0.82902912, 0.82902912, 0.82902912, 0.82902912,\n",
       "        0.82902912, 0.82902912, 0.82902912, 0.82902912, 0.82902912,\n",
       "        0.82902912, 0.82902912, 0.82902912, 0.82902912, 0.82902912,\n",
       "        0.82902912, 0.82902912, 0.82902912, 0.82902912, 0.82902912,\n",
       "        0.82902912, 0.82902912, 0.82902912, 0.82902912, 0.82902912,\n",
       "        0.82902912, 0.82902912, 0.82902912, 0.82902912, 0.82902912,\n",
       "        0.82902912, 0.82902912, 0.82902912, 0.82902912, 0.82902912,\n",
       "        0.82902912, 0.82902912, 0.82902912, 0.82902912, 0.82902912,\n",
       "        0.82902912, 0.82902912, 0.82902912, 0.82902912, 0.82902912,\n",
       "        0.82902912, 0.82902912, 0.82902912, 0.82902912, 0.82902912,\n",
       "        0.82902912, 0.82902912, 0.82902912, 0.82902912, 0.82902912,\n",
       "        0.82902912, 0.82902912, 0.82902912, 0.82902912, 0.82902912,\n",
       "        0.82902912, 0.82902912, 0.82902912, 0.82902912, 0.82902912,\n",
       "        0.82902912, 0.82902912, 0.82902912, 0.82902912, 0.82902912,\n",
       "        0.82902912, 0.82902912, 0.82902912, 0.82902912, 0.82902912,\n",
       "        0.82902912, 0.82902912, 0.82902912, 0.82902912, 0.82902912,\n",
       "        0.82902912, 0.82902912, 0.82902912, 0.82902912, 0.82902912,\n",
       "        0.82902912, 0.82902912, 0.82902912, 0.82902912, 0.82902912,\n",
       "        0.82902912, 0.82902912, 0.82902912, 0.82902912, 0.82902912,\n",
       "        0.82902912, 0.82902912, 0.82902912, 0.82902912, 0.82902912,\n",
       "        0.82902912, 0.82902912, 0.82902912, 0.82902912, 0.82902912,\n",
       "        0.82902912, 0.82902912, 0.82902912, 0.82902912, 0.82902912,\n",
       "        0.82902912, 0.82902912, 0.82902912, 0.82902912, 0.82902912,\n",
       "        0.82902912, 0.82902912, 0.82902912, 0.82902912, 0.82902912,\n",
       "        0.82902912, 0.82902912, 0.82902912, 0.82902912, 0.82902912,\n",
       "        0.82902912, 0.82902912, 0.82902912, 0.82902912, 0.82902912,\n",
       "        0.82902912, 0.82902912, 0.82902912, 0.82902912, 0.82902912,\n",
       "        0.82902912, 0.82902912, 0.82902912, 0.82902912, 0.82902912,\n",
       "        0.82902912, 0.82902912, 0.82902912, 0.82902912, 0.82902912,\n",
       "        0.82902912, 0.82902912, 0.82902912, 0.82902912, 0.82902912,\n",
       "        0.82902912, 0.82902912, 0.82902912, 0.82902912, 0.82902912,\n",
       "        0.82902912, 0.82902912, 0.82902912, 0.82902912, 0.82902912,\n",
       "        0.82902912, 0.82902912, 0.82902912, 0.82902912, 0.82902912,\n",
       "        0.82902912, 0.82902912, 0.82902912, 0.82902912, 0.82902912,\n",
       "        0.82902912, 0.82902912, 0.82902912, 0.82902912, 0.82902912,\n",
       "        0.82902912, 0.82902912, 0.82902912, 0.82902912, 0.82902912,\n",
       "        0.82902912, 0.82902912, 0.82902912, 0.82902912, 0.82902912,\n",
       "        0.82902912, 0.82902912, 0.82902912, 0.82902912, 0.82902912,\n",
       "        0.82902912, 0.82902912, 0.82902912, 0.82902912, 0.82902912,\n",
       "        0.82902912, 0.82902912, 0.82902912, 0.82902912, 0.82902912,\n",
       "        0.82902912, 0.82902912, 0.82902912, 0.82902912, 0.82902912,\n",
       "        0.82902912, 0.82902912, 0.82902912, 0.82902912, 0.82902912,\n",
       "        0.82902912, 0.82902912, 0.82902912, 0.82902912, 0.82902912,\n",
       "        0.82902912, 0.82902912, 0.82902912, 0.82902912, 0.82902912,\n",
       "        0.82902912, 0.82902912, 0.82902912, 0.82902912, 0.82902912,\n",
       "        0.82902912, 0.82902912, 0.82902912, 0.82902912, 0.82902912,\n",
       "        0.82902912, 0.82902912, 0.82902912, 0.82902912, 0.82902912,\n",
       "        0.82902912, 0.82902912, 0.82902912, 0.82902912, 0.82902912,\n",
       "        0.82902912, 0.82902912, 0.82902912, 0.82902912, 0.82902912,\n",
       "        0.82902912, 0.82902912, 0.82902912, 0.82902912, 0.82902912,\n",
       "        0.82902912, 0.82902912, 0.82902912, 0.82902912, 0.82902912,\n",
       "        0.82902912, 0.82902912, 0.82902912, 0.82902912, 0.82902912,\n",
       "        0.82902912, 0.82902912, 0.82902912, 0.82902912, 0.82902912,\n",
       "        0.82902912, 0.82902912, 0.82902912, 0.82902912, 0.82902912,\n",
       "        0.82902912, 0.82902912, 0.82902912, 0.82902912, 0.82902912,\n",
       "        0.82902912, 0.82902912, 0.82902912, 0.82902912, 0.82902912,\n",
       "        0.82902912, 0.82902912, 0.82902912, 0.82902912, 0.82902912,\n",
       "        0.82902912, 0.82902912, 0.82902912, 0.82902912, 0.82902912,\n",
       "        0.82902912, 0.82902912, 0.82902912, 0.82902912, 0.82902912,\n",
       "        0.82902912, 0.82902912, 0.82902912, 0.82902912, 0.82902912,\n",
       "        0.82902912, 0.82902912, 0.82902912, 0.82902912, 0.82902912,\n",
       "        0.82902912, 0.82902912, 0.82902912, 0.82902912, 0.82902912,\n",
       "        0.82902912, 0.82902912, 0.82902912, 0.82902912, 0.82902912,\n",
       "        0.82902912, 0.82902912, 0.82902912, 0.82902912, 0.82902912,\n",
       "        0.82902912, 0.82902912, 0.82902912, 0.82902912, 0.82902912,\n",
       "        0.82902912, 0.82902912, 0.82902912, 0.82902912, 0.82902912,\n",
       "        0.82902912, 0.82902912, 0.82902912, 0.82902912, 0.82902912,\n",
       "        0.82902912, 0.82902912, 0.82902912, 0.82902912, 0.82902912,\n",
       "        0.82902912, 0.82902912, 0.82902912, 0.82902912, 0.82902912,\n",
       "        0.82902912, 0.82902912, 0.82902912, 0.82902912, 0.82902912,\n",
       "        0.82902912, 0.82902912, 0.82902912, 0.82902912, 0.82902912,\n",
       "        0.82902912, 0.82902912, 0.82902912, 0.82902912, 0.82902912,\n",
       "        0.82902912, 0.82902912, 0.82902912, 0.82902912, 0.82902912,\n",
       "        0.82902912, 0.82902912, 0.82902912, 0.82902912, 0.82902912,\n",
       "        0.82902912, 0.82902912, 0.82902912, 0.82902912, 0.82902912,\n",
       "        0.82902912, 0.82902912, 0.82902912, 0.82902912, 0.82902912,\n",
       "        0.82902912, 0.82902912, 0.82902912, 0.82902912, 0.82902912,\n",
       "        0.82902912, 0.82902912, 0.82902912, 0.82902912, 0.82902912,\n",
       "        0.82902912, 0.82902912, 0.82902912, 0.82902912, 0.82902912,\n",
       "        0.82902912, 0.82902912, 0.82902912, 0.82902912, 0.82902912,\n",
       "        0.82902912, 0.82902912, 0.82902912, 0.82902912, 0.82902912,\n",
       "        0.82902912, 0.82902912, 0.82902912, 0.82902912, 0.82902912,\n",
       "        0.82902912, 0.82902912, 0.82902912, 0.82902912, 0.82902912,\n",
       "        0.82902912, 0.82902912, 0.82902912, 0.82902912, 0.82902912,\n",
       "        0.82902912, 0.82902912, 0.82902912, 0.82902912, 0.82902912,\n",
       "        0.82902912, 0.82902912, 0.82902912, 0.82902912, 0.82902912,\n",
       "        0.82902912, 0.82902912, 0.82902912, 0.82902912, 0.82902912,\n",
       "        0.82902912, 0.82902912, 0.82902912, 0.82902912, 0.82902912,\n",
       "        0.82902912, 0.82902912, 0.82902912, 0.82902912, 0.82902912,\n",
       "        0.82902912, 0.82902912, 0.82902912, 0.82902912, 0.82902912,\n",
       "        0.82902912, 0.82902912, 0.82902912, 0.82902912, 0.82902912,\n",
       "        0.82902912, 0.82902912, 0.82902912, 0.82902912, 0.82902912,\n",
       "        0.82902912, 0.82902912, 0.82902912, 0.82902912, 0.82902912,\n",
       "        0.82902912, 0.82902912, 0.82902912, 0.82902912, 0.82902912,\n",
       "        0.82902912, 0.82902912, 0.82902912, 0.82902912, 0.82902912,\n",
       "        0.82902912, 0.82902912, 0.82902912, 0.82902912, 0.82902912,\n",
       "        0.82902912, 0.82902912, 0.82902912, 0.82902912, 0.82902912,\n",
       "        0.82902912, 0.82902912, 0.82902912, 0.82902912, 0.82902912,\n",
       "        0.82902912, 0.82902912, 0.82902912, 0.82902912, 0.82902912,\n",
       "        0.82902912, 0.82902912, 0.82902912, 0.82902912, 0.82902912,\n",
       "        0.82902912, 0.82902912, 0.82902912, 0.82902912, 0.82902912,\n",
       "        0.82902912, 0.82902912, 0.82902912, 0.82902912, 0.82902912,\n",
       "        0.82902912, 0.82902912, 0.82902912, 0.82902912, 0.82902912,\n",
       "        0.82902912, 0.82902912, 0.82902912, 0.82902912, 0.82902912,\n",
       "        0.82902912, 0.82902912, 0.82902912, 0.82902912, 0.82902912,\n",
       "        0.82902912, 0.82902912, 0.82902912, 0.82902912, 0.82902912,\n",
       "        0.82902912, 0.82902912, 0.82902912, 0.82902912, 0.82902912,\n",
       "        0.82902912, 0.82902912, 0.82902912, 0.82902912, 0.82902912,\n",
       "        0.82902912, 0.82902912, 0.82902912, 0.82902912, 0.82902912,\n",
       "        0.82902912, 0.82902912, 0.82902912, 0.82902912, 0.82902912,\n",
       "        0.82902912, 0.82902912, 0.82902912, 0.82902912, 0.82902912,\n",
       "        0.82902912, 0.82902912, 0.82902912, 0.82902912, 0.82902912,\n",
       "        0.82902912, 0.82902912, 0.82902912, 0.82902912, 0.82902912,\n",
       "        0.82902912, 0.82902912, 0.82902912, 0.82902912, 0.82902912,\n",
       "        0.82902912, 0.82902912, 0.82902912, 0.82902912, 0.82902912,\n",
       "        0.82902912, 0.82902912, 0.82902912, 0.82902912, 0.82902912,\n",
       "        0.82902912, 0.82902912, 0.82902912, 0.82902912, 0.82902912]),\n",
       " array([0., 0., 0., 0., 0., 0., 0., 0., 0., 0., 0., 0., 0., 0., 0., 0., 0.,\n",
       "        0., 0., 0., 0., 0., 0., 0., 0., 0., 0., 0., 0., 0., 0., 0., 0., 0.,\n",
       "        0., 0., 0., 0., 0., 0., 0., 0., 0., 0., 0., 0., 0., 0., 0., 0., 0.,\n",
       "        0., 0., 0., 0., 0., 0., 0., 0., 0., 0., 0., 0., 0., 0., 0., 0., 0.,\n",
       "        0., 0., 0., 0., 0., 0., 0., 0., 0., 0., 0., 0., 0., 0., 0., 0., 0.,\n",
       "        0., 0., 0., 0., 0., 0., 0., 0., 0., 0., 0., 0., 0., 0., 0., 0., 0.,\n",
       "        0., 0., 0., 0., 0., 0., 0., 0., 0., 0., 0., 0., 0., 0., 0., 0., 0.,\n",
       "        0., 0., 0., 0., 0., 0., 0., 0., 0., 0., 0., 0., 0., 0., 0., 0., 0.,\n",
       "        0., 0., 0., 0., 0., 0., 0., 0., 0., 0., 0., 0., 0., 0., 0., 0., 0.,\n",
       "        0., 0., 0., 0., 0., 0., 0., 0., 0., 0., 0., 0., 0., 0., 0., 0., 0.,\n",
       "        0., 0., 0., 0., 0., 0., 0., 0., 0., 0., 0., 0., 0., 0., 0., 0., 0.,\n",
       "        0., 0., 0., 0., 0., 0., 0., 0., 0., 0., 0., 0., 0., 0., 0., 0., 0.,\n",
       "        0., 0., 0., 0., 0., 0., 0., 0., 0., 0., 0., 0., 0., 0., 0., 0., 0.,\n",
       "        0., 0., 0., 0., 0., 0., 0., 0., 0., 0., 0., 0., 0., 0., 0., 0., 0.,\n",
       "        0., 0., 0., 0., 0., 0., 0., 0., 0., 0., 0., 0., 0., 0., 0., 0., 0.,\n",
       "        0., 0., 0., 0., 0., 0., 0., 0., 0., 0., 0., 0., 0., 0., 0., 0., 0.,\n",
       "        0., 0., 0., 0., 0., 0., 0., 0., 0., 0., 0., 0., 0., 0., 0., 0., 0.,\n",
       "        0., 0., 0., 0., 0., 0., 0., 0., 0., 0., 0., 0., 0., 0., 0., 0., 0.,\n",
       "        0., 0., 0., 0., 0., 0., 0., 0., 0., 0., 0., 0., 0., 0., 0., 0., 0.,\n",
       "        0., 0., 0., 0., 0., 0., 0., 0., 0., 0., 0., 0., 0., 0., 0., 0., 0.,\n",
       "        0., 0., 0., 0., 0., 0., 0., 0., 0., 0., 0., 0., 0., 0., 0., 0., 0.,\n",
       "        0., 0., 0., 0., 0., 0., 0., 0., 0., 0., 0., 0., 0., 0., 0., 0., 0.,\n",
       "        0., 0., 0., 0., 0., 0., 0., 0., 0., 0., 0., 0., 0., 0., 0., 0., 0.,\n",
       "        0., 0., 0., 0., 0., 0., 0., 0., 0., 0., 0., 0., 0., 0., 0., 0., 0.,\n",
       "        0., 0., 0., 0., 0., 0., 0., 0., 0., 0., 0., 0., 0., 0., 0., 0., 0.,\n",
       "        0., 0., 0., 0., 0., 0., 0., 0., 0., 0., 0., 0., 0., 0., 0., 0., 0.,\n",
       "        0., 0., 0., 0., 0., 0., 0., 0., 0., 0., 0., 0., 0., 0., 0., 0., 0.,\n",
       "        0., 0., 0., 0., 0., 0., 0., 0., 0., 0., 0., 0., 0., 0., 0., 0., 0.,\n",
       "        0., 0., 0., 0., 0., 0., 0., 0., 0., 0., 0., 0., 0., 0., 0., 0., 0.,\n",
       "        0., 0., 0., 0., 0., 0., 0., 0., 0., 0., 0., 0., 0., 0., 0., 0., 0.,\n",
       "        0., 0., 0., 0., 0., 0., 0., 0., 0., 0., 0., 0., 0., 0., 0., 0., 0.,\n",
       "        0., 0., 0., 0., 0., 0., 0., 0., 0., 0., 0., 0., 0., 0., 0., 0., 0.,\n",
       "        0., 0., 0., 0., 0., 0., 0., 0., 0., 0., 0., 0., 0., 0., 0., 0., 0.,\n",
       "        0., 0., 0., 0., 0., 0., 0., 0., 0., 0., 0., 0., 0., 0., 0., 0., 0.,\n",
       "        0., 0., 0., 0., 0., 0., 0., 0., 0., 0., 0., 0., 0., 0., 0., 0., 0.,\n",
       "        0., 0., 0., 0., 0., 0., 0., 0., 0., 0., 0., 0., 0., 0., 0., 0., 0.,\n",
       "        0., 0., 0., 0., 0., 0., 0., 0., 0., 0., 0., 0., 0., 0., 0., 0., 0.,\n",
       "        0., 0., 0., 0., 0., 0., 0., 0., 0., 0., 0., 0., 0., 0., 0., 0., 0.,\n",
       "        0., 0., 0., 0., 0., 0., 0., 0., 0., 0., 0., 0., 0., 0., 0., 0., 0.,\n",
       "        0., 0.]),\n",
       " array([0., 0., 0., 0., 0., 0., 0., 0., 0., 0., 0., 0., 0., 0., 0., 0., 0.,\n",
       "        0., 0., 0., 0., 0., 0., 0., 0., 0., 0., 0., 0., 0., 0., 0., 0., 0.,\n",
       "        0., 0., 0., 0., 0., 0., 0., 0., 0., 0., 0., 0., 0., 0., 0., 0., 0.,\n",
       "        0., 0., 0., 0., 0., 0., 0., 0., 0., 0., 0., 0., 0., 0., 0., 0., 0.,\n",
       "        0., 0., 0., 0., 0., 0., 0., 0., 0., 0., 0., 0., 0., 0., 0., 0., 0.,\n",
       "        0., 0., 0., 0., 0., 0., 0., 0., 0., 0., 0., 0., 0., 0., 0., 0., 0.,\n",
       "        0., 0., 0., 0., 0., 0., 0., 0., 0., 0., 0., 0., 0., 0., 0., 0., 0.,\n",
       "        0., 0., 0., 0., 0., 0., 0., 0., 0., 0., 0., 0., 0., 0., 0., 0., 0.,\n",
       "        0., 0., 0., 0., 0., 0., 0., 0., 0., 0., 0., 0., 0., 0., 0., 0., 0.,\n",
       "        0., 0., 0., 0., 0., 0., 0., 0., 0., 0., 0., 0., 0., 0., 0., 0., 0.,\n",
       "        0., 0., 0., 0., 0., 0., 0., 0., 0., 0., 0., 0., 0., 0., 0., 0., 0.,\n",
       "        0., 0., 0., 0., 0., 0., 0., 0., 0., 0., 0., 0., 0., 0., 0., 0., 0.,\n",
       "        0., 0., 0., 0., 0., 0., 0., 0., 0., 0., 0., 0., 0., 0., 0., 0., 0.,\n",
       "        0., 0., 0., 0., 0., 0., 0., 0., 0., 0., 0., 0., 0., 0., 0., 0., 0.,\n",
       "        0., 0., 0., 0., 0., 0., 0., 0., 0., 0., 0., 0., 0., 0., 0., 0., 0.,\n",
       "        0., 0., 0., 0., 0., 0., 0., 0., 0., 0., 0., 0., 0., 0., 0., 0., 0.,\n",
       "        0., 0., 0., 0., 0., 0., 0., 0., 0., 0., 0., 0., 0., 0., 0., 0., 0.,\n",
       "        0., 0., 0., 0., 0., 0., 0., 0., 0., 0., 0., 0., 0., 0., 0., 0., 0.,\n",
       "        0., 0., 0., 0., 0., 0., 0., 0., 0., 0., 0., 0., 0., 0., 0., 0., 0.,\n",
       "        0., 0., 0., 0., 0., 0., 0., 0., 0., 0., 0., 0., 0., 0., 0., 0., 0.,\n",
       "        0., 0., 0., 0., 0., 0., 0., 0., 0., 0., 0., 0., 0., 0., 0., 0., 0.,\n",
       "        0., 0., 0., 0., 0., 0., 0., 0., 0., 0., 0., 0., 0., 0., 0., 0., 0.,\n",
       "        0., 0., 0., 0., 0., 0., 0., 0., 0., 0., 0., 0., 0., 0., 0., 0., 0.,\n",
       "        0., 0., 0., 0., 0., 0., 0., 0., 0., 0., 0., 0., 0., 0., 0., 0., 0.,\n",
       "        0., 0., 0., 0., 0., 0., 0., 0., 0., 0., 0., 0., 0., 0., 0., 0., 0.,\n",
       "        0., 0., 0., 0., 0., 0., 0., 0., 0., 0., 0., 0., 0., 0., 0., 0., 0.,\n",
       "        0., 0., 0., 0., 0., 0., 0., 0., 0., 0., 0., 0., 0., 0., 0., 0., 0.,\n",
       "        0., 0., 0., 0., 0., 0., 0., 0., 0., 0., 0., 0., 0., 0., 0., 0., 0.,\n",
       "        0., 0., 0., 0., 0., 0., 0., 0., 0., 0., 0., 0., 0., 0., 0., 0., 0.,\n",
       "        0., 0., 0., 0., 0., 0., 0., 0., 0., 0., 0., 0., 0., 0., 0., 0., 0.,\n",
       "        0., 0., 0., 0., 0., 0., 0., 0., 0., 0., 0., 0., 0., 0., 0., 0., 0.,\n",
       "        0., 0., 0., 0., 0., 0., 0., 0., 0., 0., 0., 0., 0., 0., 0., 0., 0.,\n",
       "        0., 0., 0., 0., 0., 0., 0., 0., 0., 0., 0., 0., 0., 0., 0., 0., 0.,\n",
       "        0., 0., 0., 0., 0., 0., 0., 0., 0., 0., 0., 0., 0., 0., 0., 0., 0.,\n",
       "        0., 0., 0., 0., 0., 0., 0., 0., 0., 0., 0., 0., 0., 0., 0., 0., 0.,\n",
       "        0., 0., 0., 0., 0., 0., 0., 0., 0., 0., 0., 0., 0., 0., 0., 0., 0.,\n",
       "        0., 0., 0., 0., 0., 0., 0., 0., 0., 0., 0., 0., 0., 0., 0., 0., 0.,\n",
       "        0., 0., 0., 0., 0., 0., 0., 0., 0., 0., 0., 0., 0., 0., 0., 0., 0.,\n",
       "        0., 0., 0., 0., 0., 0., 0., 0., 0., 0., 0., 0., 0., 0., 0., 0., 0.,\n",
       "        0., 0.]))"
      ]
     },
     "execution_count": 27,
     "metadata": {},
     "output_type": "execute_result"
    }
   ],
   "source": [
    "roww =  [u'JB', u'p-value', u'skew', u'kurtosis']\n",
    "jb_testw = sm.stats.stattools.jarque_bera(dtstw, axis=1)\n",
    "jb_testw"
   ]
  },
  {
   "cell_type": "code",
   "execution_count": 28,
   "metadata": {},
   "outputs": [
    {
     "data": {
      "text/plain": [
       "array([[0.375     , 0.375     , 0.375     , ..., 0.375     , 0.375     ,\n",
       "        0.375     ],\n",
       "       [0.82902912, 0.82902912, 0.82902912, ..., 0.82902912, 0.82902912,\n",
       "        0.82902912],\n",
       "       [0.        , 0.        , 0.        , ..., 0.        , 0.        ,\n",
       "        0.        ],\n",
       "       [0.        , 0.        , 0.        , ..., 0.        , 0.        ,\n",
       "        0.        ]])"
      ]
     },
     "execution_count": 28,
     "metadata": {},
     "output_type": "execute_result"
    }
   ],
   "source": [
    "aw = np.vstack([jb_testw])\n",
    "aw"
   ]
  },
  {
   "cell_type": "code",
   "execution_count": 29,
   "metadata": {},
   "outputs": [
    {
     "data": {
      "text/html": [
       "<table class=\"simpletable\">\n",
       "<tr>\n",
       "          <th>JB</th>               <th>p-value</th>             <th>skew</th>             <th>kurtosis</th>     \n",
       "</tr>\n",
       "<tr>\n",
       "         <td>0.375</td>              <td>0.375</td>              <td>0.375</td>              <td>0.375</td>      \n",
       "</tr>\n",
       "<tr>\n",
       "  <td>0.8290291181804004</td> <td>0.8290291181804004</td> <td>0.8290291181804004</td> <td>0.8290291181804004</td>\n",
       "</tr>\n",
       "<tr>\n",
       "          <td>0.0</td>                <td>0.0</td>                <td>0.0</td>                <td>0.0</td>       \n",
       "</tr>\n",
       "<tr>\n",
       "          <td>0.0</td>                <td>0.0</td>                <td>0.0</td>                <td>0.0</td>       \n",
       "</tr>\n",
       "</table>"
      ],
      "text/plain": [
       "<class 'statsmodels.iolib.table.SimpleTable'>"
      ]
     },
     "execution_count": 29,
     "metadata": {},
     "output_type": "execute_result"
    }
   ],
   "source": [
    "idtstw = SimpleTable(aw, roww)\n",
    "idtstw"
   ]
  },
  {
   "cell_type": "markdown",
   "metadata": {},
   "source": [
    "### Тест Дикки-Фуллера"
   ]
  },
  {
   "cell_type": "markdown",
   "metadata": {},
   "source": [
    "### Полные данные"
   ]
  },
  {
   "cell_type": "code",
   "execution_count": 30,
   "metadata": {},
   "outputs": [],
   "source": [
    "dtst2 = dtst.dropna(how='any')"
   ]
  },
  {
   "cell_type": "code",
   "execution_count": 31,
   "metadata": {},
   "outputs": [
    {
     "data": {
      "text/html": [
       "<div>\n",
       "<style scoped>\n",
       "    .dataframe tbody tr th:only-of-type {\n",
       "        vertical-align: middle;\n",
       "    }\n",
       "\n",
       "    .dataframe tbody tr th {\n",
       "        vertical-align: top;\n",
       "    }\n",
       "\n",
       "    .dataframe thead th {\n",
       "        text-align: right;\n",
       "    }\n",
       "</style>\n",
       "<table border=\"1\" class=\"dataframe\">\n",
       "  <thead>\n",
       "    <tr style=\"text-align: right;\">\n",
       "      <th></th>\n",
       "      <th>OPEN</th>\n",
       "    </tr>\n",
       "    <tr>\n",
       "      <th>DATE</th>\n",
       "      <th></th>\n",
       "    </tr>\n",
       "  </thead>\n",
       "  <tbody>\n",
       "    <tr>\n",
       "      <th>2008-01-10</th>\n",
       "      <td>155.00</td>\n",
       "    </tr>\n",
       "    <tr>\n",
       "      <th>2008-01-11</th>\n",
       "      <td>153.60</td>\n",
       "    </tr>\n",
       "    <tr>\n",
       "      <th>2008-01-12</th>\n",
       "      <td>153.60</td>\n",
       "    </tr>\n",
       "    <tr>\n",
       "      <th>2008-01-13</th>\n",
       "      <td>153.60</td>\n",
       "    </tr>\n",
       "    <tr>\n",
       "      <th>2008-01-14</th>\n",
       "      <td>154.06</td>\n",
       "    </tr>\n",
       "    <tr>\n",
       "      <th>...</th>\n",
       "      <td>...</td>\n",
       "    </tr>\n",
       "    <tr>\n",
       "      <th>2020-09-26</th>\n",
       "      <td>463.30</td>\n",
       "    </tr>\n",
       "    <tr>\n",
       "      <th>2020-09-27</th>\n",
       "      <td>463.30</td>\n",
       "    </tr>\n",
       "    <tr>\n",
       "      <th>2020-09-28</th>\n",
       "      <td>464.60</td>\n",
       "    </tr>\n",
       "    <tr>\n",
       "      <th>2020-09-29</th>\n",
       "      <td>473.60</td>\n",
       "    </tr>\n",
       "    <tr>\n",
       "      <th>2020-09-30</th>\n",
       "      <td>465.80</td>\n",
       "    </tr>\n",
       "  </tbody>\n",
       "</table>\n",
       "<p>4648 rows × 1 columns</p>\n",
       "</div>"
      ],
      "text/plain": [
       "              OPEN\n",
       "DATE              \n",
       "2008-01-10  155.00\n",
       "2008-01-11  153.60\n",
       "2008-01-12  153.60\n",
       "2008-01-13  153.60\n",
       "2008-01-14  154.06\n",
       "...            ...\n",
       "2020-09-26  463.30\n",
       "2020-09-27  463.30\n",
       "2020-09-28  464.60\n",
       "2020-09-29  473.60\n",
       "2020-09-30  465.80\n",
       "\n",
       "[4648 rows x 1 columns]"
      ]
     },
     "execution_count": 31,
     "metadata": {},
     "output_type": "execute_result"
    }
   ],
   "source": [
    "dtst2"
   ]
  },
  {
   "cell_type": "code",
   "execution_count": 32,
   "metadata": {},
   "outputs": [],
   "source": [
    "test = sm.tsa.adfuller(dtst2)"
   ]
  },
  {
   "cell_type": "code",
   "execution_count": 33,
   "metadata": {},
   "outputs": [],
   "source": [
    "test_result = [{'adf: ': test[0], 'p-value: ': test[1], 'Critical values: ': test[4]}]\n",
    "test_result = pd.DataFrame(test_result)\n",
    "if test[0] > test[4]['5%']:\n",
    "    test_result[3] = 'есть единичные корни, ряд не стационарен'\n",
    "else: \n",
    "    test_result[3] = 'единичных корней нет, ряд стационарен'"
   ]
  },
  {
   "cell_type": "code",
   "execution_count": 34,
   "metadata": {},
   "outputs": [
    {
     "data": {
      "text/html": [
       "<div>\n",
       "<style scoped>\n",
       "    .dataframe tbody tr th:only-of-type {\n",
       "        vertical-align: middle;\n",
       "    }\n",
       "\n",
       "    .dataframe tbody tr th {\n",
       "        vertical-align: top;\n",
       "    }\n",
       "\n",
       "    .dataframe thead th {\n",
       "        text-align: right;\n",
       "    }\n",
       "</style>\n",
       "<table border=\"1\" class=\"dataframe\">\n",
       "  <thead>\n",
       "    <tr style=\"text-align: right;\">\n",
       "      <th></th>\n",
       "      <th>adf:</th>\n",
       "      <th>p-value:</th>\n",
       "      <th>Critical values:</th>\n",
       "      <th>3</th>\n",
       "    </tr>\n",
       "  </thead>\n",
       "  <tbody>\n",
       "    <tr>\n",
       "      <th>0</th>\n",
       "      <td>-0.954784</td>\n",
       "      <td>0.769397</td>\n",
       "      <td>{'1%': -3.4317668338310092, '5%': -2.862166075...</td>\n",
       "      <td>есть единичные корни, ряд не стационарен</td>\n",
       "    </tr>\n",
       "  </tbody>\n",
       "</table>\n",
       "</div>"
      ],
      "text/plain": [
       "      adf:   p-value:                                   Critical values:   \\\n",
       "0 -0.954784   0.769397  {'1%': -3.4317668338310092, '5%': -2.862166075...   \n",
       "\n",
       "                                          3  \n",
       "0  есть единичные корни, ряд не стационарен  "
      ]
     },
     "execution_count": 34,
     "metadata": {},
     "output_type": "execute_result"
    }
   ],
   "source": [
    "test_result"
   ]
  },
  {
   "cell_type": "markdown",
   "metadata": {},
   "source": [
    "### Недельные данные"
   ]
  },
  {
   "cell_type": "code",
   "execution_count": 35,
   "metadata": {},
   "outputs": [],
   "source": [
    "dtst2w = dtstw.dropna(how='any')"
   ]
  },
  {
   "cell_type": "code",
   "execution_count": 36,
   "metadata": {},
   "outputs": [
    {
     "data": {
      "text/html": [
       "<div>\n",
       "<style scoped>\n",
       "    .dataframe tbody tr th:only-of-type {\n",
       "        vertical-align: middle;\n",
       "    }\n",
       "\n",
       "    .dataframe tbody tr th {\n",
       "        vertical-align: top;\n",
       "    }\n",
       "\n",
       "    .dataframe thead th {\n",
       "        text-align: right;\n",
       "    }\n",
       "</style>\n",
       "<table border=\"1\" class=\"dataframe\">\n",
       "  <thead>\n",
       "    <tr style=\"text-align: right;\">\n",
       "      <th></th>\n",
       "      <th>OPEN</th>\n",
       "    </tr>\n",
       "    <tr>\n",
       "      <th>DATE</th>\n",
       "      <th></th>\n",
       "    </tr>\n",
       "  </thead>\n",
       "  <tbody>\n",
       "    <tr>\n",
       "      <th>2008-01-13</th>\n",
       "      <td>153.6</td>\n",
       "    </tr>\n",
       "    <tr>\n",
       "      <th>2008-01-20</th>\n",
       "      <td>149.0</td>\n",
       "    </tr>\n",
       "    <tr>\n",
       "      <th>2008-01-27</th>\n",
       "      <td>126.5</td>\n",
       "    </tr>\n",
       "    <tr>\n",
       "      <th>2008-02-03</th>\n",
       "      <td>123.7</td>\n",
       "    </tr>\n",
       "    <tr>\n",
       "      <th>2008-02-10</th>\n",
       "      <td>122.0</td>\n",
       "    </tr>\n",
       "    <tr>\n",
       "      <th>...</th>\n",
       "      <td>...</td>\n",
       "    </tr>\n",
       "    <tr>\n",
       "      <th>2020-09-06</th>\n",
       "      <td>543.6</td>\n",
       "    </tr>\n",
       "    <tr>\n",
       "      <th>2020-09-13</th>\n",
       "      <td>533.3</td>\n",
       "    </tr>\n",
       "    <tr>\n",
       "      <th>2020-09-20</th>\n",
       "      <td>531.6</td>\n",
       "    </tr>\n",
       "    <tr>\n",
       "      <th>2020-09-27</th>\n",
       "      <td>467.2</td>\n",
       "    </tr>\n",
       "    <tr>\n",
       "      <th>2020-10-04</th>\n",
       "      <td>465.8</td>\n",
       "    </tr>\n",
       "  </tbody>\n",
       "</table>\n",
       "<p>665 rows × 1 columns</p>\n",
       "</div>"
      ],
      "text/plain": [
       "             OPEN\n",
       "DATE             \n",
       "2008-01-13  153.6\n",
       "2008-01-20  149.0\n",
       "2008-01-27  126.5\n",
       "2008-02-03  123.7\n",
       "2008-02-10  122.0\n",
       "...           ...\n",
       "2020-09-06  543.6\n",
       "2020-09-13  533.3\n",
       "2020-09-20  531.6\n",
       "2020-09-27  467.2\n",
       "2020-10-04  465.8\n",
       "\n",
       "[665 rows x 1 columns]"
      ]
     },
     "execution_count": 36,
     "metadata": {},
     "output_type": "execute_result"
    }
   ],
   "source": [
    "dtst2w"
   ]
  },
  {
   "cell_type": "code",
   "execution_count": 37,
   "metadata": {},
   "outputs": [],
   "source": [
    "testw = sm.tsa.adfuller(dtst2w)"
   ]
  },
  {
   "cell_type": "code",
   "execution_count": 38,
   "metadata": {},
   "outputs": [],
   "source": [
    "test_resultw = [{'adf: ': test[0], 'p-value: ': testw[1], 'Critical values: ': test[4]}]\n",
    "test_resultw = pd.DataFrame(test_resultw)\n",
    "if testw[0] > testw[4]['5%']:\n",
    "    test_resultw[3] = 'есть единичные корни, ряд не стационарен'\n",
    "else: \n",
    "    test_resultw[3] = 'единичных корней нет, ряд стационарен'"
   ]
  },
  {
   "cell_type": "code",
   "execution_count": 39,
   "metadata": {},
   "outputs": [
    {
     "data": {
      "text/html": [
       "<div>\n",
       "<style scoped>\n",
       "    .dataframe tbody tr th:only-of-type {\n",
       "        vertical-align: middle;\n",
       "    }\n",
       "\n",
       "    .dataframe tbody tr th {\n",
       "        vertical-align: top;\n",
       "    }\n",
       "\n",
       "    .dataframe thead th {\n",
       "        text-align: right;\n",
       "    }\n",
       "</style>\n",
       "<table border=\"1\" class=\"dataframe\">\n",
       "  <thead>\n",
       "    <tr style=\"text-align: right;\">\n",
       "      <th></th>\n",
       "      <th>adf:</th>\n",
       "      <th>p-value:</th>\n",
       "      <th>Critical values:</th>\n",
       "      <th>3</th>\n",
       "    </tr>\n",
       "  </thead>\n",
       "  <tbody>\n",
       "    <tr>\n",
       "      <th>0</th>\n",
       "      <td>-0.954784</td>\n",
       "      <td>0.772473</td>\n",
       "      <td>{'1%': -3.4317668338310092, '5%': -2.862166075...</td>\n",
       "      <td>есть единичные корни, ряд не стационарен</td>\n",
       "    </tr>\n",
       "  </tbody>\n",
       "</table>\n",
       "</div>"
      ],
      "text/plain": [
       "      adf:   p-value:                                   Critical values:   \\\n",
       "0 -0.954784   0.772473  {'1%': -3.4317668338310092, '5%': -2.862166075...   \n",
       "\n",
       "                                          3  \n",
       "0  есть единичные корни, ряд не стационарен  "
      ]
     },
     "execution_count": 39,
     "metadata": {},
     "output_type": "execute_result"
    }
   ],
   "source": [
    "test_resultw"
   ]
  },
  {
   "cell_type": "markdown",
   "metadata": {},
   "source": [
    "### Проверка порядка интегрированного ряда"
   ]
  },
  {
   "cell_type": "markdown",
   "metadata": {},
   "source": [
    "### Полные данные"
   ]
  },
  {
   "cell_type": "code",
   "execution_count": 40,
   "metadata": {},
   "outputs": [],
   "source": [
    "dtst2diff = dtst.diff(periods=1).dropna()"
   ]
  },
  {
   "cell_type": "code",
   "execution_count": 41,
   "metadata": {},
   "outputs": [],
   "source": [
    "test2 = sm.tsa.adfuller(dtst2diff)"
   ]
  },
  {
   "cell_type": "code",
   "execution_count": 42,
   "metadata": {},
   "outputs": [],
   "source": [
    "test_result2 = [{'adf: ': test2[0], 'p-value: ': test2[1], 'Critical values: ': test2[4]}]\n",
    "test_result2 = pd.DataFrame(test_result2)\n",
    "if test2[0] > test2[4]['5%']:\n",
    "    test_result2[3] = 'есть единичные корни, ряд не стационарен'\n",
    "else: \n",
    "    test_result2[3] = 'единичных корней нет, ряд стационарен'"
   ]
  },
  {
   "cell_type": "code",
   "execution_count": 43,
   "metadata": {
    "scrolled": true
   },
   "outputs": [
    {
     "data": {
      "text/html": [
       "<div>\n",
       "<style scoped>\n",
       "    .dataframe tbody tr th:only-of-type {\n",
       "        vertical-align: middle;\n",
       "    }\n",
       "\n",
       "    .dataframe tbody tr th {\n",
       "        vertical-align: top;\n",
       "    }\n",
       "\n",
       "    .dataframe thead th {\n",
       "        text-align: right;\n",
       "    }\n",
       "</style>\n",
       "<table border=\"1\" class=\"dataframe\">\n",
       "  <thead>\n",
       "    <tr style=\"text-align: right;\">\n",
       "      <th></th>\n",
       "      <th>adf:</th>\n",
       "      <th>p-value:</th>\n",
       "      <th>Critical values:</th>\n",
       "      <th>3</th>\n",
       "    </tr>\n",
       "  </thead>\n",
       "  <tbody>\n",
       "    <tr>\n",
       "      <th>0</th>\n",
       "      <td>-13.81067</td>\n",
       "      <td>8.242775e-26</td>\n",
       "      <td>{'1%': -3.4317668338310092, '5%': -2.862166075...</td>\n",
       "      <td>единичных корней нет, ряд стационарен</td>\n",
       "    </tr>\n",
       "  </tbody>\n",
       "</table>\n",
       "</div>"
      ],
      "text/plain": [
       "      adf:      p-value:                                   Critical values:   \\\n",
       "0 -13.81067  8.242775e-26  {'1%': -3.4317668338310092, '5%': -2.862166075...   \n",
       "\n",
       "                                       3  \n",
       "0  единичных корней нет, ряд стационарен  "
      ]
     },
     "execution_count": 43,
     "metadata": {},
     "output_type": "execute_result"
    }
   ],
   "source": [
    "test_result2"
   ]
  },
  {
   "cell_type": "markdown",
   "metadata": {},
   "source": [
    "### Недельные данные"
   ]
  },
  {
   "cell_type": "code",
   "execution_count": 44,
   "metadata": {},
   "outputs": [],
   "source": [
    "dtst2diffw = dtstw.diff(periods=1).dropna()"
   ]
  },
  {
   "cell_type": "code",
   "execution_count": 45,
   "metadata": {},
   "outputs": [],
   "source": [
    "test2w = sm.tsa.adfuller(dtst2diffw)"
   ]
  },
  {
   "cell_type": "code",
   "execution_count": 46,
   "metadata": {},
   "outputs": [],
   "source": [
    "test_result2w = [{'adf: ': test2w[0], 'p-value: ': test2w[1], 'Critical values: ': test2w[4]}]\n",
    "test_result2w = pd.DataFrame(test_result2w)\n",
    "if test2w[0] > test2w[4]['5%']:\n",
    "    test_result2w[3] = 'есть единичные корни, ряд не стационарен'\n",
    "else: \n",
    "    test_result2w[3] = 'единичных корней нет, ряд стационарен'"
   ]
  },
  {
   "cell_type": "code",
   "execution_count": 47,
   "metadata": {},
   "outputs": [
    {
     "data": {
      "text/html": [
       "<div>\n",
       "<style scoped>\n",
       "    .dataframe tbody tr th:only-of-type {\n",
       "        vertical-align: middle;\n",
       "    }\n",
       "\n",
       "    .dataframe tbody tr th {\n",
       "        vertical-align: top;\n",
       "    }\n",
       "\n",
       "    .dataframe thead th {\n",
       "        text-align: right;\n",
       "    }\n",
       "</style>\n",
       "<table border=\"1\" class=\"dataframe\">\n",
       "  <thead>\n",
       "    <tr style=\"text-align: right;\">\n",
       "      <th></th>\n",
       "      <th>adf:</th>\n",
       "      <th>p-value:</th>\n",
       "      <th>Critical values:</th>\n",
       "      <th>3</th>\n",
       "    </tr>\n",
       "  </thead>\n",
       "  <tbody>\n",
       "    <tr>\n",
       "      <th>0</th>\n",
       "      <td>-10.673771</td>\n",
       "      <td>4.103369e-19</td>\n",
       "      <td>{'1%': -3.4403271946832645, '5%': -2.865942472...</td>\n",
       "      <td>единичных корней нет, ряд стационарен</td>\n",
       "    </tr>\n",
       "  </tbody>\n",
       "</table>\n",
       "</div>"
      ],
      "text/plain": [
       "       adf:      p-value:                                   Critical values:   \\\n",
       "0 -10.673771  4.103369e-19  {'1%': -3.4403271946832645, '5%': -2.865942472...   \n",
       "\n",
       "                                       3  \n",
       "0  единичных корней нет, ряд стационарен  "
      ]
     },
     "execution_count": 47,
     "metadata": {},
     "output_type": "execute_result"
    }
   ],
   "source": [
    "test_result2w"
   ]
  },
  {
   "cell_type": "markdown",
   "metadata": {},
   "source": [
    "### Проверка мат ожидания"
   ]
  },
  {
   "cell_type": "code",
   "execution_count": 48,
   "metadata": {},
   "outputs": [],
   "source": [
    "#dt2diff.index[len(dt2diff.index)/3]"
   ]
  },
  {
   "cell_type": "code",
   "execution_count": 49,
   "metadata": {
    "scrolled": true
   },
   "outputs": [],
   "source": [
    "#m = dt2diff.index[len(dt2diff.index)/2+1]"
   ]
  },
  {
   "cell_type": "code",
   "execution_count": 50,
   "metadata": {},
   "outputs": [
    {
     "data": {
      "text/plain": [
       "'r1 = sm.stats.DescrStatsW(dt2diff[m:])\\nr2 = sm.stats.DescrStatsW(dt2diff[:m])\\nprov = sm.stats.CompareMeans(r1,r2).ttest_ind()[1]\\nprov'"
      ]
     },
     "execution_count": 50,
     "metadata": {},
     "output_type": "execute_result"
    }
   ],
   "source": [
    "\"\"\"r1 = sm.stats.DescrStatsW(dt2diff[m:])\n",
    "r2 = sm.stats.DescrStatsW(dt2diff[:m])\n",
    "prov = sm.stats.CompareMeans(r1,r2).ttest_ind()[1]\n",
    "prov\"\"\""
   ]
  },
  {
   "cell_type": "markdown",
   "metadata": {},
   "source": [
    "### Полные данные"
   ]
  },
  {
   "cell_type": "code",
   "execution_count": 51,
   "metadata": {
    "scrolled": false
   },
   "outputs": [
    {
     "data": {
      "text/plain": [
       "<AxesSubplot:xlabel='DATE'>"
      ]
     },
     "execution_count": 51,
     "metadata": {},
     "output_type": "execute_result"
    },
    {
     "data": {
      "image/png": "[encoded data removed]",
      "text/plain": [
       "<Figure size 864x432 with 1 Axes>"
      ]
     },
     "metadata": {
      "needs_background": "light"
     },
     "output_type": "display_data"
    }
   ],
   "source": [
    "dtst2diff.plot(figsize=(12,6))"
   ]
  },
  {
   "cell_type": "code",
   "execution_count": 52,
   "metadata": {},
   "outputs": [
    {
     "data": {
      "text/plain": [
       "<Figure size 864x576 with 0 Axes>"
      ]
     },
     "metadata": {},
     "output_type": "display_data"
    },
    {
     "data": {
      "image/png": "[encoded data removed]",
      "text/plain": [
       "<Figure size 432x288 with 2 Axes>"
      ]
     },
     "metadata": {
      "needs_background": "light"
     },
     "output_type": "display_data"
    }
   ],
   "source": [
    "ig = plt.figure(figsize=(12,8))\n",
    "fig = plt.figure() #добавил эту строку,так как без неё не запускается ячейка\n",
    "ax1 = fig.add_subplot(211)\n",
    "fig = sm.graphics.tsa.plot_acf(dtst2diff.values.squeeze(), lags=25, ax=ax1)\n",
    "ax2 = fig.add_subplot(212)\n",
    "fig = sm.graphics.tsa.plot_pacf(dtst2diff, lags=25, ax=ax2)"
   ]
  },
  {
   "cell_type": "markdown",
   "metadata": {},
   "source": [
    "### Недельные данные"
   ]
  },
  {
   "cell_type": "code",
   "execution_count": 53,
   "metadata": {
    "scrolled": false
   },
   "outputs": [
    {
     "data": {
      "text/plain": [
       "<AxesSubplot:xlabel='DATE'>"
      ]
     },
     "execution_count": 53,
     "metadata": {},
     "output_type": "execute_result"
    },
    {
     "data": {
      "image/png": "[encoded data removed]",
      "text/plain": [
       "<Figure size 864x432 with 1 Axes>"
      ]
     },
     "metadata": {
      "needs_background": "light"
     },
     "output_type": "display_data"
    }
   ],
   "source": [
    "dtst2diffw.plot(figsize=(12,6))"
   ]
  },
  {
   "cell_type": "code",
   "execution_count": 54,
   "metadata": {},
   "outputs": [
    {
     "data": {
      "text/plain": [
       "<Figure size 864x576 with 0 Axes>"
      ]
     },
     "metadata": {},
     "output_type": "display_data"
    },
    {
     "data": {
      "image/png": "[encoded data removed]",
      "text/plain": [
       "<Figure size 432x288 with 2 Axes>"
      ]
     },
     "metadata": {
      "needs_background": "light"
     },
     "output_type": "display_data"
    }
   ],
   "source": [
    "igw = plt.figure(figsize=(12,8))\n",
    "fig = plt.figure() #добавил эту строку,так как без неё не запускается ячейка\n",
    "ax1 = fig.add_subplot(211)\n",
    "fig = sm.graphics.tsa.plot_acf(dtst2diffw.values.squeeze(), lags=25, ax=ax1)\n",
    "ax2 = fig.add_subplot(212)\n",
    "fig = sm.graphics.tsa.plot_pacf(dtst2diffw, lags=25, ax=ax2)"
   ]
  },
  {
   "cell_type": "markdown",
   "metadata": {},
   "source": [
    "После изучения коррелограммы PACF можно сделать вывод, что p = 1, т.к. на ней только 1 лаг сильно отличнен от нуля. По коррелограмме ACF можно увидеть, что q = 1, т.к. после лага 1 значении функций резко падают"
   ]
  },
  {
   "cell_type": "markdown",
   "metadata": {},
   "source": [
    "### Построение ARIMA модели"
   ]
  },
  {
   "cell_type": "markdown",
   "metadata": {},
   "source": [
    "### Недельные данные"
   ]
  },
  {
   "cell_type": "code",
   "execution_count": 55,
   "metadata": {},
   "outputs": [],
   "source": [
    "src_data_modelw = dtstw['2020-01-01':'2020-09-29']\n",
    "modelw =  sm.tsa.arima.ARIMA(src_data_modelw, order=(1,1,1), freq='W').fit()\n",
    "# в методе fit() пришлось удалить все параметры, так как они не подходят \n",
    "#(нет в документации)"
   ]
  },
  {
   "cell_type": "code",
   "execution_count": 56,
   "metadata": {},
   "outputs": [
    {
     "data": {
      "text/html": [
       "<table class=\"simpletable\">\n",
       "<caption>SARIMAX Results</caption>\n",
       "<tr>\n",
       "  <th>Dep. Variable:</th>         <td>OPEN</td>       <th>  No. Observations:  </th>    <td>39</td>   \n",
       "</tr>\n",
       "<tr>\n",
       "  <th>Model:</th>            <td>ARIMA(1, 1, 1)</td>  <th>  Log Likelihood     </th> <td>-194.320</td>\n",
       "</tr>\n",
       "<tr>\n",
       "  <th>Date:</th>            <td>Tue, 27 Oct 2020</td> <th>  AIC                </th>  <td>394.640</td>\n",
       "</tr>\n",
       "<tr>\n",
       "  <th>Time:</th>                <td>19:32:49</td>     <th>  BIC                </th>  <td>399.553</td>\n",
       "</tr>\n",
       "<tr>\n",
       "  <th>Sample:</th>             <td>01-05-2020</td>    <th>  HQIC               </th>  <td>396.388</td>\n",
       "</tr>\n",
       "<tr>\n",
       "  <th></th>                   <td>- 09-27-2020</td>   <th>                     </th>     <td> </td>   \n",
       "</tr>\n",
       "<tr>\n",
       "  <th>Covariance Type:</th>        <td>opg</td>       <th>                     </th>     <td> </td>   \n",
       "</tr>\n",
       "</table>\n",
       "<table class=\"simpletable\">\n",
       "<tr>\n",
       "     <td></td>       <th>coef</th>     <th>std err</th>      <th>z</th>      <th>P>|z|</th>  <th>[0.025</th>    <th>0.975]</th>  \n",
       "</tr>\n",
       "<tr>\n",
       "  <th>ar.L1</th>  <td>   -0.6113</td> <td>    0.254</td> <td>   -2.409</td> <td> 0.016</td> <td>   -1.109</td> <td>   -0.114</td>\n",
       "</tr>\n",
       "<tr>\n",
       "  <th>ma.L1</th>  <td>    0.9986</td> <td>   11.433</td> <td>    0.087</td> <td> 0.930</td> <td>  -21.409</td> <td>   23.406</td>\n",
       "</tr>\n",
       "<tr>\n",
       "  <th>sigma2</th> <td> 1525.2788</td> <td> 1.72e+04</td> <td>    0.089</td> <td> 0.929</td> <td>-3.22e+04</td> <td> 3.52e+04</td>\n",
       "</tr>\n",
       "</table>\n",
       "<table class=\"simpletable\">\n",
       "<tr>\n",
       "  <th>Ljung-Box (L1) (Q):</th>     <td>0.03</td> <th>  Jarque-Bera (JB):  </th> <td>107.77</td>\n",
       "</tr>\n",
       "<tr>\n",
       "  <th>Prob(Q):</th>                <td>0.85</td> <th>  Prob(JB):          </th>  <td>0.00</td> \n",
       "</tr>\n",
       "<tr>\n",
       "  <th>Heteroskedasticity (H):</th> <td>0.18</td> <th>  Skew:              </th>  <td>-1.99</td>\n",
       "</tr>\n",
       "<tr>\n",
       "  <th>Prob(H) (two-sided):</th>    <td>0.00</td> <th>  Kurtosis:          </th>  <td>10.23</td>\n",
       "</tr>\n",
       "</table><br/><br/>Warnings:<br/>[1] Covariance matrix calculated using the outer product of gradients (complex-step)."
      ],
      "text/plain": [
       "<class 'statsmodels.iolib.summary.Summary'>\n",
       "\"\"\"\n",
       "                               SARIMAX Results                                \n",
       "==============================================================================\n",
       "Dep. Variable:                   OPEN   No. Observations:                   39\n",
       "Model:                 ARIMA(1, 1, 1)   Log Likelihood                -194.320\n",
       "Date:                Tue, 27 Oct 2020   AIC                            394.640\n",
       "Time:                        19:32:49   BIC                            399.553\n",
       "Sample:                    01-05-2020   HQIC                           396.388\n",
       "                         - 09-27-2020                                         \n",
       "Covariance Type:                  opg                                         \n",
       "==============================================================================\n",
       "                 coef    std err          z      P>|z|      [0.025      0.975]\n",
       "------------------------------------------------------------------------------\n",
       "ar.L1         -0.6113      0.254     -2.409      0.016      -1.109      -0.114\n",
       "ma.L1          0.9986     11.433      0.087      0.930     -21.409      23.406\n",
       "sigma2      1525.2788   1.72e+04      0.089      0.929   -3.22e+04    3.52e+04\n",
       "===================================================================================\n",
       "Ljung-Box (L1) (Q):                   0.03   Jarque-Bera (JB):               107.77\n",
       "Prob(Q):                              0.85   Prob(JB):                         0.00\n",
       "Heteroskedasticity (H):               0.18   Skew:                            -1.99\n",
       "Prob(H) (two-sided):                  0.00   Kurtosis:                        10.23\n",
       "===================================================================================\n",
       "\n",
       "Warnings:\n",
       "[1] Covariance matrix calculated using the outer product of gradients (complex-step).\n",
       "\"\"\""
      ]
     },
     "execution_count": 56,
     "metadata": {},
     "output_type": "execute_result"
    }
   ],
   "source": [
    "modelw.summary()"
   ]
  },
  {
   "cell_type": "markdown",
   "metadata": {},
   "source": [
    "### Полные данные (модель не строится)"
   ]
  },
  {
   "cell_type": "code",
   "execution_count": 57,
   "metadata": {},
   "outputs": [
    {
     "name": "stderr",
     "output_type": "stream",
     "text": [
      "c:\\projects\\ds_lessons\\env\\lib\\site-packages\\statsmodels\\tsa\\base\\tsa_model.py:524: ValueWarning: No frequency information was provided, so inferred frequency D will be used.\n",
      "  warnings.warn('No frequency information was'\n"
     ]
    }
   ],
   "source": [
    "src_data_model = dtst['2014-01-01':'2020-09-30']\n",
    "model =  sm.tsa.arima.ARIMA(src_data_model, order=(1,1,1), freq='D').fit()\n",
    "# в методе fit() пришлось удалить все параметры, так как они не подходят \n",
    "#(нет в документации)"
   ]
  },
  {
   "cell_type": "code",
   "execution_count": 58,
   "metadata": {},
   "outputs": [
    {
     "data": {
      "text/html": [
       "<table class=\"simpletable\">\n",
       "<caption>SARIMAX Results</caption>\n",
       "<tr>\n",
       "  <th>Dep. Variable:</th>         <td>OPEN</td>       <th>  No. Observations:  </th>   <td>2465</td>   \n",
       "</tr>\n",
       "<tr>\n",
       "  <th>Model:</th>            <td>ARIMA(1, 1, 1)</td>  <th>  Log Likelihood     </th> <td>-8648.677</td>\n",
       "</tr>\n",
       "<tr>\n",
       "  <th>Date:</th>            <td>Tue, 27 Oct 2020</td> <th>  AIC                </th> <td>17303.355</td>\n",
       "</tr>\n",
       "<tr>\n",
       "  <th>Time:</th>                <td>19:32:49</td>     <th>  BIC                </th> <td>17320.783</td>\n",
       "</tr>\n",
       "<tr>\n",
       "  <th>Sample:</th>             <td>01-01-2014</td>    <th>  HQIC               </th> <td>17309.687</td>\n",
       "</tr>\n",
       "<tr>\n",
       "  <th></th>                   <td>- 09-30-2020</td>   <th>                     </th>     <td> </td>    \n",
       "</tr>\n",
       "<tr>\n",
       "  <th>Covariance Type:</th>        <td>opg</td>       <th>                     </th>     <td> </td>    \n",
       "</tr>\n",
       "</table>\n",
       "<table class=\"simpletable\">\n",
       "<tr>\n",
       "     <td></td>       <th>coef</th>     <th>std err</th>      <th>z</th>      <th>P>|z|</th>  <th>[0.025</th>    <th>0.975]</th>  \n",
       "</tr>\n",
       "<tr>\n",
       "  <th>ar.L1</th>  <td>    0.5651</td> <td>    0.169</td> <td>    3.345</td> <td> 0.001</td> <td>    0.234</td> <td>    0.896</td>\n",
       "</tr>\n",
       "<tr>\n",
       "  <th>ma.L1</th>  <td>   -0.5236</td> <td>    0.176</td> <td>   -2.979</td> <td> 0.003</td> <td>   -0.868</td> <td>   -0.179</td>\n",
       "</tr>\n",
       "<tr>\n",
       "  <th>sigma2</th> <td>   65.5075</td> <td>    0.589</td> <td>  111.134</td> <td> 0.000</td> <td>   64.352</td> <td>   66.663</td>\n",
       "</tr>\n",
       "</table>\n",
       "<table class=\"simpletable\">\n",
       "<tr>\n",
       "  <th>Ljung-Box (L1) (Q):</th>     <td>0.04</td> <th>  Jarque-Bera (JB):  </th> <td>36874.77</td>\n",
       "</tr>\n",
       "<tr>\n",
       "  <th>Prob(Q):</th>                <td>0.84</td> <th>  Prob(JB):          </th>   <td>0.00</td>  \n",
       "</tr>\n",
       "<tr>\n",
       "  <th>Heteroskedasticity (H):</th> <td>5.09</td> <th>  Skew:              </th>   <td>0.21</td>  \n",
       "</tr>\n",
       "<tr>\n",
       "  <th>Prob(H) (two-sided):</th>    <td>0.00</td> <th>  Kurtosis:          </th>   <td>21.95</td> \n",
       "</tr>\n",
       "</table><br/><br/>Warnings:<br/>[1] Covariance matrix calculated using the outer product of gradients (complex-step)."
      ],
      "text/plain": [
       "<class 'statsmodels.iolib.summary.Summary'>\n",
       "\"\"\"\n",
       "                               SARIMAX Results                                \n",
       "==============================================================================\n",
       "Dep. Variable:                   OPEN   No. Observations:                 2465\n",
       "Model:                 ARIMA(1, 1, 1)   Log Likelihood               -8648.677\n",
       "Date:                Tue, 27 Oct 2020   AIC                          17303.355\n",
       "Time:                        19:32:49   BIC                          17320.783\n",
       "Sample:                    01-01-2014   HQIC                         17309.687\n",
       "                         - 09-30-2020                                         \n",
       "Covariance Type:                  opg                                         \n",
       "==============================================================================\n",
       "                 coef    std err          z      P>|z|      [0.025      0.975]\n",
       "------------------------------------------------------------------------------\n",
       "ar.L1          0.5651      0.169      3.345      0.001       0.234       0.896\n",
       "ma.L1         -0.5236      0.176     -2.979      0.003      -0.868      -0.179\n",
       "sigma2        65.5075      0.589    111.134      0.000      64.352      66.663\n",
       "===================================================================================\n",
       "Ljung-Box (L1) (Q):                   0.04   Jarque-Bera (JB):             36874.77\n",
       "Prob(Q):                              0.84   Prob(JB):                         0.00\n",
       "Heteroskedasticity (H):               5.09   Skew:                             0.21\n",
       "Prob(H) (two-sided):                  0.00   Kurtosis:                        21.95\n",
       "===================================================================================\n",
       "\n",
       "Warnings:\n",
       "[1] Covariance matrix calculated using the outer product of gradients (complex-step).\n",
       "\"\"\""
      ]
     },
     "execution_count": 58,
     "metadata": {},
     "output_type": "execute_result"
    }
   ],
   "source": [
    "model.summary()"
   ]
  },
  {
   "cell_type": "markdown",
   "metadata": {},
   "source": [
    "### Q-тест Льюинга-Бокса"
   ]
  },
  {
   "cell_type": "code",
   "execution_count": 59,
   "metadata": {},
   "outputs": [
    {
     "data": {
      "text/plain": [
       "pandas.core.series.Series"
      ]
     },
     "execution_count": 59,
     "metadata": {},
     "output_type": "execute_result"
    }
   ],
   "source": [
    "type(model.resid)"
   ]
  },
  {
   "cell_type": "code",
   "execution_count": 60,
   "metadata": {},
   "outputs": [
    {
     "name": "stderr",
     "output_type": "stream",
     "text": [
      "c:\\projects\\ds_lessons\\env\\lib\\site-packages\\statsmodels\\tsa\\stattools.py:652: FutureWarning: The default number of lags is changing from 40 tomin(int(10 * np.log10(nobs)), nobs - 1) after 0.12is released. Set the number of lags to an integer to  silence this warning.\n",
      "  warnings.warn(\n",
      "c:\\projects\\ds_lessons\\env\\lib\\site-packages\\statsmodels\\tsa\\stattools.py:662: FutureWarning: fft=True will become the default after the release of the 0.12 release of statsmodels. To suppress this warning, explicitly set fft=False.\n",
      "  warnings.warn(\n"
     ]
    }
   ],
   "source": [
    "q_test = sm.tsa.stattools.acf(model.resid, qstat=True)"
   ]
  },
  {
   "cell_type": "code",
   "execution_count": 61,
   "metadata": {},
   "outputs": [
    {
     "data": {
      "text/plain": [
       "(array([ 1.00000000e+00,  3.06340506e-03, -1.21375239e-02,  9.61572269e-04,\n",
       "         2.30383452e-02, -7.49155384e-03, -1.65951117e-05,  2.11653054e-02,\n",
       "        -3.62600983e-02, -2.42927275e-02, -5.74427388e-02, -9.82949872e-03,\n",
       "         1.35909511e-02,  1.44431030e-02, -3.04018935e-02, -4.70171489e-02,\n",
       "         3.20497004e-02,  1.92317955e-02, -3.79641998e-03, -3.94458971e-03,\n",
       "         2.24218572e-02, -4.75251265e-02, -1.92056124e-02, -1.24208326e-02,\n",
       "        -2.30657125e-02, -3.95198698e-02, -5.99999436e-03, -3.42592291e-02,\n",
       "         1.80159607e-02,  4.87957556e-02,  8.09282106e-03,  1.17312364e-02,\n",
       "        -1.11610964e-03,  1.32510579e-02,  1.88718349e-02, -3.66775663e-03,\n",
       "         4.23954125e-02,  1.79045252e-02, -8.08662560e-03, -2.95018516e-03,\n",
       "         3.53833643e-02]),\n",
       " array([2.31608354e-02, 3.86893127e-01, 3.89176947e-01, 1.70070330e+00,\n",
       "        1.83944109e+00, 1.83944177e+00, 2.94773142e+00, 6.20189117e+00,\n",
       "        7.66309321e+00, 1.58365327e+01, 1.60759604e+01, 1.65338789e+01,\n",
       "        1.70512315e+01, 1.93444425e+01, 2.48314123e+01, 2.73820293e+01,\n",
       "        2.83008152e+01, 2.83366331e+01, 2.83753173e+01, 2.96257213e+01,\n",
       "        3.52456582e+01, 3.61638194e+01, 3.65480056e+01, 3.78734211e+01,\n",
       "        4.17659089e+01, 4.18556675e+01, 4.47832392e+01, 4.55931653e+01,\n",
       "        5.15370843e+01, 5.17006481e+01, 5.20444854e+01, 5.20475990e+01,\n",
       "        5.24866587e+01, 5.33775596e+01, 5.34112247e+01, 5.79110566e+01,\n",
       "        5.87139595e+01, 5.88778112e+01, 5.88996281e+01, 6.20392155e+01]),\n",
       " array([0.87903957, 0.82411387, 0.9424691 , 0.79058986, 0.87088532,\n",
       "        0.93385688, 0.88979502, 0.62462844, 0.56842195, 0.10440843,\n",
       "        0.13833423, 0.16798817, 0.19697264, 0.15220089, 0.05225385,\n",
       "        0.03742732, 0.04154371, 0.05711372, 0.07646712, 0.07614957,\n",
       "        0.02653097, 0.02916094, 0.03623492, 0.03572134, 0.01904184,\n",
       "        0.02540242, 0.01713746, 0.01919452, 0.00613639, 0.0082024 ,\n",
       "        0.01035918, 0.01401446, 0.01693859, 0.01838596, 0.02391956,\n",
       "        0.01174062, 0.01301209, 0.01649069, 0.02130423, 0.01429231]))"
      ]
     },
     "execution_count": 61,
     "metadata": {},
     "output_type": "execute_result"
    }
   ],
   "source": [
    "q_test"
   ]
  },
  {
   "cell_type": "code",
   "execution_count": 62,
   "metadata": {},
   "outputs": [
    {
     "data": {
      "text/html": [
       "<div>\n",
       "<style scoped>\n",
       "    .dataframe tbody tr th:only-of-type {\n",
       "        vertical-align: middle;\n",
       "    }\n",
       "\n",
       "    .dataframe tbody tr th {\n",
       "        vertical-align: top;\n",
       "    }\n",
       "\n",
       "    .dataframe thead th {\n",
       "        text-align: right;\n",
       "    }\n",
       "</style>\n",
       "<table border=\"1\" class=\"dataframe\">\n",
       "  <thead>\n",
       "    <tr style=\"text-align: right;\">\n",
       "      <th></th>\n",
       "      <th>Q-stat</th>\n",
       "      <th>p-value</th>\n",
       "    </tr>\n",
       "  </thead>\n",
       "  <tbody>\n",
       "    <tr>\n",
       "      <th>0</th>\n",
       "      <td>0.023161</td>\n",
       "      <td>0.879040</td>\n",
       "    </tr>\n",
       "    <tr>\n",
       "      <th>1</th>\n",
       "      <td>0.386893</td>\n",
       "      <td>0.824114</td>\n",
       "    </tr>\n",
       "    <tr>\n",
       "      <th>2</th>\n",
       "      <td>0.389177</td>\n",
       "      <td>0.942469</td>\n",
       "    </tr>\n",
       "    <tr>\n",
       "      <th>3</th>\n",
       "      <td>1.700703</td>\n",
       "      <td>0.790590</td>\n",
       "    </tr>\n",
       "    <tr>\n",
       "      <th>4</th>\n",
       "      <td>1.839441</td>\n",
       "      <td>0.870885</td>\n",
       "    </tr>\n",
       "    <tr>\n",
       "      <th>5</th>\n",
       "      <td>1.839442</td>\n",
       "      <td>0.933857</td>\n",
       "    </tr>\n",
       "    <tr>\n",
       "      <th>6</th>\n",
       "      <td>2.947731</td>\n",
       "      <td>0.889795</td>\n",
       "    </tr>\n",
       "    <tr>\n",
       "      <th>7</th>\n",
       "      <td>6.201891</td>\n",
       "      <td>0.624628</td>\n",
       "    </tr>\n",
       "    <tr>\n",
       "      <th>8</th>\n",
       "      <td>7.663093</td>\n",
       "      <td>0.568422</td>\n",
       "    </tr>\n",
       "    <tr>\n",
       "      <th>9</th>\n",
       "      <td>15.836533</td>\n",
       "      <td>0.104408</td>\n",
       "    </tr>\n",
       "    <tr>\n",
       "      <th>10</th>\n",
       "      <td>16.075960</td>\n",
       "      <td>0.138334</td>\n",
       "    </tr>\n",
       "    <tr>\n",
       "      <th>11</th>\n",
       "      <td>16.533879</td>\n",
       "      <td>0.167988</td>\n",
       "    </tr>\n",
       "    <tr>\n",
       "      <th>12</th>\n",
       "      <td>17.051231</td>\n",
       "      <td>0.196973</td>\n",
       "    </tr>\n",
       "    <tr>\n",
       "      <th>13</th>\n",
       "      <td>19.344443</td>\n",
       "      <td>0.152201</td>\n",
       "    </tr>\n",
       "    <tr>\n",
       "      <th>14</th>\n",
       "      <td>24.831412</td>\n",
       "      <td>0.052254</td>\n",
       "    </tr>\n",
       "    <tr>\n",
       "      <th>15</th>\n",
       "      <td>27.382029</td>\n",
       "      <td>0.037427</td>\n",
       "    </tr>\n",
       "    <tr>\n",
       "      <th>16</th>\n",
       "      <td>28.300815</td>\n",
       "      <td>0.041544</td>\n",
       "    </tr>\n",
       "    <tr>\n",
       "      <th>17</th>\n",
       "      <td>28.336633</td>\n",
       "      <td>0.057114</td>\n",
       "    </tr>\n",
       "    <tr>\n",
       "      <th>18</th>\n",
       "      <td>28.375317</td>\n",
       "      <td>0.076467</td>\n",
       "    </tr>\n",
       "    <tr>\n",
       "      <th>19</th>\n",
       "      <td>29.625721</td>\n",
       "      <td>0.076150</td>\n",
       "    </tr>\n",
       "    <tr>\n",
       "      <th>20</th>\n",
       "      <td>35.245658</td>\n",
       "      <td>0.026531</td>\n",
       "    </tr>\n",
       "    <tr>\n",
       "      <th>21</th>\n",
       "      <td>36.163819</td>\n",
       "      <td>0.029161</td>\n",
       "    </tr>\n",
       "    <tr>\n",
       "      <th>22</th>\n",
       "      <td>36.548006</td>\n",
       "      <td>0.036235</td>\n",
       "    </tr>\n",
       "    <tr>\n",
       "      <th>23</th>\n",
       "      <td>37.873421</td>\n",
       "      <td>0.035721</td>\n",
       "    </tr>\n",
       "    <tr>\n",
       "      <th>24</th>\n",
       "      <td>41.765909</td>\n",
       "      <td>0.019042</td>\n",
       "    </tr>\n",
       "    <tr>\n",
       "      <th>25</th>\n",
       "      <td>41.855667</td>\n",
       "      <td>0.025402</td>\n",
       "    </tr>\n",
       "    <tr>\n",
       "      <th>26</th>\n",
       "      <td>44.783239</td>\n",
       "      <td>0.017137</td>\n",
       "    </tr>\n",
       "    <tr>\n",
       "      <th>27</th>\n",
       "      <td>45.593165</td>\n",
       "      <td>0.019195</td>\n",
       "    </tr>\n",
       "    <tr>\n",
       "      <th>28</th>\n",
       "      <td>51.537084</td>\n",
       "      <td>0.006136</td>\n",
       "    </tr>\n",
       "    <tr>\n",
       "      <th>29</th>\n",
       "      <td>51.700648</td>\n",
       "      <td>0.008202</td>\n",
       "    </tr>\n",
       "    <tr>\n",
       "      <th>30</th>\n",
       "      <td>52.044485</td>\n",
       "      <td>0.010359</td>\n",
       "    </tr>\n",
       "    <tr>\n",
       "      <th>31</th>\n",
       "      <td>52.047599</td>\n",
       "      <td>0.014014</td>\n",
       "    </tr>\n",
       "    <tr>\n",
       "      <th>32</th>\n",
       "      <td>52.486659</td>\n",
       "      <td>0.016939</td>\n",
       "    </tr>\n",
       "    <tr>\n",
       "      <th>33</th>\n",
       "      <td>53.377560</td>\n",
       "      <td>0.018386</td>\n",
       "    </tr>\n",
       "    <tr>\n",
       "      <th>34</th>\n",
       "      <td>53.411225</td>\n",
       "      <td>0.023920</td>\n",
       "    </tr>\n",
       "    <tr>\n",
       "      <th>35</th>\n",
       "      <td>57.911057</td>\n",
       "      <td>0.011741</td>\n",
       "    </tr>\n",
       "    <tr>\n",
       "      <th>36</th>\n",
       "      <td>58.713959</td>\n",
       "      <td>0.013012</td>\n",
       "    </tr>\n",
       "    <tr>\n",
       "      <th>37</th>\n",
       "      <td>58.877811</td>\n",
       "      <td>0.016491</td>\n",
       "    </tr>\n",
       "    <tr>\n",
       "      <th>38</th>\n",
       "      <td>58.899628</td>\n",
       "      <td>0.021304</td>\n",
       "    </tr>\n",
       "    <tr>\n",
       "      <th>39</th>\n",
       "      <td>62.039216</td>\n",
       "      <td>0.014292</td>\n",
       "    </tr>\n",
       "  </tbody>\n",
       "</table>\n",
       "</div>"
      ],
      "text/plain": [
       "       Q-stat   p-value\n",
       "0    0.023161  0.879040\n",
       "1    0.386893  0.824114\n",
       "2    0.389177  0.942469\n",
       "3    1.700703  0.790590\n",
       "4    1.839441  0.870885\n",
       "5    1.839442  0.933857\n",
       "6    2.947731  0.889795\n",
       "7    6.201891  0.624628\n",
       "8    7.663093  0.568422\n",
       "9   15.836533  0.104408\n",
       "10  16.075960  0.138334\n",
       "11  16.533879  0.167988\n",
       "12  17.051231  0.196973\n",
       "13  19.344443  0.152201\n",
       "14  24.831412  0.052254\n",
       "15  27.382029  0.037427\n",
       "16  28.300815  0.041544\n",
       "17  28.336633  0.057114\n",
       "18  28.375317  0.076467\n",
       "19  29.625721  0.076150\n",
       "20  35.245658  0.026531\n",
       "21  36.163819  0.029161\n",
       "22  36.548006  0.036235\n",
       "23  37.873421  0.035721\n",
       "24  41.765909  0.019042\n",
       "25  41.855667  0.025402\n",
       "26  44.783239  0.017137\n",
       "27  45.593165  0.019195\n",
       "28  51.537084  0.006136\n",
       "29  51.700648  0.008202\n",
       "30  52.044485  0.010359\n",
       "31  52.047599  0.014014\n",
       "32  52.486659  0.016939\n",
       "33  53.377560  0.018386\n",
       "34  53.411225  0.023920\n",
       "35  57.911057  0.011741\n",
       "36  58.713959  0.013012\n",
       "37  58.877811  0.016491\n",
       "38  58.899628  0.021304\n",
       "39  62.039216  0.014292"
      ]
     },
     "execution_count": 62,
     "metadata": {},
     "output_type": "execute_result"
    }
   ],
   "source": [
    "pd.DataFrame({'Q-stat':q_test[1], 'p-value':q_test[2]})"
   ]
  },
  {
   "cell_type": "markdown",
   "metadata": {},
   "source": [
    "### Рассчет коэффициента детерминации"
   ]
  },
  {
   "cell_type": "code",
   "execution_count": 63,
   "metadata": {},
   "outputs": [],
   "source": [
    "pred = model.predict('2020-09-30','2020-10-15', typ='levels')"
   ]
  },
  {
   "cell_type": "code",
   "execution_count": 64,
   "metadata": {},
   "outputs": [],
   "source": [
    "trn = dtst['2020-09-15':]"
   ]
  },
  {
   "cell_type": "code",
   "execution_count": 65,
   "metadata": {},
   "outputs": [
    {
     "data": {
      "text/plain": [
       "(16, 1)"
      ]
     },
     "execution_count": 65,
     "metadata": {},
     "output_type": "execute_result"
    }
   ],
   "source": [
    "trn.shape"
   ]
  },
  {
   "cell_type": "code",
   "execution_count": 66,
   "metadata": {},
   "outputs": [
    {
     "data": {
      "text/plain": [
       "(16,)"
      ]
     },
     "execution_count": 66,
     "metadata": {},
     "output_type": "execute_result"
    }
   ],
   "source": [
    "pred.shape"
   ]
  },
  {
   "cell_type": "code",
   "execution_count": 67,
   "metadata": {},
   "outputs": [
    {
     "data": {
      "text/plain": [
       "2020-09-30    473.953363\n",
       "2020-10-01    465.661452\n",
       "2020-10-02    465.583159\n",
       "2020-10-03    465.538914\n",
       "2020-10-04    465.513911\n",
       "2020-10-05    465.499782\n",
       "2020-10-06    465.491798\n",
       "2020-10-07    465.487286\n",
       "2020-10-08    465.484736\n",
       "2020-10-09    465.483295\n",
       "2020-10-10    465.482481\n",
       "2020-10-11    465.482021\n",
       "2020-10-12    465.481761\n",
       "2020-10-13    465.481614\n",
       "2020-10-14    465.481531\n",
       "2020-10-15    465.481484\n",
       "Freq: D, Name: predicted_mean, dtype: float64"
      ]
     },
     "execution_count": 67,
     "metadata": {},
     "output_type": "execute_result"
    }
   ],
   "source": [
    "pred"
   ]
  },
  {
   "cell_type": "code",
   "execution_count": 68,
   "metadata": {},
   "outputs": [],
   "source": [
    "pred = pred.to_frame()\n"
   ]
  },
  {
   "cell_type": "code",
   "execution_count": 69,
   "metadata": {
    "scrolled": true
   },
   "outputs": [
    {
     "data": {
      "text/plain": [
       "(16, 1)"
      ]
     },
     "execution_count": 69,
     "metadata": {},
     "output_type": "execute_result"
    }
   ],
   "source": [
    "pred.shape"
   ]
  },
  {
   "cell_type": "code",
   "execution_count": 70,
   "metadata": {},
   "outputs": [
    {
     "data": {
      "text/html": [
       "<div>\n",
       "<style scoped>\n",
       "    .dataframe tbody tr th:only-of-type {\n",
       "        vertical-align: middle;\n",
       "    }\n",
       "\n",
       "    .dataframe tbody tr th {\n",
       "        vertical-align: top;\n",
       "    }\n",
       "\n",
       "    .dataframe thead th {\n",
       "        text-align: right;\n",
       "    }\n",
       "</style>\n",
       "<table border=\"1\" class=\"dataframe\">\n",
       "  <thead>\n",
       "    <tr style=\"text-align: right;\">\n",
       "      <th></th>\n",
       "      <th>predicted_mean</th>\n",
       "    </tr>\n",
       "  </thead>\n",
       "  <tbody>\n",
       "    <tr>\n",
       "      <th>2020-09-30</th>\n",
       "      <td>473.953363</td>\n",
       "    </tr>\n",
       "    <tr>\n",
       "      <th>2020-10-01</th>\n",
       "      <td>465.661452</td>\n",
       "    </tr>\n",
       "    <tr>\n",
       "      <th>2020-10-02</th>\n",
       "      <td>465.583159</td>\n",
       "    </tr>\n",
       "    <tr>\n",
       "      <th>2020-10-03</th>\n",
       "      <td>465.538914</td>\n",
       "    </tr>\n",
       "    <tr>\n",
       "      <th>2020-10-04</th>\n",
       "      <td>465.513911</td>\n",
       "    </tr>\n",
       "    <tr>\n",
       "      <th>2020-10-05</th>\n",
       "      <td>465.499782</td>\n",
       "    </tr>\n",
       "    <tr>\n",
       "      <th>2020-10-06</th>\n",
       "      <td>465.491798</td>\n",
       "    </tr>\n",
       "    <tr>\n",
       "      <th>2020-10-07</th>\n",
       "      <td>465.487286</td>\n",
       "    </tr>\n",
       "    <tr>\n",
       "      <th>2020-10-08</th>\n",
       "      <td>465.484736</td>\n",
       "    </tr>\n",
       "    <tr>\n",
       "      <th>2020-10-09</th>\n",
       "      <td>465.483295</td>\n",
       "    </tr>\n",
       "    <tr>\n",
       "      <th>2020-10-10</th>\n",
       "      <td>465.482481</td>\n",
       "    </tr>\n",
       "    <tr>\n",
       "      <th>2020-10-11</th>\n",
       "      <td>465.482021</td>\n",
       "    </tr>\n",
       "    <tr>\n",
       "      <th>2020-10-12</th>\n",
       "      <td>465.481761</td>\n",
       "    </tr>\n",
       "    <tr>\n",
       "      <th>2020-10-13</th>\n",
       "      <td>465.481614</td>\n",
       "    </tr>\n",
       "    <tr>\n",
       "      <th>2020-10-14</th>\n",
       "      <td>465.481531</td>\n",
       "    </tr>\n",
       "    <tr>\n",
       "      <th>2020-10-15</th>\n",
       "      <td>465.481484</td>\n",
       "    </tr>\n",
       "  </tbody>\n",
       "</table>\n",
       "</div>"
      ],
      "text/plain": [
       "            predicted_mean\n",
       "2020-09-30      473.953363\n",
       "2020-10-01      465.661452\n",
       "2020-10-02      465.583159\n",
       "2020-10-03      465.538914\n",
       "2020-10-04      465.513911\n",
       "2020-10-05      465.499782\n",
       "2020-10-06      465.491798\n",
       "2020-10-07      465.487286\n",
       "2020-10-08      465.484736\n",
       "2020-10-09      465.483295\n",
       "2020-10-10      465.482481\n",
       "2020-10-11      465.482021\n",
       "2020-10-12      465.481761\n",
       "2020-10-13      465.481614\n",
       "2020-10-14      465.481531\n",
       "2020-10-15      465.481484"
      ]
     },
     "execution_count": 70,
     "metadata": {},
     "output_type": "execute_result"
    }
   ],
   "source": [
    "pred"
   ]
  },
  {
   "cell_type": "code",
   "execution_count": 71,
   "metadata": {},
   "outputs": [],
   "source": [
    "pred.rename(columns={'predicted_mean': 'OPEN'}, inplace=True)"
   ]
  },
  {
   "cell_type": "code",
   "execution_count": 72,
   "metadata": {},
   "outputs": [
    {
     "data": {
      "text/html": [
       "<div>\n",
       "<style scoped>\n",
       "    .dataframe tbody tr th:only-of-type {\n",
       "        vertical-align: middle;\n",
       "    }\n",
       "\n",
       "    .dataframe tbody tr th {\n",
       "        vertical-align: top;\n",
       "    }\n",
       "\n",
       "    .dataframe thead th {\n",
       "        text-align: right;\n",
       "    }\n",
       "</style>\n",
       "<table border=\"1\" class=\"dataframe\">\n",
       "  <thead>\n",
       "    <tr style=\"text-align: right;\">\n",
       "      <th></th>\n",
       "      <th>OPEN</th>\n",
       "    </tr>\n",
       "    <tr>\n",
       "      <th>DATE</th>\n",
       "      <th></th>\n",
       "    </tr>\n",
       "  </thead>\n",
       "  <tbody>\n",
       "    <tr>\n",
       "      <th>2020-09-15</th>\n",
       "      <td>538.4</td>\n",
       "    </tr>\n",
       "    <tr>\n",
       "      <th>2020-09-16</th>\n",
       "      <td>551.6</td>\n",
       "    </tr>\n",
       "    <tr>\n",
       "      <th>2020-09-17</th>\n",
       "      <td>531.6</td>\n",
       "    </tr>\n",
       "    <tr>\n",
       "      <th>2020-09-18</th>\n",
       "      <td>517.1</td>\n",
       "    </tr>\n",
       "    <tr>\n",
       "      <th>2020-09-19</th>\n",
       "      <td>507.9</td>\n",
       "    </tr>\n",
       "    <tr>\n",
       "      <th>2020-09-20</th>\n",
       "      <td>507.9</td>\n",
       "    </tr>\n",
       "    <tr>\n",
       "      <th>2020-09-21</th>\n",
       "      <td>506.7</td>\n",
       "    </tr>\n",
       "    <tr>\n",
       "      <th>2020-09-22</th>\n",
       "      <td>481.9</td>\n",
       "    </tr>\n",
       "    <tr>\n",
       "      <th>2020-09-23</th>\n",
       "      <td>479.1</td>\n",
       "    </tr>\n",
       "    <tr>\n",
       "      <th>2020-09-24</th>\n",
       "      <td>460.8</td>\n",
       "    </tr>\n",
       "    <tr>\n",
       "      <th>2020-09-25</th>\n",
       "      <td>467.2</td>\n",
       "    </tr>\n",
       "    <tr>\n",
       "      <th>2020-09-26</th>\n",
       "      <td>463.3</td>\n",
       "    </tr>\n",
       "    <tr>\n",
       "      <th>2020-09-27</th>\n",
       "      <td>463.3</td>\n",
       "    </tr>\n",
       "    <tr>\n",
       "      <th>2020-09-28</th>\n",
       "      <td>464.6</td>\n",
       "    </tr>\n",
       "    <tr>\n",
       "      <th>2020-09-29</th>\n",
       "      <td>473.6</td>\n",
       "    </tr>\n",
       "    <tr>\n",
       "      <th>2020-09-30</th>\n",
       "      <td>465.8</td>\n",
       "    </tr>\n",
       "  </tbody>\n",
       "</table>\n",
       "</div>"
      ],
      "text/plain": [
       "             OPEN\n",
       "DATE             \n",
       "2020-09-15  538.4\n",
       "2020-09-16  551.6\n",
       "2020-09-17  531.6\n",
       "2020-09-18  517.1\n",
       "2020-09-19  507.9\n",
       "2020-09-20  507.9\n",
       "2020-09-21  506.7\n",
       "2020-09-22  481.9\n",
       "2020-09-23  479.1\n",
       "2020-09-24  460.8\n",
       "2020-09-25  467.2\n",
       "2020-09-26  463.3\n",
       "2020-09-27  463.3\n",
       "2020-09-28  464.6\n",
       "2020-09-29  473.6\n",
       "2020-09-30  465.8"
      ]
     },
     "execution_count": 72,
     "metadata": {},
     "output_type": "execute_result"
    }
   ],
   "source": [
    "trn"
   ]
  },
  {
   "cell_type": "code",
   "execution_count": 73,
   "metadata": {
    "scrolled": false
   },
   "outputs": [],
   "source": [
    "r2 = r2_score(trn, pred)"
   ]
  },
  {
   "cell_type": "code",
   "execution_count": 74,
   "metadata": {},
   "outputs": [
    {
     "data": {
      "text/plain": [
       "-0.755657617628607"
      ]
     },
     "execution_count": 74,
     "metadata": {},
     "output_type": "execute_result"
    }
   ],
   "source": [
    "r2"
   ]
  },
  {
   "cell_type": "code",
   "execution_count": 75,
   "metadata": {},
   "outputs": [
    {
     "data": {
      "text/plain": [
       "39.05444278228883"
      ]
     },
     "execution_count": 75,
     "metadata": {},
     "output_type": "execute_result"
    }
   ],
   "source": [
    "metrics.rmse(trn,pred)"
   ]
  },
  {
   "cell_type": "code",
   "execution_count": 76,
   "metadata": {},
   "outputs": [
    {
     "data": {
      "text/plain": [
       "27.7542995720001"
      ]
     },
     "execution_count": 76,
     "metadata": {},
     "output_type": "execute_result"
    }
   ],
   "source": [
    "metrics.mae(trn,pred)"
   ]
  },
  {
   "cell_type": "code",
   "execution_count": 77,
   "metadata": {},
   "outputs": [
    {
     "data": {
      "image/png": "[encoded data removed]",
      "text/plain": [
       "<Figure size 864x432 with 1 Axes>"
      ]
     },
     "metadata": {
      "needs_background": "light"
     },
     "output_type": "display_data"
    },
    {
     "data": {
      "image/png": "[encoded data removed]",
      "text/plain": [
       "<Figure size 432x288 with 1 Axes>"
      ]
     },
     "metadata": {
      "needs_background": "light"
     },
     "output_type": "display_data"
    }
   ],
   "source": [
    "dtst.plot(figsize=(12,6))\n",
    "pred.plot(style='r--')\n",
    "plt.show()"
   ]
  },
  {
   "cell_type": "code",
   "execution_count": 78,
   "metadata": {},
   "outputs": [
    {
     "data": {
      "image/png": "[encoded data removed]",
      "text/plain": [
       "<Figure size 432x288 with 1 Axes>"
      ]
     },
     "metadata": {
      "needs_background": "light"
     },
     "output_type": "display_data"
    }
   ],
   "source": [
    "plt.plot(dtst['2020-05-15':])\n",
    "plt.plot(pred)\n",
    "plt.show()"
   ]
  },
  {
   "cell_type": "code",
   "execution_count": null,
   "metadata": {},
   "outputs": [],
   "source": []
  },
  {
   "cell_type": "code",
   "execution_count": null,
   "metadata": {},
   "outputs": [],
   "source": []
  }
 ],
 "metadata": {
  "kernelspec": {
   "display_name": "Python 3",
   "language": "python",
   "name": "python3"
  },
  "language_info": {
   "codemirror_mode": {
    "name": "ipython",
    "version": 3
   },
   "file_extension": ".py",
   "mimetype": "text/x-python",
   "name": "python",
   "nbconvert_exporter": "python",
   "pygments_lexer": "ipython3",
   "version": "3.8.5"
  }
 },
 "nbformat": 4,
 "nbformat_minor": 4
}
