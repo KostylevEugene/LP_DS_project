{
 "cells": [
  {
   "cell_type": "code",
   "execution_count": 1,
   "metadata": {},
   "outputs": [],
   "source": [
    "import pandas as pd\n",
    "import statsmodels.api as sm\n",
    "from statsmodels.iolib.table import SimpleTable\n",
    "from sklearn.metrics import r2_score\n",
    "import ml_metrics as metrics\n",
    "import numpy as np\n",
    "import matplotlib.pyplot as plt\n",
    "import datetime as dt"
   ]
  },
  {
   "cell_type": "code",
   "execution_count": 2,
   "metadata": {},
   "outputs": [
    {
     "name": "stdout",
     "output_type": "stream",
     "text": [
      " ’®¬ ў гбва®©бвўҐ C ­Ґ Ё¬ҐҐв ¬ҐвЄЁ.\n",
      " ‘ҐаЁ©­л© ­®¬Ґа в®¬ : 7496-5BB4\n",
      "\n",
      " ‘®¤Ґа¦Ё¬®Ґ Ї ЇЄЁ C:\\projects\\LP_DS_project\n",
      "\n",
      "27.10.2020  19:17    <DIR>          .\n",
      "27.10.2020  19:17    <DIR>          ..\n",
      "27.10.2020  19:16    <DIR>          .ipynb_checkpoints\n",
      "27.10.2020  18:44           116я198 AFKS.csv\n",
      "27.10.2020  06:33    <DIR>          env\n",
      "27.10.2020  19:17            12я619 Filling data.ipynb\n",
      "27.10.2020  18:44           116я505 GAZP.csv\n",
      "27.10.2020  19:04           430я192 Gazprom.ipynb\n",
      "27.10.2020  18:44           417я252 Grafic_akcii.ipynb\n",
      "27.10.2020  19:15           394я043 Kamaz.ipynb\n",
      "27.10.2020  18:44           108я755 KMAZ.csv\n",
      "27.10.2020  18:44           183я007 qAFKS.csv\n",
      "27.10.2020  18:44           190я932 qGAZP.csv\n",
      "27.10.2020  19:10           180я626 qKMAZ.csv\n",
      "27.10.2020  19:16           186я527 qSBER.csv\n",
      "27.10.2020  18:44           113я422 SBER.csv\n",
      "27.10.2020  19:16           394я043 Sber.ipynb\n",
      "27.10.2020  18:44           117я504 TATN.csv\n",
      "27.10.2020  18:54            12я446 week_AFSK.csv\n",
      "27.10.2020  19:12            11я679 week_qKMAZ.csv\n",
      "27.10.2020  18:44            60я803 YNDX.csv\n",
      "              17 д ©«®ў      3я046я553 Ў ©в\n",
      "               4 Ї Ї®Є  15я262я429я184 Ў ©в бў®Ў®¤­®\n"
     ]
    }
   ],
   "source": [
    "!dir"
   ]
  },
  {
   "cell_type": "code",
   "execution_count": 3,
   "metadata": {},
   "outputs": [
    {
     "data": {
      "text/html": [
       "<div>\n",
       "<style scoped>\n",
       "    .dataframe tbody tr th:only-of-type {\n",
       "        vertical-align: middle;\n",
       "    }\n",
       "\n",
       "    .dataframe tbody tr th {\n",
       "        vertical-align: top;\n",
       "    }\n",
       "\n",
       "    .dataframe thead th {\n",
       "        text-align: right;\n",
       "    }\n",
       "</style>\n",
       "<table border=\"1\" class=\"dataframe\">\n",
       "  <thead>\n",
       "    <tr style=\"text-align: right;\">\n",
       "      <th></th>\n",
       "      <th>Unnamed: 0</th>\n",
       "      <th>Unnamed: 0.1</th>\n",
       "      <th>COMPANY</th>\n",
       "      <th>DATE</th>\n",
       "      <th>OPEN</th>\n",
       "      <th>CLOSE</th>\n",
       "    </tr>\n",
       "  </thead>\n",
       "  <tbody>\n",
       "    <tr>\n",
       "      <th>0</th>\n",
       "      <td>0</td>\n",
       "      <td>89847</td>\n",
       "      <td>SBER</td>\n",
       "      <td>2008-01-10</td>\n",
       "      <td>102.07</td>\n",
       "      <td>103.53</td>\n",
       "    </tr>\n",
       "    <tr>\n",
       "      <th>1</th>\n",
       "      <td>1</td>\n",
       "      <td>89848</td>\n",
       "      <td>SBER</td>\n",
       "      <td>2008-01-11</td>\n",
       "      <td>103.60</td>\n",
       "      <td>104.70</td>\n",
       "    </tr>\n",
       "    <tr>\n",
       "      <th>2</th>\n",
       "      <td>2</td>\n",
       "      <td>89848</td>\n",
       "      <td>SBER</td>\n",
       "      <td>2008-01-12</td>\n",
       "      <td>103.60</td>\n",
       "      <td>104.70</td>\n",
       "    </tr>\n",
       "    <tr>\n",
       "      <th>3</th>\n",
       "      <td>3</td>\n",
       "      <td>89848</td>\n",
       "      <td>SBER</td>\n",
       "      <td>2008-01-13</td>\n",
       "      <td>103.60</td>\n",
       "      <td>104.70</td>\n",
       "    </tr>\n",
       "    <tr>\n",
       "      <th>4</th>\n",
       "      <td>4</td>\n",
       "      <td>89849</td>\n",
       "      <td>SBER</td>\n",
       "      <td>2008-01-14</td>\n",
       "      <td>104.28</td>\n",
       "      <td>105.00</td>\n",
       "    </tr>\n",
       "    <tr>\n",
       "      <th>...</th>\n",
       "      <td>...</td>\n",
       "      <td>...</td>\n",
       "      <td>...</td>\n",
       "      <td>...</td>\n",
       "      <td>...</td>\n",
       "      <td>...</td>\n",
       "    </tr>\n",
       "    <tr>\n",
       "      <th>4643</th>\n",
       "      <td>4643</td>\n",
       "      <td>93050</td>\n",
       "      <td>SBER</td>\n",
       "      <td>2020-09-26</td>\n",
       "      <td>228.26</td>\n",
       "      <td>228.24</td>\n",
       "    </tr>\n",
       "    <tr>\n",
       "      <th>4644</th>\n",
       "      <td>4644</td>\n",
       "      <td>93050</td>\n",
       "      <td>SBER</td>\n",
       "      <td>2020-09-27</td>\n",
       "      <td>228.26</td>\n",
       "      <td>228.24</td>\n",
       "    </tr>\n",
       "    <tr>\n",
       "      <th>4645</th>\n",
       "      <td>4645</td>\n",
       "      <td>93051</td>\n",
       "      <td>SBER</td>\n",
       "      <td>2020-09-28</td>\n",
       "      <td>228.79</td>\n",
       "      <td>228.50</td>\n",
       "    </tr>\n",
       "    <tr>\n",
       "      <th>4646</th>\n",
       "      <td>4646</td>\n",
       "      <td>93052</td>\n",
       "      <td>SBER</td>\n",
       "      <td>2020-09-29</td>\n",
       "      <td>228.50</td>\n",
       "      <td>225.35</td>\n",
       "    </tr>\n",
       "    <tr>\n",
       "      <th>4647</th>\n",
       "      <td>4647</td>\n",
       "      <td>93053</td>\n",
       "      <td>SBER</td>\n",
       "      <td>2020-09-30</td>\n",
       "      <td>225.30</td>\n",
       "      <td>225.48</td>\n",
       "    </tr>\n",
       "  </tbody>\n",
       "</table>\n",
       "<p>4648 rows × 6 columns</p>\n",
       "</div>"
      ],
      "text/plain": [
       "      Unnamed: 0  Unnamed: 0.1 COMPANY        DATE    OPEN   CLOSE\n",
       "0              0         89847    SBER  2008-01-10  102.07  103.53\n",
       "1              1         89848    SBER  2008-01-11  103.60  104.70\n",
       "2              2         89848    SBER  2008-01-12  103.60  104.70\n",
       "3              3         89848    SBER  2008-01-13  103.60  104.70\n",
       "4              4         89849    SBER  2008-01-14  104.28  105.00\n",
       "...          ...           ...     ...         ...     ...     ...\n",
       "4643        4643         93050    SBER  2020-09-26  228.26  228.24\n",
       "4644        4644         93050    SBER  2020-09-27  228.26  228.24\n",
       "4645        4645         93051    SBER  2020-09-28  228.79  228.50\n",
       "4646        4646         93052    SBER  2020-09-29  228.50  225.35\n",
       "4647        4647         93053    SBER  2020-09-30  225.30  225.48\n",
       "\n",
       "[4648 rows x 6 columns]"
      ]
     },
     "execution_count": 3,
     "metadata": {},
     "output_type": "execute_result"
    }
   ],
   "source": [
    "dataset = pd.read_csv('qSBER.csv', sep=';')\n",
    "dataset"
   ]
  },
  {
   "cell_type": "code",
   "execution_count": 4,
   "metadata": {},
   "outputs": [
    {
     "data": {
      "text/plain": [
       "0       2008-01-10\n",
       "1       2008-01-11\n",
       "2       2008-01-12\n",
       "3       2008-01-13\n",
       "4       2008-01-14\n",
       "           ...    \n",
       "4643    2020-09-26\n",
       "4644    2020-09-27\n",
       "4645    2020-09-28\n",
       "4646    2020-09-29\n",
       "4647    2020-09-30\n",
       "Name: DATE, Length: 4648, dtype: object"
      ]
     },
     "execution_count": 4,
     "metadata": {},
     "output_type": "execute_result"
    }
   ],
   "source": [
    "dataset['DATE']"
   ]
  },
  {
   "cell_type": "code",
   "execution_count": 5,
   "metadata": {},
   "outputs": [],
   "source": [
    "dataset = pd.read_csv('qSBER.csv', ';', index_col=['DATE'], parse_dates=['DATE'], dayfirst=True)"
   ]
  },
  {
   "cell_type": "code",
   "execution_count": 6,
   "metadata": {},
   "outputs": [
    {
     "data": {
      "text/html": [
       "<div>\n",
       "<style scoped>\n",
       "    .dataframe tbody tr th:only-of-type {\n",
       "        vertical-align: middle;\n",
       "    }\n",
       "\n",
       "    .dataframe tbody tr th {\n",
       "        vertical-align: top;\n",
       "    }\n",
       "\n",
       "    .dataframe thead th {\n",
       "        text-align: right;\n",
       "    }\n",
       "</style>\n",
       "<table border=\"1\" class=\"dataframe\">\n",
       "  <thead>\n",
       "    <tr style=\"text-align: right;\">\n",
       "      <th></th>\n",
       "      <th>Unnamed: 0</th>\n",
       "      <th>Unnamed: 0.1</th>\n",
       "      <th>COMPANY</th>\n",
       "      <th>OPEN</th>\n",
       "      <th>CLOSE</th>\n",
       "    </tr>\n",
       "    <tr>\n",
       "      <th>DATE</th>\n",
       "      <th></th>\n",
       "      <th></th>\n",
       "      <th></th>\n",
       "      <th></th>\n",
       "      <th></th>\n",
       "    </tr>\n",
       "  </thead>\n",
       "  <tbody>\n",
       "    <tr>\n",
       "      <th>2008-01-10</th>\n",
       "      <td>0</td>\n",
       "      <td>89847</td>\n",
       "      <td>SBER</td>\n",
       "      <td>102.07</td>\n",
       "      <td>103.53</td>\n",
       "    </tr>\n",
       "    <tr>\n",
       "      <th>2008-01-11</th>\n",
       "      <td>1</td>\n",
       "      <td>89848</td>\n",
       "      <td>SBER</td>\n",
       "      <td>103.60</td>\n",
       "      <td>104.70</td>\n",
       "    </tr>\n",
       "    <tr>\n",
       "      <th>2008-01-12</th>\n",
       "      <td>2</td>\n",
       "      <td>89848</td>\n",
       "      <td>SBER</td>\n",
       "      <td>103.60</td>\n",
       "      <td>104.70</td>\n",
       "    </tr>\n",
       "    <tr>\n",
       "      <th>2008-01-13</th>\n",
       "      <td>3</td>\n",
       "      <td>89848</td>\n",
       "      <td>SBER</td>\n",
       "      <td>103.60</td>\n",
       "      <td>104.70</td>\n",
       "    </tr>\n",
       "    <tr>\n",
       "      <th>2008-01-14</th>\n",
       "      <td>4</td>\n",
       "      <td>89849</td>\n",
       "      <td>SBER</td>\n",
       "      <td>104.28</td>\n",
       "      <td>105.00</td>\n",
       "    </tr>\n",
       "    <tr>\n",
       "      <th>...</th>\n",
       "      <td>...</td>\n",
       "      <td>...</td>\n",
       "      <td>...</td>\n",
       "      <td>...</td>\n",
       "      <td>...</td>\n",
       "    </tr>\n",
       "    <tr>\n",
       "      <th>2020-09-26</th>\n",
       "      <td>4643</td>\n",
       "      <td>93050</td>\n",
       "      <td>SBER</td>\n",
       "      <td>228.26</td>\n",
       "      <td>228.24</td>\n",
       "    </tr>\n",
       "    <tr>\n",
       "      <th>2020-09-27</th>\n",
       "      <td>4644</td>\n",
       "      <td>93050</td>\n",
       "      <td>SBER</td>\n",
       "      <td>228.26</td>\n",
       "      <td>228.24</td>\n",
       "    </tr>\n",
       "    <tr>\n",
       "      <th>2020-09-28</th>\n",
       "      <td>4645</td>\n",
       "      <td>93051</td>\n",
       "      <td>SBER</td>\n",
       "      <td>228.79</td>\n",
       "      <td>228.50</td>\n",
       "    </tr>\n",
       "    <tr>\n",
       "      <th>2020-09-29</th>\n",
       "      <td>4646</td>\n",
       "      <td>93052</td>\n",
       "      <td>SBER</td>\n",
       "      <td>228.50</td>\n",
       "      <td>225.35</td>\n",
       "    </tr>\n",
       "    <tr>\n",
       "      <th>2020-09-30</th>\n",
       "      <td>4647</td>\n",
       "      <td>93053</td>\n",
       "      <td>SBER</td>\n",
       "      <td>225.30</td>\n",
       "      <td>225.48</td>\n",
       "    </tr>\n",
       "  </tbody>\n",
       "</table>\n",
       "<p>4648 rows × 5 columns</p>\n",
       "</div>"
      ],
      "text/plain": [
       "            Unnamed: 0  Unnamed: 0.1 COMPANY    OPEN   CLOSE\n",
       "DATE                                                        \n",
       "2008-01-10           0         89847    SBER  102.07  103.53\n",
       "2008-01-11           1         89848    SBER  103.60  104.70\n",
       "2008-01-12           2         89848    SBER  103.60  104.70\n",
       "2008-01-13           3         89848    SBER  103.60  104.70\n",
       "2008-01-14           4         89849    SBER  104.28  105.00\n",
       "...                ...           ...     ...     ...     ...\n",
       "2020-09-26        4643         93050    SBER  228.26  228.24\n",
       "2020-09-27        4644         93050    SBER  228.26  228.24\n",
       "2020-09-28        4645         93051    SBER  228.79  228.50\n",
       "2020-09-29        4646         93052    SBER  228.50  225.35\n",
       "2020-09-30        4647         93053    SBER  225.30  225.48\n",
       "\n",
       "[4648 rows x 5 columns]"
      ]
     },
     "execution_count": 6,
     "metadata": {},
     "output_type": "execute_result"
    }
   ],
   "source": [
    "dataset2 = dataset\n",
    "dataset2"
   ]
  },
  {
   "cell_type": "code",
   "execution_count": 7,
   "metadata": {},
   "outputs": [],
   "source": [
    "#Оставлю эту ячейку здесь\n",
    "#dataset2 = dataset2[(dataset2['DATE'] > '2014-01-01') & (dataset2['DATE'] < '2020-09-30')]\n",
    "#dataset2"
   ]
  },
  {
   "cell_type": "markdown",
   "metadata": {},
   "source": [
    "## Избавляемся от ненужных столбцов"
   ]
  },
  {
   "cell_type": "code",
   "execution_count": 8,
   "metadata": {},
   "outputs": [],
   "source": [
    "dataset2 = dataset2.drop(['COMPANY'], axis=1)"
   ]
  },
  {
   "cell_type": "code",
   "execution_count": 9,
   "metadata": {},
   "outputs": [],
   "source": [
    "dataset2 = dataset2.drop(['CLOSE'], axis=1)"
   ]
  },
  {
   "cell_type": "code",
   "execution_count": 10,
   "metadata": {},
   "outputs": [],
   "source": [
    "dataset2 = dataset2.drop(['Unnamed: 0'], axis=1)"
   ]
  },
  {
   "cell_type": "code",
   "execution_count": 11,
   "metadata": {},
   "outputs": [],
   "source": [
    "dataset2 = dataset2.drop(['Unnamed: 0.1'], axis=1)"
   ]
  },
  {
   "cell_type": "code",
   "execution_count": 12,
   "metadata": {
    "scrolled": false
   },
   "outputs": [
    {
     "data": {
      "text/html": [
       "<div>\n",
       "<style scoped>\n",
       "    .dataframe tbody tr th:only-of-type {\n",
       "        vertical-align: middle;\n",
       "    }\n",
       "\n",
       "    .dataframe tbody tr th {\n",
       "        vertical-align: top;\n",
       "    }\n",
       "\n",
       "    .dataframe thead th {\n",
       "        text-align: right;\n",
       "    }\n",
       "</style>\n",
       "<table border=\"1\" class=\"dataframe\">\n",
       "  <thead>\n",
       "    <tr style=\"text-align: right;\">\n",
       "      <th></th>\n",
       "      <th>OPEN</th>\n",
       "    </tr>\n",
       "    <tr>\n",
       "      <th>DATE</th>\n",
       "      <th></th>\n",
       "    </tr>\n",
       "  </thead>\n",
       "  <tbody>\n",
       "    <tr>\n",
       "      <th>2008-01-10</th>\n",
       "      <td>102.07</td>\n",
       "    </tr>\n",
       "    <tr>\n",
       "      <th>2008-01-11</th>\n",
       "      <td>103.60</td>\n",
       "    </tr>\n",
       "    <tr>\n",
       "      <th>2008-01-12</th>\n",
       "      <td>103.60</td>\n",
       "    </tr>\n",
       "    <tr>\n",
       "      <th>2008-01-13</th>\n",
       "      <td>103.60</td>\n",
       "    </tr>\n",
       "    <tr>\n",
       "      <th>2008-01-14</th>\n",
       "      <td>104.28</td>\n",
       "    </tr>\n",
       "    <tr>\n",
       "      <th>...</th>\n",
       "      <td>...</td>\n",
       "    </tr>\n",
       "    <tr>\n",
       "      <th>2020-09-26</th>\n",
       "      <td>228.26</td>\n",
       "    </tr>\n",
       "    <tr>\n",
       "      <th>2020-09-27</th>\n",
       "      <td>228.26</td>\n",
       "    </tr>\n",
       "    <tr>\n",
       "      <th>2020-09-28</th>\n",
       "      <td>228.79</td>\n",
       "    </tr>\n",
       "    <tr>\n",
       "      <th>2020-09-29</th>\n",
       "      <td>228.50</td>\n",
       "    </tr>\n",
       "    <tr>\n",
       "      <th>2020-09-30</th>\n",
       "      <td>225.30</td>\n",
       "    </tr>\n",
       "  </tbody>\n",
       "</table>\n",
       "<p>4648 rows × 1 columns</p>\n",
       "</div>"
      ],
      "text/plain": [
       "              OPEN\n",
       "DATE              \n",
       "2008-01-10  102.07\n",
       "2008-01-11  103.60\n",
       "2008-01-12  103.60\n",
       "2008-01-13  103.60\n",
       "2008-01-14  104.28\n",
       "...            ...\n",
       "2020-09-26  228.26\n",
       "2020-09-27  228.26\n",
       "2020-09-28  228.79\n",
       "2020-09-29  228.50\n",
       "2020-09-30  225.30\n",
       "\n",
       "[4648 rows x 1 columns]"
      ]
     },
     "execution_count": 12,
     "metadata": {},
     "output_type": "execute_result"
    }
   ],
   "source": [
    "dataset2"
   ]
  },
  {
   "cell_type": "markdown",
   "metadata": {},
   "source": [
    "# Строим график"
   ]
  },
  {
   "cell_type": "code",
   "execution_count": 13,
   "metadata": {},
   "outputs": [],
   "source": [
    "dtst = dataset2"
   ]
  },
  {
   "cell_type": "code",
   "execution_count": 14,
   "metadata": {},
   "outputs": [
    {
     "data": {
      "text/plain": [
       "<AxesSubplot:xlabel='DATE'>"
      ]
     },
     "execution_count": 14,
     "metadata": {},
     "output_type": "execute_result"
    },
    {
     "data": {
      "image/png": "[encoded data removed]",
      "text/plain": [
       "<Figure size 864x432 with 1 Axes>"
      ]
     },
     "metadata": {
      "needs_background": "light"
     },
     "output_type": "display_data"
    }
   ],
   "source": [
    "dtst.plot(figsize=(12,6))"
   ]
  },
  {
   "cell_type": "markdown",
   "metadata": {},
   "source": [
    "### Данные с недельным интервалом"
   ]
  },
  {
   "cell_type": "code",
   "execution_count": 15,
   "metadata": {},
   "outputs": [
    {
     "data": {
      "text/plain": [
       "<AxesSubplot:xlabel='DATE'>"
      ]
     },
     "execution_count": 15,
     "metadata": {},
     "output_type": "execute_result"
    },
    {
     "data": {
      "image/png": "[encoded data removed]",
      "text/plain": [
       "<Figure size 864x432 with 1 Axes>"
      ]
     },
     "metadata": {
      "needs_background": "light"
     },
     "output_type": "display_data"
    }
   ],
   "source": [
    "dtstw = dtst.resample('W').median()\n",
    "dtstw.plot(figsize=(12,6))"
   ]
  },
  {
   "cell_type": "code",
   "execution_count": 16,
   "metadata": {},
   "outputs": [
    {
     "data": {
      "text/html": [
       "<div>\n",
       "<style scoped>\n",
       "    .dataframe tbody tr th:only-of-type {\n",
       "        vertical-align: middle;\n",
       "    }\n",
       "\n",
       "    .dataframe tbody tr th {\n",
       "        vertical-align: top;\n",
       "    }\n",
       "\n",
       "    .dataframe thead th {\n",
       "        text-align: right;\n",
       "    }\n",
       "</style>\n",
       "<table border=\"1\" class=\"dataframe\">\n",
       "  <thead>\n",
       "    <tr style=\"text-align: right;\">\n",
       "      <th></th>\n",
       "      <th>OPEN</th>\n",
       "    </tr>\n",
       "    <tr>\n",
       "      <th>DATE</th>\n",
       "      <th></th>\n",
       "    </tr>\n",
       "  </thead>\n",
       "  <tbody>\n",
       "    <tr>\n",
       "      <th>2008-01-13</th>\n",
       "      <td>103.60</td>\n",
       "    </tr>\n",
       "    <tr>\n",
       "      <th>2008-01-20</th>\n",
       "      <td>102.20</td>\n",
       "    </tr>\n",
       "    <tr>\n",
       "      <th>2008-01-27</th>\n",
       "      <td>97.12</td>\n",
       "    </tr>\n",
       "    <tr>\n",
       "      <th>2008-02-03</th>\n",
       "      <td>91.00</td>\n",
       "    </tr>\n",
       "    <tr>\n",
       "      <th>2008-02-10</th>\n",
       "      <td>86.10</td>\n",
       "    </tr>\n",
       "    <tr>\n",
       "      <th>...</th>\n",
       "      <td>...</td>\n",
       "    </tr>\n",
       "    <tr>\n",
       "      <th>2020-09-06</th>\n",
       "      <td>222.80</td>\n",
       "    </tr>\n",
       "    <tr>\n",
       "      <th>2020-09-13</th>\n",
       "      <td>220.99</td>\n",
       "    </tr>\n",
       "    <tr>\n",
       "      <th>2020-09-20</th>\n",
       "      <td>229.59</td>\n",
       "    </tr>\n",
       "    <tr>\n",
       "      <th>2020-09-27</th>\n",
       "      <td>228.26</td>\n",
       "    </tr>\n",
       "    <tr>\n",
       "      <th>2020-10-04</th>\n",
       "      <td>228.50</td>\n",
       "    </tr>\n",
       "  </tbody>\n",
       "</table>\n",
       "<p>665 rows × 1 columns</p>\n",
       "</div>"
      ],
      "text/plain": [
       "              OPEN\n",
       "DATE              \n",
       "2008-01-13  103.60\n",
       "2008-01-20  102.20\n",
       "2008-01-27   97.12\n",
       "2008-02-03   91.00\n",
       "2008-02-10   86.10\n",
       "...            ...\n",
       "2020-09-06  222.80\n",
       "2020-09-13  220.99\n",
       "2020-09-20  229.59\n",
       "2020-09-27  228.26\n",
       "2020-10-04  228.50\n",
       "\n",
       "[665 rows x 1 columns]"
      ]
     },
     "execution_count": 16,
     "metadata": {},
     "output_type": "execute_result"
    }
   ],
   "source": [
    "dtstw"
   ]
  },
  {
   "cell_type": "code",
   "execution_count": 17,
   "metadata": {},
   "outputs": [],
   "source": [
    "dtstw.to_csv('week_qSBER.csv', sep=';')"
   ]
  },
  {
   "cell_type": "markdown",
   "metadata": {},
   "source": [
    "### Гистограмма с полными данными"
   ]
  },
  {
   "cell_type": "code",
   "execution_count": 18,
   "metadata": {},
   "outputs": [
    {
     "data": {
      "text/html": [
       "<div>\n",
       "<style scoped>\n",
       "    .dataframe tbody tr th:only-of-type {\n",
       "        vertical-align: middle;\n",
       "    }\n",
       "\n",
       "    .dataframe tbody tr th {\n",
       "        vertical-align: top;\n",
       "    }\n",
       "\n",
       "    .dataframe thead th {\n",
       "        text-align: right;\n",
       "    }\n",
       "</style>\n",
       "<table border=\"1\" class=\"dataframe\">\n",
       "  <thead>\n",
       "    <tr style=\"text-align: right;\">\n",
       "      <th></th>\n",
       "      <th>OPEN</th>\n",
       "    </tr>\n",
       "  </thead>\n",
       "  <tbody>\n",
       "    <tr>\n",
       "      <th>count</th>\n",
       "      <td>4648.000000</td>\n",
       "    </tr>\n",
       "    <tr>\n",
       "      <th>mean</th>\n",
       "      <td>121.612463</td>\n",
       "    </tr>\n",
       "    <tr>\n",
       "      <th>std</th>\n",
       "      <td>63.536809</td>\n",
       "    </tr>\n",
       "    <tr>\n",
       "      <th>min</th>\n",
       "      <td>13.800000</td>\n",
       "    </tr>\n",
       "    <tr>\n",
       "      <th>25%</th>\n",
       "      <td>78.380000</td>\n",
       "    </tr>\n",
       "    <tr>\n",
       "      <th>50%</th>\n",
       "      <td>97.115000</td>\n",
       "    </tr>\n",
       "    <tr>\n",
       "      <th>75%</th>\n",
       "      <td>172.582500</td>\n",
       "    </tr>\n",
       "    <tr>\n",
       "      <th>max</th>\n",
       "      <td>280.820000</td>\n",
       "    </tr>\n",
       "  </tbody>\n",
       "</table>\n",
       "</div>"
      ],
      "text/plain": [
       "              OPEN\n",
       "count  4648.000000\n",
       "mean    121.612463\n",
       "std      63.536809\n",
       "min      13.800000\n",
       "25%      78.380000\n",
       "50%      97.115000\n",
       "75%     172.582500\n",
       "max     280.820000"
      ]
     },
     "execution_count": 18,
     "metadata": {},
     "output_type": "execute_result"
    },
    {
     "data": {
      "image/png": "[encoded data removed]",
      "text/plain": [
       "<Figure size 432x288 with 1 Axes>"
      ]
     },
     "metadata": {
      "needs_background": "light"
     },
     "output_type": "display_data"
    }
   ],
   "source": [
    "idtst = dtst.describe()\n",
    "dtst.hist()\n",
    "idtst"
   ]
  },
  {
   "cell_type": "markdown",
   "metadata": {},
   "source": [
    "### Гистограмма с недельным интервалом"
   ]
  },
  {
   "cell_type": "code",
   "execution_count": 19,
   "metadata": {},
   "outputs": [
    {
     "data": {
      "text/html": [
       "<div>\n",
       "<style scoped>\n",
       "    .dataframe tbody tr th:only-of-type {\n",
       "        vertical-align: middle;\n",
       "    }\n",
       "\n",
       "    .dataframe tbody tr th {\n",
       "        vertical-align: top;\n",
       "    }\n",
       "\n",
       "    .dataframe thead th {\n",
       "        text-align: right;\n",
       "    }\n",
       "</style>\n",
       "<table border=\"1\" class=\"dataframe\">\n",
       "  <thead>\n",
       "    <tr style=\"text-align: right;\">\n",
       "      <th></th>\n",
       "      <th>OPEN</th>\n",
       "    </tr>\n",
       "  </thead>\n",
       "  <tbody>\n",
       "    <tr>\n",
       "      <th>count</th>\n",
       "      <td>665.000000</td>\n",
       "    </tr>\n",
       "    <tr>\n",
       "      <th>mean</th>\n",
       "      <td>121.785233</td>\n",
       "    </tr>\n",
       "    <tr>\n",
       "      <th>std</th>\n",
       "      <td>63.623467</td>\n",
       "    </tr>\n",
       "    <tr>\n",
       "      <th>min</th>\n",
       "      <td>14.620000</td>\n",
       "    </tr>\n",
       "    <tr>\n",
       "      <th>25%</th>\n",
       "      <td>78.380000</td>\n",
       "    </tr>\n",
       "    <tr>\n",
       "      <th>50%</th>\n",
       "      <td>97.120000</td>\n",
       "    </tr>\n",
       "    <tr>\n",
       "      <th>75%</th>\n",
       "      <td>172.410000</td>\n",
       "    </tr>\n",
       "    <tr>\n",
       "      <th>max</th>\n",
       "      <td>277.960000</td>\n",
       "    </tr>\n",
       "  </tbody>\n",
       "</table>\n",
       "</div>"
      ],
      "text/plain": [
       "             OPEN\n",
       "count  665.000000\n",
       "mean   121.785233\n",
       "std     63.623467\n",
       "min     14.620000\n",
       "25%     78.380000\n",
       "50%     97.120000\n",
       "75%    172.410000\n",
       "max    277.960000"
      ]
     },
     "execution_count": 19,
     "metadata": {},
     "output_type": "execute_result"
    },
    {
     "data": {
      "image/png": "[encoded data removed]",
      "text/plain": [
       "<Figure size 432x288 with 1 Axes>"
      ]
     },
     "metadata": {
      "needs_background": "light"
     },
     "output_type": "display_data"
    }
   ],
   "source": [
    "idtstw = dtstw.describe()\n",
    "dtstw.hist()\n",
    "idtstw"
   ]
  },
  {
   "cell_type": "markdown",
   "metadata": {},
   "source": [
    "# Расчет коэффициента вариации"
   ]
  },
  {
   "cell_type": "markdown",
   "metadata": {},
   "source": [
    "### Полные данные"
   ]
  },
  {
   "cell_type": "code",
   "execution_count": 20,
   "metadata": {},
   "outputs": [],
   "source": [
    "V = idtst.loc['std']/idtst.loc['mean']"
   ]
  },
  {
   "cell_type": "code",
   "execution_count": 21,
   "metadata": {},
   "outputs": [
    {
     "data": {
      "text/plain": [
       "OPEN    0.522453\n",
       "dtype: float64"
      ]
     },
     "execution_count": 21,
     "metadata": {},
     "output_type": "execute_result"
    }
   ],
   "source": [
    "V"
   ]
  },
  {
   "cell_type": "markdown",
   "metadata": {},
   "source": [
    "### Недельные данные"
   ]
  },
  {
   "cell_type": "code",
   "execution_count": 22,
   "metadata": {},
   "outputs": [],
   "source": [
    "Vw = idtstw.loc['std']/idtstw.loc['mean']"
   ]
  },
  {
   "cell_type": "code",
   "execution_count": 23,
   "metadata": {},
   "outputs": [
    {
     "data": {
      "text/plain": [
       "OPEN    0.522423\n",
       "dtype: float64"
      ]
     },
     "execution_count": 23,
     "metadata": {},
     "output_type": "execute_result"
    }
   ],
   "source": [
    "Vw"
   ]
  },
  {
   "cell_type": "markdown",
   "metadata": {},
   "source": [
    "# Тест Харки-Бера"
   ]
  },
  {
   "cell_type": "markdown",
   "metadata": {},
   "source": [
    "### Полные данные"
   ]
  },
  {
   "cell_type": "code",
   "execution_count": 24,
   "metadata": {},
   "outputs": [
    {
     "data": {
      "text/plain": [
       "(array([0.375, 0.375, 0.375, ..., 0.375, 0.375, 0.375]),\n",
       " array([0.82902912, 0.82902912, 0.82902912, ..., 0.82902912, 0.82902912,\n",
       "        0.82902912]),\n",
       " array([0., 0., 0., ..., 0., 0., 0.]),\n",
       " array([0., 0., 0., ..., 0., 0., 0.]))"
      ]
     },
     "execution_count": 24,
     "metadata": {},
     "output_type": "execute_result"
    }
   ],
   "source": [
    "row =  [u'JB', u'p-value', u'skew', u'kurtosis']\n",
    "jb_test = sm.stats.stattools.jarque_bera(dtst, axis=1)\n",
    "jb_test"
   ]
  },
  {
   "cell_type": "code",
   "execution_count": 25,
   "metadata": {},
   "outputs": [
    {
     "data": {
      "text/plain": [
       "array([[0.375     , 0.375     , 0.375     , ..., 0.375     , 0.375     ,\n",
       "        0.375     ],\n",
       "       [0.82902912, 0.82902912, 0.82902912, ..., 0.82902912, 0.82902912,\n",
       "        0.82902912],\n",
       "       [0.        , 0.        , 0.        , ..., 0.        , 0.        ,\n",
       "        0.        ],\n",
       "       [0.        , 0.        , 0.        , ..., 0.        , 0.        ,\n",
       "        0.        ]])"
      ]
     },
     "execution_count": 25,
     "metadata": {},
     "output_type": "execute_result"
    }
   ],
   "source": [
    "a = np.vstack([jb_test])\n",
    "a"
   ]
  },
  {
   "cell_type": "code",
   "execution_count": 26,
   "metadata": {},
   "outputs": [
    {
     "data": {
      "text/html": [
       "<table class=\"simpletable\">\n",
       "<tr>\n",
       "          <th>JB</th>               <th>p-value</th>             <th>skew</th>             <th>kurtosis</th>     \n",
       "</tr>\n",
       "<tr>\n",
       "         <td>0.375</td>              <td>0.375</td>              <td>0.375</td>              <td>0.375</td>      \n",
       "</tr>\n",
       "<tr>\n",
       "  <td>0.8290291181804004</td> <td>0.8290291181804004</td> <td>0.8290291181804004</td> <td>0.8290291181804004</td>\n",
       "</tr>\n",
       "<tr>\n",
       "          <td>0.0</td>                <td>0.0</td>                <td>0.0</td>                <td>0.0</td>       \n",
       "</tr>\n",
       "<tr>\n",
       "          <td>0.0</td>                <td>0.0</td>                <td>0.0</td>                <td>0.0</td>       \n",
       "</tr>\n",
       "</table>"
      ],
      "text/plain": [
       "<class 'statsmodels.iolib.table.SimpleTable'>"
      ]
     },
     "execution_count": 26,
     "metadata": {},
     "output_type": "execute_result"
    }
   ],
   "source": [
    "idtst = SimpleTable(a, row)\n",
    "idtst"
   ]
  },
  {
   "cell_type": "markdown",
   "metadata": {},
   "source": [
    "### Недельные данные\n"
   ]
  },
  {
   "cell_type": "code",
   "execution_count": 27,
   "metadata": {
    "scrolled": true
   },
   "outputs": [
    {
     "data": {
      "text/plain": [
       "(array([0.375, 0.375, 0.375, 0.375, 0.375, 0.375, 0.375, 0.375, 0.375,\n",
       "        0.375, 0.375, 0.375, 0.375, 0.375, 0.375, 0.375, 0.375, 0.375,\n",
       "        0.375, 0.375, 0.375, 0.375, 0.375, 0.375, 0.375, 0.375, 0.375,\n",
       "        0.375, 0.375, 0.375, 0.375, 0.375, 0.375, 0.375, 0.375, 0.375,\n",
       "        0.375, 0.375, 0.375, 0.375, 0.375, 0.375, 0.375, 0.375, 0.375,\n",
       "        0.375, 0.375, 0.375, 0.375, 0.375, 0.375, 0.375, 0.375, 0.375,\n",
       "        0.375, 0.375, 0.375, 0.375, 0.375, 0.375, 0.375, 0.375, 0.375,\n",
       "        0.375, 0.375, 0.375, 0.375, 0.375, 0.375, 0.375, 0.375, 0.375,\n",
       "        0.375, 0.375, 0.375, 0.375, 0.375, 0.375, 0.375, 0.375, 0.375,\n",
       "        0.375, 0.375, 0.375, 0.375, 0.375, 0.375, 0.375, 0.375, 0.375,\n",
       "        0.375, 0.375, 0.375, 0.375, 0.375, 0.375, 0.375, 0.375, 0.375,\n",
       "        0.375, 0.375, 0.375, 0.375, 0.375, 0.375, 0.375, 0.375, 0.375,\n",
       "        0.375, 0.375, 0.375, 0.375, 0.375, 0.375, 0.375, 0.375, 0.375,\n",
       "        0.375, 0.375, 0.375, 0.375, 0.375, 0.375, 0.375, 0.375, 0.375,\n",
       "        0.375, 0.375, 0.375, 0.375, 0.375, 0.375, 0.375, 0.375, 0.375,\n",
       "        0.375, 0.375, 0.375, 0.375, 0.375, 0.375, 0.375, 0.375, 0.375,\n",
       "        0.375, 0.375, 0.375, 0.375, 0.375, 0.375, 0.375, 0.375, 0.375,\n",
       "        0.375, 0.375, 0.375, 0.375, 0.375, 0.375, 0.375, 0.375, 0.375,\n",
       "        0.375, 0.375, 0.375, 0.375, 0.375, 0.375, 0.375, 0.375, 0.375,\n",
       "        0.375, 0.375, 0.375, 0.375, 0.375, 0.375, 0.375, 0.375, 0.375,\n",
       "        0.375, 0.375, 0.375, 0.375, 0.375, 0.375, 0.375, 0.375, 0.375,\n",
       "        0.375, 0.375, 0.375, 0.375, 0.375, 0.375, 0.375, 0.375, 0.375,\n",
       "        0.375, 0.375, 0.375, 0.375, 0.375, 0.375, 0.375, 0.375, 0.375,\n",
       "        0.375, 0.375, 0.375, 0.375, 0.375, 0.375, 0.375, 0.375, 0.375,\n",
       "        0.375, 0.375, 0.375, 0.375, 0.375, 0.375, 0.375, 0.375, 0.375,\n",
       "        0.375, 0.375, 0.375, 0.375, 0.375, 0.375, 0.375, 0.375, 0.375,\n",
       "        0.375, 0.375, 0.375, 0.375, 0.375, 0.375, 0.375, 0.375, 0.375,\n",
       "        0.375, 0.375, 0.375, 0.375, 0.375, 0.375, 0.375, 0.375, 0.375,\n",
       "        0.375, 0.375, 0.375, 0.375, 0.375, 0.375, 0.375, 0.375, 0.375,\n",
       "        0.375, 0.375, 0.375, 0.375, 0.375, 0.375, 0.375, 0.375, 0.375,\n",
       "        0.375, 0.375, 0.375, 0.375, 0.375, 0.375, 0.375, 0.375, 0.375,\n",
       "        0.375, 0.375, 0.375, 0.375, 0.375, 0.375, 0.375, 0.375, 0.375,\n",
       "        0.375, 0.375, 0.375, 0.375, 0.375, 0.375, 0.375, 0.375, 0.375,\n",
       "        0.375, 0.375, 0.375, 0.375, 0.375, 0.375, 0.375, 0.375, 0.375,\n",
       "        0.375, 0.375, 0.375, 0.375, 0.375, 0.375, 0.375, 0.375, 0.375,\n",
       "        0.375, 0.375, 0.375, 0.375, 0.375, 0.375, 0.375, 0.375, 0.375,\n",
       "        0.375, 0.375, 0.375, 0.375, 0.375, 0.375, 0.375, 0.375, 0.375,\n",
       "        0.375, 0.375, 0.375, 0.375, 0.375, 0.375, 0.375, 0.375, 0.375,\n",
       "        0.375, 0.375, 0.375, 0.375, 0.375, 0.375, 0.375, 0.375, 0.375,\n",
       "        0.375, 0.375, 0.375, 0.375, 0.375, 0.375, 0.375, 0.375, 0.375,\n",
       "        0.375, 0.375, 0.375, 0.375, 0.375, 0.375, 0.375, 0.375, 0.375,\n",
       "        0.375, 0.375, 0.375, 0.375, 0.375, 0.375, 0.375, 0.375, 0.375,\n",
       "        0.375, 0.375, 0.375, 0.375, 0.375, 0.375, 0.375, 0.375, 0.375,\n",
       "        0.375, 0.375, 0.375, 0.375, 0.375, 0.375, 0.375, 0.375, 0.375,\n",
       "        0.375, 0.375, 0.375, 0.375, 0.375, 0.375, 0.375, 0.375, 0.375,\n",
       "        0.375, 0.375, 0.375, 0.375, 0.375, 0.375, 0.375, 0.375, 0.375,\n",
       "        0.375, 0.375, 0.375, 0.375, 0.375, 0.375, 0.375, 0.375, 0.375,\n",
       "        0.375, 0.375, 0.375, 0.375, 0.375, 0.375, 0.375, 0.375, 0.375,\n",
       "        0.375, 0.375, 0.375, 0.375, 0.375, 0.375, 0.375, 0.375, 0.375,\n",
       "        0.375, 0.375, 0.375, 0.375, 0.375, 0.375, 0.375, 0.375, 0.375,\n",
       "        0.375, 0.375, 0.375, 0.375, 0.375, 0.375, 0.375, 0.375, 0.375,\n",
       "        0.375, 0.375, 0.375, 0.375, 0.375, 0.375, 0.375, 0.375, 0.375,\n",
       "        0.375, 0.375, 0.375, 0.375, 0.375, 0.375, 0.375, 0.375, 0.375,\n",
       "        0.375, 0.375, 0.375, 0.375, 0.375, 0.375, 0.375, 0.375, 0.375,\n",
       "        0.375, 0.375, 0.375, 0.375, 0.375, 0.375, 0.375, 0.375, 0.375,\n",
       "        0.375, 0.375, 0.375, 0.375, 0.375, 0.375, 0.375, 0.375, 0.375,\n",
       "        0.375, 0.375, 0.375, 0.375, 0.375, 0.375, 0.375, 0.375, 0.375,\n",
       "        0.375, 0.375, 0.375, 0.375, 0.375, 0.375, 0.375, 0.375, 0.375,\n",
       "        0.375, 0.375, 0.375, 0.375, 0.375, 0.375, 0.375, 0.375, 0.375,\n",
       "        0.375, 0.375, 0.375, 0.375, 0.375, 0.375, 0.375, 0.375, 0.375,\n",
       "        0.375, 0.375, 0.375, 0.375, 0.375, 0.375, 0.375, 0.375, 0.375,\n",
       "        0.375, 0.375, 0.375, 0.375, 0.375, 0.375, 0.375, 0.375, 0.375,\n",
       "        0.375, 0.375, 0.375, 0.375, 0.375, 0.375, 0.375, 0.375, 0.375,\n",
       "        0.375, 0.375, 0.375, 0.375, 0.375, 0.375, 0.375, 0.375, 0.375,\n",
       "        0.375, 0.375, 0.375, 0.375, 0.375, 0.375, 0.375, 0.375, 0.375,\n",
       "        0.375, 0.375, 0.375, 0.375, 0.375, 0.375, 0.375, 0.375, 0.375,\n",
       "        0.375, 0.375, 0.375, 0.375, 0.375, 0.375, 0.375, 0.375, 0.375,\n",
       "        0.375, 0.375, 0.375, 0.375, 0.375, 0.375, 0.375, 0.375, 0.375,\n",
       "        0.375, 0.375, 0.375, 0.375, 0.375, 0.375, 0.375, 0.375, 0.375,\n",
       "        0.375, 0.375, 0.375, 0.375, 0.375, 0.375, 0.375, 0.375, 0.375,\n",
       "        0.375, 0.375, 0.375, 0.375, 0.375, 0.375, 0.375, 0.375, 0.375,\n",
       "        0.375, 0.375, 0.375, 0.375, 0.375, 0.375, 0.375, 0.375, 0.375,\n",
       "        0.375, 0.375, 0.375, 0.375, 0.375, 0.375, 0.375, 0.375, 0.375,\n",
       "        0.375, 0.375, 0.375, 0.375, 0.375, 0.375, 0.375, 0.375]),\n",
       " array([0.82902912, 0.82902912, 0.82902912, 0.82902912, 0.82902912,\n",
       "        0.82902912, 0.82902912, 0.82902912, 0.82902912, 0.82902912,\n",
       "        0.82902912, 0.82902912, 0.82902912, 0.82902912, 0.82902912,\n",
       "        0.82902912, 0.82902912, 0.82902912, 0.82902912, 0.82902912,\n",
       "        0.82902912, 0.82902912, 0.82902912, 0.82902912, 0.82902912,\n",
       "        0.82902912, 0.82902912, 0.82902912, 0.82902912, 0.82902912,\n",
       "        0.82902912, 0.82902912, 0.82902912, 0.82902912, 0.82902912,\n",
       "        0.82902912, 0.82902912, 0.82902912, 0.82902912, 0.82902912,\n",
       "        0.82902912, 0.82902912, 0.82902912, 0.82902912, 0.82902912,\n",
       "        0.82902912, 0.82902912, 0.82902912, 0.82902912, 0.82902912,\n",
       "        0.82902912, 0.82902912, 0.82902912, 0.82902912, 0.82902912,\n",
       "        0.82902912, 0.82902912, 0.82902912, 0.82902912, 0.82902912,\n",
       "        0.82902912, 0.82902912, 0.82902912, 0.82902912, 0.82902912,\n",
       "        0.82902912, 0.82902912, 0.82902912, 0.82902912, 0.82902912,\n",
       "        0.82902912, 0.82902912, 0.82902912, 0.82902912, 0.82902912,\n",
       "        0.82902912, 0.82902912, 0.82902912, 0.82902912, 0.82902912,\n",
       "        0.82902912, 0.82902912, 0.82902912, 0.82902912, 0.82902912,\n",
       "        0.82902912, 0.82902912, 0.82902912, 0.82902912, 0.82902912,\n",
       "        0.82902912, 0.82902912, 0.82902912, 0.82902912, 0.82902912,\n",
       "        0.82902912, 0.82902912, 0.82902912, 0.82902912, 0.82902912,\n",
       "        0.82902912, 0.82902912, 0.82902912, 0.82902912, 0.82902912,\n",
       "        0.82902912, 0.82902912, 0.82902912, 0.82902912, 0.82902912,\n",
       "        0.82902912, 0.82902912, 0.82902912, 0.82902912, 0.82902912,\n",
       "        0.82902912, 0.82902912, 0.82902912, 0.82902912, 0.82902912,\n",
       "        0.82902912, 0.82902912, 0.82902912, 0.82902912, 0.82902912,\n",
       "        0.82902912, 0.82902912, 0.82902912, 0.82902912, 0.82902912,\n",
       "        0.82902912, 0.82902912, 0.82902912, 0.82902912, 0.82902912,\n",
       "        0.82902912, 0.82902912, 0.82902912, 0.82902912, 0.82902912,\n",
       "        0.82902912, 0.82902912, 0.82902912, 0.82902912, 0.82902912,\n",
       "        0.82902912, 0.82902912, 0.82902912, 0.82902912, 0.82902912,\n",
       "        0.82902912, 0.82902912, 0.82902912, 0.82902912, 0.82902912,\n",
       "        0.82902912, 0.82902912, 0.82902912, 0.82902912, 0.82902912,\n",
       "        0.82902912, 0.82902912, 0.82902912, 0.82902912, 0.82902912,\n",
       "        0.82902912, 0.82902912, 0.82902912, 0.82902912, 0.82902912,\n",
       "        0.82902912, 0.82902912, 0.82902912, 0.82902912, 0.82902912,\n",
       "        0.82902912, 0.82902912, 0.82902912, 0.82902912, 0.82902912,\n",
       "        0.82902912, 0.82902912, 0.82902912, 0.82902912, 0.82902912,\n",
       "        0.82902912, 0.82902912, 0.82902912, 0.82902912, 0.82902912,\n",
       "        0.82902912, 0.82902912, 0.82902912, 0.82902912, 0.82902912,\n",
       "        0.82902912, 0.82902912, 0.82902912, 0.82902912, 0.82902912,\n",
       "        0.82902912, 0.82902912, 0.82902912, 0.82902912, 0.82902912,\n",
       "        0.82902912, 0.82902912, 0.82902912, 0.82902912, 0.82902912,\n",
       "        0.82902912, 0.82902912, 0.82902912, 0.82902912, 0.82902912,\n",
       "        0.82902912, 0.82902912, 0.82902912, 0.82902912, 0.82902912,\n",
       "        0.82902912, 0.82902912, 0.82902912, 0.82902912, 0.82902912,\n",
       "        0.82902912, 0.82902912, 0.82902912, 0.82902912, 0.82902912,\n",
       "        0.82902912, 0.82902912, 0.82902912, 0.82902912, 0.82902912,\n",
       "        0.82902912, 0.82902912, 0.82902912, 0.82902912, 0.82902912,\n",
       "        0.82902912, 0.82902912, 0.82902912, 0.82902912, 0.82902912,\n",
       "        0.82902912, 0.82902912, 0.82902912, 0.82902912, 0.82902912,\n",
       "        0.82902912, 0.82902912, 0.82902912, 0.82902912, 0.82902912,\n",
       "        0.82902912, 0.82902912, 0.82902912, 0.82902912, 0.82902912,\n",
       "        0.82902912, 0.82902912, 0.82902912, 0.82902912, 0.82902912,\n",
       "        0.82902912, 0.82902912, 0.82902912, 0.82902912, 0.82902912,\n",
       "        0.82902912, 0.82902912, 0.82902912, 0.82902912, 0.82902912,\n",
       "        0.82902912, 0.82902912, 0.82902912, 0.82902912, 0.82902912,\n",
       "        0.82902912, 0.82902912, 0.82902912, 0.82902912, 0.82902912,\n",
       "        0.82902912, 0.82902912, 0.82902912, 0.82902912, 0.82902912,\n",
       "        0.82902912, 0.82902912, 0.82902912, 0.82902912, 0.82902912,\n",
       "        0.82902912, 0.82902912, 0.82902912, 0.82902912, 0.82902912,\n",
       "        0.82902912, 0.82902912, 0.82902912, 0.82902912, 0.82902912,\n",
       "        0.82902912, 0.82902912, 0.82902912, 0.82902912, 0.82902912,\n",
       "        0.82902912, 0.82902912, 0.82902912, 0.82902912, 0.82902912,\n",
       "        0.82902912, 0.82902912, 0.82902912, 0.82902912, 0.82902912,\n",
       "        0.82902912, 0.82902912, 0.82902912, 0.82902912, 0.82902912,\n",
       "        0.82902912, 0.82902912, 0.82902912, 0.82902912, 0.82902912,\n",
       "        0.82902912, 0.82902912, 0.82902912, 0.82902912, 0.82902912,\n",
       "        0.82902912, 0.82902912, 0.82902912, 0.82902912, 0.82902912,\n",
       "        0.82902912, 0.82902912, 0.82902912, 0.82902912, 0.82902912,\n",
       "        0.82902912, 0.82902912, 0.82902912, 0.82902912, 0.82902912,\n",
       "        0.82902912, 0.82902912, 0.82902912, 0.82902912, 0.82902912,\n",
       "        0.82902912, 0.82902912, 0.82902912, 0.82902912, 0.82902912,\n",
       "        0.82902912, 0.82902912, 0.82902912, 0.82902912, 0.82902912,\n",
       "        0.82902912, 0.82902912, 0.82902912, 0.82902912, 0.82902912,\n",
       "        0.82902912, 0.82902912, 0.82902912, 0.82902912, 0.82902912,\n",
       "        0.82902912, 0.82902912, 0.82902912, 0.82902912, 0.82902912,\n",
       "        0.82902912, 0.82902912, 0.82902912, 0.82902912, 0.82902912,\n",
       "        0.82902912, 0.82902912, 0.82902912, 0.82902912, 0.82902912,\n",
       "        0.82902912, 0.82902912, 0.82902912, 0.82902912, 0.82902912,\n",
       "        0.82902912, 0.82902912, 0.82902912, 0.82902912, 0.82902912,\n",
       "        0.82902912, 0.82902912, 0.82902912, 0.82902912, 0.82902912,\n",
       "        0.82902912, 0.82902912, 0.82902912, 0.82902912, 0.82902912,\n",
       "        0.82902912, 0.82902912, 0.82902912, 0.82902912, 0.82902912,\n",
       "        0.82902912, 0.82902912, 0.82902912, 0.82902912, 0.82902912,\n",
       "        0.82902912, 0.82902912, 0.82902912, 0.82902912, 0.82902912,\n",
       "        0.82902912, 0.82902912, 0.82902912, 0.82902912, 0.82902912,\n",
       "        0.82902912, 0.82902912, 0.82902912, 0.82902912, 0.82902912,\n",
       "        0.82902912, 0.82902912, 0.82902912, 0.82902912, 0.82902912,\n",
       "        0.82902912, 0.82902912, 0.82902912, 0.82902912, 0.82902912,\n",
       "        0.82902912, 0.82902912, 0.82902912, 0.82902912, 0.82902912,\n",
       "        0.82902912, 0.82902912, 0.82902912, 0.82902912, 0.82902912,\n",
       "        0.82902912, 0.82902912, 0.82902912, 0.82902912, 0.82902912,\n",
       "        0.82902912, 0.82902912, 0.82902912, 0.82902912, 0.82902912,\n",
       "        0.82902912, 0.82902912, 0.82902912, 0.82902912, 0.82902912,\n",
       "        0.82902912, 0.82902912, 0.82902912, 0.82902912, 0.82902912,\n",
       "        0.82902912, 0.82902912, 0.82902912, 0.82902912, 0.82902912,\n",
       "        0.82902912, 0.82902912, 0.82902912, 0.82902912, 0.82902912,\n",
       "        0.82902912, 0.82902912, 0.82902912, 0.82902912, 0.82902912,\n",
       "        0.82902912, 0.82902912, 0.82902912, 0.82902912, 0.82902912,\n",
       "        0.82902912, 0.82902912, 0.82902912, 0.82902912, 0.82902912,\n",
       "        0.82902912, 0.82902912, 0.82902912, 0.82902912, 0.82902912,\n",
       "        0.82902912, 0.82902912, 0.82902912, 0.82902912, 0.82902912,\n",
       "        0.82902912, 0.82902912, 0.82902912, 0.82902912, 0.82902912,\n",
       "        0.82902912, 0.82902912, 0.82902912, 0.82902912, 0.82902912,\n",
       "        0.82902912, 0.82902912, 0.82902912, 0.82902912, 0.82902912,\n",
       "        0.82902912, 0.82902912, 0.82902912, 0.82902912, 0.82902912,\n",
       "        0.82902912, 0.82902912, 0.82902912, 0.82902912, 0.82902912,\n",
       "        0.82902912, 0.82902912, 0.82902912, 0.82902912, 0.82902912,\n",
       "        0.82902912, 0.82902912, 0.82902912, 0.82902912, 0.82902912,\n",
       "        0.82902912, 0.82902912, 0.82902912, 0.82902912, 0.82902912,\n",
       "        0.82902912, 0.82902912, 0.82902912, 0.82902912, 0.82902912,\n",
       "        0.82902912, 0.82902912, 0.82902912, 0.82902912, 0.82902912,\n",
       "        0.82902912, 0.82902912, 0.82902912, 0.82902912, 0.82902912,\n",
       "        0.82902912, 0.82902912, 0.82902912, 0.82902912, 0.82902912,\n",
       "        0.82902912, 0.82902912, 0.82902912, 0.82902912, 0.82902912,\n",
       "        0.82902912, 0.82902912, 0.82902912, 0.82902912, 0.82902912,\n",
       "        0.82902912, 0.82902912, 0.82902912, 0.82902912, 0.82902912,\n",
       "        0.82902912, 0.82902912, 0.82902912, 0.82902912, 0.82902912,\n",
       "        0.82902912, 0.82902912, 0.82902912, 0.82902912, 0.82902912,\n",
       "        0.82902912, 0.82902912, 0.82902912, 0.82902912, 0.82902912,\n",
       "        0.82902912, 0.82902912, 0.82902912, 0.82902912, 0.82902912,\n",
       "        0.82902912, 0.82902912, 0.82902912, 0.82902912, 0.82902912,\n",
       "        0.82902912, 0.82902912, 0.82902912, 0.82902912, 0.82902912,\n",
       "        0.82902912, 0.82902912, 0.82902912, 0.82902912, 0.82902912,\n",
       "        0.82902912, 0.82902912, 0.82902912, 0.82902912, 0.82902912,\n",
       "        0.82902912, 0.82902912, 0.82902912, 0.82902912, 0.82902912,\n",
       "        0.82902912, 0.82902912, 0.82902912, 0.82902912, 0.82902912,\n",
       "        0.82902912, 0.82902912, 0.82902912, 0.82902912, 0.82902912,\n",
       "        0.82902912, 0.82902912, 0.82902912, 0.82902912, 0.82902912,\n",
       "        0.82902912, 0.82902912, 0.82902912, 0.82902912, 0.82902912,\n",
       "        0.82902912, 0.82902912, 0.82902912, 0.82902912, 0.82902912,\n",
       "        0.82902912, 0.82902912, 0.82902912, 0.82902912, 0.82902912,\n",
       "        0.82902912, 0.82902912, 0.82902912, 0.82902912, 0.82902912]),\n",
       " array([0., 0., 0., 0., 0., 0., 0., 0., 0., 0., 0., 0., 0., 0., 0., 0., 0.,\n",
       "        0., 0., 0., 0., 0., 0., 0., 0., 0., 0., 0., 0., 0., 0., 0., 0., 0.,\n",
       "        0., 0., 0., 0., 0., 0., 0., 0., 0., 0., 0., 0., 0., 0., 0., 0., 0.,\n",
       "        0., 0., 0., 0., 0., 0., 0., 0., 0., 0., 0., 0., 0., 0., 0., 0., 0.,\n",
       "        0., 0., 0., 0., 0., 0., 0., 0., 0., 0., 0., 0., 0., 0., 0., 0., 0.,\n",
       "        0., 0., 0., 0., 0., 0., 0., 0., 0., 0., 0., 0., 0., 0., 0., 0., 0.,\n",
       "        0., 0., 0., 0., 0., 0., 0., 0., 0., 0., 0., 0., 0., 0., 0., 0., 0.,\n",
       "        0., 0., 0., 0., 0., 0., 0., 0., 0., 0., 0., 0., 0., 0., 0., 0., 0.,\n",
       "        0., 0., 0., 0., 0., 0., 0., 0., 0., 0., 0., 0., 0., 0., 0., 0., 0.,\n",
       "        0., 0., 0., 0., 0., 0., 0., 0., 0., 0., 0., 0., 0., 0., 0., 0., 0.,\n",
       "        0., 0., 0., 0., 0., 0., 0., 0., 0., 0., 0., 0., 0., 0., 0., 0., 0.,\n",
       "        0., 0., 0., 0., 0., 0., 0., 0., 0., 0., 0., 0., 0., 0., 0., 0., 0.,\n",
       "        0., 0., 0., 0., 0., 0., 0., 0., 0., 0., 0., 0., 0., 0., 0., 0., 0.,\n",
       "        0., 0., 0., 0., 0., 0., 0., 0., 0., 0., 0., 0., 0., 0., 0., 0., 0.,\n",
       "        0., 0., 0., 0., 0., 0., 0., 0., 0., 0., 0., 0., 0., 0., 0., 0., 0.,\n",
       "        0., 0., 0., 0., 0., 0., 0., 0., 0., 0., 0., 0., 0., 0., 0., 0., 0.,\n",
       "        0., 0., 0., 0., 0., 0., 0., 0., 0., 0., 0., 0., 0., 0., 0., 0., 0.,\n",
       "        0., 0., 0., 0., 0., 0., 0., 0., 0., 0., 0., 0., 0., 0., 0., 0., 0.,\n",
       "        0., 0., 0., 0., 0., 0., 0., 0., 0., 0., 0., 0., 0., 0., 0., 0., 0.,\n",
       "        0., 0., 0., 0., 0., 0., 0., 0., 0., 0., 0., 0., 0., 0., 0., 0., 0.,\n",
       "        0., 0., 0., 0., 0., 0., 0., 0., 0., 0., 0., 0., 0., 0., 0., 0., 0.,\n",
       "        0., 0., 0., 0., 0., 0., 0., 0., 0., 0., 0., 0., 0., 0., 0., 0., 0.,\n",
       "        0., 0., 0., 0., 0., 0., 0., 0., 0., 0., 0., 0., 0., 0., 0., 0., 0.,\n",
       "        0., 0., 0., 0., 0., 0., 0., 0., 0., 0., 0., 0., 0., 0., 0., 0., 0.,\n",
       "        0., 0., 0., 0., 0., 0., 0., 0., 0., 0., 0., 0., 0., 0., 0., 0., 0.,\n",
       "        0., 0., 0., 0., 0., 0., 0., 0., 0., 0., 0., 0., 0., 0., 0., 0., 0.,\n",
       "        0., 0., 0., 0., 0., 0., 0., 0., 0., 0., 0., 0., 0., 0., 0., 0., 0.,\n",
       "        0., 0., 0., 0., 0., 0., 0., 0., 0., 0., 0., 0., 0., 0., 0., 0., 0.,\n",
       "        0., 0., 0., 0., 0., 0., 0., 0., 0., 0., 0., 0., 0., 0., 0., 0., 0.,\n",
       "        0., 0., 0., 0., 0., 0., 0., 0., 0., 0., 0., 0., 0., 0., 0., 0., 0.,\n",
       "        0., 0., 0., 0., 0., 0., 0., 0., 0., 0., 0., 0., 0., 0., 0., 0., 0.,\n",
       "        0., 0., 0., 0., 0., 0., 0., 0., 0., 0., 0., 0., 0., 0., 0., 0., 0.,\n",
       "        0., 0., 0., 0., 0., 0., 0., 0., 0., 0., 0., 0., 0., 0., 0., 0., 0.,\n",
       "        0., 0., 0., 0., 0., 0., 0., 0., 0., 0., 0., 0., 0., 0., 0., 0., 0.,\n",
       "        0., 0., 0., 0., 0., 0., 0., 0., 0., 0., 0., 0., 0., 0., 0., 0., 0.,\n",
       "        0., 0., 0., 0., 0., 0., 0., 0., 0., 0., 0., 0., 0., 0., 0., 0., 0.,\n",
       "        0., 0., 0., 0., 0., 0., 0., 0., 0., 0., 0., 0., 0., 0., 0., 0., 0.,\n",
       "        0., 0., 0., 0., 0., 0., 0., 0., 0., 0., 0., 0., 0., 0., 0., 0., 0.,\n",
       "        0., 0., 0., 0., 0., 0., 0., 0., 0., 0., 0., 0., 0., 0., 0., 0., 0.,\n",
       "        0., 0.]),\n",
       " array([0., 0., 0., 0., 0., 0., 0., 0., 0., 0., 0., 0., 0., 0., 0., 0., 0.,\n",
       "        0., 0., 0., 0., 0., 0., 0., 0., 0., 0., 0., 0., 0., 0., 0., 0., 0.,\n",
       "        0., 0., 0., 0., 0., 0., 0., 0., 0., 0., 0., 0., 0., 0., 0., 0., 0.,\n",
       "        0., 0., 0., 0., 0., 0., 0., 0., 0., 0., 0., 0., 0., 0., 0., 0., 0.,\n",
       "        0., 0., 0., 0., 0., 0., 0., 0., 0., 0., 0., 0., 0., 0., 0., 0., 0.,\n",
       "        0., 0., 0., 0., 0., 0., 0., 0., 0., 0., 0., 0., 0., 0., 0., 0., 0.,\n",
       "        0., 0., 0., 0., 0., 0., 0., 0., 0., 0., 0., 0., 0., 0., 0., 0., 0.,\n",
       "        0., 0., 0., 0., 0., 0., 0., 0., 0., 0., 0., 0., 0., 0., 0., 0., 0.,\n",
       "        0., 0., 0., 0., 0., 0., 0., 0., 0., 0., 0., 0., 0., 0., 0., 0., 0.,\n",
       "        0., 0., 0., 0., 0., 0., 0., 0., 0., 0., 0., 0., 0., 0., 0., 0., 0.,\n",
       "        0., 0., 0., 0., 0., 0., 0., 0., 0., 0., 0., 0., 0., 0., 0., 0., 0.,\n",
       "        0., 0., 0., 0., 0., 0., 0., 0., 0., 0., 0., 0., 0., 0., 0., 0., 0.,\n",
       "        0., 0., 0., 0., 0., 0., 0., 0., 0., 0., 0., 0., 0., 0., 0., 0., 0.,\n",
       "        0., 0., 0., 0., 0., 0., 0., 0., 0., 0., 0., 0., 0., 0., 0., 0., 0.,\n",
       "        0., 0., 0., 0., 0., 0., 0., 0., 0., 0., 0., 0., 0., 0., 0., 0., 0.,\n",
       "        0., 0., 0., 0., 0., 0., 0., 0., 0., 0., 0., 0., 0., 0., 0., 0., 0.,\n",
       "        0., 0., 0., 0., 0., 0., 0., 0., 0., 0., 0., 0., 0., 0., 0., 0., 0.,\n",
       "        0., 0., 0., 0., 0., 0., 0., 0., 0., 0., 0., 0., 0., 0., 0., 0., 0.,\n",
       "        0., 0., 0., 0., 0., 0., 0., 0., 0., 0., 0., 0., 0., 0., 0., 0., 0.,\n",
       "        0., 0., 0., 0., 0., 0., 0., 0., 0., 0., 0., 0., 0., 0., 0., 0., 0.,\n",
       "        0., 0., 0., 0., 0., 0., 0., 0., 0., 0., 0., 0., 0., 0., 0., 0., 0.,\n",
       "        0., 0., 0., 0., 0., 0., 0., 0., 0., 0., 0., 0., 0., 0., 0., 0., 0.,\n",
       "        0., 0., 0., 0., 0., 0., 0., 0., 0., 0., 0., 0., 0., 0., 0., 0., 0.,\n",
       "        0., 0., 0., 0., 0., 0., 0., 0., 0., 0., 0., 0., 0., 0., 0., 0., 0.,\n",
       "        0., 0., 0., 0., 0., 0., 0., 0., 0., 0., 0., 0., 0., 0., 0., 0., 0.,\n",
       "        0., 0., 0., 0., 0., 0., 0., 0., 0., 0., 0., 0., 0., 0., 0., 0., 0.,\n",
       "        0., 0., 0., 0., 0., 0., 0., 0., 0., 0., 0., 0., 0., 0., 0., 0., 0.,\n",
       "        0., 0., 0., 0., 0., 0., 0., 0., 0., 0., 0., 0., 0., 0., 0., 0., 0.,\n",
       "        0., 0., 0., 0., 0., 0., 0., 0., 0., 0., 0., 0., 0., 0., 0., 0., 0.,\n",
       "        0., 0., 0., 0., 0., 0., 0., 0., 0., 0., 0., 0., 0., 0., 0., 0., 0.,\n",
       "        0., 0., 0., 0., 0., 0., 0., 0., 0., 0., 0., 0., 0., 0., 0., 0., 0.,\n",
       "        0., 0., 0., 0., 0., 0., 0., 0., 0., 0., 0., 0., 0., 0., 0., 0., 0.,\n",
       "        0., 0., 0., 0., 0., 0., 0., 0., 0., 0., 0., 0., 0., 0., 0., 0., 0.,\n",
       "        0., 0., 0., 0., 0., 0., 0., 0., 0., 0., 0., 0., 0., 0., 0., 0., 0.,\n",
       "        0., 0., 0., 0., 0., 0., 0., 0., 0., 0., 0., 0., 0., 0., 0., 0., 0.,\n",
       "        0., 0., 0., 0., 0., 0., 0., 0., 0., 0., 0., 0., 0., 0., 0., 0., 0.,\n",
       "        0., 0., 0., 0., 0., 0., 0., 0., 0., 0., 0., 0., 0., 0., 0., 0., 0.,\n",
       "        0., 0., 0., 0., 0., 0., 0., 0., 0., 0., 0., 0., 0., 0., 0., 0., 0.,\n",
       "        0., 0., 0., 0., 0., 0., 0., 0., 0., 0., 0., 0., 0., 0., 0., 0., 0.,\n",
       "        0., 0.]))"
      ]
     },
     "execution_count": 27,
     "metadata": {},
     "output_type": "execute_result"
    }
   ],
   "source": [
    "roww =  [u'JB', u'p-value', u'skew', u'kurtosis']\n",
    "jb_testw = sm.stats.stattools.jarque_bera(dtstw, axis=1)\n",
    "jb_testw"
   ]
  },
  {
   "cell_type": "code",
   "execution_count": 28,
   "metadata": {},
   "outputs": [
    {
     "data": {
      "text/plain": [
       "array([[0.375     , 0.375     , 0.375     , ..., 0.375     , 0.375     ,\n",
       "        0.375     ],\n",
       "       [0.82902912, 0.82902912, 0.82902912, ..., 0.82902912, 0.82902912,\n",
       "        0.82902912],\n",
       "       [0.        , 0.        , 0.        , ..., 0.        , 0.        ,\n",
       "        0.        ],\n",
       "       [0.        , 0.        , 0.        , ..., 0.        , 0.        ,\n",
       "        0.        ]])"
      ]
     },
     "execution_count": 28,
     "metadata": {},
     "output_type": "execute_result"
    }
   ],
   "source": [
    "aw = np.vstack([jb_testw])\n",
    "aw"
   ]
  },
  {
   "cell_type": "code",
   "execution_count": 29,
   "metadata": {},
   "outputs": [
    {
     "data": {
      "text/html": [
       "<table class=\"simpletable\">\n",
       "<tr>\n",
       "          <th>JB</th>               <th>p-value</th>             <th>skew</th>             <th>kurtosis</th>     \n",
       "</tr>\n",
       "<tr>\n",
       "         <td>0.375</td>              <td>0.375</td>              <td>0.375</td>              <td>0.375</td>      \n",
       "</tr>\n",
       "<tr>\n",
       "  <td>0.8290291181804004</td> <td>0.8290291181804004</td> <td>0.8290291181804004</td> <td>0.8290291181804004</td>\n",
       "</tr>\n",
       "<tr>\n",
       "          <td>0.0</td>                <td>0.0</td>                <td>0.0</td>                <td>0.0</td>       \n",
       "</tr>\n",
       "<tr>\n",
       "          <td>0.0</td>                <td>0.0</td>                <td>0.0</td>                <td>0.0</td>       \n",
       "</tr>\n",
       "</table>"
      ],
      "text/plain": [
       "<class 'statsmodels.iolib.table.SimpleTable'>"
      ]
     },
     "execution_count": 29,
     "metadata": {},
     "output_type": "execute_result"
    }
   ],
   "source": [
    "idtstw = SimpleTable(aw, roww)\n",
    "idtstw"
   ]
  },
  {
   "cell_type": "markdown",
   "metadata": {},
   "source": [
    "### Тест Дикки-Фуллера"
   ]
  },
  {
   "cell_type": "markdown",
   "metadata": {},
   "source": [
    "### Полные данные"
   ]
  },
  {
   "cell_type": "code",
   "execution_count": 30,
   "metadata": {},
   "outputs": [],
   "source": [
    "dtst2 = dtst.dropna(how='any')"
   ]
  },
  {
   "cell_type": "code",
   "execution_count": 31,
   "metadata": {},
   "outputs": [
    {
     "data": {
      "text/html": [
       "<div>\n",
       "<style scoped>\n",
       "    .dataframe tbody tr th:only-of-type {\n",
       "        vertical-align: middle;\n",
       "    }\n",
       "\n",
       "    .dataframe tbody tr th {\n",
       "        vertical-align: top;\n",
       "    }\n",
       "\n",
       "    .dataframe thead th {\n",
       "        text-align: right;\n",
       "    }\n",
       "</style>\n",
       "<table border=\"1\" class=\"dataframe\">\n",
       "  <thead>\n",
       "    <tr style=\"text-align: right;\">\n",
       "      <th></th>\n",
       "      <th>OPEN</th>\n",
       "    </tr>\n",
       "    <tr>\n",
       "      <th>DATE</th>\n",
       "      <th></th>\n",
       "    </tr>\n",
       "  </thead>\n",
       "  <tbody>\n",
       "    <tr>\n",
       "      <th>2008-01-10</th>\n",
       "      <td>102.07</td>\n",
       "    </tr>\n",
       "    <tr>\n",
       "      <th>2008-01-11</th>\n",
       "      <td>103.60</td>\n",
       "    </tr>\n",
       "    <tr>\n",
       "      <th>2008-01-12</th>\n",
       "      <td>103.60</td>\n",
       "    </tr>\n",
       "    <tr>\n",
       "      <th>2008-01-13</th>\n",
       "      <td>103.60</td>\n",
       "    </tr>\n",
       "    <tr>\n",
       "      <th>2008-01-14</th>\n",
       "      <td>104.28</td>\n",
       "    </tr>\n",
       "    <tr>\n",
       "      <th>...</th>\n",
       "      <td>...</td>\n",
       "    </tr>\n",
       "    <tr>\n",
       "      <th>2020-09-26</th>\n",
       "      <td>228.26</td>\n",
       "    </tr>\n",
       "    <tr>\n",
       "      <th>2020-09-27</th>\n",
       "      <td>228.26</td>\n",
       "    </tr>\n",
       "    <tr>\n",
       "      <th>2020-09-28</th>\n",
       "      <td>228.79</td>\n",
       "    </tr>\n",
       "    <tr>\n",
       "      <th>2020-09-29</th>\n",
       "      <td>228.50</td>\n",
       "    </tr>\n",
       "    <tr>\n",
       "      <th>2020-09-30</th>\n",
       "      <td>225.30</td>\n",
       "    </tr>\n",
       "  </tbody>\n",
       "</table>\n",
       "<p>4648 rows × 1 columns</p>\n",
       "</div>"
      ],
      "text/plain": [
       "              OPEN\n",
       "DATE              \n",
       "2008-01-10  102.07\n",
       "2008-01-11  103.60\n",
       "2008-01-12  103.60\n",
       "2008-01-13  103.60\n",
       "2008-01-14  104.28\n",
       "...            ...\n",
       "2020-09-26  228.26\n",
       "2020-09-27  228.26\n",
       "2020-09-28  228.79\n",
       "2020-09-29  228.50\n",
       "2020-09-30  225.30\n",
       "\n",
       "[4648 rows x 1 columns]"
      ]
     },
     "execution_count": 31,
     "metadata": {},
     "output_type": "execute_result"
    }
   ],
   "source": [
    "dtst2"
   ]
  },
  {
   "cell_type": "code",
   "execution_count": 32,
   "metadata": {},
   "outputs": [],
   "source": [
    "test = sm.tsa.adfuller(dtst2)"
   ]
  },
  {
   "cell_type": "code",
   "execution_count": 33,
   "metadata": {},
   "outputs": [],
   "source": [
    "test_result = [{'adf: ': test[0], 'p-value: ': test[1], 'Critical values: ': test[4]}]\n",
    "test_result = pd.DataFrame(test_result)\n",
    "if test[0] > test[4]['5%']:\n",
    "    test_result[3] = 'есть единичные корни, ряд не стационарен'\n",
    "else: \n",
    "    test_result[3] = 'единичных корней нет, ряд стационарен'"
   ]
  },
  {
   "cell_type": "code",
   "execution_count": 34,
   "metadata": {},
   "outputs": [
    {
     "data": {
      "text/html": [
       "<div>\n",
       "<style scoped>\n",
       "    .dataframe tbody tr th:only-of-type {\n",
       "        vertical-align: middle;\n",
       "    }\n",
       "\n",
       "    .dataframe tbody tr th {\n",
       "        vertical-align: top;\n",
       "    }\n",
       "\n",
       "    .dataframe thead th {\n",
       "        text-align: right;\n",
       "    }\n",
       "</style>\n",
       "<table border=\"1\" class=\"dataframe\">\n",
       "  <thead>\n",
       "    <tr style=\"text-align: right;\">\n",
       "      <th></th>\n",
       "      <th>adf:</th>\n",
       "      <th>p-value:</th>\n",
       "      <th>Critical values:</th>\n",
       "      <th>3</th>\n",
       "    </tr>\n",
       "  </thead>\n",
       "  <tbody>\n",
       "    <tr>\n",
       "      <th>0</th>\n",
       "      <td>-0.633971</td>\n",
       "      <td>0.86312</td>\n",
       "      <td>{'1%': -3.431764382259551, '5%': -2.8621649928...</td>\n",
       "      <td>есть единичные корни, ряд не стационарен</td>\n",
       "    </tr>\n",
       "  </tbody>\n",
       "</table>\n",
       "</div>"
      ],
      "text/plain": [
       "      adf:   p-value:                                   Critical values:   \\\n",
       "0 -0.633971    0.86312  {'1%': -3.431764382259551, '5%': -2.8621649928...   \n",
       "\n",
       "                                          3  \n",
       "0  есть единичные корни, ряд не стационарен  "
      ]
     },
     "execution_count": 34,
     "metadata": {},
     "output_type": "execute_result"
    }
   ],
   "source": [
    "test_result"
   ]
  },
  {
   "cell_type": "markdown",
   "metadata": {},
   "source": [
    "### Недельные данные"
   ]
  },
  {
   "cell_type": "code",
   "execution_count": 35,
   "metadata": {},
   "outputs": [],
   "source": [
    "dtst2w = dtstw.dropna(how='any')"
   ]
  },
  {
   "cell_type": "code",
   "execution_count": 36,
   "metadata": {},
   "outputs": [
    {
     "data": {
      "text/html": [
       "<div>\n",
       "<style scoped>\n",
       "    .dataframe tbody tr th:only-of-type {\n",
       "        vertical-align: middle;\n",
       "    }\n",
       "\n",
       "    .dataframe tbody tr th {\n",
       "        vertical-align: top;\n",
       "    }\n",
       "\n",
       "    .dataframe thead th {\n",
       "        text-align: right;\n",
       "    }\n",
       "</style>\n",
       "<table border=\"1\" class=\"dataframe\">\n",
       "  <thead>\n",
       "    <tr style=\"text-align: right;\">\n",
       "      <th></th>\n",
       "      <th>OPEN</th>\n",
       "    </tr>\n",
       "    <tr>\n",
       "      <th>DATE</th>\n",
       "      <th></th>\n",
       "    </tr>\n",
       "  </thead>\n",
       "  <tbody>\n",
       "    <tr>\n",
       "      <th>2008-01-13</th>\n",
       "      <td>103.60</td>\n",
       "    </tr>\n",
       "    <tr>\n",
       "      <th>2008-01-20</th>\n",
       "      <td>102.20</td>\n",
       "    </tr>\n",
       "    <tr>\n",
       "      <th>2008-01-27</th>\n",
       "      <td>97.12</td>\n",
       "    </tr>\n",
       "    <tr>\n",
       "      <th>2008-02-03</th>\n",
       "      <td>91.00</td>\n",
       "    </tr>\n",
       "    <tr>\n",
       "      <th>2008-02-10</th>\n",
       "      <td>86.10</td>\n",
       "    </tr>\n",
       "    <tr>\n",
       "      <th>...</th>\n",
       "      <td>...</td>\n",
       "    </tr>\n",
       "    <tr>\n",
       "      <th>2020-09-06</th>\n",
       "      <td>222.80</td>\n",
       "    </tr>\n",
       "    <tr>\n",
       "      <th>2020-09-13</th>\n",
       "      <td>220.99</td>\n",
       "    </tr>\n",
       "    <tr>\n",
       "      <th>2020-09-20</th>\n",
       "      <td>229.59</td>\n",
       "    </tr>\n",
       "    <tr>\n",
       "      <th>2020-09-27</th>\n",
       "      <td>228.26</td>\n",
       "    </tr>\n",
       "    <tr>\n",
       "      <th>2020-10-04</th>\n",
       "      <td>228.50</td>\n",
       "    </tr>\n",
       "  </tbody>\n",
       "</table>\n",
       "<p>665 rows × 1 columns</p>\n",
       "</div>"
      ],
      "text/plain": [
       "              OPEN\n",
       "DATE              \n",
       "2008-01-13  103.60\n",
       "2008-01-20  102.20\n",
       "2008-01-27   97.12\n",
       "2008-02-03   91.00\n",
       "2008-02-10   86.10\n",
       "...            ...\n",
       "2020-09-06  222.80\n",
       "2020-09-13  220.99\n",
       "2020-09-20  229.59\n",
       "2020-09-27  228.26\n",
       "2020-10-04  228.50\n",
       "\n",
       "[665 rows x 1 columns]"
      ]
     },
     "execution_count": 36,
     "metadata": {},
     "output_type": "execute_result"
    }
   ],
   "source": [
    "dtst2w"
   ]
  },
  {
   "cell_type": "code",
   "execution_count": 37,
   "metadata": {},
   "outputs": [],
   "source": [
    "testw = sm.tsa.adfuller(dtst2w)"
   ]
  },
  {
   "cell_type": "code",
   "execution_count": 38,
   "metadata": {},
   "outputs": [],
   "source": [
    "test_resultw = [{'adf: ': test[0], 'p-value: ': testw[1], 'Critical values: ': test[4]}]\n",
    "test_resultw = pd.DataFrame(test_resultw)\n",
    "if testw[0] > testw[4]['5%']:\n",
    "    test_resultw[3] = 'есть единичные корни, ряд не стационарен'\n",
    "else: \n",
    "    test_resultw[3] = 'единичных корней нет, ряд стационарен'"
   ]
  },
  {
   "cell_type": "code",
   "execution_count": 39,
   "metadata": {},
   "outputs": [
    {
     "data": {
      "text/html": [
       "<div>\n",
       "<style scoped>\n",
       "    .dataframe tbody tr th:only-of-type {\n",
       "        vertical-align: middle;\n",
       "    }\n",
       "\n",
       "    .dataframe tbody tr th {\n",
       "        vertical-align: top;\n",
       "    }\n",
       "\n",
       "    .dataframe thead th {\n",
       "        text-align: right;\n",
       "    }\n",
       "</style>\n",
       "<table border=\"1\" class=\"dataframe\">\n",
       "  <thead>\n",
       "    <tr style=\"text-align: right;\">\n",
       "      <th></th>\n",
       "      <th>adf:</th>\n",
       "      <th>p-value:</th>\n",
       "      <th>Critical values:</th>\n",
       "      <th>3</th>\n",
       "    </tr>\n",
       "  </thead>\n",
       "  <tbody>\n",
       "    <tr>\n",
       "      <th>0</th>\n",
       "      <td>-0.633971</td>\n",
       "      <td>0.872964</td>\n",
       "      <td>{'1%': -3.431764382259551, '5%': -2.8621649928...</td>\n",
       "      <td>есть единичные корни, ряд не стационарен</td>\n",
       "    </tr>\n",
       "  </tbody>\n",
       "</table>\n",
       "</div>"
      ],
      "text/plain": [
       "      adf:   p-value:                                   Critical values:   \\\n",
       "0 -0.633971   0.872964  {'1%': -3.431764382259551, '5%': -2.8621649928...   \n",
       "\n",
       "                                          3  \n",
       "0  есть единичные корни, ряд не стационарен  "
      ]
     },
     "execution_count": 39,
     "metadata": {},
     "output_type": "execute_result"
    }
   ],
   "source": [
    "test_resultw"
   ]
  },
  {
   "cell_type": "markdown",
   "metadata": {},
   "source": [
    "### Проверка порядка интегрированного ряда"
   ]
  },
  {
   "cell_type": "markdown",
   "metadata": {},
   "source": [
    "### Полные данные"
   ]
  },
  {
   "cell_type": "code",
   "execution_count": 40,
   "metadata": {},
   "outputs": [],
   "source": [
    "dtst2diff = dtst.diff(periods=1).dropna()"
   ]
  },
  {
   "cell_type": "code",
   "execution_count": 41,
   "metadata": {},
   "outputs": [],
   "source": [
    "test2 = sm.tsa.adfuller(dtst2diff)"
   ]
  },
  {
   "cell_type": "code",
   "execution_count": 42,
   "metadata": {},
   "outputs": [],
   "source": [
    "test_result2 = [{'adf: ': test2[0], 'p-value: ': test2[1], 'Critical values: ': test2[4]}]\n",
    "test_result2 = pd.DataFrame(test_result2)\n",
    "if test2[0] > test2[4]['5%']:\n",
    "    test_result2[3] = 'есть единичные корни, ряд не стационарен'\n",
    "else: \n",
    "    test_result2[3] = 'единичных корней нет, ряд стационарен'"
   ]
  },
  {
   "cell_type": "code",
   "execution_count": 43,
   "metadata": {
    "scrolled": true
   },
   "outputs": [
    {
     "data": {
      "text/html": [
       "<div>\n",
       "<style scoped>\n",
       "    .dataframe tbody tr th:only-of-type {\n",
       "        vertical-align: middle;\n",
       "    }\n",
       "\n",
       "    .dataframe tbody tr th {\n",
       "        vertical-align: top;\n",
       "    }\n",
       "\n",
       "    .dataframe thead th {\n",
       "        text-align: right;\n",
       "    }\n",
       "</style>\n",
       "<table border=\"1\" class=\"dataframe\">\n",
       "  <thead>\n",
       "    <tr style=\"text-align: right;\">\n",
       "      <th></th>\n",
       "      <th>adf:</th>\n",
       "      <th>p-value:</th>\n",
       "      <th>Critical values:</th>\n",
       "      <th>3</th>\n",
       "    </tr>\n",
       "  </thead>\n",
       "  <tbody>\n",
       "    <tr>\n",
       "      <th>0</th>\n",
       "      <td>-15.054429</td>\n",
       "      <td>9.193896e-28</td>\n",
       "      <td>{'1%': -3.431764382259551, '5%': -2.8621649928...</td>\n",
       "      <td>единичных корней нет, ряд стационарен</td>\n",
       "    </tr>\n",
       "  </tbody>\n",
       "</table>\n",
       "</div>"
      ],
      "text/plain": [
       "       adf:      p-value:                                   Critical values:   \\\n",
       "0 -15.054429  9.193896e-28  {'1%': -3.431764382259551, '5%': -2.8621649928...   \n",
       "\n",
       "                                       3  \n",
       "0  единичных корней нет, ряд стационарен  "
      ]
     },
     "execution_count": 43,
     "metadata": {},
     "output_type": "execute_result"
    }
   ],
   "source": [
    "test_result2"
   ]
  },
  {
   "cell_type": "markdown",
   "metadata": {},
   "source": [
    "### Недельные данные"
   ]
  },
  {
   "cell_type": "code",
   "execution_count": 44,
   "metadata": {},
   "outputs": [],
   "source": [
    "dtst2diffw = dtstw.diff(periods=1).dropna()"
   ]
  },
  {
   "cell_type": "code",
   "execution_count": 45,
   "metadata": {},
   "outputs": [],
   "source": [
    "test2w = sm.tsa.adfuller(dtst2diffw)"
   ]
  },
  {
   "cell_type": "code",
   "execution_count": 46,
   "metadata": {},
   "outputs": [],
   "source": [
    "test_result2w = [{'adf: ': test2w[0], 'p-value: ': test2w[1], 'Critical values: ': test2w[4]}]\n",
    "test_result2w = pd.DataFrame(test_result2w)\n",
    "if test2w[0] > test2w[4]['5%']:\n",
    "    test_result2w[3] = 'есть единичные корни, ряд не стационарен'\n",
    "else: \n",
    "    test_result2w[3] = 'единичных корней нет, ряд стационарен'"
   ]
  },
  {
   "cell_type": "code",
   "execution_count": 47,
   "metadata": {},
   "outputs": [
    {
     "data": {
      "text/html": [
       "<div>\n",
       "<style scoped>\n",
       "    .dataframe tbody tr th:only-of-type {\n",
       "        vertical-align: middle;\n",
       "    }\n",
       "\n",
       "    .dataframe tbody tr th {\n",
       "        vertical-align: top;\n",
       "    }\n",
       "\n",
       "    .dataframe thead th {\n",
       "        text-align: right;\n",
       "    }\n",
       "</style>\n",
       "<table border=\"1\" class=\"dataframe\">\n",
       "  <thead>\n",
       "    <tr style=\"text-align: right;\">\n",
       "      <th></th>\n",
       "      <th>adf:</th>\n",
       "      <th>p-value:</th>\n",
       "      <th>Critical values:</th>\n",
       "      <th>3</th>\n",
       "    </tr>\n",
       "  </thead>\n",
       "  <tbody>\n",
       "    <tr>\n",
       "      <th>0</th>\n",
       "      <td>-7.560559</td>\n",
       "      <td>3.018003e-11</td>\n",
       "      <td>{'1%': -3.440419374623044, '5%': -2.8659830798...</td>\n",
       "      <td>единичных корней нет, ряд стационарен</td>\n",
       "    </tr>\n",
       "  </tbody>\n",
       "</table>\n",
       "</div>"
      ],
      "text/plain": [
       "      adf:      p-value:                                   Critical values:   \\\n",
       "0 -7.560559  3.018003e-11  {'1%': -3.440419374623044, '5%': -2.8659830798...   \n",
       "\n",
       "                                       3  \n",
       "0  единичных корней нет, ряд стационарен  "
      ]
     },
     "execution_count": 47,
     "metadata": {},
     "output_type": "execute_result"
    }
   ],
   "source": [
    "test_result2w"
   ]
  },
  {
   "cell_type": "markdown",
   "metadata": {},
   "source": [
    "### Проверка мат ожидания"
   ]
  },
  {
   "cell_type": "code",
   "execution_count": 48,
   "metadata": {},
   "outputs": [],
   "source": [
    "#dt2diff.index[len(dt2diff.index)/3]"
   ]
  },
  {
   "cell_type": "code",
   "execution_count": 49,
   "metadata": {
    "scrolled": true
   },
   "outputs": [],
   "source": [
    "#m = dt2diff.index[len(dt2diff.index)/2+1]"
   ]
  },
  {
   "cell_type": "code",
   "execution_count": 50,
   "metadata": {},
   "outputs": [
    {
     "data": {
      "text/plain": [
       "'r1 = sm.stats.DescrStatsW(dt2diff[m:])\\nr2 = sm.stats.DescrStatsW(dt2diff[:m])\\nprov = sm.stats.CompareMeans(r1,r2).ttest_ind()[1]\\nprov'"
      ]
     },
     "execution_count": 50,
     "metadata": {},
     "output_type": "execute_result"
    }
   ],
   "source": [
    "\"\"\"r1 = sm.stats.DescrStatsW(dt2diff[m:])\n",
    "r2 = sm.stats.DescrStatsW(dt2diff[:m])\n",
    "prov = sm.stats.CompareMeans(r1,r2).ttest_ind()[1]\n",
    "prov\"\"\""
   ]
  },
  {
   "cell_type": "markdown",
   "metadata": {},
   "source": [
    "### Полные данные"
   ]
  },
  {
   "cell_type": "code",
   "execution_count": 51,
   "metadata": {
    "scrolled": false
   },
   "outputs": [
    {
     "data": {
      "text/plain": [
       "<AxesSubplot:xlabel='DATE'>"
      ]
     },
     "execution_count": 51,
     "metadata": {},
     "output_type": "execute_result"
    },
    {
     "data": {
      "image/png": "[encoded data removed]",
      "text/plain": [
       "<Figure size 864x432 with 1 Axes>"
      ]
     },
     "metadata": {
      "needs_background": "light"
     },
     "output_type": "display_data"
    }
   ],
   "source": [
    "dtst2diff.plot(figsize=(12,6))"
   ]
  },
  {
   "cell_type": "code",
   "execution_count": 52,
   "metadata": {},
   "outputs": [
    {
     "data": {
      "text/plain": [
       "<Figure size 864x576 with 0 Axes>"
      ]
     },
     "metadata": {},
     "output_type": "display_data"
    },
    {
     "data": {
      "image/png": "[encoded data removed]",
      "text/plain": [
       "<Figure size 432x288 with 2 Axes>"
      ]
     },
     "metadata": {
      "needs_background": "light"
     },
     "output_type": "display_data"
    }
   ],
   "source": [
    "ig = plt.figure(figsize=(12,8))\n",
    "fig = plt.figure() #добавил эту строку,так как без неё не запускается ячейка\n",
    "ax1 = fig.add_subplot(211)\n",
    "fig = sm.graphics.tsa.plot_acf(dtst2diff.values.squeeze(), lags=25, ax=ax1)\n",
    "ax2 = fig.add_subplot(212)\n",
    "fig = sm.graphics.tsa.plot_pacf(dtst2diff, lags=25, ax=ax2)"
   ]
  },
  {
   "cell_type": "markdown",
   "metadata": {},
   "source": [
    "### Недельные данные"
   ]
  },
  {
   "cell_type": "code",
   "execution_count": 53,
   "metadata": {
    "scrolled": false
   },
   "outputs": [
    {
     "data": {
      "text/plain": [
       "<AxesSubplot:xlabel='DATE'>"
      ]
     },
     "execution_count": 53,
     "metadata": {},
     "output_type": "execute_result"
    },
    {
     "data": {
      "image/png": "[encoded data removed]",
      "text/plain": [
       "<Figure size 864x432 with 1 Axes>"
      ]
     },
     "metadata": {
      "needs_background": "light"
     },
     "output_type": "display_data"
    }
   ],
   "source": [
    "dtst2diffw.plot(figsize=(12,6))"
   ]
  },
  {
   "cell_type": "code",
   "execution_count": 54,
   "metadata": {},
   "outputs": [
    {
     "data": {
      "text/plain": [
       "<Figure size 864x576 with 0 Axes>"
      ]
     },
     "metadata": {},
     "output_type": "display_data"
    },
    {
     "data": {
      "image/png": "[encoded data removed]",
      "text/plain": [
       "<Figure size 432x288 with 2 Axes>"
      ]
     },
     "metadata": {
      "needs_background": "light"
     },
     "output_type": "display_data"
    }
   ],
   "source": [
    "igw = plt.figure(figsize=(12,8))\n",
    "fig = plt.figure() #добавил эту строку,так как без неё не запускается ячейка\n",
    "ax1 = fig.add_subplot(211)\n",
    "fig = sm.graphics.tsa.plot_acf(dtst2diffw.values.squeeze(), lags=25, ax=ax1)\n",
    "ax2 = fig.add_subplot(212)\n",
    "fig = sm.graphics.tsa.plot_pacf(dtst2diffw, lags=25, ax=ax2)"
   ]
  },
  {
   "cell_type": "markdown",
   "metadata": {},
   "source": [
    "После изучения коррелограммы PACF можно сделать вывод, что p = 1, т.к. на ней только 1 лаг сильно отличнен от нуля. По коррелограмме ACF можно увидеть, что q = 1, т.к. после лага 1 значении функций резко падают"
   ]
  },
  {
   "cell_type": "markdown",
   "metadata": {},
   "source": [
    "### Построение ARIMA модели"
   ]
  },
  {
   "cell_type": "markdown",
   "metadata": {},
   "source": [
    "### Недельные данные"
   ]
  },
  {
   "cell_type": "code",
   "execution_count": 55,
   "metadata": {},
   "outputs": [
    {
     "name": "stderr",
     "output_type": "stream",
     "text": [
      "c:\\projects\\ds_lessons\\env\\lib\\site-packages\\statsmodels\\tsa\\statespace\\sarimax.py:965: UserWarning: Non-stationary starting autoregressive parameters found. Using zeros as starting parameters.\n",
      "  warn('Non-stationary starting autoregressive parameters'\n",
      "c:\\projects\\ds_lessons\\env\\lib\\site-packages\\statsmodels\\tsa\\statespace\\sarimax.py:977: UserWarning: Non-invertible starting MA parameters found. Using zeros as starting parameters.\n",
      "  warn('Non-invertible starting MA parameters found.'\n"
     ]
    }
   ],
   "source": [
    "src_data_modelw = dtstw['2020-01-01':'2020-09-29']\n",
    "modelw =  sm.tsa.arima.ARIMA(src_data_modelw, order=(1,1,1), freq='W').fit()\n",
    "# в методе fit() пришлось удалить все параметры, так как они не подходят \n",
    "#(нет в документации)"
   ]
  },
  {
   "cell_type": "code",
   "execution_count": 56,
   "metadata": {},
   "outputs": [
    {
     "data": {
      "text/html": [
       "<table class=\"simpletable\">\n",
       "<caption>SARIMAX Results</caption>\n",
       "<tr>\n",
       "  <th>Dep. Variable:</th>         <td>OPEN</td>       <th>  No. Observations:  </th>    <td>39</td>   \n",
       "</tr>\n",
       "<tr>\n",
       "  <th>Model:</th>            <td>ARIMA(1, 1, 1)</td>  <th>  Log Likelihood     </th> <td>-142.937</td>\n",
       "</tr>\n",
       "<tr>\n",
       "  <th>Date:</th>            <td>Tue, 27 Oct 2020</td> <th>  AIC                </th>  <td>291.873</td>\n",
       "</tr>\n",
       "<tr>\n",
       "  <th>Time:</th>                <td>19:18:15</td>     <th>  BIC                </th>  <td>296.786</td>\n",
       "</tr>\n",
       "<tr>\n",
       "  <th>Sample:</th>             <td>01-05-2020</td>    <th>  HQIC               </th>  <td>293.621</td>\n",
       "</tr>\n",
       "<tr>\n",
       "  <th></th>                   <td>- 09-27-2020</td>   <th>                     </th>     <td> </td>   \n",
       "</tr>\n",
       "<tr>\n",
       "  <th>Covariance Type:</th>        <td>opg</td>       <th>                     </th>     <td> </td>   \n",
       "</tr>\n",
       "</table>\n",
       "<table class=\"simpletable\">\n",
       "<tr>\n",
       "     <td></td>       <th>coef</th>     <th>std err</th>      <th>z</th>      <th>P>|z|</th>  <th>[0.025</th>    <th>0.975]</th>  \n",
       "</tr>\n",
       "<tr>\n",
       "  <th>ar.L1</th>  <td>    0.5539</td> <td>    3.421</td> <td>    0.162</td> <td> 0.871</td> <td>   -6.152</td> <td>    7.260</td>\n",
       "</tr>\n",
       "<tr>\n",
       "  <th>ma.L1</th>  <td>   -0.5186</td> <td>    3.504</td> <td>   -0.148</td> <td> 0.882</td> <td>   -7.387</td> <td>    6.349</td>\n",
       "</tr>\n",
       "<tr>\n",
       "  <th>sigma2</th> <td>  108.3145</td> <td>   14.745</td> <td>    7.346</td> <td> 0.000</td> <td>   79.415</td> <td>  137.214</td>\n",
       "</tr>\n",
       "</table>\n",
       "<table class=\"simpletable\">\n",
       "<tr>\n",
       "  <th>Ljung-Box (L1) (Q):</th>     <td>0.00</td> <th>  Jarque-Bera (JB):  </th> <td>137.25</td>\n",
       "</tr>\n",
       "<tr>\n",
       "  <th>Prob(Q):</th>                <td>0.97</td> <th>  Prob(JB):          </th>  <td>0.00</td> \n",
       "</tr>\n",
       "<tr>\n",
       "  <th>Heteroskedasticity (H):</th> <td>0.19</td> <th>  Skew:              </th>  <td>-2.10</td>\n",
       "</tr>\n",
       "<tr>\n",
       "  <th>Prob(H) (two-sided):</th>    <td>0.00</td> <th>  Kurtosis:          </th>  <td>11.31</td>\n",
       "</tr>\n",
       "</table><br/><br/>Warnings:<br/>[1] Covariance matrix calculated using the outer product of gradients (complex-step)."
      ],
      "text/plain": [
       "<class 'statsmodels.iolib.summary.Summary'>\n",
       "\"\"\"\n",
       "                               SARIMAX Results                                \n",
       "==============================================================================\n",
       "Dep. Variable:                   OPEN   No. Observations:                   39\n",
       "Model:                 ARIMA(1, 1, 1)   Log Likelihood                -142.937\n",
       "Date:                Tue, 27 Oct 2020   AIC                            291.873\n",
       "Time:                        19:18:15   BIC                            296.786\n",
       "Sample:                    01-05-2020   HQIC                           293.621\n",
       "                         - 09-27-2020                                         \n",
       "Covariance Type:                  opg                                         \n",
       "==============================================================================\n",
       "                 coef    std err          z      P>|z|      [0.025      0.975]\n",
       "------------------------------------------------------------------------------\n",
       "ar.L1          0.5539      3.421      0.162      0.871      -6.152       7.260\n",
       "ma.L1         -0.5186      3.504     -0.148      0.882      -7.387       6.349\n",
       "sigma2       108.3145     14.745      7.346      0.000      79.415     137.214\n",
       "===================================================================================\n",
       "Ljung-Box (L1) (Q):                   0.00   Jarque-Bera (JB):               137.25\n",
       "Prob(Q):                              0.97   Prob(JB):                         0.00\n",
       "Heteroskedasticity (H):               0.19   Skew:                            -2.10\n",
       "Prob(H) (two-sided):                  0.00   Kurtosis:                        11.31\n",
       "===================================================================================\n",
       "\n",
       "Warnings:\n",
       "[1] Covariance matrix calculated using the outer product of gradients (complex-step).\n",
       "\"\"\""
      ]
     },
     "execution_count": 56,
     "metadata": {},
     "output_type": "execute_result"
    }
   ],
   "source": [
    "modelw.summary()"
   ]
  },
  {
   "cell_type": "markdown",
   "metadata": {},
   "source": [
    "### Полные данные (модель не строится)"
   ]
  },
  {
   "cell_type": "code",
   "execution_count": 57,
   "metadata": {},
   "outputs": [
    {
     "name": "stderr",
     "output_type": "stream",
     "text": [
      "c:\\projects\\ds_lessons\\env\\lib\\site-packages\\statsmodels\\tsa\\base\\tsa_model.py:524: ValueWarning: No frequency information was provided, so inferred frequency D will be used.\n",
      "  warnings.warn('No frequency information was'\n"
     ]
    }
   ],
   "source": [
    "src_data_model = dtst['2014-01-01':'2020-09-30']\n",
    "model =  sm.tsa.arima.ARIMA(src_data_model, order=(1,1,1), freq='D').fit()\n",
    "# в методе fit() пришлось удалить все параметры, так как они не подходят \n",
    "#(нет в документации)"
   ]
  },
  {
   "cell_type": "code",
   "execution_count": 58,
   "metadata": {},
   "outputs": [
    {
     "data": {
      "text/html": [
       "<table class=\"simpletable\">\n",
       "<caption>SARIMAX Results</caption>\n",
       "<tr>\n",
       "  <th>Dep. Variable:</th>         <td>OPEN</td>       <th>  No. Observations:  </th>   <td>2465</td>   \n",
       "</tr>\n",
       "<tr>\n",
       "  <th>Model:</th>            <td>ARIMA(1, 1, 1)</td>  <th>  Log Likelihood     </th> <td>-5994.277</td>\n",
       "</tr>\n",
       "<tr>\n",
       "  <th>Date:</th>            <td>Tue, 27 Oct 2020</td> <th>  AIC                </th> <td>11994.555</td>\n",
       "</tr>\n",
       "<tr>\n",
       "  <th>Time:</th>                <td>19:18:15</td>     <th>  BIC                </th> <td>12011.984</td>\n",
       "</tr>\n",
       "<tr>\n",
       "  <th>Sample:</th>             <td>01-01-2014</td>    <th>  HQIC               </th> <td>12000.887</td>\n",
       "</tr>\n",
       "<tr>\n",
       "  <th></th>                   <td>- 09-30-2020</td>   <th>                     </th>     <td> </td>    \n",
       "</tr>\n",
       "<tr>\n",
       "  <th>Covariance Type:</th>        <td>opg</td>       <th>                     </th>     <td> </td>    \n",
       "</tr>\n",
       "</table>\n",
       "<table class=\"simpletable\">\n",
       "<tr>\n",
       "     <td></td>       <th>coef</th>     <th>std err</th>      <th>z</th>      <th>P>|z|</th>  <th>[0.025</th>    <th>0.975]</th>  \n",
       "</tr>\n",
       "<tr>\n",
       "  <th>ar.L1</th>  <td>    0.5253</td> <td>    0.241</td> <td>    2.182</td> <td> 0.029</td> <td>    0.053</td> <td>    0.997</td>\n",
       "</tr>\n",
       "<tr>\n",
       "  <th>ma.L1</th>  <td>   -0.5551</td> <td>    0.234</td> <td>   -2.377</td> <td> 0.017</td> <td>   -1.013</td> <td>   -0.097</td>\n",
       "</tr>\n",
       "<tr>\n",
       "  <th>sigma2</th> <td>    7.5960</td> <td>    0.052</td> <td>  145.578</td> <td> 0.000</td> <td>    7.494</td> <td>    7.698</td>\n",
       "</tr>\n",
       "</table>\n",
       "<table class=\"simpletable\">\n",
       "<tr>\n",
       "  <th>Ljung-Box (L1) (Q):</th>     <td>0.32</td> <th>  Jarque-Bera (JB):  </th> <td>144565.10</td>\n",
       "</tr>\n",
       "<tr>\n",
       "  <th>Prob(Q):</th>                <td>0.57</td> <th>  Prob(JB):          </th>   <td>0.00</td>   \n",
       "</tr>\n",
       "<tr>\n",
       "  <th>Heteroskedasticity (H):</th> <td>4.72</td> <th>  Skew:              </th>   <td>-2.15</td>  \n",
       "</tr>\n",
       "<tr>\n",
       "  <th>Prob(H) (two-sided):</th>    <td>0.00</td> <th>  Kurtosis:          </th>   <td>40.28</td>  \n",
       "</tr>\n",
       "</table><br/><br/>Warnings:<br/>[1] Covariance matrix calculated using the outer product of gradients (complex-step)."
      ],
      "text/plain": [
       "<class 'statsmodels.iolib.summary.Summary'>\n",
       "\"\"\"\n",
       "                               SARIMAX Results                                \n",
       "==============================================================================\n",
       "Dep. Variable:                   OPEN   No. Observations:                 2465\n",
       "Model:                 ARIMA(1, 1, 1)   Log Likelihood               -5994.277\n",
       "Date:                Tue, 27 Oct 2020   AIC                          11994.555\n",
       "Time:                        19:18:15   BIC                          12011.984\n",
       "Sample:                    01-01-2014   HQIC                         12000.887\n",
       "                         - 09-30-2020                                         \n",
       "Covariance Type:                  opg                                         \n",
       "==============================================================================\n",
       "                 coef    std err          z      P>|z|      [0.025      0.975]\n",
       "------------------------------------------------------------------------------\n",
       "ar.L1          0.5253      0.241      2.182      0.029       0.053       0.997\n",
       "ma.L1         -0.5551      0.234     -2.377      0.017      -1.013      -0.097\n",
       "sigma2         7.5960      0.052    145.578      0.000       7.494       7.698\n",
       "===================================================================================\n",
       "Ljung-Box (L1) (Q):                   0.32   Jarque-Bera (JB):            144565.10\n",
       "Prob(Q):                              0.57   Prob(JB):                         0.00\n",
       "Heteroskedasticity (H):               4.72   Skew:                            -2.15\n",
       "Prob(H) (two-sided):                  0.00   Kurtosis:                        40.28\n",
       "===================================================================================\n",
       "\n",
       "Warnings:\n",
       "[1] Covariance matrix calculated using the outer product of gradients (complex-step).\n",
       "\"\"\""
      ]
     },
     "execution_count": 58,
     "metadata": {},
     "output_type": "execute_result"
    }
   ],
   "source": [
    "model.summary()"
   ]
  },
  {
   "cell_type": "markdown",
   "metadata": {},
   "source": [
    "### Q-тест Льюинга-Бокса"
   ]
  },
  {
   "cell_type": "code",
   "execution_count": 59,
   "metadata": {},
   "outputs": [
    {
     "data": {
      "text/plain": [
       "pandas.core.series.Series"
      ]
     },
     "execution_count": 59,
     "metadata": {},
     "output_type": "execute_result"
    }
   ],
   "source": [
    "type(model.resid)"
   ]
  },
  {
   "cell_type": "code",
   "execution_count": 60,
   "metadata": {},
   "outputs": [
    {
     "name": "stderr",
     "output_type": "stream",
     "text": [
      "c:\\projects\\ds_lessons\\env\\lib\\site-packages\\statsmodels\\tsa\\stattools.py:652: FutureWarning: The default number of lags is changing from 40 tomin(int(10 * np.log10(nobs)), nobs - 1) after 0.12is released. Set the number of lags to an integer to  silence this warning.\n",
      "  warnings.warn(\n",
      "c:\\projects\\ds_lessons\\env\\lib\\site-packages\\statsmodels\\tsa\\stattools.py:662: FutureWarning: fft=True will become the default after the release of the 0.12 release of statsmodels. To suppress this warning, explicitly set fft=False.\n",
      "  warnings.warn(\n"
     ]
    }
   ],
   "source": [
    "q_test = sm.tsa.stattools.acf(model.resid, qstat=True)"
   ]
  },
  {
   "cell_type": "code",
   "execution_count": 61,
   "metadata": {},
   "outputs": [
    {
     "data": {
      "text/plain": [
       "(array([ 1.00000000e+00,  7.22700162e-03, -2.39035018e-02,  7.78046494e-03,\n",
       "         1.72080213e-02, -1.01782765e-02,  3.71897011e-03,  1.76420597e-02,\n",
       "        -3.76911694e-03, -2.27657076e-02, -4.00170410e-02,  3.01713807e-02,\n",
       "         1.77054956e-02,  2.18258090e-02, -1.61817987e-02,  2.81084112e-02,\n",
       "         1.22685236e-03, -1.12921909e-02,  1.40821524e-02, -5.10505615e-05,\n",
       "         1.33184627e-02, -5.32799176e-02,  5.38967321e-03,  7.35520598e-03,\n",
       "         7.63693708e-03, -1.43471486e-02,  1.36071109e-02, -2.17277924e-02,\n",
       "        -5.25935256e-03, -4.06967251e-04, -2.31589395e-02, -2.79414009e-02,\n",
       "        -7.11108907e-03,  1.90642229e-02,  7.95956328e-03, -9.15043979e-03,\n",
       "        -1.97097305e-03,  3.36148146e-03, -1.00018508e-03, -1.05592161e-02,\n",
       "         2.32499313e-02]),\n",
       " array([ 0.1289026 ,  1.53963525,  1.68915863,  2.42086415,  2.67695818,\n",
       "         2.71116186,  3.48118322,  3.51634413,  4.79961997,  8.76627581,\n",
       "        11.02208252, 11.79923225, 12.98065767, 13.63033296, 15.59140065,\n",
       "        15.59513815, 15.9118987 , 16.4047208 , 16.40472728, 16.84590687,\n",
       "        23.90927694, 23.98158513, 24.11630452, 24.26160154, 24.77461344,\n",
       "        25.2362563 , 26.41381774, 26.48284094, 26.4832544 , 27.82269803,\n",
       "        29.77326943, 29.89966045, 30.80844454, 30.96692641, 31.17646487,\n",
       "        31.18619054, 31.21449135, 31.21699791, 31.49648299, 32.85203966]),\n",
       " array([0.71957259, 0.46309752, 0.63934676, 0.65886009, 0.74964026,\n",
       "        0.84412714, 0.8372145 , 0.89791749, 0.85141431, 0.55441933,\n",
       "        0.44141513, 0.46193541, 0.44930685, 0.47759875, 0.40971438,\n",
       "        0.4815562 , 0.53008894, 0.56432433, 0.63012686, 0.66295571,\n",
       "        0.29747508, 0.34819544, 0.3973917 , 0.44672237, 0.47506039,\n",
       "        0.50563531, 0.4957363 , 0.54652248, 0.599563  , 0.57983187,\n",
       "        0.5290269 , 0.57322862, 0.576653  , 0.61706752, 0.65330359,\n",
       "        0.69679271, 0.73648497, 0.77400668, 0.79794704, 0.78131828]))"
      ]
     },
     "execution_count": 61,
     "metadata": {},
     "output_type": "execute_result"
    }
   ],
   "source": [
    "q_test"
   ]
  },
  {
   "cell_type": "code",
   "execution_count": 62,
   "metadata": {},
   "outputs": [
    {
     "data": {
      "text/html": [
       "<div>\n",
       "<style scoped>\n",
       "    .dataframe tbody tr th:only-of-type {\n",
       "        vertical-align: middle;\n",
       "    }\n",
       "\n",
       "    .dataframe tbody tr th {\n",
       "        vertical-align: top;\n",
       "    }\n",
       "\n",
       "    .dataframe thead th {\n",
       "        text-align: right;\n",
       "    }\n",
       "</style>\n",
       "<table border=\"1\" class=\"dataframe\">\n",
       "  <thead>\n",
       "    <tr style=\"text-align: right;\">\n",
       "      <th></th>\n",
       "      <th>Q-stat</th>\n",
       "      <th>p-value</th>\n",
       "    </tr>\n",
       "  </thead>\n",
       "  <tbody>\n",
       "    <tr>\n",
       "      <th>0</th>\n",
       "      <td>0.128903</td>\n",
       "      <td>0.719573</td>\n",
       "    </tr>\n",
       "    <tr>\n",
       "      <th>1</th>\n",
       "      <td>1.539635</td>\n",
       "      <td>0.463098</td>\n",
       "    </tr>\n",
       "    <tr>\n",
       "      <th>2</th>\n",
       "      <td>1.689159</td>\n",
       "      <td>0.639347</td>\n",
       "    </tr>\n",
       "    <tr>\n",
       "      <th>3</th>\n",
       "      <td>2.420864</td>\n",
       "      <td>0.658860</td>\n",
       "    </tr>\n",
       "    <tr>\n",
       "      <th>4</th>\n",
       "      <td>2.676958</td>\n",
       "      <td>0.749640</td>\n",
       "    </tr>\n",
       "    <tr>\n",
       "      <th>5</th>\n",
       "      <td>2.711162</td>\n",
       "      <td>0.844127</td>\n",
       "    </tr>\n",
       "    <tr>\n",
       "      <th>6</th>\n",
       "      <td>3.481183</td>\n",
       "      <td>0.837214</td>\n",
       "    </tr>\n",
       "    <tr>\n",
       "      <th>7</th>\n",
       "      <td>3.516344</td>\n",
       "      <td>0.897917</td>\n",
       "    </tr>\n",
       "    <tr>\n",
       "      <th>8</th>\n",
       "      <td>4.799620</td>\n",
       "      <td>0.851414</td>\n",
       "    </tr>\n",
       "    <tr>\n",
       "      <th>9</th>\n",
       "      <td>8.766276</td>\n",
       "      <td>0.554419</td>\n",
       "    </tr>\n",
       "    <tr>\n",
       "      <th>10</th>\n",
       "      <td>11.022083</td>\n",
       "      <td>0.441415</td>\n",
       "    </tr>\n",
       "    <tr>\n",
       "      <th>11</th>\n",
       "      <td>11.799232</td>\n",
       "      <td>0.461935</td>\n",
       "    </tr>\n",
       "    <tr>\n",
       "      <th>12</th>\n",
       "      <td>12.980658</td>\n",
       "      <td>0.449307</td>\n",
       "    </tr>\n",
       "    <tr>\n",
       "      <th>13</th>\n",
       "      <td>13.630333</td>\n",
       "      <td>0.477599</td>\n",
       "    </tr>\n",
       "    <tr>\n",
       "      <th>14</th>\n",
       "      <td>15.591401</td>\n",
       "      <td>0.409714</td>\n",
       "    </tr>\n",
       "    <tr>\n",
       "      <th>15</th>\n",
       "      <td>15.595138</td>\n",
       "      <td>0.481556</td>\n",
       "    </tr>\n",
       "    <tr>\n",
       "      <th>16</th>\n",
       "      <td>15.911899</td>\n",
       "      <td>0.530089</td>\n",
       "    </tr>\n",
       "    <tr>\n",
       "      <th>17</th>\n",
       "      <td>16.404721</td>\n",
       "      <td>0.564324</td>\n",
       "    </tr>\n",
       "    <tr>\n",
       "      <th>18</th>\n",
       "      <td>16.404727</td>\n",
       "      <td>0.630127</td>\n",
       "    </tr>\n",
       "    <tr>\n",
       "      <th>19</th>\n",
       "      <td>16.845907</td>\n",
       "      <td>0.662956</td>\n",
       "    </tr>\n",
       "    <tr>\n",
       "      <th>20</th>\n",
       "      <td>23.909277</td>\n",
       "      <td>0.297475</td>\n",
       "    </tr>\n",
       "    <tr>\n",
       "      <th>21</th>\n",
       "      <td>23.981585</td>\n",
       "      <td>0.348195</td>\n",
       "    </tr>\n",
       "    <tr>\n",
       "      <th>22</th>\n",
       "      <td>24.116305</td>\n",
       "      <td>0.397392</td>\n",
       "    </tr>\n",
       "    <tr>\n",
       "      <th>23</th>\n",
       "      <td>24.261602</td>\n",
       "      <td>0.446722</td>\n",
       "    </tr>\n",
       "    <tr>\n",
       "      <th>24</th>\n",
       "      <td>24.774613</td>\n",
       "      <td>0.475060</td>\n",
       "    </tr>\n",
       "    <tr>\n",
       "      <th>25</th>\n",
       "      <td>25.236256</td>\n",
       "      <td>0.505635</td>\n",
       "    </tr>\n",
       "    <tr>\n",
       "      <th>26</th>\n",
       "      <td>26.413818</td>\n",
       "      <td>0.495736</td>\n",
       "    </tr>\n",
       "    <tr>\n",
       "      <th>27</th>\n",
       "      <td>26.482841</td>\n",
       "      <td>0.546522</td>\n",
       "    </tr>\n",
       "    <tr>\n",
       "      <th>28</th>\n",
       "      <td>26.483254</td>\n",
       "      <td>0.599563</td>\n",
       "    </tr>\n",
       "    <tr>\n",
       "      <th>29</th>\n",
       "      <td>27.822698</td>\n",
       "      <td>0.579832</td>\n",
       "    </tr>\n",
       "    <tr>\n",
       "      <th>30</th>\n",
       "      <td>29.773269</td>\n",
       "      <td>0.529027</td>\n",
       "    </tr>\n",
       "    <tr>\n",
       "      <th>31</th>\n",
       "      <td>29.899660</td>\n",
       "      <td>0.573229</td>\n",
       "    </tr>\n",
       "    <tr>\n",
       "      <th>32</th>\n",
       "      <td>30.808445</td>\n",
       "      <td>0.576653</td>\n",
       "    </tr>\n",
       "    <tr>\n",
       "      <th>33</th>\n",
       "      <td>30.966926</td>\n",
       "      <td>0.617068</td>\n",
       "    </tr>\n",
       "    <tr>\n",
       "      <th>34</th>\n",
       "      <td>31.176465</td>\n",
       "      <td>0.653304</td>\n",
       "    </tr>\n",
       "    <tr>\n",
       "      <th>35</th>\n",
       "      <td>31.186191</td>\n",
       "      <td>0.696793</td>\n",
       "    </tr>\n",
       "    <tr>\n",
       "      <th>36</th>\n",
       "      <td>31.214491</td>\n",
       "      <td>0.736485</td>\n",
       "    </tr>\n",
       "    <tr>\n",
       "      <th>37</th>\n",
       "      <td>31.216998</td>\n",
       "      <td>0.774007</td>\n",
       "    </tr>\n",
       "    <tr>\n",
       "      <th>38</th>\n",
       "      <td>31.496483</td>\n",
       "      <td>0.797947</td>\n",
       "    </tr>\n",
       "    <tr>\n",
       "      <th>39</th>\n",
       "      <td>32.852040</td>\n",
       "      <td>0.781318</td>\n",
       "    </tr>\n",
       "  </tbody>\n",
       "</table>\n",
       "</div>"
      ],
      "text/plain": [
       "       Q-stat   p-value\n",
       "0    0.128903  0.719573\n",
       "1    1.539635  0.463098\n",
       "2    1.689159  0.639347\n",
       "3    2.420864  0.658860\n",
       "4    2.676958  0.749640\n",
       "5    2.711162  0.844127\n",
       "6    3.481183  0.837214\n",
       "7    3.516344  0.897917\n",
       "8    4.799620  0.851414\n",
       "9    8.766276  0.554419\n",
       "10  11.022083  0.441415\n",
       "11  11.799232  0.461935\n",
       "12  12.980658  0.449307\n",
       "13  13.630333  0.477599\n",
       "14  15.591401  0.409714\n",
       "15  15.595138  0.481556\n",
       "16  15.911899  0.530089\n",
       "17  16.404721  0.564324\n",
       "18  16.404727  0.630127\n",
       "19  16.845907  0.662956\n",
       "20  23.909277  0.297475\n",
       "21  23.981585  0.348195\n",
       "22  24.116305  0.397392\n",
       "23  24.261602  0.446722\n",
       "24  24.774613  0.475060\n",
       "25  25.236256  0.505635\n",
       "26  26.413818  0.495736\n",
       "27  26.482841  0.546522\n",
       "28  26.483254  0.599563\n",
       "29  27.822698  0.579832\n",
       "30  29.773269  0.529027\n",
       "31  29.899660  0.573229\n",
       "32  30.808445  0.576653\n",
       "33  30.966926  0.617068\n",
       "34  31.176465  0.653304\n",
       "35  31.186191  0.696793\n",
       "36  31.214491  0.736485\n",
       "37  31.216998  0.774007\n",
       "38  31.496483  0.797947\n",
       "39  32.852040  0.781318"
      ]
     },
     "execution_count": 62,
     "metadata": {},
     "output_type": "execute_result"
    }
   ],
   "source": [
    "pd.DataFrame({'Q-stat':q_test[1], 'p-value':q_test[2]})"
   ]
  },
  {
   "cell_type": "markdown",
   "metadata": {},
   "source": [
    "### Рассчет коэффициента детерминации"
   ]
  },
  {
   "cell_type": "code",
   "execution_count": 63,
   "metadata": {},
   "outputs": [],
   "source": [
    "pred = model.predict('2020-09-30','2020-10-15', typ='levels')"
   ]
  },
  {
   "cell_type": "code",
   "execution_count": 74,
   "metadata": {},
   "outputs": [],
   "source": [
    "trn = dtst['2020-09-15':]"
   ]
  },
  {
   "cell_type": "code",
   "execution_count": 75,
   "metadata": {},
   "outputs": [
    {
     "data": {
      "text/plain": [
       "(16, 1)"
      ]
     },
     "execution_count": 75,
     "metadata": {},
     "output_type": "execute_result"
    }
   ],
   "source": [
    "trn.shape"
   ]
  },
  {
   "cell_type": "code",
   "execution_count": 76,
   "metadata": {},
   "outputs": [
    {
     "data": {
      "text/plain": [
       "(16, 1)"
      ]
     },
     "execution_count": 76,
     "metadata": {},
     "output_type": "execute_result"
    }
   ],
   "source": [
    "pred.shape"
   ]
  },
  {
   "cell_type": "code",
   "execution_count": 77,
   "metadata": {},
   "outputs": [
    {
     "data": {
      "text/html": [
       "<div>\n",
       "<style scoped>\n",
       "    .dataframe tbody tr th:only-of-type {\n",
       "        vertical-align: middle;\n",
       "    }\n",
       "\n",
       "    .dataframe tbody tr th {\n",
       "        vertical-align: top;\n",
       "    }\n",
       "\n",
       "    .dataframe thead th {\n",
       "        text-align: right;\n",
       "    }\n",
       "</style>\n",
       "<table border=\"1\" class=\"dataframe\">\n",
       "  <thead>\n",
       "    <tr style=\"text-align: right;\">\n",
       "      <th></th>\n",
       "      <th>OPEN</th>\n",
       "    </tr>\n",
       "  </thead>\n",
       "  <tbody>\n",
       "    <tr>\n",
       "      <th>2020-09-30</th>\n",
       "      <td>228.500083</td>\n",
       "    </tr>\n",
       "    <tr>\n",
       "      <th>2020-10-01</th>\n",
       "      <td>225.395627</td>\n",
       "    </tr>\n",
       "    <tr>\n",
       "      <th>2020-10-02</th>\n",
       "      <td>225.445856</td>\n",
       "    </tr>\n",
       "    <tr>\n",
       "      <th>2020-10-03</th>\n",
       "      <td>225.472239</td>\n",
       "    </tr>\n",
       "    <tr>\n",
       "      <th>2020-10-04</th>\n",
       "      <td>225.486097</td>\n",
       "    </tr>\n",
       "    <tr>\n",
       "      <th>2020-10-05</th>\n",
       "      <td>225.493376</td>\n",
       "    </tr>\n",
       "    <tr>\n",
       "      <th>2020-10-06</th>\n",
       "      <td>225.497200</td>\n",
       "    </tr>\n",
       "    <tr>\n",
       "      <th>2020-10-07</th>\n",
       "      <td>225.499208</td>\n",
       "    </tr>\n",
       "    <tr>\n",
       "      <th>2020-10-08</th>\n",
       "      <td>225.500263</td>\n",
       "    </tr>\n",
       "    <tr>\n",
       "      <th>2020-10-09</th>\n",
       "      <td>225.500817</td>\n",
       "    </tr>\n",
       "    <tr>\n",
       "      <th>2020-10-10</th>\n",
       "      <td>225.501108</td>\n",
       "    </tr>\n",
       "    <tr>\n",
       "      <th>2020-10-11</th>\n",
       "      <td>225.501261</td>\n",
       "    </tr>\n",
       "    <tr>\n",
       "      <th>2020-10-12</th>\n",
       "      <td>225.501341</td>\n",
       "    </tr>\n",
       "    <tr>\n",
       "      <th>2020-10-13</th>\n",
       "      <td>225.501383</td>\n",
       "    </tr>\n",
       "    <tr>\n",
       "      <th>2020-10-14</th>\n",
       "      <td>225.501406</td>\n",
       "    </tr>\n",
       "    <tr>\n",
       "      <th>2020-10-15</th>\n",
       "      <td>225.501417</td>\n",
       "    </tr>\n",
       "  </tbody>\n",
       "</table>\n",
       "</div>"
      ],
      "text/plain": [
       "                  OPEN\n",
       "2020-09-30  228.500083\n",
       "2020-10-01  225.395627\n",
       "2020-10-02  225.445856\n",
       "2020-10-03  225.472239\n",
       "2020-10-04  225.486097\n",
       "2020-10-05  225.493376\n",
       "2020-10-06  225.497200\n",
       "2020-10-07  225.499208\n",
       "2020-10-08  225.500263\n",
       "2020-10-09  225.500817\n",
       "2020-10-10  225.501108\n",
       "2020-10-11  225.501261\n",
       "2020-10-12  225.501341\n",
       "2020-10-13  225.501383\n",
       "2020-10-14  225.501406\n",
       "2020-10-15  225.501417"
      ]
     },
     "execution_count": 77,
     "metadata": {},
     "output_type": "execute_result"
    }
   ],
   "source": [
    "pred"
   ]
  },
  {
   "cell_type": "code",
   "execution_count": 78,
   "metadata": {},
   "outputs": [
    {
     "ename": "AttributeError",
     "evalue": "'DataFrame' object has no attribute 'to_frame'",
     "output_type": "error",
     "traceback": [
      "\u001b[1;31m---------------------------------------------------------------------------\u001b[0m",
      "\u001b[1;31mAttributeError\u001b[0m                            Traceback (most recent call last)",
      "\u001b[1;32m<ipython-input-78-586244be728d>\u001b[0m in \u001b[0;36m<module>\u001b[1;34m\u001b[0m\n\u001b[1;32m----> 1\u001b[1;33m \u001b[0mpred\u001b[0m \u001b[1;33m=\u001b[0m \u001b[0mpred\u001b[0m\u001b[1;33m.\u001b[0m\u001b[0mto_frame\u001b[0m\u001b[1;33m(\u001b[0m\u001b[1;33m)\u001b[0m\u001b[1;33m\u001b[0m\u001b[1;33m\u001b[0m\u001b[0m\n\u001b[0m",
      "\u001b[1;32mc:\\projects\\ds_lessons\\env\\lib\\site-packages\\pandas\\core\\generic.py\u001b[0m in \u001b[0;36m__getattr__\u001b[1;34m(self, name)\u001b[0m\n\u001b[0;32m   5134\u001b[0m             \u001b[1;32mif\u001b[0m \u001b[0mself\u001b[0m\u001b[1;33m.\u001b[0m\u001b[0m_info_axis\u001b[0m\u001b[1;33m.\u001b[0m\u001b[0m_can_hold_identifiers_and_holds_name\u001b[0m\u001b[1;33m(\u001b[0m\u001b[0mname\u001b[0m\u001b[1;33m)\u001b[0m\u001b[1;33m:\u001b[0m\u001b[1;33m\u001b[0m\u001b[1;33m\u001b[0m\u001b[0m\n\u001b[0;32m   5135\u001b[0m                 \u001b[1;32mreturn\u001b[0m \u001b[0mself\u001b[0m\u001b[1;33m[\u001b[0m\u001b[0mname\u001b[0m\u001b[1;33m]\u001b[0m\u001b[1;33m\u001b[0m\u001b[1;33m\u001b[0m\u001b[0m\n\u001b[1;32m-> 5136\u001b[1;33m             \u001b[1;32mreturn\u001b[0m \u001b[0mobject\u001b[0m\u001b[1;33m.\u001b[0m\u001b[0m__getattribute__\u001b[0m\u001b[1;33m(\u001b[0m\u001b[0mself\u001b[0m\u001b[1;33m,\u001b[0m \u001b[0mname\u001b[0m\u001b[1;33m)\u001b[0m\u001b[1;33m\u001b[0m\u001b[1;33m\u001b[0m\u001b[0m\n\u001b[0m\u001b[0;32m   5137\u001b[0m \u001b[1;33m\u001b[0m\u001b[0m\n\u001b[0;32m   5138\u001b[0m     \u001b[1;32mdef\u001b[0m \u001b[0m__setattr__\u001b[0m\u001b[1;33m(\u001b[0m\u001b[0mself\u001b[0m\u001b[1;33m,\u001b[0m \u001b[0mname\u001b[0m\u001b[1;33m:\u001b[0m \u001b[0mstr\u001b[0m\u001b[1;33m,\u001b[0m \u001b[0mvalue\u001b[0m\u001b[1;33m)\u001b[0m \u001b[1;33m->\u001b[0m \u001b[1;32mNone\u001b[0m\u001b[1;33m:\u001b[0m\u001b[1;33m\u001b[0m\u001b[1;33m\u001b[0m\u001b[0m\n",
      "\u001b[1;31mAttributeError\u001b[0m: 'DataFrame' object has no attribute 'to_frame'"
     ]
    }
   ],
   "source": [
    "pred = pred.to_frame()\n"
   ]
  },
  {
   "cell_type": "code",
   "execution_count": 79,
   "metadata": {
    "scrolled": true
   },
   "outputs": [
    {
     "data": {
      "text/plain": [
       "(16, 1)"
      ]
     },
     "execution_count": 79,
     "metadata": {},
     "output_type": "execute_result"
    }
   ],
   "source": [
    "pred.shape"
   ]
  },
  {
   "cell_type": "code",
   "execution_count": 80,
   "metadata": {},
   "outputs": [
    {
     "data": {
      "text/html": [
       "<div>\n",
       "<style scoped>\n",
       "    .dataframe tbody tr th:only-of-type {\n",
       "        vertical-align: middle;\n",
       "    }\n",
       "\n",
       "    .dataframe tbody tr th {\n",
       "        vertical-align: top;\n",
       "    }\n",
       "\n",
       "    .dataframe thead th {\n",
       "        text-align: right;\n",
       "    }\n",
       "</style>\n",
       "<table border=\"1\" class=\"dataframe\">\n",
       "  <thead>\n",
       "    <tr style=\"text-align: right;\">\n",
       "      <th></th>\n",
       "      <th>OPEN</th>\n",
       "    </tr>\n",
       "  </thead>\n",
       "  <tbody>\n",
       "    <tr>\n",
       "      <th>2020-09-30</th>\n",
       "      <td>228.500083</td>\n",
       "    </tr>\n",
       "    <tr>\n",
       "      <th>2020-10-01</th>\n",
       "      <td>225.395627</td>\n",
       "    </tr>\n",
       "    <tr>\n",
       "      <th>2020-10-02</th>\n",
       "      <td>225.445856</td>\n",
       "    </tr>\n",
       "    <tr>\n",
       "      <th>2020-10-03</th>\n",
       "      <td>225.472239</td>\n",
       "    </tr>\n",
       "    <tr>\n",
       "      <th>2020-10-04</th>\n",
       "      <td>225.486097</td>\n",
       "    </tr>\n",
       "    <tr>\n",
       "      <th>2020-10-05</th>\n",
       "      <td>225.493376</td>\n",
       "    </tr>\n",
       "    <tr>\n",
       "      <th>2020-10-06</th>\n",
       "      <td>225.497200</td>\n",
       "    </tr>\n",
       "    <tr>\n",
       "      <th>2020-10-07</th>\n",
       "      <td>225.499208</td>\n",
       "    </tr>\n",
       "    <tr>\n",
       "      <th>2020-10-08</th>\n",
       "      <td>225.500263</td>\n",
       "    </tr>\n",
       "    <tr>\n",
       "      <th>2020-10-09</th>\n",
       "      <td>225.500817</td>\n",
       "    </tr>\n",
       "    <tr>\n",
       "      <th>2020-10-10</th>\n",
       "      <td>225.501108</td>\n",
       "    </tr>\n",
       "    <tr>\n",
       "      <th>2020-10-11</th>\n",
       "      <td>225.501261</td>\n",
       "    </tr>\n",
       "    <tr>\n",
       "      <th>2020-10-12</th>\n",
       "      <td>225.501341</td>\n",
       "    </tr>\n",
       "    <tr>\n",
       "      <th>2020-10-13</th>\n",
       "      <td>225.501383</td>\n",
       "    </tr>\n",
       "    <tr>\n",
       "      <th>2020-10-14</th>\n",
       "      <td>225.501406</td>\n",
       "    </tr>\n",
       "    <tr>\n",
       "      <th>2020-10-15</th>\n",
       "      <td>225.501417</td>\n",
       "    </tr>\n",
       "  </tbody>\n",
       "</table>\n",
       "</div>"
      ],
      "text/plain": [
       "                  OPEN\n",
       "2020-09-30  228.500083\n",
       "2020-10-01  225.395627\n",
       "2020-10-02  225.445856\n",
       "2020-10-03  225.472239\n",
       "2020-10-04  225.486097\n",
       "2020-10-05  225.493376\n",
       "2020-10-06  225.497200\n",
       "2020-10-07  225.499208\n",
       "2020-10-08  225.500263\n",
       "2020-10-09  225.500817\n",
       "2020-10-10  225.501108\n",
       "2020-10-11  225.501261\n",
       "2020-10-12  225.501341\n",
       "2020-10-13  225.501383\n",
       "2020-10-14  225.501406\n",
       "2020-10-15  225.501417"
      ]
     },
     "execution_count": 80,
     "metadata": {},
     "output_type": "execute_result"
    }
   ],
   "source": [
    "pred"
   ]
  },
  {
   "cell_type": "code",
   "execution_count": 81,
   "metadata": {},
   "outputs": [],
   "source": [
    "pred.rename(columns={'predicted_mean': 'OPEN'}, inplace=True)"
   ]
  },
  {
   "cell_type": "code",
   "execution_count": 82,
   "metadata": {},
   "outputs": [
    {
     "data": {
      "text/html": [
       "<div>\n",
       "<style scoped>\n",
       "    .dataframe tbody tr th:only-of-type {\n",
       "        vertical-align: middle;\n",
       "    }\n",
       "\n",
       "    .dataframe tbody tr th {\n",
       "        vertical-align: top;\n",
       "    }\n",
       "\n",
       "    .dataframe thead th {\n",
       "        text-align: right;\n",
       "    }\n",
       "</style>\n",
       "<table border=\"1\" class=\"dataframe\">\n",
       "  <thead>\n",
       "    <tr style=\"text-align: right;\">\n",
       "      <th></th>\n",
       "      <th>OPEN</th>\n",
       "    </tr>\n",
       "    <tr>\n",
       "      <th>DATE</th>\n",
       "      <th></th>\n",
       "    </tr>\n",
       "  </thead>\n",
       "  <tbody>\n",
       "    <tr>\n",
       "      <th>2020-09-15</th>\n",
       "      <td>227.44</td>\n",
       "    </tr>\n",
       "    <tr>\n",
       "      <th>2020-09-16</th>\n",
       "      <td>231.17</td>\n",
       "    </tr>\n",
       "    <tr>\n",
       "      <th>2020-09-17</th>\n",
       "      <td>231.21</td>\n",
       "    </tr>\n",
       "    <tr>\n",
       "      <th>2020-09-18</th>\n",
       "      <td>231.36</td>\n",
       "    </tr>\n",
       "    <tr>\n",
       "      <th>2020-09-19</th>\n",
       "      <td>229.59</td>\n",
       "    </tr>\n",
       "    <tr>\n",
       "      <th>2020-09-20</th>\n",
       "      <td>229.59</td>\n",
       "    </tr>\n",
       "    <tr>\n",
       "      <th>2020-09-21</th>\n",
       "      <td>229.88</td>\n",
       "    </tr>\n",
       "    <tr>\n",
       "      <th>2020-09-22</th>\n",
       "      <td>226.27</td>\n",
       "    </tr>\n",
       "    <tr>\n",
       "      <th>2020-09-23</th>\n",
       "      <td>228.94</td>\n",
       "    </tr>\n",
       "    <tr>\n",
       "      <th>2020-09-24</th>\n",
       "      <td>228.07</td>\n",
       "    </tr>\n",
       "    <tr>\n",
       "      <th>2020-09-25</th>\n",
       "      <td>228.26</td>\n",
       "    </tr>\n",
       "    <tr>\n",
       "      <th>2020-09-26</th>\n",
       "      <td>228.26</td>\n",
       "    </tr>\n",
       "    <tr>\n",
       "      <th>2020-09-27</th>\n",
       "      <td>228.26</td>\n",
       "    </tr>\n",
       "    <tr>\n",
       "      <th>2020-09-28</th>\n",
       "      <td>228.79</td>\n",
       "    </tr>\n",
       "    <tr>\n",
       "      <th>2020-09-29</th>\n",
       "      <td>228.50</td>\n",
       "    </tr>\n",
       "    <tr>\n",
       "      <th>2020-09-30</th>\n",
       "      <td>225.30</td>\n",
       "    </tr>\n",
       "  </tbody>\n",
       "</table>\n",
       "</div>"
      ],
      "text/plain": [
       "              OPEN\n",
       "DATE              \n",
       "2020-09-15  227.44\n",
       "2020-09-16  231.17\n",
       "2020-09-17  231.21\n",
       "2020-09-18  231.36\n",
       "2020-09-19  229.59\n",
       "2020-09-20  229.59\n",
       "2020-09-21  229.88\n",
       "2020-09-22  226.27\n",
       "2020-09-23  228.94\n",
       "2020-09-24  228.07\n",
       "2020-09-25  228.26\n",
       "2020-09-26  228.26\n",
       "2020-09-27  228.26\n",
       "2020-09-28  228.79\n",
       "2020-09-29  228.50\n",
       "2020-09-30  225.30"
      ]
     },
     "execution_count": 82,
     "metadata": {},
     "output_type": "execute_result"
    }
   ],
   "source": [
    "trn"
   ]
  },
  {
   "cell_type": "code",
   "execution_count": 83,
   "metadata": {
    "scrolled": false
   },
   "outputs": [],
   "source": [
    "r2 = r2_score(trn, pred)"
   ]
  },
  {
   "cell_type": "code",
   "execution_count": 84,
   "metadata": {},
   "outputs": [
    {
     "data": {
      "text/plain": [
       "-4.114231517608867"
      ]
     },
     "execution_count": 84,
     "metadata": {},
     "output_type": "execute_result"
    }
   ],
   "source": [
    "r2"
   ]
  },
  {
   "cell_type": "code",
   "execution_count": 85,
   "metadata": {},
   "outputs": [
    {
     "data": {
      "text/plain": [
       "3.6818609020843276"
      ]
     },
     "execution_count": 85,
     "metadata": {},
     "output_type": "execute_result"
    }
   ],
   "source": [
    "metrics.rmse(trn,pred)"
   ]
  },
  {
   "cell_type": "code",
   "execution_count": 86,
   "metadata": {},
   "outputs": [
    {
     "data": {
      "text/plain": [
       "3.288394827822305"
      ]
     },
     "execution_count": 86,
     "metadata": {},
     "output_type": "execute_result"
    }
   ],
   "source": [
    "metrics.mae(trn,pred)"
   ]
  },
  {
   "cell_type": "code",
   "execution_count": 87,
   "metadata": {},
   "outputs": [
    {
     "data": {
      "image/png": "[encoded data removed]",
      "text/plain": [
       "<Figure size 864x432 with 1 Axes>"
      ]
     },
     "metadata": {
      "needs_background": "light"
     },
     "output_type": "display_data"
    },
    {
     "data": {
      "image/png": "[encoded data removed]",
      "text/plain": [
       "<Figure size 432x288 with 1 Axes>"
      ]
     },
     "metadata": {
      "needs_background": "light"
     },
     "output_type": "display_data"
    }
   ],
   "source": [
    "dtst.plot(figsize=(12,6))\n",
    "pred.plot(style='r--')\n",
    "plt.show()"
   ]
  },
  {
   "cell_type": "code",
   "execution_count": 88,
   "metadata": {},
   "outputs": [
    {
     "data": {
      "image/png": "[encoded data removed]",
      "text/plain": [
       "<Figure size 432x288 with 1 Axes>"
      ]
     },
     "metadata": {
      "needs_background": "light"
     },
     "output_type": "display_data"
    }
   ],
   "source": [
    "plt.plot(dtst['2020-05-15':])\n",
    "plt.plot(pred)\n",
    "plt.show()"
   ]
  },
  {
   "cell_type": "code",
   "execution_count": null,
   "metadata": {},
   "outputs": [],
   "source": []
  },
  {
   "cell_type": "code",
   "execution_count": null,
   "metadata": {},
   "outputs": [],
   "source": []
  }
 ],
 "metadata": {
  "kernelspec": {
   "display_name": "Python 3",
   "language": "python",
   "name": "python3"
  },
  "language_info": {
   "codemirror_mode": {
    "name": "ipython",
    "version": 3
   },
   "file_extension": ".py",
   "mimetype": "text/x-python",
   "name": "python",
   "nbconvert_exporter": "python",
   "pygments_lexer": "ipython3",
   "version": "3.8.5"
  }
 },
 "nbformat": 4,
 "nbformat_minor": 4
}
